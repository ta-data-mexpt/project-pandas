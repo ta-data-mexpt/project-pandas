{
 "cells": [
  {
   "cell_type": "code",
   "execution_count": 236,
   "id": "19539399",
   "metadata": {},
   "outputs": [],
   "source": [
    "import pandas as pd\n",
    "import numpy as np"
   ]
  },
  {
   "cell_type": "code",
   "execution_count": 237,
   "id": "db2f2c43",
   "metadata": {
    "scrolled": true
   },
   "outputs": [],
   "source": [
    "data = pd.read_csv(\"GSAF5.csv\", encoding = \"ISO-8859-1\")"
   ]
  },
  {
   "cell_type": "code",
   "execution_count": 238,
   "id": "c0afb4ba",
   "metadata": {},
   "outputs": [
    {
     "data": {
      "text/html": [
       "<div>\n",
       "<style scoped>\n",
       "    .dataframe tbody tr th:only-of-type {\n",
       "        vertical-align: middle;\n",
       "    }\n",
       "\n",
       "    .dataframe tbody tr th {\n",
       "        vertical-align: top;\n",
       "    }\n",
       "\n",
       "    .dataframe thead th {\n",
       "        text-align: right;\n",
       "    }\n",
       "</style>\n",
       "<table border=\"1\" class=\"dataframe\">\n",
       "  <thead>\n",
       "    <tr style=\"text-align: right;\">\n",
       "      <th></th>\n",
       "      <th>Case Number</th>\n",
       "      <th>Date</th>\n",
       "      <th>Year</th>\n",
       "      <th>Type</th>\n",
       "      <th>Country</th>\n",
       "      <th>Area</th>\n",
       "      <th>Location</th>\n",
       "      <th>Activity</th>\n",
       "      <th>Name</th>\n",
       "      <th>Sex</th>\n",
       "      <th>...</th>\n",
       "      <th>Species</th>\n",
       "      <th>Investigator or Source</th>\n",
       "      <th>pdf</th>\n",
       "      <th>href formula</th>\n",
       "      <th>href</th>\n",
       "      <th>Case Number.1</th>\n",
       "      <th>Case Number.2</th>\n",
       "      <th>original order</th>\n",
       "      <th>Unnamed: 22</th>\n",
       "      <th>Unnamed: 23</th>\n",
       "    </tr>\n",
       "  </thead>\n",
       "  <tbody>\n",
       "    <tr>\n",
       "      <th>0</th>\n",
       "      <td>2016.09.18.c</td>\n",
       "      <td>18-Sep-16</td>\n",
       "      <td>2016</td>\n",
       "      <td>Unprovoked</td>\n",
       "      <td>USA</td>\n",
       "      <td>Florida</td>\n",
       "      <td>New Smyrna Beach, Volusia County</td>\n",
       "      <td>Surfing</td>\n",
       "      <td>male</td>\n",
       "      <td>M</td>\n",
       "      <td>...</td>\n",
       "      <td>NaN</td>\n",
       "      <td>Orlando Sentinel, 9/19/2016</td>\n",
       "      <td>2016.09.18.c-NSB.pdf</td>\n",
       "      <td>http://sharkattackfile.net/spreadsheets/pdf_di...</td>\n",
       "      <td>http://sharkattackfile.net/spreadsheets/pdf_di...</td>\n",
       "      <td>2016.09.18.c</td>\n",
       "      <td>2016.09.18.c</td>\n",
       "      <td>5993</td>\n",
       "      <td>NaN</td>\n",
       "      <td>NaN</td>\n",
       "    </tr>\n",
       "    <tr>\n",
       "      <th>1</th>\n",
       "      <td>2016.09.18.b</td>\n",
       "      <td>18-Sep-16</td>\n",
       "      <td>2016</td>\n",
       "      <td>Unprovoked</td>\n",
       "      <td>USA</td>\n",
       "      <td>Florida</td>\n",
       "      <td>New Smyrna Beach, Volusia County</td>\n",
       "      <td>Surfing</td>\n",
       "      <td>Chucky Luciano</td>\n",
       "      <td>M</td>\n",
       "      <td>...</td>\n",
       "      <td>NaN</td>\n",
       "      <td>Orlando Sentinel, 9/19/2016</td>\n",
       "      <td>2016.09.18.b-Luciano.pdf</td>\n",
       "      <td>http://sharkattackfile.net/spreadsheets/pdf_di...</td>\n",
       "      <td>http://sharkattackfile.net/spreadsheets/pdf_di...</td>\n",
       "      <td>2016.09.18.b</td>\n",
       "      <td>2016.09.18.b</td>\n",
       "      <td>5992</td>\n",
       "      <td>NaN</td>\n",
       "      <td>NaN</td>\n",
       "    </tr>\n",
       "    <tr>\n",
       "      <th>2</th>\n",
       "      <td>2016.09.18.a</td>\n",
       "      <td>18-Sep-16</td>\n",
       "      <td>2016</td>\n",
       "      <td>Unprovoked</td>\n",
       "      <td>USA</td>\n",
       "      <td>Florida</td>\n",
       "      <td>New Smyrna Beach, Volusia County</td>\n",
       "      <td>Surfing</td>\n",
       "      <td>male</td>\n",
       "      <td>M</td>\n",
       "      <td>...</td>\n",
       "      <td>NaN</td>\n",
       "      <td>Orlando Sentinel, 9/19/2016</td>\n",
       "      <td>2016.09.18.a-NSB.pdf</td>\n",
       "      <td>http://sharkattackfile.net/spreadsheets/pdf_di...</td>\n",
       "      <td>http://sharkattackfile.net/spreadsheets/pdf_di...</td>\n",
       "      <td>2016.09.18.a</td>\n",
       "      <td>2016.09.18.a</td>\n",
       "      <td>5991</td>\n",
       "      <td>NaN</td>\n",
       "      <td>NaN</td>\n",
       "    </tr>\n",
       "    <tr>\n",
       "      <th>3</th>\n",
       "      <td>2016.09.17</td>\n",
       "      <td>17-Sep-16</td>\n",
       "      <td>2016</td>\n",
       "      <td>Unprovoked</td>\n",
       "      <td>AUSTRALIA</td>\n",
       "      <td>Victoria</td>\n",
       "      <td>Thirteenth Beach</td>\n",
       "      <td>Surfing</td>\n",
       "      <td>Rory Angiolella</td>\n",
       "      <td>M</td>\n",
       "      <td>...</td>\n",
       "      <td>NaN</td>\n",
       "      <td>The Age, 9/18/2016</td>\n",
       "      <td>2016.09.17-Angiolella.pdf</td>\n",
       "      <td>http://sharkattackfile.net/spreadsheets/pdf_di...</td>\n",
       "      <td>http://sharkattackfile.net/spreadsheets/pdf_di...</td>\n",
       "      <td>2016.09.17</td>\n",
       "      <td>2016.09.17</td>\n",
       "      <td>5990</td>\n",
       "      <td>NaN</td>\n",
       "      <td>NaN</td>\n",
       "    </tr>\n",
       "    <tr>\n",
       "      <th>4</th>\n",
       "      <td>2016.09.15</td>\n",
       "      <td>16-Sep-16</td>\n",
       "      <td>2016</td>\n",
       "      <td>Unprovoked</td>\n",
       "      <td>AUSTRALIA</td>\n",
       "      <td>Victoria</td>\n",
       "      <td>Bells Beach</td>\n",
       "      <td>Surfing</td>\n",
       "      <td>male</td>\n",
       "      <td>M</td>\n",
       "      <td>...</td>\n",
       "      <td>2 m shark</td>\n",
       "      <td>The Age, 9/16/2016</td>\n",
       "      <td>2016.09.16-BellsBeach.pdf</td>\n",
       "      <td>http://sharkattackfile.net/spreadsheets/pdf_di...</td>\n",
       "      <td>http://sharkattackfile.net/spreadsheets/pdf_di...</td>\n",
       "      <td>2016.09.16</td>\n",
       "      <td>2016.09.15</td>\n",
       "      <td>5989</td>\n",
       "      <td>NaN</td>\n",
       "      <td>NaN</td>\n",
       "    </tr>\n",
       "  </tbody>\n",
       "</table>\n",
       "<p>5 rows × 24 columns</p>\n",
       "</div>"
      ],
      "text/plain": [
       "    Case Number       Date  Year        Type    Country      Area  \\\n",
       "0  2016.09.18.c  18-Sep-16  2016  Unprovoked        USA   Florida   \n",
       "1  2016.09.18.b  18-Sep-16  2016  Unprovoked        USA   Florida   \n",
       "2  2016.09.18.a  18-Sep-16  2016  Unprovoked        USA   Florida   \n",
       "3    2016.09.17  17-Sep-16  2016  Unprovoked  AUSTRALIA  Victoria   \n",
       "4    2016.09.15  16-Sep-16  2016  Unprovoked  AUSTRALIA  Victoria   \n",
       "\n",
       "                           Location Activity             Name Sex   ...  \\\n",
       "0  New Smyrna Beach, Volusia County  Surfing             male    M  ...   \n",
       "1  New Smyrna Beach, Volusia County  Surfing   Chucky Luciano    M  ...   \n",
       "2  New Smyrna Beach, Volusia County  Surfing             male    M  ...   \n",
       "3                  Thirteenth Beach  Surfing  Rory Angiolella    M  ...   \n",
       "4                       Bells Beach  Surfing             male    M  ...   \n",
       "\n",
       "    Species        Investigator or Source                        pdf  \\\n",
       "0        NaN  Orlando Sentinel, 9/19/2016       2016.09.18.c-NSB.pdf   \n",
       "1        NaN  Orlando Sentinel, 9/19/2016   2016.09.18.b-Luciano.pdf   \n",
       "2        NaN  Orlando Sentinel, 9/19/2016       2016.09.18.a-NSB.pdf   \n",
       "3        NaN           The Age, 9/18/2016  2016.09.17-Angiolella.pdf   \n",
       "4  2 m shark           The Age, 9/16/2016  2016.09.16-BellsBeach.pdf   \n",
       "\n",
       "                                        href formula  \\\n",
       "0  http://sharkattackfile.net/spreadsheets/pdf_di...   \n",
       "1  http://sharkattackfile.net/spreadsheets/pdf_di...   \n",
       "2  http://sharkattackfile.net/spreadsheets/pdf_di...   \n",
       "3  http://sharkattackfile.net/spreadsheets/pdf_di...   \n",
       "4  http://sharkattackfile.net/spreadsheets/pdf_di...   \n",
       "\n",
       "                                                href Case Number.1  \\\n",
       "0  http://sharkattackfile.net/spreadsheets/pdf_di...  2016.09.18.c   \n",
       "1  http://sharkattackfile.net/spreadsheets/pdf_di...  2016.09.18.b   \n",
       "2  http://sharkattackfile.net/spreadsheets/pdf_di...  2016.09.18.a   \n",
       "3  http://sharkattackfile.net/spreadsheets/pdf_di...    2016.09.17   \n",
       "4  http://sharkattackfile.net/spreadsheets/pdf_di...    2016.09.16   \n",
       "\n",
       "  Case Number.2 original order Unnamed: 22 Unnamed: 23  \n",
       "0  2016.09.18.c           5993         NaN         NaN  \n",
       "1  2016.09.18.b           5992         NaN         NaN  \n",
       "2  2016.09.18.a           5991         NaN         NaN  \n",
       "3    2016.09.17           5990         NaN         NaN  \n",
       "4    2016.09.15           5989         NaN         NaN  \n",
       "\n",
       "[5 rows x 24 columns]"
      ]
     },
     "execution_count": 238,
     "metadata": {},
     "output_type": "execute_result"
    }
   ],
   "source": [
    "data.head()"
   ]
  },
  {
   "cell_type": "code",
   "execution_count": 239,
   "id": "74cd44ac",
   "metadata": {},
   "outputs": [
    {
     "name": "stdout",
     "output_type": "stream",
     "text": [
      "<class 'pandas.core.frame.DataFrame'>\n",
      "RangeIndex: 5992 entries, 0 to 5991\n",
      "Data columns (total 24 columns):\n",
      " #   Column                  Non-Null Count  Dtype \n",
      "---  ------                  --------------  ----- \n",
      " 0   Case Number             5992 non-null   object\n",
      " 1   Date                    5992 non-null   object\n",
      " 2   Year                    5992 non-null   int64 \n",
      " 3   Type                    5992 non-null   object\n",
      " 4   Country                 5949 non-null   object\n",
      " 5   Area                    5590 non-null   object\n",
      " 6   Location                5496 non-null   object\n",
      " 7   Activity                5465 non-null   object\n",
      " 8   Name                    5792 non-null   object\n",
      " 9   Sex                     5425 non-null   object\n",
      " 10  Age                     3311 non-null   object\n",
      " 11  Injury                  5965 non-null   object\n",
      " 12  Fatal (Y/N)             5973 non-null   object\n",
      " 13  Time                    2779 non-null   object\n",
      " 14  Species                 3058 non-null   object\n",
      " 15  Investigator or Source  5977 non-null   object\n",
      " 16  pdf                     5992 non-null   object\n",
      " 17  href formula            5991 non-null   object\n",
      " 18  href                    5989 non-null   object\n",
      " 19  Case Number.1           5992 non-null   object\n",
      " 20  Case Number.2           5992 non-null   object\n",
      " 21  original order          5992 non-null   int64 \n",
      " 22  Unnamed: 22             1 non-null      object\n",
      " 23  Unnamed: 23             2 non-null      object\n",
      "dtypes: int64(2), object(22)\n",
      "memory usage: 1.1+ MB\n"
     ]
    }
   ],
   "source": [
    "data.info()"
   ]
  },
  {
   "cell_type": "code",
   "execution_count": 240,
   "id": "9d511aa9",
   "metadata": {},
   "outputs": [],
   "source": [
    "# TECHNIQUE 1: DROP COLUMNS WITH MOSTLY NULL VALUES\n",
    "\n",
    "data.drop(columns = data.columns[22:24], inplace = True)"
   ]
  },
  {
   "cell_type": "code",
   "execution_count": 241,
   "id": "f68478af",
   "metadata": {},
   "outputs": [],
   "source": [
    "# TECHNIQUE 2: SORT BY \"Original Order columns\"\n",
    "\n",
    "sorted_data = data.sort_values(by = \"original order\").reset_index(drop = True)\n",
    "\n",
    "sorted_data.drop(columns = \"original order\", inplace = True)"
   ]
  },
  {
   "cell_type": "code",
   "execution_count": 242,
   "id": "62556e05",
   "metadata": {},
   "outputs": [
    {
     "name": "stderr",
     "output_type": "stream",
     "text": [
      "C:\\Users\\tglhi\\AppData\\Local\\Temp\\ipykernel_7192\\1454406963.py:7: FutureWarning: The default value of regex will change from True to False in a future version. In addition, single character regular expressions will *not* be treated as literal strings when regex=True.\n",
      "  sorted_data.columns = sorted_data.columns.str.replace(\".\", \"_\")\n"
     ]
    },
    {
     "data": {
      "text/plain": [
       "Index(['case_number', 'date', 'year', 'type', 'country', 'area', 'location',\n",
       "       'activity', 'name', 'sex', 'age', 'injury', 'fatal_(y/n)', 'time',\n",
       "       'species', 'investigator_or_source', 'pdf', 'href_formula', 'href',\n",
       "       'case_number_1', 'case_number_2', 'original_order'],\n",
       "      dtype='object')"
      ]
     },
     "execution_count": 242,
     "metadata": {},
     "output_type": "execute_result"
    }
   ],
   "source": [
    "# TECHNIQUE 3: Replace spaces and dots with underscores and remove capital letters from column names, \n",
    "# as well as strip leading and trailing white spaces\n",
    "\n",
    "sorted_data.rename(str.lower, axis = \"columns\")\n",
    "sorted_data.columns = sorted_data.columns.str.strip()\n",
    "sorted_data.columns = sorted_data.columns.str.replace(\" \", \"_\")\n",
    "sorted_data.columns = sorted_data.columns.str.lower()\n",
    "sorted_data.columns = sorted_data.columns.str.replace(\".\", \"_\")\n",
    "sorted_data.columns"
   ]
  },
  {
   "cell_type": "code",
   "execution_count": 243,
   "id": "d9e64fce",
   "metadata": {},
   "outputs": [
    {
     "name": "stdout",
     "output_type": "stream",
     "text": [
      "[('country', 43), ('area', 402), ('location', 496), ('activity', 527), ('name', 200), ('sex', 567), ('age', 2681), ('injury', 27), ('fatal_(y/n)', 19), ('time', 3213), ('species', 2934), ('investigator_or_source', 15), ('href_formula', 1), ('href', 3)]\n"
     ]
    }
   ],
   "source": [
    "# TECHNIQUE 4: Drop rows with null values in columns with mostly non-null values (\"Country\", Area\", \"Location\", \"Activity\", \"Name\",\n",
    "# \"Sex\", \"Injury\", \"Fatal\", \"Investigator or Source\", \"href formula\", \"h ref\")\n",
    "\n",
    "columns_with_nulls = []\n",
    "\n",
    "for column in sorted_data.columns:\n",
    "    null_values = sorted_data[column].isna().sum()\n",
    "    if null_values > 0:\n",
    "        columns_with_nulls.append((column, null_values))\n",
    "        \n",
    "print(columns_with_nulls)\n",
    "\n",
    "columns_with_few_nulls = [column_with_nulls[0] for column_with_nulls in columns_with_nulls if column_with_nulls[1] < 2000]"
   ]
  },
  {
   "cell_type": "code",
   "execution_count": 244,
   "id": "00183a23",
   "metadata": {},
   "outputs": [
    {
     "name": "stdout",
     "output_type": "stream",
     "text": [
      "<class 'pandas.core.frame.DataFrame'>\n",
      "Int64Index: 4488 entries, 0 to 5991\n",
      "Data columns (total 22 columns):\n",
      " #   Column                  Non-Null Count  Dtype \n",
      "---  ------                  --------------  ----- \n",
      " 0   case_number             4488 non-null   object\n",
      " 1   date                    4488 non-null   object\n",
      " 2   year                    4488 non-null   int64 \n",
      " 3   type                    4488 non-null   object\n",
      " 4   country                 4488 non-null   object\n",
      " 5   area                    4488 non-null   object\n",
      " 6   location                4488 non-null   object\n",
      " 7   activity                4488 non-null   object\n",
      " 8   name                    4488 non-null   object\n",
      " 9   sex                     4488 non-null   object\n",
      " 10  age                     2954 non-null   object\n",
      " 11  injury                  4488 non-null   object\n",
      " 12  fatal_(y/n)             4488 non-null   object\n",
      " 13  time                    2524 non-null   object\n",
      " 14  species                 2508 non-null   object\n",
      " 15  investigator_or_source  4488 non-null   object\n",
      " 16  pdf                     4488 non-null   object\n",
      " 17  href_formula            4488 non-null   object\n",
      " 18  href                    4488 non-null   object\n",
      " 19  case_number_1           4488 non-null   object\n",
      " 20  case_number_2           4488 non-null   object\n",
      " 21  original_order          4488 non-null   int64 \n",
      "dtypes: int64(2), object(20)\n",
      "memory usage: 806.4+ KB\n"
     ]
    }
   ],
   "source": [
    "sorted_data.dropna(subset = columns_with_few_nulls, inplace = True)\n",
    "\n",
    "sorted_data.info()"
   ]
  },
  {
   "cell_type": "code",
   "execution_count": 245,
   "id": "6178e800",
   "metadata": {},
   "outputs": [],
   "source": [
    "# TECHNIQUE 5: Correct and/or drop rows with wrongvalues in sex column (which can only be \"M\" or \"F\")"
   ]
  },
  {
   "cell_type": "code",
   "execution_count": 246,
   "id": "205f57af",
   "metadata": {},
   "outputs": [
    {
     "data": {
      "text/plain": [
       "M      3984\n",
       "F       500\n",
       "M         2\n",
       "N         1\n",
       "lli       1\n",
       "Name: sex, dtype: int64"
      ]
     },
     "execution_count": 246,
     "metadata": {},
     "output_type": "execute_result"
    }
   ],
   "source": [
    "sorted_data[\"sex\"].value_counts()"
   ]
  },
  {
   "cell_type": "code",
   "execution_count": 247,
   "id": "ab49d821",
   "metadata": {},
   "outputs": [],
   "source": [
    "sorted_data[\"sex\"] = sorted_data[\"sex\"].apply(lambda x: x if x == \"M\" or x == \"F\" else (\"M\" if \"M\" in x else None))"
   ]
  },
  {
   "cell_type": "code",
   "execution_count": 248,
   "id": "8c50fc54",
   "metadata": {},
   "outputs": [
    {
     "data": {
      "text/plain": [
       "M    3986\n",
       "F     500\n",
       "Name: sex, dtype: int64"
      ]
     },
     "execution_count": 248,
     "metadata": {},
     "output_type": "execute_result"
    }
   ],
   "source": [
    "sorted_data[\"sex\"].value_counts()"
   ]
  },
  {
   "cell_type": "code",
   "execution_count": 249,
   "id": "ea344b57",
   "metadata": {},
   "outputs": [],
   "source": [
    "sorted_data.dropna(subset = [\"sex\"], inplace = True)"
   ]
  },
  {
   "cell_type": "code",
   "execution_count": 250,
   "id": "48a398cf",
   "metadata": {},
   "outputs": [
    {
     "name": "stdout",
     "output_type": "stream",
     "text": [
      "<class 'pandas.core.frame.DataFrame'>\n",
      "Int64Index: 4486 entries, 0 to 5991\n",
      "Data columns (total 22 columns):\n",
      " #   Column                  Non-Null Count  Dtype \n",
      "---  ------                  --------------  ----- \n",
      " 0   case_number             4486 non-null   object\n",
      " 1   date                    4486 non-null   object\n",
      " 2   year                    4486 non-null   int64 \n",
      " 3   type                    4486 non-null   object\n",
      " 4   country                 4486 non-null   object\n",
      " 5   area                    4486 non-null   object\n",
      " 6   location                4486 non-null   object\n",
      " 7   activity                4486 non-null   object\n",
      " 8   name                    4486 non-null   object\n",
      " 9   sex                     4486 non-null   object\n",
      " 10  age                     2953 non-null   object\n",
      " 11  injury                  4486 non-null   object\n",
      " 12  fatal_(y/n)             4486 non-null   object\n",
      " 13  time                    2523 non-null   object\n",
      " 14  species                 2506 non-null   object\n",
      " 15  investigator_or_source  4486 non-null   object\n",
      " 16  pdf                     4486 non-null   object\n",
      " 17  href_formula            4486 non-null   object\n",
      " 18  href                    4486 non-null   object\n",
      " 19  case_number_1           4486 non-null   object\n",
      " 20  case_number_2           4486 non-null   object\n",
      " 21  original_order          4486 non-null   int64 \n",
      "dtypes: int64(2), object(20)\n",
      "memory usage: 806.1+ KB\n"
     ]
    }
   ],
   "source": [
    "sorted_data.info()"
   ]
  },
  {
   "cell_type": "code",
   "execution_count": 251,
   "id": "a89e1d2b",
   "metadata": {},
   "outputs": [
    {
     "name": "stderr",
     "output_type": "stream",
     "text": [
      "C:\\Users\\tglhi\\AppData\\Local\\Temp\\ipykernel_7192\\2612232893.py:7: SettingWithCopyWarning: \n",
      "A value is trying to be set on a copy of a slice from a DataFrame.\n",
      "Try using .loc[row_indexer,col_indexer] = value instead\n",
      "\n",
      "See the caveats in the documentation: https://pandas.pydata.org/pandas-docs/stable/user_guide/indexing.html#returning-a-view-versus-a-copy\n",
      "  sorted_data_age_fixed[\"age\"] = sorted_data_age_fixed[\"age\"].str.replace(\"½\", \".5\")\n",
      "C:\\Users\\tglhi\\AppData\\Local\\Temp\\ipykernel_7192\\2612232893.py:9: SettingWithCopyWarning: \n",
      "A value is trying to be set on a copy of a slice from a DataFrame.\n",
      "Try using .loc[row_indexer,col_indexer] = value instead\n",
      "\n",
      "See the caveats in the documentation: https://pandas.pydata.org/pandas-docs/stable/user_guide/indexing.html#returning-a-view-versus-a-copy\n",
      "  sorted_data_age_fixed[\"age\"] = sorted_data_age_fixed[\"age\"].astype(float)\n"
     ]
    }
   ],
   "source": [
    "# TECHNIQUE 6 DROP rows with nonnumeric value in \"age\" columns and changing column type to float\n",
    "\n",
    "sorted_data.dropna(subset = [\"age\"], inplace = True)\n",
    "\n",
    "sorted_data_age_fixed = sorted_data[sorted_data[\"age\"].str.isnumeric()]\n",
    "\n",
    "sorted_data_age_fixed[\"age\"] = sorted_data_age_fixed[\"age\"].str.replace(\"½\", \".5\")\n",
    "\n",
    "sorted_data_age_fixed[\"age\"] = sorted_data_age_fixed[\"age\"].astype(float)"
   ]
  },
  {
   "cell_type": "code",
   "execution_count": 252,
   "id": "3a384582",
   "metadata": {},
   "outputs": [
    {
     "name": "stdout",
     "output_type": "stream",
     "text": [
      "<class 'pandas.core.frame.DataFrame'>\n",
      "Int64Index: 2878 entries, 0 to 5991\n",
      "Data columns (total 22 columns):\n",
      " #   Column                  Non-Null Count  Dtype  \n",
      "---  ------                  --------------  -----  \n",
      " 0   case_number             2878 non-null   object \n",
      " 1   date                    2878 non-null   object \n",
      " 2   year                    2878 non-null   int64  \n",
      " 3   type                    2878 non-null   object \n",
      " 4   country                 2878 non-null   object \n",
      " 5   area                    2878 non-null   object \n",
      " 6   location                2878 non-null   object \n",
      " 7   activity                2878 non-null   object \n",
      " 8   name                    2878 non-null   object \n",
      " 9   sex                     2878 non-null   object \n",
      " 10  age                     2878 non-null   float64\n",
      " 11  injury                  2878 non-null   object \n",
      " 12  fatal_(y/n)             2878 non-null   object \n",
      " 13  time                    2078 non-null   object \n",
      " 14  species                 1841 non-null   object \n",
      " 15  investigator_or_source  2878 non-null   object \n",
      " 16  pdf                     2878 non-null   object \n",
      " 17  href_formula            2878 non-null   object \n",
      " 18  href                    2878 non-null   object \n",
      " 19  case_number_1           2878 non-null   object \n",
      " 20  case_number_2           2878 non-null   object \n",
      " 21  original_order          2878 non-null   int64  \n",
      "dtypes: float64(1), int64(2), object(19)\n",
      "memory usage: 517.1+ KB\n"
     ]
    }
   ],
   "source": [
    "sorted_data_age_fixed.info()"
   ]
  },
  {
   "cell_type": "code",
   "execution_count": 253,
   "id": "4dd99337",
   "metadata": {},
   "outputs": [],
   "source": [
    "# TECHNIQUE 7: Strip spaces from values in \"fatal_(y/n)\" column and drop values which are not \"Y\" or \"N\""
   ]
  },
  {
   "cell_type": "code",
   "execution_count": 254,
   "id": "eb01fee0",
   "metadata": {},
   "outputs": [
    {
     "name": "stderr",
     "output_type": "stream",
     "text": [
      "C:\\Users\\tglhi\\AppData\\Local\\Temp\\ipykernel_7192\\3236264094.py:1: SettingWithCopyWarning: \n",
      "A value is trying to be set on a copy of a slice from a DataFrame.\n",
      "Try using .loc[row_indexer,col_indexer] = value instead\n",
      "\n",
      "See the caveats in the documentation: https://pandas.pydata.org/pandas-docs/stable/user_guide/indexing.html#returning-a-view-versus-a-copy\n",
      "  sorted_data_age_fixed[\"fatal_(y/n)\"] = sorted_data_age_fixed[\"fatal_(y/n)\"].str.strip()\n"
     ]
    }
   ],
   "source": [
    "sorted_data_age_fixed[\"fatal_(y/n)\"] = sorted_data_age_fixed[\"fatal_(y/n)\"].str.strip()"
   ]
  },
  {
   "cell_type": "code",
   "execution_count": 255,
   "id": "57b92a6d",
   "metadata": {},
   "outputs": [
    {
     "name": "stderr",
     "output_type": "stream",
     "text": [
      "C:\\Users\\tglhi\\AppData\\Local\\Temp\\ipykernel_7192\\2690897661.py:1: SettingWithCopyWarning: \n",
      "A value is trying to be set on a copy of a slice from a DataFrame.\n",
      "Try using .loc[row_indexer,col_indexer] = value instead\n",
      "\n",
      "See the caveats in the documentation: https://pandas.pydata.org/pandas-docs/stable/user_guide/indexing.html#returning-a-view-versus-a-copy\n",
      "  sorted_data_age_fixed[\"fatal_(y/n)\"] = sorted_data_age_fixed[\"fatal_(y/n)\"].apply(lambda x: x if x in [\"Y\", \"N\"] else None)\n"
     ]
    }
   ],
   "source": [
    "sorted_data_age_fixed[\"fatal_(y/n)\"] = sorted_data_age_fixed[\"fatal_(y/n)\"].apply(lambda x: x if x in [\"Y\", \"N\"] else None)"
   ]
  },
  {
   "cell_type": "code",
   "execution_count": 256,
   "id": "92d31c89",
   "metadata": {},
   "outputs": [
    {
     "name": "stderr",
     "output_type": "stream",
     "text": [
      "C:\\Users\\tglhi\\AppData\\Local\\Temp\\ipykernel_7192\\4193472014.py:1: SettingWithCopyWarning: \n",
      "A value is trying to be set on a copy of a slice from a DataFrame\n",
      "\n",
      "See the caveats in the documentation: https://pandas.pydata.org/pandas-docs/stable/user_guide/indexing.html#returning-a-view-versus-a-copy\n",
      "  sorted_data_age_fixed.dropna(subset = [\"fatal_(y/n)\"], inplace = True)\n"
     ]
    }
   ],
   "source": [
    "sorted_data_age_fixed.dropna(subset = [\"fatal_(y/n)\"], inplace = True)"
   ]
  },
  {
   "cell_type": "code",
   "execution_count": 257,
   "id": "1d06585e",
   "metadata": {},
   "outputs": [
    {
     "name": "stdout",
     "output_type": "stream",
     "text": [
      "<class 'pandas.core.frame.DataFrame'>\n",
      "Int64Index: 2874 entries, 0 to 5991\n",
      "Data columns (total 22 columns):\n",
      " #   Column                  Non-Null Count  Dtype  \n",
      "---  ------                  --------------  -----  \n",
      " 0   case_number             2874 non-null   object \n",
      " 1   date                    2874 non-null   object \n",
      " 2   year                    2874 non-null   int64  \n",
      " 3   type                    2874 non-null   object \n",
      " 4   country                 2874 non-null   object \n",
      " 5   area                    2874 non-null   object \n",
      " 6   location                2874 non-null   object \n",
      " 7   activity                2874 non-null   object \n",
      " 8   name                    2874 non-null   object \n",
      " 9   sex                     2874 non-null   object \n",
      " 10  age                     2874 non-null   float64\n",
      " 11  injury                  2874 non-null   object \n",
      " 12  fatal_(y/n)             2874 non-null   object \n",
      " 13  time                    2077 non-null   object \n",
      " 14  species                 1840 non-null   object \n",
      " 15  investigator_or_source  2874 non-null   object \n",
      " 16  pdf                     2874 non-null   object \n",
      " 17  href_formula            2874 non-null   object \n",
      " 18  href                    2874 non-null   object \n",
      " 19  case_number_1           2874 non-null   object \n",
      " 20  case_number_2           2874 non-null   object \n",
      " 21  original_order          2874 non-null   int64  \n",
      "dtypes: float64(1), int64(2), object(19)\n",
      "memory usage: 516.4+ KB\n"
     ]
    }
   ],
   "source": [
    "sorted_data_age_fixed.info()"
   ]
  },
  {
   "cell_type": "code",
   "execution_count": 258,
   "id": "e814ccac",
   "metadata": {},
   "outputs": [],
   "source": [
    "# TECHNIQUE 8: After having fixed all fixable values in columns, drop columns with null values because we consider\n",
    "# they are not important for our analysis (\"species\" and \"time\")"
   ]
  },
  {
   "cell_type": "code",
   "execution_count": 259,
   "id": "22670d81",
   "metadata": {},
   "outputs": [
    {
     "name": "stderr",
     "output_type": "stream",
     "text": [
      "C:\\Users\\tglhi\\AppData\\Local\\Temp\\ipykernel_7192\\494216528.py:1: SettingWithCopyWarning: \n",
      "A value is trying to be set on a copy of a slice from a DataFrame\n",
      "\n",
      "See the caveats in the documentation: https://pandas.pydata.org/pandas-docs/stable/user_guide/indexing.html#returning-a-view-versus-a-copy\n",
      "  sorted_data_age_fixed.drop(columns = [\"time\", \"species\"], inplace = True)\n"
     ]
    }
   ],
   "source": [
    "sorted_data_age_fixed.drop(columns = [\"time\", \"species\"], inplace = True)"
   ]
  },
  {
   "cell_type": "code",
   "execution_count": 260,
   "id": "bef1f860",
   "metadata": {},
   "outputs": [
    {
     "name": "stdout",
     "output_type": "stream",
     "text": [
      "<class 'pandas.core.frame.DataFrame'>\n",
      "Int64Index: 2874 entries, 0 to 5991\n",
      "Data columns (total 20 columns):\n",
      " #   Column                  Non-Null Count  Dtype  \n",
      "---  ------                  --------------  -----  \n",
      " 0   case_number             2874 non-null   object \n",
      " 1   date                    2874 non-null   object \n",
      " 2   year                    2874 non-null   int64  \n",
      " 3   type                    2874 non-null   object \n",
      " 4   country                 2874 non-null   object \n",
      " 5   area                    2874 non-null   object \n",
      " 6   location                2874 non-null   object \n",
      " 7   activity                2874 non-null   object \n",
      " 8   name                    2874 non-null   object \n",
      " 9   sex                     2874 non-null   object \n",
      " 10  age                     2874 non-null   float64\n",
      " 11  injury                  2874 non-null   object \n",
      " 12  fatal_(y/n)             2874 non-null   object \n",
      " 13  investigator_or_source  2874 non-null   object \n",
      " 14  pdf                     2874 non-null   object \n",
      " 15  href_formula            2874 non-null   object \n",
      " 16  href                    2874 non-null   object \n",
      " 17  case_number_1           2874 non-null   object \n",
      " 18  case_number_2           2874 non-null   object \n",
      " 19  original_order          2874 non-null   int64  \n",
      "dtypes: float64(1), int64(2), object(17)\n",
      "memory usage: 471.5+ KB\n"
     ]
    }
   ],
   "source": [
    "sorted_data_age_fixed.info()"
   ]
  },
  {
   "cell_type": "code",
   "execution_count": 261,
   "id": "34135a92",
   "metadata": {},
   "outputs": [],
   "source": [
    "sorted_data_age_fixed.to_csv(\"clean_sharks.csv\")"
   ]
  },
  {
   "cell_type": "code",
   "execution_count": null,
   "id": "282c83ff",
   "metadata": {},
   "outputs": [],
   "source": []
  },
  {
   "cell_type": "code",
   "execution_count": null,
   "id": "eca3d236",
   "metadata": {},
   "outputs": [],
   "source": []
  }
 ],
 "metadata": {
  "kernelspec": {
   "display_name": "Python 3 (ipykernel)",
   "language": "python",
   "name": "python3"
  },
  "language_info": {
   "codemirror_mode": {
    "name": "ipython",
    "version": 3
   },
   "file_extension": ".py",
   "mimetype": "text/x-python",
   "name": "python",
   "nbconvert_exporter": "python",
   "pygments_lexer": "ipython3",
   "version": "3.8.3"
  }
 },
 "nbformat": 4,
 "nbformat_minor": 5
}
