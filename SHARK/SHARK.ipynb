{
 "cells": [
  {
   "cell_type": "code",
   "execution_count": 874,
   "id": "612abdad-e2ad-4d10-8d05-b9dd5aae3e89",
   "metadata": {},
   "outputs": [],
   "source": [
    "from sqlalchemy import create_engine, text\n",
    "import pandas as pd\n",
    "import numpy as np"
   ]
  },
  {
   "cell_type": "markdown",
   "id": "5a9e4235-945a-465c-8781-971a613ce5bb",
   "metadata": {},
   "source": [
    "#CARGARMOS LA EL ARCHIVO E IMPRIMOS INFO PARA VER UN RESUMEN DEL ESTATUS DEL ARCHIVO"
   ]
  },
  {
   "cell_type": "code",
   "execution_count": 875,
   "id": "a79e5418-d6de-412c-b100-0041ce37abbe",
   "metadata": {},
   "outputs": [],
   "source": [
    "path='GSAF5.csv'"
   ]
  },
  {
   "cell_type": "code",
   "execution_count": 876,
   "id": "4fcab413-219c-4b15-9ecf-35ebc671ceb5",
   "metadata": {},
   "outputs": [],
   "source": [
    "shark = pd.read_csv(path, sep=\",\", encoding = \"ISO-8859-1\")"
   ]
  },
  {
   "cell_type": "code",
   "execution_count": 877,
   "id": "7851eeb8-2caa-48cd-aa45-f4c069faaf16",
   "metadata": {
    "tags": []
   },
   "outputs": [
    {
     "name": "stdout",
     "output_type": "stream",
     "text": [
      "<class 'pandas.core.frame.DataFrame'>\n",
      "RangeIndex: 5992 entries, 0 to 5991\n",
      "Data columns (total 24 columns):\n",
      " #   Column                  Non-Null Count  Dtype \n",
      "---  ------                  --------------  ----- \n",
      " 0   Case Number             5992 non-null   object\n",
      " 1   Date                    5992 non-null   object\n",
      " 2   Year                    5992 non-null   int64 \n",
      " 3   Type                    5992 non-null   object\n",
      " 4   Country                 5949 non-null   object\n",
      " 5   Area                    5590 non-null   object\n",
      " 6   Location                5496 non-null   object\n",
      " 7   Activity                5465 non-null   object\n",
      " 8   Name                    5792 non-null   object\n",
      " 9   Sex                     5425 non-null   object\n",
      " 10  Age                     3311 non-null   object\n",
      " 11  Injury                  5965 non-null   object\n",
      " 12  Fatal (Y/N)             5973 non-null   object\n",
      " 13  Time                    2779 non-null   object\n",
      " 14  Species                 3058 non-null   object\n",
      " 15  Investigator or Source  5977 non-null   object\n",
      " 16  pdf                     5992 non-null   object\n",
      " 17  href formula            5991 non-null   object\n",
      " 18  href                    5989 non-null   object\n",
      " 19  Case Number.1           5992 non-null   object\n",
      " 20  Case Number.2           5992 non-null   object\n",
      " 21  original order          5992 non-null   int64 \n",
      " 22  Unnamed: 22             1 non-null      object\n",
      " 23  Unnamed: 23             2 non-null      object\n",
      "dtypes: int64(2), object(22)\n",
      "memory usage: 1.1+ MB\n"
     ]
    }
   ],
   "source": [
    "shark.info()"
   ]
  },
  {
   "cell_type": "code",
   "execution_count": 878,
   "id": "00d641f5-bb45-4d46-8b1c-1b4e455843ea",
   "metadata": {},
   "outputs": [
    {
     "data": {
      "text/html": [
       "<div>\n",
       "<style scoped>\n",
       "    .dataframe tbody tr th:only-of-type {\n",
       "        vertical-align: middle;\n",
       "    }\n",
       "\n",
       "    .dataframe tbody tr th {\n",
       "        vertical-align: top;\n",
       "    }\n",
       "\n",
       "    .dataframe thead th {\n",
       "        text-align: right;\n",
       "    }\n",
       "</style>\n",
       "<table border=\"1\" class=\"dataframe\">\n",
       "  <thead>\n",
       "    <tr style=\"text-align: right;\">\n",
       "      <th></th>\n",
       "      <th>Case Number</th>\n",
       "      <th>Date</th>\n",
       "      <th>Year</th>\n",
       "      <th>Type</th>\n",
       "      <th>Country</th>\n",
       "      <th>Area</th>\n",
       "      <th>Location</th>\n",
       "      <th>Activity</th>\n",
       "      <th>Name</th>\n",
       "      <th>Sex</th>\n",
       "      <th>...</th>\n",
       "      <th>Species</th>\n",
       "      <th>Investigator or Source</th>\n",
       "      <th>pdf</th>\n",
       "      <th>href formula</th>\n",
       "      <th>href</th>\n",
       "      <th>Case Number.1</th>\n",
       "      <th>Case Number.2</th>\n",
       "      <th>original order</th>\n",
       "      <th>Unnamed: 22</th>\n",
       "      <th>Unnamed: 23</th>\n",
       "    </tr>\n",
       "  </thead>\n",
       "  <tbody>\n",
       "    <tr>\n",
       "      <th>0</th>\n",
       "      <td>2016.09.18.c</td>\n",
       "      <td>18-Sep-16</td>\n",
       "      <td>2016</td>\n",
       "      <td>Unprovoked</td>\n",
       "      <td>USA</td>\n",
       "      <td>Florida</td>\n",
       "      <td>New Smyrna Beach, Volusia County</td>\n",
       "      <td>Surfing</td>\n",
       "      <td>male</td>\n",
       "      <td>M</td>\n",
       "      <td>...</td>\n",
       "      <td>NaN</td>\n",
       "      <td>Orlando Sentinel, 9/19/2016</td>\n",
       "      <td>2016.09.18.c-NSB.pdf</td>\n",
       "      <td>http://sharkattackfile.net/spreadsheets/pdf_di...</td>\n",
       "      <td>http://sharkattackfile.net/spreadsheets/pdf_di...</td>\n",
       "      <td>2016.09.18.c</td>\n",
       "      <td>2016.09.18.c</td>\n",
       "      <td>5993</td>\n",
       "      <td>NaN</td>\n",
       "      <td>NaN</td>\n",
       "    </tr>\n",
       "    <tr>\n",
       "      <th>1</th>\n",
       "      <td>2016.09.18.b</td>\n",
       "      <td>18-Sep-16</td>\n",
       "      <td>2016</td>\n",
       "      <td>Unprovoked</td>\n",
       "      <td>USA</td>\n",
       "      <td>Florida</td>\n",
       "      <td>New Smyrna Beach, Volusia County</td>\n",
       "      <td>Surfing</td>\n",
       "      <td>Chucky Luciano</td>\n",
       "      <td>M</td>\n",
       "      <td>...</td>\n",
       "      <td>NaN</td>\n",
       "      <td>Orlando Sentinel, 9/19/2016</td>\n",
       "      <td>2016.09.18.b-Luciano.pdf</td>\n",
       "      <td>http://sharkattackfile.net/spreadsheets/pdf_di...</td>\n",
       "      <td>http://sharkattackfile.net/spreadsheets/pdf_di...</td>\n",
       "      <td>2016.09.18.b</td>\n",
       "      <td>2016.09.18.b</td>\n",
       "      <td>5992</td>\n",
       "      <td>NaN</td>\n",
       "      <td>NaN</td>\n",
       "    </tr>\n",
       "  </tbody>\n",
       "</table>\n",
       "<p>2 rows × 24 columns</p>\n",
       "</div>"
      ],
      "text/plain": [
       "    Case Number       Date  Year        Type Country     Area  \\\n",
       "0  2016.09.18.c  18-Sep-16  2016  Unprovoked     USA  Florida   \n",
       "1  2016.09.18.b  18-Sep-16  2016  Unprovoked     USA  Florida   \n",
       "\n",
       "                           Location Activity            Name Sex   ...  \\\n",
       "0  New Smyrna Beach, Volusia County  Surfing            male    M  ...   \n",
       "1  New Smyrna Beach, Volusia County  Surfing  Chucky Luciano    M  ...   \n",
       "\n",
       "  Species        Investigator or Source                       pdf  \\\n",
       "0      NaN  Orlando Sentinel, 9/19/2016      2016.09.18.c-NSB.pdf   \n",
       "1      NaN  Orlando Sentinel, 9/19/2016  2016.09.18.b-Luciano.pdf   \n",
       "\n",
       "                                        href formula  \\\n",
       "0  http://sharkattackfile.net/spreadsheets/pdf_di...   \n",
       "1  http://sharkattackfile.net/spreadsheets/pdf_di...   \n",
       "\n",
       "                                                href Case Number.1  \\\n",
       "0  http://sharkattackfile.net/spreadsheets/pdf_di...  2016.09.18.c   \n",
       "1  http://sharkattackfile.net/spreadsheets/pdf_di...  2016.09.18.b   \n",
       "\n",
       "  Case Number.2 original order Unnamed: 22 Unnamed: 23  \n",
       "0  2016.09.18.c           5993         NaN         NaN  \n",
       "1  2016.09.18.b           5992         NaN         NaN  \n",
       "\n",
       "[2 rows x 24 columns]"
      ]
     },
     "execution_count": 878,
     "metadata": {},
     "output_type": "execute_result"
    }
   ],
   "source": [
    "shark.head(2)"
   ]
  },
  {
   "cell_type": "markdown",
   "id": "82180695-8ba8-4ff2-b908-5942abbe7f4f",
   "metadata": {},
   "source": [
    "# REVISAMOS EL TOTAL DE NULOS DE CADA COLUMNA Y ELIMINAMOS LOS QUE TIENE UN PORCENSATAJE MAYOR AL 60%"
   ]
  },
  {
   "cell_type": "code",
   "execution_count": 879,
   "id": "38fbd1ee-7f58-4fcb-bfba-e12dc2c09715",
   "metadata": {},
   "outputs": [
    {
     "data": {
      "text/plain": [
       "href formula              0.000167\n",
       "href                      0.000501\n",
       "Investigator or Source    0.002503\n",
       "Fatal (Y/N)               0.003171\n",
       "Injury                    0.004506\n",
       "Country                   0.007176\n",
       "Name                      0.033378\n",
       "Area                      0.067089\n",
       "Location                  0.082777\n",
       "Activity                  0.087951\n",
       "Sex                       0.094626\n",
       "Age                       0.447430\n",
       "Species                   0.489653\n",
       "Time                      0.536215\n",
       "Unnamed: 23               0.999666\n",
       "Unnamed: 22               0.999833\n",
       "dtype: float64"
      ]
     },
     "execution_count": 879,
     "metadata": {},
     "output_type": "execute_result"
    }
   ],
   "source": [
    "total_nulos = shark.isnull().sum()\n",
    "total_nulos[total_nulos > 0].sort_values()\n",
    "porcentaje_nulos = total_nulos[total_nulos > 0].sort_values()/shark.shape[0]\n",
    "porcentaje_nulos"
   ]
  },
  {
   "cell_type": "code",
   "execution_count": 880,
   "id": "7012a1a1-56db-453a-a7de-d7e3bd5dcea6",
   "metadata": {},
   "outputs": [
    {
     "data": {
      "text/plain": [
       "Index(['Unnamed: 23', 'Unnamed: 22'], dtype='object')"
      ]
     },
     "execution_count": 880,
     "metadata": {},
     "output_type": "execute_result"
    }
   ],
   "source": [
    "columnas_malas = porcentaje_nulos[porcentaje_nulos>0.6].index #REVISAMOS CUALES ASIENDEN A MAS DEL 60 DE NULOS Y LOS GUDARAMOS COMO LISTA\n",
    "columnas_malas"
   ]
  },
  {
   "cell_type": "code",
   "execution_count": 881,
   "id": "c8512f19-b4af-4432-83de-5b728f6303c3",
   "metadata": {},
   "outputs": [],
   "source": [
    "shark.drop(columnas_malas, axis = 1, inplace = True) #ELIMINAREMOS LAS COMUNAS QUE TENGAS UN PORCENTAJE MAYOR A 60% DE VALORES NULLOS"
   ]
  },
  {
   "cell_type": "code",
   "execution_count": null,
   "id": "bc9f66c7-66e0-486c-8d57-c0629d0a40e9",
   "metadata": {
    "tags": []
   },
   "outputs": [],
   "source": []
  },
  {
   "cell_type": "markdown",
   "id": "01bbbbfe-2054-4d9c-8e04-e803eb6461fd",
   "metadata": {},
   "source": [
    "# ANTES DE CONTINUAR, VAMOS A LIMPIAR LOS NOMBRES DE LAS COLUMNAS, PARA PODER TRABAJAR CON ELLAS "
   ]
  },
  {
   "cell_type": "code",
   "execution_count": 882,
   "id": "ecb66986-5911-4e7c-8958-1e1f2a2482d2",
   "metadata": {
    "tags": []
   },
   "outputs": [
    {
     "data": {
      "text/plain": [
       "Index(['Case Number', 'Date', 'Year', 'Type', 'Country', 'Area', 'Location',\n",
       "       'Activity', 'Name', 'Sex ', 'Age', 'Injury', 'Fatal (Y/N)', 'Time',\n",
       "       'Species ', 'Investigator or Source', 'pdf', 'href formula', 'href',\n",
       "       'Case Number.1', 'Case Number.2', 'original order'],\n",
       "      dtype='object')"
      ]
     },
     "execution_count": 882,
     "metadata": {},
     "output_type": "execute_result"
    }
   ],
   "source": [
    "shark.columns"
   ]
  },
  {
   "cell_type": "code",
   "execution_count": 883,
   "id": "20daaedf-032a-4b47-960a-bf7cbe5ddb08",
   "metadata": {},
   "outputs": [],
   "source": [
    "lista_columnas = shark.columns"
   ]
  },
  {
   "cell_type": "code",
   "execution_count": 884,
   "id": "a565cc44-33a0-4d26-a25b-6f4b73230d54",
   "metadata": {
    "tags": []
   },
   "outputs": [
    {
     "name": "stderr",
     "output_type": "stream",
     "text": [
      "C:\\Users\\sistemas\\AppData\\Local\\Temp\\ipykernel_1620\\3236888886.py:1: FutureWarning: The default value of regex will change from True to False in a future version. In addition, single character regular expressions will *not* be treated as literal strings when regex=True.\n",
      "  lista_columnas= lista_columnas.str.strip(' ').str.replace(' ','_').str.replace('.','_') #ESTAMOS QUINTANDO LOS ESPACIOS EXTERNOS , Y LOS INTERNOS LOS CCAMBIAMOS POR _ AL IGUAL QUE LOS PUNTOS '.'\n"
     ]
    }
   ],
   "source": [
    "lista_columnas= lista_columnas.str.strip(' ').str.replace(' ','_').str.replace('.','_') #ESTAMOS QUINTANDO LOS ESPACIOS EXTERNOS , Y LOS INTERNOS LOS CCAMBIAMOS POR _ AL IGUAL QUE LOS PUNTOS '.'\n",
    "lista_columnas = list(lista_columnas)"
   ]
  },
  {
   "cell_type": "code",
   "execution_count": 885,
   "id": "9cd7b583-7295-406f-9c97-57ab38cee8c1",
   "metadata": {},
   "outputs": [
    {
     "data": {
      "text/plain": [
       "Index(['Case_Number', 'Date', 'Year', 'Type', 'Country', 'Area', 'Location',\n",
       "       'Activity', 'Name', 'Sex', 'Age', 'Injury', 'Fatal_(Y/N)', 'Time',\n",
       "       'Species', 'Investigator_or_Source', 'pdf', 'href_formula', 'href',\n",
       "       'Case_Number_1', 'Case_Number_2', 'original_order'],\n",
       "      dtype='object')"
      ]
     },
     "execution_count": 885,
     "metadata": {},
     "output_type": "execute_result"
    }
   ],
   "source": [
    "shark.columns = lista_columnas #CONFIRMAMOS LOS CAMBIOS DE LAS COLUMNAS\n",
    "shark.columns"
   ]
  },
  {
   "cell_type": "markdown",
   "id": "fa256bdf-4097-47ea-a6c7-6a2b528838be",
   "metadata": {},
   "source": [
    "# DE LOS PAISES DONDE HAN HABIDO ATAQUES, VOY A ELIMNAR TODOS LOS ATAQUES AISLADOS, Y SOLO CON LOS PAISES QUE TIENE EL MAYOR REGISTRO DE ATAQUES"
   ]
  },
  {
   "cell_type": "code",
   "execution_count": 886,
   "id": "a688a6b1-6e09-48b9-8bfd-74268a3dd154",
   "metadata": {},
   "outputs": [
    {
     "data": {
      "text/plain": [
       "(5992, 22)"
      ]
     },
     "execution_count": 886,
     "metadata": {},
     "output_type": "execute_result"
    }
   ],
   "source": [
    "shark.shape # DIMENSION ACTUAL DE MI DATAFRAME"
   ]
  },
  {
   "cell_type": "code",
   "execution_count": 887,
   "id": "92a26b22-1075-44f6-988c-250d770619d6",
   "metadata": {},
   "outputs": [
    {
     "data": {
      "text/plain": [
       "USA                           0.353138\n",
       "AUSTRALIA                     0.213451\n",
       "SOUTH AFRICA                  0.094292\n",
       "PAPUA NEW GUINEA              0.022196\n",
       "NEW ZEALAND                   0.020861\n",
       "                                ...   \n",
       "NORTH ATLANTIC OCEAN          0.000167\n",
       "MAYOTTE                       0.000167\n",
       "GABON                         0.000167\n",
       "ANDAMAN / NICOBAR ISLANDAS    0.000167\n",
       "CEYLON (SRI LANKA)            0.000167\n",
       "Name: Country, Length: 203, dtype: float64"
      ]
     },
     "execution_count": 887,
     "metadata": {},
     "output_type": "execute_result"
    }
   ],
   "source": [
    "lista_country = shark.Country.value_counts()/len(shark) \n",
    "lista_country # LISTA DE PORCENTAHE DE ATAQUES POR PAIS"
   ]
  },
  {
   "cell_type": "code",
   "execution_count": 888,
   "id": "59f4e625-d435-492b-ac59-e235e86249b6",
   "metadata": {},
   "outputs": [
    {
     "data": {
      "text/plain": [
       "USA                 0.353138\n",
       "AUSTRALIA           0.213451\n",
       "SOUTH AFRICA        0.094292\n",
       "PAPUA NEW GUINEA    0.022196\n",
       "NEW ZEALAND         0.020861\n",
       "Name: Country, dtype: float64"
      ]
     },
     "execution_count": 888,
     "metadata": {},
     "output_type": "execute_result"
    }
   ],
   "source": [
    "columnas_malas_2 = lista_country[lista_country >0.02] # ME QUEDARE CON LOS PASES CON UN REGISTRO MAYOR DEL 2% O EN ESTE CASO CON MAS DE UN ATAQUE RESGITRADO\n",
    "columnas_malas_2"
   ]
  },
  {
   "cell_type": "code",
   "execution_count": 889,
   "id": "f5d1a548-c06e-4f21-8f64-81f6adb69ff6",
   "metadata": {},
   "outputs": [
    {
     "data": {
      "text/plain": [
       "1774"
      ]
     },
     "execution_count": 889,
     "metadata": {},
     "output_type": "execute_result"
    }
   ],
   "source": [
    "lista_cuntry_malos = list(shark[(shark.Country != 'USA')&(shark.Country != 'AUSTRALIA')&(shark.Country != 'SOUTH AFRICA')&(shark.Country != 'PAPUA NEW GUINEA')&(shark.Country != 'NEW ZEALAND')]['Country'].index)\n",
    "len(lista_cuntry_malos) #TODOS LOS QUE NO SON A ESTOS PAISES LOS VOY A GUARDAR EN UNA LISTA "
   ]
  },
  {
   "cell_type": "code",
   "execution_count": 890,
   "id": "111c7cfc-88f7-4167-81be-fa7c5d1b7c34",
   "metadata": {},
   "outputs": [],
   "source": [
    "shark.drop(lista_cuntry_malos, inplace = True) # ELIMINO TODAS LAS FILAS DE LOS PAISES QUE SOLO REGISTRARON UN ATAQUE"
   ]
  },
  {
   "cell_type": "code",
   "execution_count": 891,
   "id": "c0b20916-416d-43eb-921a-49c703513022",
   "metadata": {},
   "outputs": [
    {
     "data": {
      "text/plain": [
       "(4218, 22)"
      ]
     },
     "execution_count": 891,
     "metadata": {},
     "output_type": "execute_result"
    }
   ],
   "source": [
    "shark.shape"
   ]
  },
  {
   "cell_type": "code",
   "execution_count": 892,
   "id": "283e0262-9a9f-4ed0-a585-c25564886d77",
   "metadata": {},
   "outputs": [
    {
     "data": {
      "text/plain": [
       "(4218, 22)"
      ]
     },
     "execution_count": 892,
     "metadata": {},
     "output_type": "execute_result"
    }
   ],
   "source": [
    "shark.shape"
   ]
  },
  {
   "cell_type": "code",
   "execution_count": null,
   "id": "ef87580a-3aac-4c30-bf02-f8f72ea5a46e",
   "metadata": {},
   "outputs": [],
   "source": []
  },
  {
   "cell_type": "markdown",
   "id": "4dfac87d-1c3c-429d-8446-aeeb640c3514",
   "metadata": {},
   "source": [
    "# REALIZAMOS UN ANALISIS DE LOS NULLOS QUE AUN ME APARECEN EN LAS COLUMNAS "
   ]
  },
  {
   "cell_type": "code",
   "execution_count": 893,
   "id": "b74b62e9-be3d-4fe5-b653-c2852a828922",
   "metadata": {},
   "outputs": [
    {
     "data": {
      "text/plain": [
       "Case_Number                  0\n",
       "Date                         0\n",
       "Year                         0\n",
       "Type                         0\n",
       "Country                      0\n",
       "Area                        31\n",
       "Location                   109\n",
       "Activity                   320\n",
       "Name                        66\n",
       "Sex                        340\n",
       "Age                       1645\n",
       "Injury                      14\n",
       "Fatal_(Y/N)                  4\n",
       "Time                      1951\n",
       "Species                   1843\n",
       "Investigator_or_Source      10\n",
       "pdf                          0\n",
       "href_formula                 1\n",
       "href                         3\n",
       "Case_Number_1                0\n",
       "Case_Number_2                0\n",
       "original_order               0\n",
       "dtype: int64"
      ]
     },
     "execution_count": 893,
     "metadata": {},
     "output_type": "execute_result"
    }
   ],
   "source": [
    "shark.isnull().sum() # ME DOY CUENTA QUE YA SE HA REDUCUD"
   ]
  },
  {
   "cell_type": "markdown",
   "id": "35748cd1-8aca-401e-a2b3-893151735b57",
   "metadata": {},
   "source": [
    "# VAMOS A UNIFICAR LAS COLUMNAS Y RELLENAR LOS NULLOS DE SEX"
   ]
  },
  {
   "cell_type": "code",
   "execution_count": 894,
   "id": "3d6cf4d0-3d4f-4379-81b9-17c0777867e5",
   "metadata": {},
   "outputs": [
    {
     "data": {
      "text/plain": [
       "M      3442\n",
       "F       431\n",
       "M         2\n",
       "lli       1\n",
       "N         1\n",
       ".         1\n",
       "Name: Sex, dtype: int64"
      ]
     },
     "execution_count": 894,
     "metadata": {},
     "output_type": "execute_result"
    }
   ],
   "source": [
    "shark.Sex.value_counts()"
   ]
  },
  {
   "cell_type": "code",
   "execution_count": 895,
   "id": "f7d2be09-22e1-4d45-961c-93fb09ae2185",
   "metadata": {},
   "outputs": [],
   "source": [
    "shark.Sex.fillna('DESCONOCIDO', inplace = True)"
   ]
  },
  {
   "cell_type": "code",
   "execution_count": 896,
   "id": "2bab9df4-1a61-4973-9a59-7c71d4d92f0d",
   "metadata": {
    "tags": []
   },
   "outputs": [
    {
     "data": {
      "text/plain": [
       "M              3442\n",
       "F               431\n",
       "DESCONOCIDO     340\n",
       "M                 2\n",
       "lli               1\n",
       "N                 1\n",
       ".                 1\n",
       "Name: Sex, dtype: int64"
      ]
     },
     "execution_count": 896,
     "metadata": {},
     "output_type": "execute_result"
    }
   ],
   "source": [
    "shark.Sex.value_counts()"
   ]
  },
  {
   "cell_type": "code",
   "execution_count": 897,
   "id": "66e5c305-a045-4945-a528-5b189e79aec0",
   "metadata": {},
   "outputs": [],
   "source": [
    "shark_2 = shark.copy()"
   ]
  },
  {
   "cell_type": "code",
   "execution_count": 898,
   "id": "bae50996-5344-4696-8957-d88e253080b1",
   "metadata": {},
   "outputs": [],
   "source": [
    "shark_2['Sex'] = np.where(shark_2.Sex.str.startswith('M'), 'MACHO',shark_2.Sex )"
   ]
  },
  {
   "cell_type": "code",
   "execution_count": 899,
   "id": "6519f89b-5862-4a37-b76a-50c63b5aa4c8",
   "metadata": {},
   "outputs": [],
   "source": [
    "shark_2['Sex'] = np.where(shark_2.Sex.str.startswith('F'), 'HEMBRA',shark_2.Sex )"
   ]
  },
  {
   "cell_type": "code",
   "execution_count": 900,
   "id": "c040952b-6638-4f79-9b14-bd5b7d02f85e",
   "metadata": {},
   "outputs": [],
   "source": [
    "shark_2['Sex'] = np.where(shark_2.Sex.str.startswith(('MACHO','HEMBRA','DESCONOCIDO')), shark_2.Sex , 'DESCONOCIDO')"
   ]
  },
  {
   "cell_type": "code",
   "execution_count": null,
   "id": "7e61d253-ccc5-472a-80c4-783588a30fdb",
   "metadata": {},
   "outputs": [],
   "source": []
  },
  {
   "cell_type": "code",
   "execution_count": 901,
   "id": "effc6d4e-6d24-40fd-8bf2-d25417a5b5c1",
   "metadata": {
    "tags": []
   },
   "outputs": [
    {
     "data": {
      "text/plain": [
       "MACHO          3444\n",
       "HEMBRA          431\n",
       "DESCONOCIDO     343\n",
       "Name: Sex, dtype: int64"
      ]
     },
     "execution_count": 901,
     "metadata": {},
     "output_type": "execute_result"
    }
   ],
   "source": [
    "shark_2.Sex.value_counts()"
   ]
  },
  {
   "cell_type": "code",
   "execution_count": 902,
   "id": "6575db00-72e0-420d-98c7-b20a644f2741",
   "metadata": {},
   "outputs": [],
   "source": [
    "shark = shark_2  #GUADARMOS EL FATAFRAME AL ORIGINAL"
   ]
  },
  {
   "cell_type": "code",
   "execution_count": null,
   "id": "f6d0e379-7b98-48bf-931d-fde76f061424",
   "metadata": {},
   "outputs": [],
   "source": []
  },
  {
   "cell_type": "markdown",
   "id": "a2a4c10c-b7d5-4a48-9465-7877568c4558",
   "metadata": {},
   "source": [
    "# REVISAREMOS ACTIVITY"
   ]
  },
  {
   "cell_type": "code",
   "execution_count": 903,
   "id": "9a864989-d85f-45e5-b5f2-51138b9168d9",
   "metadata": {},
   "outputs": [
    {
     "data": {
      "text/plain": [
       "Case_Number                  0\n",
       "Date                         0\n",
       "Year                         0\n",
       "Type                         0\n",
       "Country                      0\n",
       "Area                        31\n",
       "Location                   109\n",
       "Activity                   320\n",
       "Name                        66\n",
       "Sex                          0\n",
       "Age                       1645\n",
       "Injury                      14\n",
       "Fatal_(Y/N)                  4\n",
       "Time                      1951\n",
       "Species                   1843\n",
       "Investigator_or_Source      10\n",
       "pdf                          0\n",
       "href_formula                 1\n",
       "href                         3\n",
       "Case_Number_1                0\n",
       "Case_Number_2                0\n",
       "original_order               0\n",
       "dtype: int64"
      ]
     },
     "execution_count": 903,
     "metadata": {},
     "output_type": "execute_result"
    }
   ],
   "source": [
    "shark.isnull().sum() # ME DOY CUENTA QUE YA SE HA REDUCUD"
   ]
  },
  {
   "cell_type": "code",
   "execution_count": 904,
   "id": "406e88b8-98b3-4a7a-9139-54bf1caecb31",
   "metadata": {},
   "outputs": [
    {
     "data": {
      "text/plain": [
       "Surfing                                809\n",
       "Swimming                               552\n",
       "Fishing                                293\n",
       "Spearfishing                           199\n",
       "Wading                                 124\n",
       "                                      ... \n",
       "Free diving for abalone (surfacing)      1\n",
       "40' fishing boat sank                    1\n",
       "Collecting fish from net                 1\n",
       "Fishing for yellowtail                   1\n",
       "4 men were bathing                       1\n",
       "Name: Activity, Length: 973, dtype: int64"
      ]
     },
     "execution_count": 904,
     "metadata": {},
     "output_type": "execute_result"
    }
   ],
   "source": [
    "shark.Activity.value_counts()"
   ]
  },
  {
   "cell_type": "code",
   "execution_count": null,
   "id": "2f1068c0-08f7-4179-a57b-f63f9e9f1462",
   "metadata": {
    "tags": []
   },
   "outputs": [],
   "source": []
  },
  {
   "cell_type": "code",
   "execution_count": 905,
   "id": "e18daf92-59ce-472a-81a5-1a75e95a5478",
   "metadata": {},
   "outputs": [],
   "source": [
    "shark_2=shark.copy()"
   ]
  },
  {
   "cell_type": "code",
   "execution_count": 906,
   "id": "cb26dbc4-47a9-49e5-8463-de3d43ec9813",
   "metadata": {
    "tags": []
   },
   "outputs": [],
   "source": [
    "shark_2.Activity.fillna('No se sabe', inplace = True)"
   ]
  },
  {
   "cell_type": "code",
   "execution_count": 907,
   "id": "5917e1f2-2987-4236-a3b1-32f4b731db7e",
   "metadata": {
    "tags": []
   },
   "outputs": [],
   "source": [
    "shark_2.Activity = shark_2.Activity.str.lower()"
   ]
  },
  {
   "cell_type": "code",
   "execution_count": 908,
   "id": "c65aacfa-3bf9-48e3-86bd-5cdc3db92f92",
   "metadata": {},
   "outputs": [
    {
     "data": {
      "text/plain": [
       "surfing                                                         809\n",
       "swimming                                                        552\n",
       "no se sabe                                                      320\n",
       "fishing                                                         293\n",
       "spearfishing                                                    199\n",
       "                                                               ... \n",
       "thrashing the water / imitating the shark victim from \"jaws\"      1\n",
       "fishing for white shark                                           1\n",
       "skindiving,                                                       1\n",
       "surfing, fell off surfboard                                       1\n",
       "4 men were bathing                                                1\n",
       "Name: Activity, Length: 955, dtype: int64"
      ]
     },
     "execution_count": 908,
     "metadata": {},
     "output_type": "execute_result"
    }
   ],
   "source": [
    "shark_2.Activity.value_counts()"
   ]
  },
  {
   "cell_type": "code",
   "execution_count": 909,
   "id": "b408739c-fe7e-4c94-b401-fa378281e3f4",
   "metadata": {
    "tags": []
   },
   "outputs": [],
   "source": [
    "def cambiar_Activity(Activity): \n",
    "    if Activity == 'surfing':\n",
    "        return Activity\n",
    "    if Activity == 'swimming':\n",
    "        return Activity\n",
    "    if Activity == 'fishing':\n",
    "        return Activity\n",
    "    if Activity == 'wading':\n",
    "        return Activity\n",
    "    if 'fish' in Activity:\n",
    "        return 'fishing'\n",
    "    if 'surf' in Activity:\n",
    "        return 'surfing'\n",
    "    if 'swim' in Activity:\n",
    "        return 'swimming'\n",
    "    if 'wad' in Activity:\n",
    "        return 'wading'\n",
    "    \n",
    "\n",
    "    if 'boarding' in Activity:\n",
    "        return 'body boarding'\n",
    "    \n",
    "    if 'snork' in Activity:\n",
    "        return 'snorkeling'\n",
    "    \n",
    "    if 'diving' in Activity:\n",
    "        return 'diving'\n",
    "    \n",
    "\n",
    "    if 'bathing' in Activity:\n",
    "        return 'bathing'\n",
    "    \n",
    "    if 'kayak' in Activity:\n",
    "        return 'kayaking'\n",
    "    \n",
    "    if 'bathing' in Activity or 'floating' in Activity:\n",
    "        return 'floating'\n",
    "    \n",
    "    \n",
    "    \n",
    "\n",
    "    #if '4-Wheel' in Activity or 'All-Wheel' in Activity:\n",
    "    #    return 'All-Wheel Drive'\n",
    "    return 'otras actividades'"
   ]
  },
  {
   "cell_type": "code",
   "execution_count": 910,
   "id": "266af69a-80ff-470e-b339-91a1d0ceba94",
   "metadata": {
    "tags": []
   },
   "outputs": [],
   "source": [
    "shark_2['Activity'] = shark_2.Activity.apply(cambiar_Activity)"
   ]
  },
  {
   "cell_type": "code",
   "execution_count": 911,
   "id": "ea6e4bcf-efb3-4e92-9613-6f4e331b0e6f",
   "metadata": {},
   "outputs": [
    {
     "data": {
      "text/plain": [
       "surfing              1032\n",
       "otras actividades     911\n",
       "fishing               804\n",
       "swimming              694\n",
       "diving                304\n",
       "wading                135\n",
       "body boarding         115\n",
       "bathing               109\n",
       "snorkeling             51\n",
       "floating               34\n",
       "kayaking               29\n",
       "Name: Activity, dtype: int64"
      ]
     },
     "execution_count": 911,
     "metadata": {},
     "output_type": "execute_result"
    }
   ],
   "source": [
    "shark_2.Activity.value_counts()"
   ]
  },
  {
   "cell_type": "code",
   "execution_count": 912,
   "id": "d0a86952-1e18-405e-be77-bc06265c2d61",
   "metadata": {},
   "outputs": [],
   "source": [
    "shark = shark_2"
   ]
  },
  {
   "cell_type": "markdown",
   "id": "0ea6f8ab-8612-4558-99e7-5b33958e92bd",
   "metadata": {},
   "source": [
    "# REVISAREMOS Fatal_(Y/N)"
   ]
  },
  {
   "cell_type": "code",
   "execution_count": null,
   "id": "334e9cef-420d-48ef-a823-2226f32ad892",
   "metadata": {},
   "outputs": [],
   "source": []
  },
  {
   "cell_type": "code",
   "execution_count": 913,
   "id": "055a3bab-da46-423a-9071-c2ae89bb613b",
   "metadata": {},
   "outputs": [
    {
     "data": {
      "text/plain": [
       "Case_Number                  0\n",
       "Date                         0\n",
       "Year                         0\n",
       "Type                         0\n",
       "Country                      0\n",
       "Area                        31\n",
       "Location                   109\n",
       "Activity                     0\n",
       "Name                        66\n",
       "Sex                          0\n",
       "Age                       1645\n",
       "Injury                      14\n",
       "Fatal_(Y/N)                  4\n",
       "Time                      1951\n",
       "Species                   1843\n",
       "Investigator_or_Source      10\n",
       "pdf                          0\n",
       "href_formula                 1\n",
       "href                         3\n",
       "Case_Number_1                0\n",
       "Case_Number_2                0\n",
       "original_order               0\n",
       "dtype: int64"
      ]
     },
     "execution_count": 913,
     "metadata": {},
     "output_type": "execute_result"
    }
   ],
   "source": [
    "shark.isnull().sum() # ME DOY CUENTA QUE YA SE HA REDUCUD"
   ]
  },
  {
   "cell_type": "code",
   "execution_count": 914,
   "id": "4036942a-b1bd-4e62-8e0f-5f59f5bf1a36",
   "metadata": {},
   "outputs": [
    {
     "data": {
      "text/plain": [
       "N          3334\n",
       "Y           808\n",
       "UNKNOWN      62\n",
       " N            7\n",
       "N             1\n",
       "#VALUE!       1\n",
       "n             1\n",
       "Name: Fatal_(Y/N), dtype: int64"
      ]
     },
     "execution_count": 914,
     "metadata": {},
     "output_type": "execute_result"
    }
   ],
   "source": [
    "shark['Fatal_(Y/N)'].value_counts()"
   ]
  },
  {
   "cell_type": "code",
   "execution_count": 915,
   "id": "ab9e3a93-ebb8-4ea8-b07c-25c979d7e5c2",
   "metadata": {
    "tags": []
   },
   "outputs": [],
   "source": [
    "shark_2 = shark.copy()"
   ]
  },
  {
   "cell_type": "code",
   "execution_count": 916,
   "id": "1e49ac10-f8c3-432a-b33f-90a8f4cd96f7",
   "metadata": {},
   "outputs": [],
   "source": [
    "shark_2['Fatal_(Y/N)'].fillna('UNKNOWN', inplace = True)"
   ]
  },
  {
   "cell_type": "code",
   "execution_count": 917,
   "id": "3198a66c-4f03-4056-b451-5d64bdbbc02d",
   "metadata": {},
   "outputs": [],
   "source": [
    "def cambiar_Fatal(Activity): \n",
    "    if Activity == 'N':\n",
    "        return Activity\n",
    "    if Activity == 'Y':\n",
    "        return Activity\n",
    "    if Activity == 'UNKNOWN':\n",
    "        return Activity\n",
    "    \n",
    "    if 'N' in Activity or 'n' in Activity:\n",
    "        return 'N'\n",
    "    \n",
    "    \n",
    "    \n",
    "\n",
    "    #if '4-Wheel' in Activity or 'All-Wheel' in Activity:\n",
    "    #    return 'All-Wheel Drive'\n",
    "    return 'UNKNOWN'"
   ]
  },
  {
   "cell_type": "code",
   "execution_count": 918,
   "id": "c3768039-e6a2-4bf8-9c2b-0bed5a529289",
   "metadata": {
    "tags": []
   },
   "outputs": [],
   "source": [
    "shark_2['Fatal_(Y/N)'] = shark_2['Fatal_(Y/N)'].apply(cambiar_Fatal)"
   ]
  },
  {
   "cell_type": "code",
   "execution_count": 919,
   "id": "fae81095-192f-40fd-9dc1-17a21d078829",
   "metadata": {},
   "outputs": [
    {
     "data": {
      "text/plain": [
       "N          3343\n",
       "Y           808\n",
       "UNKNOWN      67\n",
       "Name: Fatal_(Y/N), dtype: int64"
      ]
     },
     "execution_count": 919,
     "metadata": {},
     "output_type": "execute_result"
    }
   ],
   "source": [
    "shark_2['Fatal_(Y/N)'].value_counts() # REDUCIMOS A SOLO N , Y Y UNKNOWN"
   ]
  },
  {
   "cell_type": "code",
   "execution_count": 920,
   "id": "aafb2924-b641-44f5-864e-bf67832b318c",
   "metadata": {},
   "outputs": [],
   "source": [
    "shark = shark_2"
   ]
  },
  {
   "cell_type": "markdown",
   "id": "982c7d0a-8dfe-433b-9452-009e36323c7f",
   "metadata": {},
   "source": [
    "# RELLENAREMOS LAS COLUMNAS QUE TIENE POCOS NULL, CON UN STRING O VALOR DEACUERDO A LO QUE SOLICITA"
   ]
  },
  {
   "cell_type": "code",
   "execution_count": 852,
   "id": "44ccff77-b4d4-4265-9a08-03ae682552ff",
   "metadata": {
    "tags": []
   },
   "outputs": [
    {
     "data": {
      "text/plain": [
       "Case_Number                  0\n",
       "Date                         0\n",
       "Year                         0\n",
       "Type                         0\n",
       "Country                      0\n",
       "Area                        31\n",
       "Location                   109\n",
       "Activity                     0\n",
       "Name                        66\n",
       "Sex                          0\n",
       "Age                       1645\n",
       "Injury                      14\n",
       "Fatal_(Y/N)                  0\n",
       "Time                      1951\n",
       "Species                   1843\n",
       "Investigator_or_Source      10\n",
       "pdf                          0\n",
       "href_formula                 1\n",
       "href                         3\n",
       "Case_Number_1                0\n",
       "Case_Number_2                0\n",
       "original_order               0\n",
       "dtype: int64"
      ]
     },
     "execution_count": 852,
     "metadata": {},
     "output_type": "execute_result"
    }
   ],
   "source": [
    "shark.isnull().sum() # ME DOY CUENTA QUE YA SE HA REDUCUD"
   ]
  },
  {
   "cell_type": "code",
   "execution_count": 923,
   "id": "1db85b34-82fb-4dd4-9f11-7e6f4960d77c",
   "metadata": {},
   "outputs": [],
   "source": [
    "shark_2 = shark.copy()"
   ]
  },
  {
   "cell_type": "code",
   "execution_count": null,
   "id": "ec250446-a4d5-44fb-9212-9043beabf24d",
   "metadata": {},
   "outputs": [],
   "source": []
  },
  {
   "cell_type": "code",
   "execution_count": 925,
   "id": "f2576e70-7aea-4b45-a4ff-29703726e5e5",
   "metadata": {
    "tags": []
   },
   "outputs": [],
   "source": [
    "shark_2.Area.fillna('SIN AREA', inplace = True)"
   ]
  },
  {
   "cell_type": "code",
   "execution_count": 926,
   "id": "184039a1-75b9-43c4-896a-1f62e0f3dfde",
   "metadata": {},
   "outputs": [],
   "source": [
    "shark_2.Name.fillna('Anonymous', inplace = True)"
   ]
  },
  {
   "cell_type": "code",
   "execution_count": null,
   "id": "c6dacc12-938c-4d8c-8861-519dc36d0192",
   "metadata": {},
   "outputs": [],
   "source": []
  },
  {
   "cell_type": "code",
   "execution_count": 927,
   "id": "21bce0d7-9f23-4336-89a1-8a76957aad1d",
   "metadata": {},
   "outputs": [
    {
     "data": {
      "text/plain": [
       "male              306\n",
       "Anonymous          74\n",
       "female             61\n",
       "boat               14\n",
       "boy                 8\n",
       "                 ... \n",
       "Jesse Spencer       1\n",
       "Joel A. Borges      1\n",
       "Janet Ferguson      1\n",
       "Taylor Warnock      1\n",
       "Ahmun               1\n",
       "Name: Name, Length: 3684, dtype: int64"
      ]
     },
     "execution_count": 927,
     "metadata": {},
     "output_type": "execute_result"
    }
   ],
   "source": [
    "shark_2.Name.value_counts()"
   ]
  },
  {
   "cell_type": "code",
   "execution_count": 928,
   "id": "0ff7cb1a-f211-47ac-bd9a-d73e2d9a9a70",
   "metadata": {},
   "outputs": [
    {
     "data": {
      "text/plain": [
       "Florida                               990\n",
       "New South Wales                       468\n",
       "Queensland                            300\n",
       "Hawaii                                282\n",
       "California                            276\n",
       "                                     ... \n",
       "North & South Carolina                  1\n",
       "Florida                                 1\n",
       "Near Bougainville (North Solomons)      1\n",
       "Northern District                       1\n",
       "Between New Ireland & New Britain       1\n",
       "Name: Area, Length: 112, dtype: int64"
      ]
     },
     "execution_count": 928,
     "metadata": {},
     "output_type": "execute_result"
    }
   ],
   "source": [
    "shark_2.Area.value_counts()"
   ]
  },
  {
   "cell_type": "code",
   "execution_count": 934,
   "id": "9012dc2b-1263-40b3-a36e-05320c6bc3ad",
   "metadata": {},
   "outputs": [
    {
     "data": {
      "text/plain": [
       "New Smyrna Beach, Volusia County                  157\n",
       "Daytona Beach, Volusia County                      28\n",
       "Myrtle Beach, Horry County                         17\n",
       "Ponce Inlet, Volusia County                        17\n",
       "Melbourne Beach, Brevard County                    15\n",
       "                                                 ... \n",
       "Gleneden Beach                                      1\n",
       "Whale Beach                                         1\n",
       "Hole-in-the Wall                                    1\n",
       "Wreck of the Navy Barge, 22 miles SE of Rudee       1\n",
       "Ocracoke Inlet                                      1\n",
       "Name: Location, Length: 2795, dtype: int64"
      ]
     },
     "execution_count": 934,
     "metadata": {},
     "output_type": "execute_result"
    }
   ],
   "source": [
    "shark_2.Location.value_counts()"
   ]
  },
  {
   "cell_type": "code",
   "execution_count": 936,
   "id": "93b59c96-69bb-414e-86cf-663a17219aa4",
   "metadata": {},
   "outputs": [],
   "source": [
    "shark_2.Location.fillna('Sin ubicacion', inplace = True)"
   ]
  },
  {
   "cell_type": "code",
   "execution_count": 938,
   "id": "3ea0bbaf-ebec-4a0e-a009-a17b58fa05ae",
   "metadata": {},
   "outputs": [
    {
     "data": {
      "text/plain": [
       "Case_Number                  0\n",
       "Date                         0\n",
       "Year                         0\n",
       "Type                         0\n",
       "Country                      0\n",
       "Area                         0\n",
       "Location                     0\n",
       "Activity                     0\n",
       "Name                         0\n",
       "Sex                          0\n",
       "Age                       1645\n",
       "Injury                      14\n",
       "Fatal_(Y/N)                  0\n",
       "Time                      1951\n",
       "Species                   1843\n",
       "Investigator_or_Source      10\n",
       "pdf                          0\n",
       "href_formula                 1\n",
       "href                         3\n",
       "Case_Number_1                0\n",
       "Case_Number_2                0\n",
       "original_order               0\n",
       "dtype: int64"
      ]
     },
     "execution_count": 938,
     "metadata": {},
     "output_type": "execute_result"
    }
   ],
   "source": [
    "shark_2.isnull().sum() # ME DOY CUENTA QUE YA SE HA REDUCUD"
   ]
  },
  {
   "cell_type": "code",
   "execution_count": 944,
   "id": "1754f88a-ebbe-4870-80aa-991fd15a4a31",
   "metadata": {
    "tags": []
   },
   "outputs": [],
   "source": []
  },
  {
   "cell_type": "code",
   "execution_count": 947,
   "id": "7c264681-d01a-40ca-a1c8-172e3df61bdc",
   "metadata": {
    "tags": []
   },
   "outputs": [],
   "source": [
    "shark_2.Injury = shark_2.Injury.str.lower()"
   ]
  },
  {
   "cell_type": "code",
   "execution_count": 952,
   "id": "6189bdd5-d8d6-41f7-b8e1-55fb40edcefa",
   "metadata": {},
   "outputs": [],
   "source": [
    "shark_2.Injury.fillna('no details', inplace = True)"
   ]
  },
  {
   "cell_type": "code",
   "execution_count": 999,
   "id": "e603ec0c-6967-4e26-a05d-70408f89ef4d",
   "metadata": {
    "tags": []
   },
   "outputs": [],
   "source": [
    "def cambiar_Injury(Activity): \n",
    "    if Activity == 'fatal':\n",
    "        return Activity\n",
    "    if Activity == 'survived':\n",
    "        return Activity\n",
    "    #if Activity == 'UNKNOWN':\n",
    "    #    return Activity\n",
    "    \n",
    "    #if 'N' in Activity or 'n' in Activity:\n",
    "     #   return 'N'\n",
    "    \n",
    "    if 'survived' in Activity:\n",
    "        return 'survived'\n",
    "    if 'bit' in Activity:\n",
    "        return 'bitten'\n",
    "    if 'fatal' in Activity:\n",
    "        return 'fatal'\n",
    "    if 'injur' in Activity:\n",
    "        return 'injury'\n",
    "    if 'lacera' in Activity:\n",
    "        return 'lacerations'\n",
    "    if 'kill' in Activity:\n",
    "        return 'fatal'\n",
    "    \n",
    "    if 'severed' in Activity:\n",
    "        return 'severed'\n",
    "    if 'puncture' in Activity:\n",
    "        return 'injury'\n",
    "    \n",
    "    if 'abrasion' in Activity:\n",
    "        return 'lacerations'\n",
    "    \n",
    "    #if '4-Wheel' in Activity or 'All-Wheel' in Activity:\n",
    "    #    return 'All-Wheel Drive'\n",
    "    return 'Otros'"
   ]
  },
  {
   "cell_type": "code",
   "execution_count": 1000,
   "id": "50c48db9-7877-4f81-b048-f6960fa5f472",
   "metadata": {},
   "outputs": [],
   "source": [
    "shark_2['Injury'] = shark_2['Injury'].apply(cambiar_Injury)"
   ]
  },
  {
   "cell_type": "code",
   "execution_count": 1001,
   "id": "86869a27-3fe5-4c4c-bfb4-6d1edbb63325",
   "metadata": {},
   "outputs": [
    {
     "data": {
      "text/plain": [
       "bitten         1214\n",
       "lacerations    1058\n",
       "injury          884\n",
       "fatal           526\n",
       "Otros           421\n",
       "survived         58\n",
       "severed          57\n",
       "Name: Injury, dtype: int64"
      ]
     },
     "execution_count": 1001,
     "metadata": {},
     "output_type": "execute_result"
    }
   ],
   "source": [
    "shark_2.Injury.value_counts()"
   ]
  },
  {
   "cell_type": "code",
   "execution_count": 1002,
   "id": "b9473a53-67c5-40bf-97ee-44311fefe2bf",
   "metadata": {},
   "outputs": [
    {
     "data": {
      "text/plain": [
       "(4218, 22)"
      ]
     },
     "execution_count": 1002,
     "metadata": {},
     "output_type": "execute_result"
    }
   ],
   "source": [
    "shark_2.shape"
   ]
  },
  {
   "cell_type": "code",
   "execution_count": null,
   "id": "5d74d4ca-1544-4117-bf06-6f7af773958a",
   "metadata": {},
   "outputs": [],
   "source": [
    "\n",
    "Time                      1951\n",
    "Species                   1843\n",
    "Investigator_or_Source      10\n",
    "pdf                          0\n",
    "href_formula                 1\n",
    "href                         3"
   ]
  },
  {
   "cell_type": "code",
   "execution_count": 1003,
   "id": "7f29a1e1-9761-4dbb-940f-57de684688be",
   "metadata": {},
   "outputs": [
    {
     "data": {
      "text/plain": [
       "0                             Orlando Sentinel, 9/19/2016\n",
       "1                             Orlando Sentinel, 9/19/2016\n",
       "2                             Orlando Sentinel, 9/19/2016\n",
       "3                                      The Age, 9/18/2016\n",
       "4                                      The Age, 9/16/2016\n",
       "                              ...                        \n",
       "5985    NY Sun, 9/9/1906, referring to account by Loui...\n",
       "5986    L. Becke in New York Sun, 9/9/1906; L. Schultz...\n",
       "5987                     H. Taunton; N. Bartlett,  p. 234\n",
       "5988                H. Taunton; N. Bartlett,  pp. 233-234\n",
       "5989                 F. Schwartz, p.23; C. Creswell, GSAF\n",
       "Name: Investigator_or_Source, Length: 4218, dtype: object"
      ]
     },
     "execution_count": 1003,
     "metadata": {},
     "output_type": "execute_result"
    }
   ],
   "source": [
    "shark_2.Investigator_or_Source"
   ]
  },
  {
   "cell_type": "code",
   "execution_count": 1004,
   "id": "bf1bd1f5-ca68-4390-8444-a4e67d685f8c",
   "metadata": {},
   "outputs": [],
   "source": [
    "shark_2.Investigator_or_Source.fillna('Sin INFO', inplace = True)"
   ]
  },
  {
   "cell_type": "code",
   "execution_count": 1006,
   "id": "5482187d-5a06-4b58-abe9-68ab779019f6",
   "metadata": {
    "tags": []
   },
   "outputs": [
    {
     "data": {
      "text/plain": [
       "S. Petersohn, GSAF                                                             82\n",
       "C. Creswell, GSAF                                                              81\n",
       "R. Collier                                                                     53\n",
       "T. Peake, GSAF                                                                 48\n",
       "M. Levine, GSAF                                                                39\n",
       "                                                                               ..\n",
       "Deseret News, 8/19/1993                                                         1\n",
       "G. Balazs; T. Allen, p.117; Hawaii Department of Land and Natural Resources     1\n",
       "R. Collier, p.174                                                               1\n",
       "Charlotte Observer, 8/19/1993, p.2C; F. Schwartz, p.23                          1\n",
       "F. Schwartz, p.23; C. Creswell, GSAF                                            1\n",
       "Name: Investigator_or_Source, Length: 3449, dtype: int64"
      ]
     },
     "execution_count": 1006,
     "metadata": {},
     "output_type": "execute_result"
    }
   ],
   "source": [
    "shark_2.Investigator_or_Source.value_counts()"
   ]
  },
  {
   "cell_type": "markdown",
   "id": "08bd5f3d-5caf-46fc-9641-9d3a84e68010",
   "metadata": {},
   "source": [
    "# VAMOS RELLENAR Y REVISAR LAS TAVLAS HREF Y HREF_FORMULA"
   ]
  },
  {
   "cell_type": "code",
   "execution_count": null,
   "id": "7b3f219c-82f4-4717-9c64-9f444687e948",
   "metadata": {},
   "outputs": [],
   "source": []
  },
  {
   "cell_type": "code",
   "execution_count": null,
   "id": "f904d79a-78dd-478b-94bd-6ac781c3ca39",
   "metadata": {},
   "outputs": [],
   "source": []
  },
  {
   "cell_type": "code",
   "execution_count": 1012,
   "id": "437a426c-ac52-47b8-9c44-2d0740635abe",
   "metadata": {},
   "outputs": [],
   "source": [
    "shark= shark_2"
   ]
  },
  {
   "cell_type": "code",
   "execution_count": 1091,
   "id": "0e3ac4b6-ea20-404f-8f2a-1c1aad91ac50",
   "metadata": {},
   "outputs": [],
   "source": [
    "shark_2 = shark.copy() # GUARDAMOS ANTES DE INCIAR   "
   ]
  },
  {
   "cell_type": "code",
   "execution_count": null,
   "id": "1dd2eca6-292e-4876-b226-437ebf9b43c4",
   "metadata": {
    "tags": []
   },
   "outputs": [],
   "source": [
    "#shark_2.drop_duplicates(subset = ['href_formula','href']).shape # PROBAMOS EL DROP DUPLICATE PERO NOS DAMOS CUENTA QUE AHI LINEAS QUE NO SON IGUALES"
   ]
  },
  {
   "cell_type": "code",
   "execution_count": 1092,
   "id": "27f7e9d5-8c8b-4cae-b50a-5b9a6c360eaf",
   "metadata": {
    "tags": []
   },
   "outputs": [],
   "source": [
    "shark_2.href.fillna('Sin_href', inplace = True) # PRIMERO LLENAMOS LOS VACIOS\n",
    "shark_2.href_formula.fillna('Sin_href', inplace = True)"
   ]
  },
  {
   "cell_type": "code",
   "execution_count": 1093,
   "id": "ede0844f-5b0e-4ec3-9532-3cec7b68565b",
   "metadata": {},
   "outputs": [],
   "source": [
    "shark_2.href = shark_2.href.str.replace(' ','%20') # LOS LINKS ES COLOCAMOS EL %20 PARA LOS ESPACIOS\n",
    "shark_2.href_formula = shark_2.href_formula.str.replace(' ','%20')"
   ]
  },
  {
   "cell_type": "code",
   "execution_count": 1094,
   "id": "71e9041a-ecc7-4a5c-8a07-8ce447588971",
   "metadata": {},
   "outputs": [],
   "source": [
    "lista_href = shark_2[shark_2.href != shark_2.href_formula] # OBTENEMOS LAS FILAS QUE NO SON IGUALES EN AMBAS COMLUMNAS"
   ]
  },
  {
   "cell_type": "code",
   "execution_count": null,
   "id": "dda38b42-4cb8-47dd-8589-94f6fd9889ea",
   "metadata": {},
   "outputs": [],
   "source": []
  },
  {
   "cell_type": "code",
   "execution_count": 1095,
   "id": "c6906a8c-d572-4d6a-a152-14b072631a22",
   "metadata": {},
   "outputs": [
    {
     "data": {
      "text/plain": [
       "61      http://sharkattackfile.net/spreadsheets/pdf_di...\n",
       "114     http://sharkattackfile.net/spreadsheets/pdf_di...\n",
       "134     http://sharkattackfile.net/spreadsheets/pdf_di...\n",
       "180     http://sharkattackfile.net/spreadsheets/pdf_di...\n",
       "193                                              Sin_href\n",
       "232     http://sharkattackfile.net/spreadsheets/pdf_di...\n",
       "262     http://sharkattackfile.net/spreadsheets/pdf_di...\n",
       "263     http://sharkattackfile.net/spreadsheets/pdf_di...\n",
       "264     http://sharkattackfile.net/spreadsheets/pdf_di...\n",
       "271     http://sharkattackfile.net/spreadsheets/pdf_di...\n",
       "272     http://sharkattackfile.net/spreadsheets/pdf_di...\n",
       "293     http://sharkattackfile.net/spreadsheets/pdf_di...\n",
       "323     http://sharkattackfile.net/spreadsheets/pdf_di...\n",
       "347     http://sharkattackfile.net/spreadsheets/pdf_di...\n",
       "362     http://sharkattackfile.net/spreadsheets/pdf_di...\n",
       "363     http://sharkattackfile.net/spreadsheets/pdf_di...\n",
       "364     http://sharkattackfile.net/spreadsheets/pdf_di...\n",
       "377     http://sharkattackfile.net/spreadsheets/pdf_di...\n",
       "378     http://sharkattackfile.net/spreadsheets/pdf_di...\n",
       "380     http://sharkattackfile.net/spreadsheets/pdf_di...\n",
       "381     http://sharkattackfile.net/spreadsheets/pdf_di...\n",
       "382     http://sharkattackfile.net/spreadsheets/pdf_di...\n",
       "383     http://sharkattackfile.net/spreadsheets/pdf_di...\n",
       "448     http://sharkattackfile.net/spreadsheets/pdf_di...\n",
       "449     http://sharkattackfile.net/spreadsheets/pdf_di...\n",
       "823     http://sharkattackfile.net/spreadsheets/pdf_di...\n",
       "2274                                             Sin_href\n",
       "2477    http://sharkattackfile.net/spreadsheets/pdf_di...\n",
       "3019    http://sharkattackfile.net/spreadsheets/pdf_di...\n",
       "3603    http://sharkattackfile.net/spreadsheets/pdf_di...\n",
       "4642    http://sharkattackfile.net/spreadsheets/pdf_di...\n",
       "5317    http://sharkattackfile.net/spreadsheets/pdf_di...\n",
       "5686                                             Sin_href\n",
       "Name: href, dtype: object"
      ]
     },
     "execution_count": 1095,
     "metadata": {},
     "output_type": "execute_result"
    }
   ],
   "source": [
    "lista_href['href']"
   ]
  },
  {
   "cell_type": "code",
   "execution_count": null,
   "id": "82b7cf58-5282-4f8a-98f8-4f0106b7c235",
   "metadata": {},
   "outputs": [],
   "source": []
  },
  {
   "cell_type": "code",
   "execution_count": 1097,
   "id": "a952f20b-e028-4cd4-b37b-f8b558d51180",
   "metadata": {},
   "outputs": [
    {
     "data": {
      "text/plain": [
       "[61,\n",
       " 114,\n",
       " 134,\n",
       " 180,\n",
       " 193,\n",
       " 232,\n",
       " 262,\n",
       " 263,\n",
       " 264,\n",
       " 271,\n",
       " 272,\n",
       " 293,\n",
       " 323,\n",
       " 347,\n",
       " 362,\n",
       " 363,\n",
       " 364,\n",
       " 377,\n",
       " 378,\n",
       " 380,\n",
       " 381,\n",
       " 382,\n",
       " 383,\n",
       " 448,\n",
       " 449,\n",
       " 823,\n",
       " 2274,\n",
       " 2477,\n",
       " 3019,\n",
       " 3603,\n",
       " 4642,\n",
       " 5317,\n",
       " 5686]"
      ]
     },
     "execution_count": 1097,
     "metadata": {},
     "output_type": "execute_result"
    }
   ],
   "source": [
    "lista_href_3 = list(lista_href['href'].index) # GUARDAMOS LAS FILAS PARA POSTERIOR USAR LAS\n",
    "lista_href_3"
   ]
  },
  {
   "cell_type": "code",
   "execution_count": null,
   "id": "e01f2090-b05c-4a54-b165-2e83bd0ac1b4",
   "metadata": {},
   "outputs": [],
   "source": []
  },
  {
   "cell_type": "code",
   "execution_count": 1132,
   "id": "e0ed7ae3-2b6d-4453-ba89-f154b78c5c62",
   "metadata": {},
   "outputs": [],
   "source": [
    "shark_3 = shark_2.copy() # GUARDAMOS EN OTRO LINK PARA PRUEBAS"
   ]
  },
  {
   "cell_type": "code",
   "execution_count": null,
   "id": "4003cbb1-4dcc-4ffe-a0ff-22d7b4e9664d",
   "metadata": {},
   "outputs": [],
   "source": []
  },
  {
   "cell_type": "code",
   "execution_count": null,
   "id": "52ff56f4-644a-4c8b-9767-0159f868bc16",
   "metadata": {},
   "outputs": [],
   "source": []
  },
  {
   "cell_type": "code",
   "execution_count": null,
   "id": "b6106a1e-f308-424a-8f22-6625f0dbdf2e",
   "metadata": {},
   "outputs": [],
   "source": []
  },
  {
   "cell_type": "code",
   "execution_count": 1102,
   "id": "a39d3e54-08eb-40f5-aa67-6dc6f456f295",
   "metadata": {
    "tags": []
   },
   "outputs": [],
   "source": [
    "import requests\n",
    "from bs4 import BeautifulSoup"
   ]
  },
  {
   "cell_type": "markdown",
   "id": "d11f34f9-b5a8-4338-bcb3-fcafabca512b",
   "metadata": {},
   "source": [
    "# en el programa que viene vamos a cargar los links de la lista de links que difiere, y vamos a realizar un request para ver si el link es funcional o no, vamos a guardar los links funciones en ambatas tablas para que ahora si sean iguales\n",
    "# pero en el caso de que los links esten caidos, los vamos a guardar con una comentario de link caido, esto lo guardaremos en ambas columnas y para despues solo quedarnos con una de ellas."
   ]
  },
  {
   "cell_type": "code",
   "execution_count": 1133,
   "id": "ff638405-9dc8-4b35-8daf-fd9d965caccc",
   "metadata": {},
   "outputs": [],
   "source": [
    "for item in lista_href_3:\n",
    "    link= shark_3.href_formula[item]\n",
    "    link_2 = shark_3.href[item]\n",
    "    try:\n",
    "        response_link = requests.get(link) # REQUEST DE LA PAGINA\n",
    "        if str(response_link) == '<Response [200]>':\n",
    "            #print('href_formula    link bueno',link)\n",
    "            shark_3.href = link\n",
    "        else:\n",
    "            response_link_2 = requests.get(link_2) # REQUEST DE LA PAGINA\n",
    "            if str(response_link_2) == '<Response [200]>':\n",
    "                #print('href    link bueno',link_2)\n",
    "                shark_3.href_formula = link_2\n",
    "    except:\n",
    "        try:\n",
    "            response_link_2 = requests.get(link_2) # REQUEST DE LA PAGINA\n",
    "            if str(response_link_2) == '<Response [200]>':\n",
    "                shark_3.href_formula = link_2\n",
    "                #print('href    link bueno',link_2)\n",
    "        except:\n",
    "            if 'http' in link:\n",
    "                #print('links malos ',link)\n",
    "                shark_3.href = 'LINK_CAIDO____'+link\n",
    "            if 'http' in link_2:\n",
    "                #print('links malos ',link_2)\n",
    "                shark_3.href_formula = 'LINK_CAIDO____'+link_2"
   ]
  },
  {
   "cell_type": "code",
   "execution_count": 1134,
   "id": "069e3671-e5ed-430b-bab3-2b848aa11144",
   "metadata": {},
   "outputs": [
    {
     "data": {
      "text/plain": [
       "'http://sharkattackfile.net/spreadsheets/pdf_directory/2016.05.21.a-Girl.pdf'"
      ]
     },
     "execution_count": 1134,
     "metadata": {},
     "output_type": "execute_result"
    }
   ],
   "source": [
    "shark_3.href[61] # VERIFICAMOS UNA LINA PARA REVISAR QUE YA SON IGUALES"
   ]
  },
  {
   "cell_type": "code",
   "execution_count": 1135,
   "id": "9ff9eb7f-c7e4-4a97-9e18-819dbab5a7ff",
   "metadata": {},
   "outputs": [
    {
     "data": {
      "text/plain": [
       "'http://sharkattackfile.net/spreadsheets/pdf_directory/2016.05.21.a-Girl.pdf'"
      ]
     },
     "execution_count": 1135,
     "metadata": {},
     "output_type": "execute_result"
    }
   ],
   "source": [
    "shark_3.href_formula[61] # VERIFICAMOS UNA LINA PARA REVISAR QUE YA SON IGUALES"
   ]
  },
  {
   "cell_type": "code",
   "execution_count": 1140,
   "id": "6477b4bc-44a5-4360-866a-9956d450a049",
   "metadata": {},
   "outputs": [
    {
     "data": {
      "text/plain": [
       "(4218, 22)"
      ]
     },
     "execution_count": 1140,
     "metadata": {},
     "output_type": "execute_result"
    }
   ],
   "source": [
    "shark_3.shape # REVISAMOS LA DIMENCION ANTES DE DROPEAR"
   ]
  },
  {
   "cell_type": "code",
   "execution_count": 1143,
   "id": "71229ad2-2b83-4ce0-9900-ac75275cbae4",
   "metadata": {},
   "outputs": [],
   "source": [
    "shark_3 = shark_3.T.drop_duplicates().T # se elimina una columan duplicada "
   ]
  },
  {
   "cell_type": "code",
   "execution_count": 1145,
   "id": "a3f969d4-6e9a-4665-9481-af27e0c7e2a0",
   "metadata": {
    "tags": []
   },
   "outputs": [
    {
     "data": {
      "text/plain": [
       "(4218, 21)"
      ]
     },
     "execution_count": 1145,
     "metadata": {},
     "output_type": "execute_result"
    }
   ],
   "source": [
    "shark_3.shape"
   ]
  },
  {
   "cell_type": "code",
   "execution_count": 1146,
   "id": "ae7fa3ab-19ae-4234-9ab8-c79d7363c853",
   "metadata": {
    "tags": []
   },
   "outputs": [],
   "source": [
    "shark = shark_3"
   ]
  },
  {
   "cell_type": "code",
   "execution_count": 1151,
   "id": "53bb2af9-3404-4c25-ae8f-6acdda5d30da",
   "metadata": {},
   "outputs": [
    {
     "data": {
      "text/plain": [
       "Case_Number                  0\n",
       "Date                         0\n",
       "Year                         0\n",
       "Type                         0\n",
       "Country                      0\n",
       "Area                         0\n",
       "Location                     0\n",
       "Activity                     0\n",
       "Name                         0\n",
       "Sex                          0\n",
       "Age                       1645\n",
       "Injury                       0\n",
       "Fatal_(Y/N)                  0\n",
       "Time                      1951\n",
       "Species                   1843\n",
       "Investigator_or_Source       0\n",
       "pdf                          0\n",
       "href_formula                 0\n",
       "Case_Number_1                0\n",
       "Case_Number_2                0\n",
       "original_order               0\n",
       "dtype: int64"
      ]
     },
     "execution_count": 1151,
     "metadata": {},
     "output_type": "execute_result"
    }
   ],
   "source": [
    "shark.isnull().sum() # ME DOY CUENTA QUE YA SE HA REDUCUD"
   ]
  },
  {
   "cell_type": "code",
   "execution_count": 1177,
   "id": "9ef9bf66-6259-433d-ae24-94ea903348a1",
   "metadata": {
    "tags": []
   },
   "outputs": [],
   "source": [
    "lista_time = list(shark.Time.value_counts().index)\n"
   ]
  },
  {
   "cell_type": "markdown",
   "id": "e16e641c-701d-4b3b-8c00-1a07ba78795f",
   "metadata": {},
   "source": [
    "# como aun tenemos varios nullos, se les realizara un firltro , en donde eliminaremos las filas donde AGE, TIME Y SPECIES TENGAN NULL"
   ]
  },
  {
   "cell_type": "code",
   "execution_count": 1264,
   "id": "580ad5e1-9c13-4984-855d-3ae267d07dbc",
   "metadata": {
    "tags": []
   },
   "outputs": [],
   "source": [
    "shark_3 = shark_2.drop_duplicates(subset = ['Age', 'Time', 'Species'], keep = 'last')"
   ]
  },
  {
   "cell_type": "code",
   "execution_count": 1265,
   "id": "e262d777-90e4-488d-8c07-46b18b768693",
   "metadata": {},
   "outputs": [
    {
     "data": {
      "text/plain": [
       "(2867, 21)"
      ]
     },
     "execution_count": 1265,
     "metadata": {},
     "output_type": "execute_result"
    }
   ],
   "source": [
    "shark_3.shape # se realiza un shape para ver que dimension nos queda la tabla"
   ]
  },
  {
   "cell_type": "code",
   "execution_count": 1260,
   "id": "5bbffe4a-447b-4e7f-af12-96406f0efa67",
   "metadata": {
    "tags": []
   },
   "outputs": [],
   "source": [
    "shark_3 = shark"
   ]
  },
  {
   "cell_type": "code",
   "execution_count": 1261,
   "id": "c89094be-1f93-48a5-bd9b-6c369880fd3d",
   "metadata": {
    "tags": []
   },
   "outputs": [
    {
     "data": {
      "text/plain": [
       "4218"
      ]
     },
     "execution_count": 1261,
     "metadata": {},
     "output_type": "execute_result"
    }
   ],
   "source": [
    "len(shark)"
   ]
  },
  {
   "cell_type": "code",
   "execution_count": 1266,
   "id": "4d4a11ed-8be7-4425-85a7-341d0ad36c90",
   "metadata": {},
   "outputs": [
    {
     "data": {
      "text/plain": [
       "19         95\n",
       "18         92\n",
       "17         90\n",
       "15         87\n",
       "16         85\n",
       "           ..\n",
       "Elderly     1\n",
       "mid-20s     1\n",
       "Ca. 33      1\n",
       "            1\n",
       "young       1\n",
       "Name: Age, Length: 125, dtype: int64"
      ]
     },
     "execution_count": 1266,
     "metadata": {},
     "output_type": "execute_result"
    }
   ],
   "source": [
    "shark_3.Age.value_counts()"
   ]
  },
  {
   "cell_type": "code",
   "execution_count": 1267,
   "id": "08930a87-675f-4d81-8fc0-c64cb92954c9",
   "metadata": {},
   "outputs": [
    {
     "data": {
      "text/plain": [
       "Afternoon    101\n",
       "11h00         86\n",
       "14h00         72\n",
       "12h00         71\n",
       "Morning       66\n",
       "            ... \n",
       "16h14          1\n",
       "17h11          1\n",
       "00h30          1\n",
       "14h37          1\n",
       "01h50          1\n",
       "Name: Time, Length: 316, dtype: int64"
      ]
     },
     "execution_count": 1267,
     "metadata": {},
     "output_type": "execute_result"
    }
   ],
   "source": [
    "shark_3.Time.value_counts()"
   ]
  },
  {
   "cell_type": "code",
   "execution_count": 1268,
   "id": "92215ccd-5e71-4823-9b2b-6ea38407404e",
   "metadata": {
    "tags": []
   },
   "outputs": [
    {
     "name": "stderr",
     "output_type": "stream",
     "text": [
      "C:\\Users\\sistemas\\AppData\\Local\\Temp\\ipykernel_1620\\697857519.py:1: SettingWithCopyWarning: \n",
      "A value is trying to be set on a copy of a slice from a DataFrame\n",
      "\n",
      "See the caveats in the documentation: https://pandas.pydata.org/pandas-docs/stable/user_guide/indexing.html#returning-a-view-versus-a-copy\n",
      "  shark_3.Age.fillna('0', inplace = True)\n"
     ]
    }
   ],
   "source": [
    "shark_3.Age.fillna('0', inplace = True)"
   ]
  },
  {
   "cell_type": "markdown",
   "id": "ece68f00-e10f-41b6-ae1a-07c0d98d2920",
   "metadata": {},
   "source": [
    "# la tabla de edad, se rebisara dato por dato, en donde se pueda guardar como entero, en donde no se guardara como 0."
   ]
  },
  {
   "cell_type": "code",
   "execution_count": 1269,
   "id": "b54bc48d-1542-4192-b30d-726fcea6a4ff",
   "metadata": {},
   "outputs": [
    {
     "name": "stderr",
     "output_type": "stream",
     "text": [
      "C:\\Users\\sistemas\\AppData\\Local\\Temp\\ipykernel_1620\\1692768396.py:4: SettingWithCopyWarning: \n",
      "A value is trying to be set on a copy of a slice from a DataFrame\n",
      "\n",
      "See the caveats in the documentation: https://pandas.pydata.org/pandas-docs/stable/user_guide/indexing.html#returning-a-view-versus-a-copy\n",
      "  shark_3.Age[item] = edad\n",
      "C:\\Users\\sistemas\\AppData\\Local\\Temp\\ipykernel_1620\\1692768396.py:6: SettingWithCopyWarning: \n",
      "A value is trying to be set on a copy of a slice from a DataFrame\n",
      "\n",
      "See the caveats in the documentation: https://pandas.pydata.org/pandas-docs/stable/user_guide/indexing.html#returning-a-view-versus-a-copy\n",
      "  shark_3.Age[item] = 0\n"
     ]
    }
   ],
   "source": [
    "for item in list(shark_3.index):\n",
    "    try:\n",
    "        edad = int(shark_3.Age[item])\n",
    "        shark_3.Age[item] = edad\n",
    "    except:\n",
    "        shark_3.Age[item] = 0"
   ]
  },
  {
   "cell_type": "code",
   "execution_count": 1270,
   "id": "e68da882-d49a-48e1-8f94-699050ca44cf",
   "metadata": {},
   "outputs": [
    {
     "data": {
      "text/plain": [
       "0     704\n",
       "19     95\n",
       "18     92\n",
       "17     90\n",
       "15     87\n",
       "     ... \n",
       "84      1\n",
       "73      1\n",
       "87      1\n",
       "67      1\n",
       "78      1\n",
       "Name: Age, Length: 77, dtype: int64"
      ]
     },
     "execution_count": 1270,
     "metadata": {},
     "output_type": "execute_result"
    }
   ],
   "source": [
    "shark_3.Age.value_counts()"
   ]
  },
  {
   "cell_type": "code",
   "execution_count": 1272,
   "id": "d6fa7f7d-a7d6-4959-9650-b9372e3777f7",
   "metadata": {},
   "outputs": [
    {
     "name": "stdout",
     "output_type": "stream",
     "text": [
      "<class 'pandas.core.frame.DataFrame'>\n",
      "Int64Index: 2867 entries, 1 to 5989\n",
      "Data columns (total 21 columns):\n",
      " #   Column                  Non-Null Count  Dtype \n",
      "---  ------                  --------------  ----- \n",
      " 0   Case_Number             2867 non-null   object\n",
      " 1   Date                    2867 non-null   object\n",
      " 2   Year                    2867 non-null   object\n",
      " 3   Type                    2867 non-null   object\n",
      " 4   Country                 2867 non-null   object\n",
      " 5   Area                    2867 non-null   object\n",
      " 6   Location                2867 non-null   object\n",
      " 7   Activity                2867 non-null   object\n",
      " 8   Name                    2867 non-null   object\n",
      " 9   Sex                     2867 non-null   object\n",
      " 10  Age                     2867 non-null   object\n",
      " 11  Injury                  2867 non-null   object\n",
      " 12  Fatal_(Y/N)             2867 non-null   object\n",
      " 13  Time                    2072 non-null   object\n",
      " 14  Species                 2204 non-null   object\n",
      " 15  Investigator_or_Source  2867 non-null   object\n",
      " 16  pdf                     2867 non-null   object\n",
      " 17  href_formula            2867 non-null   object\n",
      " 18  Case_Number_1           2867 non-null   object\n",
      " 19  Case_Number_2           2867 non-null   object\n",
      " 20  original_order          2867 non-null   object\n",
      "dtypes: object(21)\n",
      "memory usage: 557.3+ KB\n"
     ]
    }
   ],
   "source": [
    "shark_3.info()"
   ]
  },
  {
   "cell_type": "code",
   "execution_count": 1273,
   "id": "7623b285-8fff-42b1-b615-f9c2c1139165",
   "metadata": {
    "tags": []
   },
   "outputs": [
    {
     "data": {
      "text/plain": [
       "Case_Number                 0\n",
       "Date                        0\n",
       "Year                        0\n",
       "Type                        0\n",
       "Country                     0\n",
       "Area                        0\n",
       "Location                    0\n",
       "Activity                    0\n",
       "Name                        0\n",
       "Sex                         0\n",
       "Age                         0\n",
       "Injury                      0\n",
       "Fatal_(Y/N)                 0\n",
       "Time                      795\n",
       "Species                   663\n",
       "Investigator_or_Source      0\n",
       "pdf                         0\n",
       "href_formula                0\n",
       "Case_Number_1               0\n",
       "Case_Number_2               0\n",
       "original_order              0\n",
       "dtype: int64"
      ]
     },
     "execution_count": 1273,
     "metadata": {},
     "output_type": "execute_result"
    }
   ],
   "source": [
    "shark_3.isnull().sum() # ME DOY CUENTA QUE YA SE HA REDUCUD"
   ]
  },
  {
   "cell_type": "markdown",
   "id": "1ec9cffa-1d7e-4767-8d89-b8767006e54e",
   "metadata": {},
   "source": [
    "# vamos a remplazar las horarios de 11hr00 a 11:00:00, para el caso de querer cambiarlo a time, sin embargo no seria conveniente debido a que solo cuenta con hora"
   ]
  },
  {
   "cell_type": "code",
   "execution_count": 1274,
   "id": "a5944263-8f46-4869-8807-a7791f280991",
   "metadata": {
    "tags": []
   },
   "outputs": [
    {
     "name": "stderr",
     "output_type": "stream",
     "text": [
      "C:\\Users\\sistemas\\AppData\\Local\\Temp\\ipykernel_1620\\450696793.py:1: SettingWithCopyWarning: \n",
      "A value is trying to be set on a copy of a slice from a DataFrame\n",
      "\n",
      "See the caveats in the documentation: https://pandas.pydata.org/pandas-docs/stable/user_guide/indexing.html#returning-a-view-versus-a-copy\n",
      "  shark_3.Time.fillna('00:00:00', inplace = True)\n"
     ]
    }
   ],
   "source": [
    "shark_3.Time.fillna('00:00:00', inplace = True)"
   ]
  },
  {
   "cell_type": "code",
   "execution_count": null,
   "id": "e741fb43-4072-45b0-9815-a347ade06d29",
   "metadata": {},
   "outputs": [],
   "source": []
  },
  {
   "cell_type": "code",
   "execution_count": 1275,
   "id": "9946e526-6980-4cb0-a367-d8c50c0ea00d",
   "metadata": {},
   "outputs": [
    {
     "data": {
      "text/plain": [
       "00:00:00     795\n",
       "Afternoon    101\n",
       "11h00         86\n",
       "14h00         72\n",
       "12h00         71\n",
       "            ... \n",
       "13h345         1\n",
       "               1\n",
       "15h19          1\n",
       "06h47          1\n",
       "01h50          1\n",
       "Name: Time, Length: 317, dtype: int64"
      ]
     },
     "execution_count": 1275,
     "metadata": {},
     "output_type": "execute_result"
    }
   ],
   "source": [
    "shark_3.Time.value_counts()"
   ]
  },
  {
   "cell_type": "code",
   "execution_count": 1276,
   "id": "d03f5e40-4d36-40d2-b796-824db9d54d30",
   "metadata": {},
   "outputs": [],
   "source": [
    "shark_2 = shark_3.copy()"
   ]
  },
  {
   "cell_type": "code",
   "execution_count": null,
   "id": "1a811e22-97b8-4971-b308-bf27eed0e853",
   "metadata": {},
   "outputs": [],
   "source": []
  },
  {
   "cell_type": "code",
   "execution_count": null,
   "id": "2c0b4e13-3b59-4ace-9015-4f5770003bb5",
   "metadata": {},
   "outputs": [],
   "source": []
  },
  {
   "cell_type": "code",
   "execution_count": null,
   "id": "daf9d00c-9666-4219-977f-4da7126cf816",
   "metadata": {},
   "outputs": [],
   "source": []
  },
  {
   "cell_type": "markdown",
   "id": "ab4bbcba-1880-46f5-aa6f-dba63c34a48f",
   "metadata": {},
   "source": [
    "# aqui realizo el cambio de horas a formato 00:00:00 , los casos que no se adapte este se guardara como 00:00:00"
   ]
  },
  {
   "cell_type": "code",
   "execution_count": 1277,
   "id": "d07f4ce7-659d-4a12-b0b1-08e13088b135",
   "metadata": {},
   "outputs": [
    {
     "name": "stderr",
     "output_type": "stream",
     "text": [
      "C:\\Users\\sistemas\\AppData\\Local\\Temp\\ipykernel_1620\\1789207465.py:5: SettingWithCopyWarning: \n",
      "A value is trying to be set on a copy of a slice from a DataFrame\n",
      "\n",
      "See the caveats in the documentation: https://pandas.pydata.org/pandas-docs/stable/user_guide/indexing.html#returning-a-view-versus-a-copy\n",
      "  shark_3.Time[item] = texto2.group(1)+':'+texto2.group(3)+':00'\n",
      "C:\\Users\\sistemas\\AppData\\Local\\Temp\\ipykernel_1620\\1789207465.py:7: SettingWithCopyWarning: \n",
      "A value is trying to be set on a copy of a slice from a DataFrame\n",
      "\n",
      "See the caveats in the documentation: https://pandas.pydata.org/pandas-docs/stable/user_guide/indexing.html#returning-a-view-versus-a-copy\n",
      "  shark_3.Time[item] ='00:00:00'\n"
     ]
    }
   ],
   "source": [
    "for item in list(shark_3.index):\n",
    "    time = shark_3.Time[item]\n",
    "    try:\n",
    "        texto2 = re.search(\"([0-9][0-9])(h)([0-9][0-9])\", time)\n",
    "        shark_3.Time[item] = texto2.group(1)+':'+texto2.group(3)+':00'\n",
    "    except:\n",
    "        shark_3.Time[item] ='00:00:00'"
   ]
  },
  {
   "cell_type": "code",
   "execution_count": 1278,
   "id": "056e1098-fc58-4f18-920b-48caff01b102",
   "metadata": {},
   "outputs": [
    {
     "data": {
      "text/plain": [
       "1       11:00:00\n",
       "2       10:43:00\n",
       "6       15:15:00\n",
       "7       14:30:00\n",
       "9       00:00:00\n",
       "          ...   \n",
       "5935    00:00:00\n",
       "5984    00:00:00\n",
       "5985    00:00:00\n",
       "5986    00:00:00\n",
       "5989    00:00:00\n",
       "Name: Time, Length: 2867, dtype: object"
      ]
     },
     "execution_count": 1278,
     "metadata": {},
     "output_type": "execute_result"
    }
   ],
   "source": [
    "shark_3.Time"
   ]
  },
  {
   "cell_type": "code",
   "execution_count": 1281,
   "id": "bbe6c05a-e00b-4751-8de7-8933f835178c",
   "metadata": {},
   "outputs": [],
   "source": [
    "shark = shark_3"
   ]
  },
  {
   "cell_type": "code",
   "execution_count": 1283,
   "id": "2ac6e042-36b1-4361-97ce-1651765541ce",
   "metadata": {},
   "outputs": [],
   "source": [
    "shark_2 = shark.copy()"
   ]
  },
  {
   "cell_type": "markdown",
   "id": "49e33e59-1b08-4321-886a-934a99819d79",
   "metadata": {},
   "source": [
    "# En el caso de spacies , se agregara como sin identificar en la tabla para los casos NULL"
   ]
  },
  {
   "cell_type": "code",
   "execution_count": 1284,
   "id": "324ec323-7cf4-4620-98d5-81672db394b3",
   "metadata": {},
   "outputs": [],
   "source": [
    "shark_2.Species.fillna('SIN_IDENTIFICAR', inplace = True)"
   ]
  },
  {
   "cell_type": "code",
   "execution_count": 1285,
   "id": "742d82b3-bd1a-45dd-841f-883da75265b1",
   "metadata": {
    "tags": []
   },
   "outputs": [
    {
     "data": {
      "text/plain": [
       "1                                         SIN_IDENTIFICAR\n",
       "2                                         SIN_IDENTIFICAR\n",
       "6                                          3' to 4' shark\n",
       "7                                        Tiger shark, 10?\n",
       "9                                         SIN_IDENTIFICAR\n",
       "                              ...                        \n",
       "5935                               White shark, 1,900-lb \n",
       "5984                                         Blue pointer\n",
       "5985                                        Blue pointers\n",
       "5986    Said to involve a grey nurse shark that leapt ...\n",
       "5989                                      SIN_IDENTIFICAR\n",
       "Name: Species, Length: 2867, dtype: object"
      ]
     },
     "execution_count": 1285,
     "metadata": {},
     "output_type": "execute_result"
    }
   ],
   "source": [
    "shark_2.Species"
   ]
  },
  {
   "cell_type": "code",
   "execution_count": 1286,
   "id": "c91f0388-dc15-4414-a931-0c2956e4bf57",
   "metadata": {
    "tags": []
   },
   "outputs": [],
   "source": [
    "shark= shark_2"
   ]
  },
  {
   "cell_type": "markdown",
   "id": "98b8c457-20b9-4625-9661-5bb757eb66fa",
   "metadata": {},
   "source": [
    "# VAMOS A LIMPIAR LAS TABLAS CASE_NUMBER PARA SOLO QUEDARNOS CON UNA"
   ]
  },
  {
   "cell_type": "code",
   "execution_count": 1288,
   "id": "483352e4-5185-48a0-8d06-c4eccf69fc76",
   "metadata": {},
   "outputs": [],
   "source": []
  },
  {
   "cell_type": "code",
   "execution_count": 1290,
   "id": "2433b82d-659d-41cf-8771-1c92063320da",
   "metadata": {},
   "outputs": [
    {
     "name": "stdout",
     "output_type": "stream",
     "text": [
      "<class 'pandas.core.frame.DataFrame'>\n",
      "Int64Index: 2867 entries, 1 to 5989\n",
      "Data columns (total 21 columns):\n",
      " #   Column                  Non-Null Count  Dtype \n",
      "---  ------                  --------------  ----- \n",
      " 0   Case_Number             2867 non-null   object\n",
      " 1   Date                    2867 non-null   object\n",
      " 2   Year                    2867 non-null   object\n",
      " 3   Type                    2867 non-null   object\n",
      " 4   Country                 2867 non-null   object\n",
      " 5   Area                    2867 non-null   object\n",
      " 6   Location                2867 non-null   object\n",
      " 7   Activity                2867 non-null   object\n",
      " 8   Name                    2867 non-null   object\n",
      " 9   Sex                     2867 non-null   object\n",
      " 10  Age                     2867 non-null   object\n",
      " 11  Injury                  2867 non-null   object\n",
      " 12  Fatal_(Y/N)             2867 non-null   object\n",
      " 13  Time                    2867 non-null   object\n",
      " 14  Species                 2867 non-null   object\n",
      " 15  Investigator_or_Source  2867 non-null   object\n",
      " 16  pdf                     2867 non-null   object\n",
      " 17  href_formula            2867 non-null   object\n",
      " 18  Case_Number_1           2867 non-null   object\n",
      " 19  Case_Number_2           2867 non-null   object\n",
      " 20  original_order          2867 non-null   object\n",
      "dtypes: object(21)\n",
      "memory usage: 557.3+ KB\n"
     ]
    }
   ],
   "source": []
  },
  {
   "cell_type": "code",
   "execution_count": 1293,
   "id": "352ed90f-3c89-4185-ba7f-3ae6bc0fc174",
   "metadata": {},
   "outputs": [
    {
     "data": {
      "text/html": [
       "<div>\n",
       "<style scoped>\n",
       "    .dataframe tbody tr th:only-of-type {\n",
       "        vertical-align: middle;\n",
       "    }\n",
       "\n",
       "    .dataframe tbody tr th {\n",
       "        vertical-align: top;\n",
       "    }\n",
       "\n",
       "    .dataframe thead th {\n",
       "        text-align: right;\n",
       "    }\n",
       "</style>\n",
       "<table border=\"1\" class=\"dataframe\">\n",
       "  <thead>\n",
       "    <tr style=\"text-align: right;\">\n",
       "      <th></th>\n",
       "      <th>Case_Number</th>\n",
       "      <th>Date</th>\n",
       "      <th>Year</th>\n",
       "      <th>Type</th>\n",
       "      <th>Country</th>\n",
       "      <th>Area</th>\n",
       "      <th>Location</th>\n",
       "      <th>Activity</th>\n",
       "      <th>Name</th>\n",
       "      <th>Sex</th>\n",
       "      <th>...</th>\n",
       "      <th>Injury</th>\n",
       "      <th>Fatal_(Y/N)</th>\n",
       "      <th>Time</th>\n",
       "      <th>Species</th>\n",
       "      <th>Investigator_or_Source</th>\n",
       "      <th>pdf</th>\n",
       "      <th>href_formula</th>\n",
       "      <th>Case_Number_1</th>\n",
       "      <th>Case_Number_2</th>\n",
       "      <th>original_order</th>\n",
       "    </tr>\n",
       "  </thead>\n",
       "  <tbody>\n",
       "    <tr>\n",
       "      <th>1</th>\n",
       "      <td>2016.09.18.b</td>\n",
       "      <td>18-Sep-16</td>\n",
       "      <td>2016</td>\n",
       "      <td>Unprovoked</td>\n",
       "      <td>USA</td>\n",
       "      <td>Florida</td>\n",
       "      <td>New Smyrna Beach, Volusia County</td>\n",
       "      <td>surfing</td>\n",
       "      <td>Chucky Luciano</td>\n",
       "      <td>MACHO</td>\n",
       "      <td>...</td>\n",
       "      <td>lacerations</td>\n",
       "      <td>N</td>\n",
       "      <td>11:00:00</td>\n",
       "      <td>SIN_IDENTIFICAR</td>\n",
       "      <td>Orlando Sentinel, 9/19/2016</td>\n",
       "      <td>2016.09.18.b-Luciano.pdf</td>\n",
       "      <td>http://sharkattackfile.net/spreadsheets/pdf_di...</td>\n",
       "      <td>2016.09.18.b</td>\n",
       "      <td>2016.09.18.b</td>\n",
       "      <td>5992</td>\n",
       "    </tr>\n",
       "    <tr>\n",
       "      <th>2</th>\n",
       "      <td>2016.09.18.a</td>\n",
       "      <td>18-Sep-16</td>\n",
       "      <td>2016</td>\n",
       "      <td>Unprovoked</td>\n",
       "      <td>USA</td>\n",
       "      <td>Florida</td>\n",
       "      <td>New Smyrna Beach, Volusia County</td>\n",
       "      <td>surfing</td>\n",
       "      <td>male</td>\n",
       "      <td>MACHO</td>\n",
       "      <td>...</td>\n",
       "      <td>lacerations</td>\n",
       "      <td>N</td>\n",
       "      <td>10:43:00</td>\n",
       "      <td>SIN_IDENTIFICAR</td>\n",
       "      <td>Orlando Sentinel, 9/19/2016</td>\n",
       "      <td>2016.09.18.a-NSB.pdf</td>\n",
       "      <td>http://sharkattackfile.net/spreadsheets/pdf_di...</td>\n",
       "      <td>2016.09.18.a</td>\n",
       "      <td>2016.09.18.a</td>\n",
       "      <td>5991</td>\n",
       "    </tr>\n",
       "  </tbody>\n",
       "</table>\n",
       "<p>2 rows × 21 columns</p>\n",
       "</div>"
      ],
      "text/plain": [
       "    Case_Number       Date  Year        Type Country     Area  \\\n",
       "1  2016.09.18.b  18-Sep-16  2016  Unprovoked     USA  Florida   \n",
       "2  2016.09.18.a  18-Sep-16  2016  Unprovoked     USA  Florida   \n",
       "\n",
       "                           Location Activity            Name    Sex  ...  \\\n",
       "1  New Smyrna Beach, Volusia County  surfing  Chucky Luciano  MACHO  ...   \n",
       "2  New Smyrna Beach, Volusia County  surfing            male  MACHO  ...   \n",
       "\n",
       "        Injury Fatal_(Y/N)      Time          Species  \\\n",
       "1  lacerations           N  11:00:00  SIN_IDENTIFICAR   \n",
       "2  lacerations           N  10:43:00  SIN_IDENTIFICAR   \n",
       "\n",
       "        Investigator_or_Source                       pdf  \\\n",
       "1  Orlando Sentinel, 9/19/2016  2016.09.18.b-Luciano.pdf   \n",
       "2  Orlando Sentinel, 9/19/2016      2016.09.18.a-NSB.pdf   \n",
       "\n",
       "                                        href_formula Case_Number_1  \\\n",
       "1  http://sharkattackfile.net/spreadsheets/pdf_di...  2016.09.18.b   \n",
       "2  http://sharkattackfile.net/spreadsheets/pdf_di...  2016.09.18.a   \n",
       "\n",
       "  Case_Number_2 original_order  \n",
       "1  2016.09.18.b           5992  \n",
       "2  2016.09.18.a           5991  \n",
       "\n",
       "[2 rows x 21 columns]"
      ]
     },
     "execution_count": 1293,
     "metadata": {},
     "output_type": "execute_result"
    }
   ],
   "source": [
    "shark.head(2)"
   ]
  },
  {
   "cell_type": "code",
   "execution_count": null,
   "id": "ed5594e4-7e0e-4db8-9d58-6758f8bbe9ef",
   "metadata": {},
   "outputs": [],
   "source": []
  },
  {
   "cell_type": "code",
   "execution_count": 1356,
   "id": "b79a6cd1-a3e3-4178-9c6c-5c47825aa5c7",
   "metadata": {},
   "outputs": [],
   "source": [
    "shark_2 = shark.copy()"
   ]
  },
  {
   "cell_type": "code",
   "execution_count": 1357,
   "id": "cfb62b45-f01b-460b-8d42-cbc505b0a4ac",
   "metadata": {},
   "outputs": [],
   "source": [
    "lista_case = shark_2[shark_2.Case_Number_1 != shark_2.Case_Number_2] # OBTENEMOS LAS FILAS QUE NO SON IGUALES EN AMBAS COMLUMNAS"
   ]
  },
  {
   "cell_type": "code",
   "execution_count": 1358,
   "id": "72603423-827f-454d-9aec-3a79f334f28c",
   "metadata": {},
   "outputs": [
    {
     "data": {
      "text/html": [
       "<div>\n",
       "<style scoped>\n",
       "    .dataframe tbody tr th:only-of-type {\n",
       "        vertical-align: middle;\n",
       "    }\n",
       "\n",
       "    .dataframe tbody tr th {\n",
       "        vertical-align: top;\n",
       "    }\n",
       "\n",
       "    .dataframe thead th {\n",
       "        text-align: right;\n",
       "    }\n",
       "</style>\n",
       "<table border=\"1\" class=\"dataframe\">\n",
       "  <thead>\n",
       "    <tr style=\"text-align: right;\">\n",
       "      <th></th>\n",
       "      <th>Case_Number</th>\n",
       "      <th>Case_Number_1</th>\n",
       "      <th>Case_Number_2</th>\n",
       "    </tr>\n",
       "  </thead>\n",
       "  <tbody>\n",
       "    <tr>\n",
       "      <th>97</th>\n",
       "      <td>2016.01.24.b</td>\n",
       "      <td>2015.01.24.b</td>\n",
       "      <td>2016.01.24.b</td>\n",
       "    </tr>\n",
       "    <tr>\n",
       "      <th>116</th>\n",
       "      <td>2015.12.23</td>\n",
       "      <td>2015.11.07</td>\n",
       "      <td>2015.12.23</td>\n",
       "    </tr>\n",
       "    <tr>\n",
       "      <th>121</th>\n",
       "      <td>2015.10.28.a</td>\n",
       "      <td>2015.10.28</td>\n",
       "      <td>2015.10.28.a</td>\n",
       "    </tr>\n",
       "  </tbody>\n",
       "</table>\n",
       "</div>"
      ],
      "text/plain": [
       "      Case_Number Case_Number_1 Case_Number_2\n",
       "97   2016.01.24.b  2015.01.24.b  2016.01.24.b\n",
       "116    2015.12.23    2015.11.07    2015.12.23\n",
       "121  2015.10.28.a    2015.10.28  2015.10.28.a"
      ]
     },
     "execution_count": 1358,
     "metadata": {},
     "output_type": "execute_result"
    }
   ],
   "source": [
    "lista_case[['Case_Number','Case_Number_1','Case_Number_2']]"
   ]
  },
  {
   "cell_type": "code",
   "execution_count": 1359,
   "id": "d94fcd7e-a97e-40d1-b924-ea3b132766c3",
   "metadata": {},
   "outputs": [],
   "source": [
    "lista_case_2 = shark_2[shark_2.Case_Number != shark_2.Case_Number_1] # OBTENEMOS LAS FILAS QUE NO SON IGUALES EN AMBAS COMLUMNAS"
   ]
  },
  {
   "cell_type": "code",
   "execution_count": 1360,
   "id": "5698787a-49e9-42ef-ab34-e2d23b5976d8",
   "metadata": {},
   "outputs": [
    {
     "data": {
      "text/html": [
       "<div>\n",
       "<style scoped>\n",
       "    .dataframe tbody tr th:only-of-type {\n",
       "        vertical-align: middle;\n",
       "    }\n",
       "\n",
       "    .dataframe tbody tr th {\n",
       "        vertical-align: top;\n",
       "    }\n",
       "\n",
       "    .dataframe thead th {\n",
       "        text-align: right;\n",
       "    }\n",
       "</style>\n",
       "<table border=\"1\" class=\"dataframe\">\n",
       "  <thead>\n",
       "    <tr style=\"text-align: right;\">\n",
       "      <th></th>\n",
       "      <th>Case_Number</th>\n",
       "      <th>Case_Number_1</th>\n",
       "      <th>Case_Number_2</th>\n",
       "    </tr>\n",
       "  </thead>\n",
       "  <tbody>\n",
       "    <tr>\n",
       "      <th>97</th>\n",
       "      <td>2016.01.24.b</td>\n",
       "      <td>2015.01.24.b</td>\n",
       "      <td>2016.01.24.b</td>\n",
       "    </tr>\n",
       "    <tr>\n",
       "      <th>116</th>\n",
       "      <td>2015.12.23</td>\n",
       "      <td>2015.11.07</td>\n",
       "      <td>2015.12.23</td>\n",
       "    </tr>\n",
       "    <tr>\n",
       "      <th>121</th>\n",
       "      <td>2015.10.28.a</td>\n",
       "      <td>2015.10.28</td>\n",
       "      <td>2015.10.28.a</td>\n",
       "    </tr>\n",
       "    <tr>\n",
       "      <th>169</th>\n",
       "      <td>2015.07-10</td>\n",
       "      <td>2015.07.10</td>\n",
       "      <td>2015.07.10</td>\n",
       "    </tr>\n",
       "  </tbody>\n",
       "</table>\n",
       "</div>"
      ],
      "text/plain": [
       "      Case_Number Case_Number_1 Case_Number_2\n",
       "97   2016.01.24.b  2015.01.24.b  2016.01.24.b\n",
       "116    2015.12.23    2015.11.07    2015.12.23\n",
       "121  2015.10.28.a    2015.10.28  2015.10.28.a\n",
       "169    2015.07-10    2015.07.10    2015.07.10"
      ]
     },
     "execution_count": 1360,
     "metadata": {},
     "output_type": "execute_result"
    }
   ],
   "source": [
    "lista_case_2[['Case_Number','Case_Number_1','Case_Number_2']]"
   ]
  },
  {
   "cell_type": "code",
   "execution_count": 1363,
   "id": "251e8407-c4b9-4a2a-847f-22c7c0bab02f",
   "metadata": {},
   "outputs": [],
   "source": [
    "shark_2.Case_Number[97] = shark_2.Case_Number_1[97] = shark_2.Case_Number_2[97] = '2016.01.24.b'\n",
    "shark_2.Case_Number[116] = shark_2.Case_Number_1[116] = shark_2.Case_Number_2[116] = '2015.12.23'\n",
    "shark_2.Case_Number[121] = shark_2.Case_Number_1[121] = shark_2.Case_Number_2[121] = '2015.10.28.a'\n",
    "shark_2.Case_Number[169] = shark_2.Case_Number_1[169] = shark_2.Case_Number_2[169] = '2015.07.10'"
   ]
  },
  {
   "cell_type": "code",
   "execution_count": null,
   "id": "16a8cd6d-6368-4e9d-b9ab-39be9801eb0b",
   "metadata": {},
   "outputs": [],
   "source": []
  },
  {
   "cell_type": "code",
   "execution_count": 1369,
   "id": "88cf3d96-9bbb-4061-ae53-8b2662f1bec1",
   "metadata": {},
   "outputs": [
    {
     "data": {
      "text/plain": [
       "(2867, 21)"
      ]
     },
     "execution_count": 1369,
     "metadata": {},
     "output_type": "execute_result"
    }
   ],
   "source": [
    "shark_2.shape"
   ]
  },
  {
   "cell_type": "code",
   "execution_count": 1367,
   "id": "051fb0ab-6247-4eb4-909c-96cf5ae824a3",
   "metadata": {},
   "outputs": [
    {
     "data": {
      "text/plain": [
       "'2015.07.10'"
      ]
     },
     "execution_count": 1367,
     "metadata": {},
     "output_type": "execute_result"
    }
   ],
   "source": [
    "shark_2['Case_Number_1'][169]"
   ]
  },
  {
   "cell_type": "code",
   "execution_count": 1368,
   "id": "7a8aa41d-2146-40ab-9ec5-1ae711c5f90f",
   "metadata": {},
   "outputs": [
    {
     "data": {
      "text/plain": [
       "'2015.07.10'"
      ]
     },
     "execution_count": 1368,
     "metadata": {},
     "output_type": "execute_result"
    }
   ],
   "source": [
    "shark_2['Case_Number_2'][169]"
   ]
  },
  {
   "cell_type": "code",
   "execution_count": 1370,
   "id": "0d1e134c-7a52-4f0b-b249-4f2ea6f9f8ef",
   "metadata": {},
   "outputs": [],
   "source": [
    "shark_2 = shark_2.T.drop_duplicates().T # se elimina una columan duplicada "
   ]
  },
  {
   "cell_type": "code",
   "execution_count": 1372,
   "id": "bf70cbdd-c193-4d37-97d0-9317638c971a",
   "metadata": {},
   "outputs": [
    {
     "data": {
      "text/plain": [
       "(2867, 19)"
      ]
     },
     "execution_count": 1372,
     "metadata": {},
     "output_type": "execute_result"
    }
   ],
   "source": [
    "shark_2.shape"
   ]
  },
  {
   "cell_type": "code",
   "execution_count": 1376,
   "id": "e06dec54-4f68-4e0f-85c4-758ab4af028d",
   "metadata": {},
   "outputs": [
    {
     "data": {
      "text/html": [
       "<div>\n",
       "<style scoped>\n",
       "    .dataframe tbody tr th:only-of-type {\n",
       "        vertical-align: middle;\n",
       "    }\n",
       "\n",
       "    .dataframe tbody tr th {\n",
       "        vertical-align: top;\n",
       "    }\n",
       "\n",
       "    .dataframe thead th {\n",
       "        text-align: right;\n",
       "    }\n",
       "</style>\n",
       "<table border=\"1\" class=\"dataframe\">\n",
       "  <thead>\n",
       "    <tr style=\"text-align: right;\">\n",
       "      <th></th>\n",
       "      <th>Case_Number</th>\n",
       "      <th>Date</th>\n",
       "      <th>Year</th>\n",
       "      <th>Type</th>\n",
       "      <th>Country</th>\n",
       "      <th>Area</th>\n",
       "      <th>Location</th>\n",
       "      <th>Activity</th>\n",
       "      <th>Name</th>\n",
       "      <th>Sex</th>\n",
       "      <th>Age</th>\n",
       "      <th>Injury</th>\n",
       "      <th>Fatal_(Y/N)</th>\n",
       "      <th>Time</th>\n",
       "      <th>Species</th>\n",
       "      <th>Investigator_or_Source</th>\n",
       "      <th>pdf</th>\n",
       "      <th>href_formula</th>\n",
       "      <th>original_order</th>\n",
       "    </tr>\n",
       "  </thead>\n",
       "  <tbody>\n",
       "    <tr>\n",
       "      <th>1</th>\n",
       "      <td>2016.09.18.b</td>\n",
       "      <td>18-Sep-16</td>\n",
       "      <td>2016</td>\n",
       "      <td>Unprovoked</td>\n",
       "      <td>USA</td>\n",
       "      <td>Florida</td>\n",
       "      <td>New Smyrna Beach, Volusia County</td>\n",
       "      <td>surfing</td>\n",
       "      <td>Chucky Luciano</td>\n",
       "      <td>MACHO</td>\n",
       "      <td>36</td>\n",
       "      <td>lacerations</td>\n",
       "      <td>N</td>\n",
       "      <td>11:00:00</td>\n",
       "      <td>SIN_IDENTIFICAR</td>\n",
       "      <td>Orlando Sentinel, 9/19/2016</td>\n",
       "      <td>2016.09.18.b-Luciano.pdf</td>\n",
       "      <td>http://sharkattackfile.net/spreadsheets/pdf_di...</td>\n",
       "      <td>5992</td>\n",
       "    </tr>\n",
       "    <tr>\n",
       "      <th>2</th>\n",
       "      <td>2016.09.18.a</td>\n",
       "      <td>18-Sep-16</td>\n",
       "      <td>2016</td>\n",
       "      <td>Unprovoked</td>\n",
       "      <td>USA</td>\n",
       "      <td>Florida</td>\n",
       "      <td>New Smyrna Beach, Volusia County</td>\n",
       "      <td>surfing</td>\n",
       "      <td>male</td>\n",
       "      <td>MACHO</td>\n",
       "      <td>43</td>\n",
       "      <td>lacerations</td>\n",
       "      <td>N</td>\n",
       "      <td>10:43:00</td>\n",
       "      <td>SIN_IDENTIFICAR</td>\n",
       "      <td>Orlando Sentinel, 9/19/2016</td>\n",
       "      <td>2016.09.18.a-NSB.pdf</td>\n",
       "      <td>http://sharkattackfile.net/spreadsheets/pdf_di...</td>\n",
       "      <td>5991</td>\n",
       "    </tr>\n",
       "  </tbody>\n",
       "</table>\n",
       "</div>"
      ],
      "text/plain": [
       "    Case_Number       Date  Year        Type Country     Area  \\\n",
       "1  2016.09.18.b  18-Sep-16  2016  Unprovoked     USA  Florida   \n",
       "2  2016.09.18.a  18-Sep-16  2016  Unprovoked     USA  Florida   \n",
       "\n",
       "                           Location Activity            Name    Sex Age  \\\n",
       "1  New Smyrna Beach, Volusia County  surfing  Chucky Luciano  MACHO  36   \n",
       "2  New Smyrna Beach, Volusia County  surfing            male  MACHO  43   \n",
       "\n",
       "        Injury Fatal_(Y/N)      Time          Species  \\\n",
       "1  lacerations           N  11:00:00  SIN_IDENTIFICAR   \n",
       "2  lacerations           N  10:43:00  SIN_IDENTIFICAR   \n",
       "\n",
       "        Investigator_or_Source                       pdf  \\\n",
       "1  Orlando Sentinel, 9/19/2016  2016.09.18.b-Luciano.pdf   \n",
       "2  Orlando Sentinel, 9/19/2016      2016.09.18.a-NSB.pdf   \n",
       "\n",
       "                                        href_formula original_order  \n",
       "1  http://sharkattackfile.net/spreadsheets/pdf_di...           5992  \n",
       "2  http://sharkattackfile.net/spreadsheets/pdf_di...           5991  "
      ]
     },
     "execution_count": 1376,
     "metadata": {},
     "output_type": "execute_result"
    }
   ],
   "source": [
    "shark_2.head(2)"
   ]
  },
  {
   "cell_type": "code",
   "execution_count": 1377,
   "id": "c930094d-b4d3-421a-a3fd-d4a1980999c7",
   "metadata": {},
   "outputs": [],
   "source": [
    "shark = shark_2"
   ]
  },
  {
   "cell_type": "code",
   "execution_count": null,
   "id": "cd32463a-4f82-4793-a5e7-b1737d8c5c9a",
   "metadata": {},
   "outputs": [],
   "source": []
  },
  {
   "cell_type": "markdown",
   "id": "8496e467-debf-4a0f-8ce0-3e92aeb93a5e",
   "metadata": {},
   "source": [
    "# guardamos la tabla limpia como cvs"
   ]
  },
  {
   "cell_type": "code",
   "execution_count": 1378,
   "id": "af5d8e88-cb81-41a2-a3b1-2f861e9247e5",
   "metadata": {},
   "outputs": [],
   "source": [
    "shark.to_csv('tabla_SHARK_limpio.cvs', index=False) #GUARDAMOS EN UNA TABLA CVS"
   ]
  },
  {
   "cell_type": "code",
   "execution_count": 1379,
   "id": "e8660665-fb42-4d25-86d6-deed73533694",
   "metadata": {},
   "outputs": [
    {
     "name": "stdout",
     "output_type": "stream",
     "text": [
      "<class 'pandas.core.frame.DataFrame'>\n",
      "Int64Index: 2867 entries, 1 to 5989\n",
      "Data columns (total 19 columns):\n",
      " #   Column                  Non-Null Count  Dtype \n",
      "---  ------                  --------------  ----- \n",
      " 0   Case_Number             2867 non-null   object\n",
      " 1   Date                    2867 non-null   object\n",
      " 2   Year                    2867 non-null   object\n",
      " 3   Type                    2867 non-null   object\n",
      " 4   Country                 2867 non-null   object\n",
      " 5   Area                    2867 non-null   object\n",
      " 6   Location                2867 non-null   object\n",
      " 7   Activity                2867 non-null   object\n",
      " 8   Name                    2867 non-null   object\n",
      " 9   Sex                     2867 non-null   object\n",
      " 10  Age                     2867 non-null   object\n",
      " 11  Injury                  2867 non-null   object\n",
      " 12  Fatal_(Y/N)             2867 non-null   object\n",
      " 13  Time                    2867 non-null   object\n",
      " 14  Species                 2867 non-null   object\n",
      " 15  Investigator_or_Source  2867 non-null   object\n",
      " 16  pdf                     2867 non-null   object\n",
      " 17  href_formula            2867 non-null   object\n",
      " 18  original_order          2867 non-null   object\n",
      "dtypes: object(19)\n",
      "memory usage: 512.5+ KB\n"
     ]
    }
   ],
   "source": [
    "shark.info()"
   ]
  },
  {
   "cell_type": "code",
   "execution_count": 1380,
   "id": "a8ba810b-58ca-49bd-9f58-00da768fbc66",
   "metadata": {},
   "outputs": [
    {
     "data": {
      "text/plain": [
       "Case_Number               0\n",
       "Date                      0\n",
       "Year                      0\n",
       "Type                      0\n",
       "Country                   0\n",
       "Area                      0\n",
       "Location                  0\n",
       "Activity                  0\n",
       "Name                      0\n",
       "Sex                       0\n",
       "Age                       0\n",
       "Injury                    0\n",
       "Fatal_(Y/N)               0\n",
       "Time                      0\n",
       "Species                   0\n",
       "Investigator_or_Source    0\n",
       "pdf                       0\n",
       "href_formula              0\n",
       "original_order            0\n",
       "dtype: int64"
      ]
     },
     "execution_count": 1380,
     "metadata": {},
     "output_type": "execute_result"
    }
   ],
   "source": [
    "shark.isnull().sum() # ME DOY CUENTA QUE YA SE HA REDUCUD"
   ]
  },
  {
   "cell_type": "code",
   "execution_count": null,
   "id": "30bc1bb6-c27b-4619-8fb9-bec9989531eb",
   "metadata": {},
   "outputs": [],
   "source": []
  },
  {
   "cell_type": "code",
   "execution_count": null,
   "id": "324c08ab-9ea7-4775-aa0c-9d2ab908e54b",
   "metadata": {},
   "outputs": [],
   "source": []
  },
  {
   "cell_type": "code",
   "execution_count": null,
   "id": "b8b29a2d-fbea-419d-8926-f9a37c984dd3",
   "metadata": {},
   "outputs": [],
   "source": []
  }
 ],
 "metadata": {
  "kernelspec": {
   "display_name": "Python 3 (ipykernel)",
   "language": "python",
   "name": "python3"
  },
  "language_info": {
   "codemirror_mode": {
    "name": "ipython",
    "version": 3
   },
   "file_extension": ".py",
   "mimetype": "text/x-python",
   "name": "python",
   "nbconvert_exporter": "python",
   "pygments_lexer": "ipython3",
   "version": "3.9.13"
  }
 },
 "nbformat": 4,
 "nbformat_minor": 5
}
