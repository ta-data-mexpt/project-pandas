{
 "cells": [
  {
   "cell_type": "code",
   "execution_count": 48,
   "id": "e7197dec-85b0-45e8-be05-5d77bb2eec63",
   "metadata": {},
   "outputs": [],
   "source": [
    "import requests\n",
    "from bs4 import BeautifulSoup\n",
    "import pandas as pd\n",
    "# from pprint import pprint\n",
    "# from lxml import html\n",
    "# from lxml.html import fromstring\n",
    "# import urllib.request\n",
    "# from urllib.request import urlopen\n",
    "# import random\n",
    "import re\n",
    "# import scrapy\n",
    "import numpy as np"
   ]
  },
  {
   "cell_type": "code",
   "execution_count": 81,
   "id": "04048665-0dce-4e5f-a570-10f437d08f34",
   "metadata": {},
   "outputs": [],
   "source": [
    "#df = pd.read_csv('Data_Cleaning/project-pandas/attacks.csvattacks.csv')\n",
    "\n",
    "#with open('attacks.csv', 'rb') as f:\n",
    "   # info = f.read()\n",
    "    \n",
    "with open('attacks.csv', encoding=\"utf8\", errors='ignore') as f:\n",
    "    df = pd.read_csv(f)"
   ]
  },
  {
   "cell_type": "code",
   "execution_count": 82,
   "id": "452910af-ec87-4e54-aae6-7f8542461275",
   "metadata": {},
   "outputs": [
    {
     "data": {
      "text/html": [
       "<div>\n",
       "<style scoped>\n",
       "    .dataframe tbody tr th:only-of-type {\n",
       "        vertical-align: middle;\n",
       "    }\n",
       "\n",
       "    .dataframe tbody tr th {\n",
       "        vertical-align: top;\n",
       "    }\n",
       "\n",
       "    .dataframe thead th {\n",
       "        text-align: right;\n",
       "    }\n",
       "</style>\n",
       "<table border=\"1\" class=\"dataframe\">\n",
       "  <thead>\n",
       "    <tr style=\"text-align: right;\">\n",
       "      <th></th>\n",
       "      <th>Case Number</th>\n",
       "      <th>Date</th>\n",
       "      <th>Year</th>\n",
       "      <th>Type</th>\n",
       "      <th>Country</th>\n",
       "      <th>Area</th>\n",
       "      <th>Location</th>\n",
       "      <th>Activity</th>\n",
       "      <th>Name</th>\n",
       "      <th>Sex</th>\n",
       "      <th>...</th>\n",
       "      <th>Species</th>\n",
       "      <th>Investigator or Source</th>\n",
       "      <th>pdf</th>\n",
       "      <th>href formula</th>\n",
       "      <th>href</th>\n",
       "      <th>Case Number.1</th>\n",
       "      <th>Case Number.2</th>\n",
       "      <th>original order</th>\n",
       "      <th>Unnamed: 22</th>\n",
       "      <th>Unnamed: 23</th>\n",
       "    </tr>\n",
       "  </thead>\n",
       "  <tbody>\n",
       "    <tr>\n",
       "      <th>0</th>\n",
       "      <td>2018.06.25</td>\n",
       "      <td>25-Jun-2018</td>\n",
       "      <td>2018.0</td>\n",
       "      <td>Boating</td>\n",
       "      <td>USA</td>\n",
       "      <td>California</td>\n",
       "      <td>Oceanside, San Diego County</td>\n",
       "      <td>Paddling</td>\n",
       "      <td>Julie Wolfe</td>\n",
       "      <td>F</td>\n",
       "      <td>...</td>\n",
       "      <td>White shark</td>\n",
       "      <td>R. Collier, GSAF</td>\n",
       "      <td>2018.06.25-Wolfe.pdf</td>\n",
       "      <td>http://sharkattackfile.net/spreadsheets/pdf_di...</td>\n",
       "      <td>http://sharkattackfile.net/spreadsheets/pdf_di...</td>\n",
       "      <td>2018.06.25</td>\n",
       "      <td>2018.06.25</td>\n",
       "      <td>6303.0</td>\n",
       "      <td>NaN</td>\n",
       "      <td>NaN</td>\n",
       "    </tr>\n",
       "    <tr>\n",
       "      <th>1</th>\n",
       "      <td>2018.06.18</td>\n",
       "      <td>18-Jun-2018</td>\n",
       "      <td>2018.0</td>\n",
       "      <td>Unprovoked</td>\n",
       "      <td>USA</td>\n",
       "      <td>Georgia</td>\n",
       "      <td>St. Simon Island, Glynn County</td>\n",
       "      <td>Standing</td>\n",
       "      <td>AdysonMcNeely</td>\n",
       "      <td>F</td>\n",
       "      <td>...</td>\n",
       "      <td>NaN</td>\n",
       "      <td>K.McMurray, TrackingSharks.com</td>\n",
       "      <td>2018.06.18-McNeely.pdf</td>\n",
       "      <td>http://sharkattackfile.net/spreadsheets/pdf_di...</td>\n",
       "      <td>http://sharkattackfile.net/spreadsheets/pdf_di...</td>\n",
       "      <td>2018.06.18</td>\n",
       "      <td>2018.06.18</td>\n",
       "      <td>6302.0</td>\n",
       "      <td>NaN</td>\n",
       "      <td>NaN</td>\n",
       "    </tr>\n",
       "    <tr>\n",
       "      <th>2</th>\n",
       "      <td>2018.06.09</td>\n",
       "      <td>09-Jun-2018</td>\n",
       "      <td>2018.0</td>\n",
       "      <td>Invalid</td>\n",
       "      <td>USA</td>\n",
       "      <td>Hawaii</td>\n",
       "      <td>Habush, Oahu</td>\n",
       "      <td>Surfing</td>\n",
       "      <td>John Denges</td>\n",
       "      <td>M</td>\n",
       "      <td>...</td>\n",
       "      <td>NaN</td>\n",
       "      <td>K.McMurray, TrackingSharks.com</td>\n",
       "      <td>2018.06.09-Denges.pdf</td>\n",
       "      <td>http://sharkattackfile.net/spreadsheets/pdf_di...</td>\n",
       "      <td>http://sharkattackfile.net/spreadsheets/pdf_di...</td>\n",
       "      <td>2018.06.09</td>\n",
       "      <td>2018.06.09</td>\n",
       "      <td>6301.0</td>\n",
       "      <td>NaN</td>\n",
       "      <td>NaN</td>\n",
       "    </tr>\n",
       "    <tr>\n",
       "      <th>3</th>\n",
       "      <td>2018.06.08</td>\n",
       "      <td>08-Jun-2018</td>\n",
       "      <td>2018.0</td>\n",
       "      <td>Unprovoked</td>\n",
       "      <td>AUSTRALIA</td>\n",
       "      <td>New South Wales</td>\n",
       "      <td>Arrawarra Headland</td>\n",
       "      <td>Surfing</td>\n",
       "      <td>male</td>\n",
       "      <td>M</td>\n",
       "      <td>...</td>\n",
       "      <td>2 m shark</td>\n",
       "      <td>B. Myatt, GSAF</td>\n",
       "      <td>2018.06.08-Arrawarra.pdf</td>\n",
       "      <td>http://sharkattackfile.net/spreadsheets/pdf_di...</td>\n",
       "      <td>http://sharkattackfile.net/spreadsheets/pdf_di...</td>\n",
       "      <td>2018.06.08</td>\n",
       "      <td>2018.06.08</td>\n",
       "      <td>6300.0</td>\n",
       "      <td>NaN</td>\n",
       "      <td>NaN</td>\n",
       "    </tr>\n",
       "    <tr>\n",
       "      <th>4</th>\n",
       "      <td>2018.06.04</td>\n",
       "      <td>04-Jun-2018</td>\n",
       "      <td>2018.0</td>\n",
       "      <td>Provoked</td>\n",
       "      <td>MEXICO</td>\n",
       "      <td>Colima</td>\n",
       "      <td>La Ticla</td>\n",
       "      <td>Free diving</td>\n",
       "      <td>Gustavo Ramos</td>\n",
       "      <td>M</td>\n",
       "      <td>...</td>\n",
       "      <td>Tiger shark, 3m</td>\n",
       "      <td>A .Kipper</td>\n",
       "      <td>2018.06.04-Ramos.pdf</td>\n",
       "      <td>http://sharkattackfile.net/spreadsheets/pdf_di...</td>\n",
       "      <td>http://sharkattackfile.net/spreadsheets/pdf_di...</td>\n",
       "      <td>2018.06.04</td>\n",
       "      <td>2018.06.04</td>\n",
       "      <td>6299.0</td>\n",
       "      <td>NaN</td>\n",
       "      <td>NaN</td>\n",
       "    </tr>\n",
       "  </tbody>\n",
       "</table>\n",
       "<p>5 rows × 24 columns</p>\n",
       "</div>"
      ],
      "text/plain": [
       "  Case Number         Date    Year        Type    Country             Area  \\\n",
       "0  2018.06.25  25-Jun-2018  2018.0     Boating        USA       California   \n",
       "1  2018.06.18  18-Jun-2018  2018.0  Unprovoked        USA          Georgia   \n",
       "2  2018.06.09  09-Jun-2018  2018.0     Invalid        USA           Hawaii   \n",
       "3  2018.06.08  08-Jun-2018  2018.0  Unprovoked  AUSTRALIA  New South Wales   \n",
       "4  2018.06.04  04-Jun-2018  2018.0    Provoked     MEXICO           Colima   \n",
       "\n",
       "                         Location     Activity            Name Sex   ...  \\\n",
       "0     Oceanside, San Diego County     Paddling     Julie Wolfe    F  ...   \n",
       "1  St. Simon Island, Glynn County     Standing  AdysonMcNeely     F  ...   \n",
       "2                    Habush, Oahu      Surfing     John Denges    M  ...   \n",
       "3              Arrawarra Headland      Surfing            male    M  ...   \n",
       "4                        La Ticla  Free diving  Gustavo Ramos     M  ...   \n",
       "\n",
       "          Species           Investigator or Source                       pdf  \\\n",
       "0      White shark                R. Collier, GSAF      2018.06.25-Wolfe.pdf   \n",
       "1              NaN  K.McMurray, TrackingSharks.com    2018.06.18-McNeely.pdf   \n",
       "2              NaN  K.McMurray, TrackingSharks.com     2018.06.09-Denges.pdf   \n",
       "3        2 m shark                  B. Myatt, GSAF  2018.06.08-Arrawarra.pdf   \n",
       "4  Tiger shark, 3m                       A .Kipper      2018.06.04-Ramos.pdf   \n",
       "\n",
       "                                        href formula  \\\n",
       "0  http://sharkattackfile.net/spreadsheets/pdf_di...   \n",
       "1  http://sharkattackfile.net/spreadsheets/pdf_di...   \n",
       "2  http://sharkattackfile.net/spreadsheets/pdf_di...   \n",
       "3  http://sharkattackfile.net/spreadsheets/pdf_di...   \n",
       "4  http://sharkattackfile.net/spreadsheets/pdf_di...   \n",
       "\n",
       "                                                href Case Number.1  \\\n",
       "0  http://sharkattackfile.net/spreadsheets/pdf_di...    2018.06.25   \n",
       "1  http://sharkattackfile.net/spreadsheets/pdf_di...    2018.06.18   \n",
       "2  http://sharkattackfile.net/spreadsheets/pdf_di...    2018.06.09   \n",
       "3  http://sharkattackfile.net/spreadsheets/pdf_di...    2018.06.08   \n",
       "4  http://sharkattackfile.net/spreadsheets/pdf_di...    2018.06.04   \n",
       "\n",
       "  Case Number.2 original order Unnamed: 22 Unnamed: 23  \n",
       "0    2018.06.25         6303.0         NaN         NaN  \n",
       "1    2018.06.18         6302.0         NaN         NaN  \n",
       "2    2018.06.09         6301.0         NaN         NaN  \n",
       "3    2018.06.08         6300.0         NaN         NaN  \n",
       "4    2018.06.04         6299.0         NaN         NaN  \n",
       "\n",
       "[5 rows x 24 columns]"
      ]
     },
     "execution_count": 82,
     "metadata": {},
     "output_type": "execute_result"
    }
   ],
   "source": [
    "df.head(5)"
   ]
  },
  {
   "cell_type": "code",
   "execution_count": 69,
   "id": "5138c0a0-3884-4970-81b1-611342c8e1f7",
   "metadata": {},
   "outputs": [
    {
     "data": {
      "text/plain": [
       "Index(['Case Number', 'Date', 'Year', 'Type', 'Country', 'Area', 'Location',\n",
       "       'Activity', 'Name', 'Sex ', 'Age', 'Injury', 'Fatal (Y/N)', 'Time',\n",
       "       'Species ', 'Investigator or Source', 'pdf', 'href formula', 'href',\n",
       "       'Case Number.1', 'Case Number.2', 'original order', 'Unnamed: 22',\n",
       "       'Unnamed: 23'],\n",
       "      dtype='object')"
      ]
     },
     "execution_count": 69,
     "metadata": {},
     "output_type": "execute_result"
    }
   ],
   "source": [
    "df.columns"
   ]
  },
  {
   "cell_type": "code",
   "execution_count": 70,
   "id": "200a45a2-2793-4193-b4df-4de848a1be0e",
   "metadata": {},
   "outputs": [
    {
     "name": "stdout",
     "output_type": "stream",
     "text": [
      "<class 'pandas.core.frame.DataFrame'>\n",
      "RangeIndex: 25723 entries, 0 to 25722\n",
      "Data columns (total 24 columns):\n",
      " #   Column                  Non-Null Count  Dtype  \n",
      "---  ------                  --------------  -----  \n",
      " 0   Case Number             8702 non-null   object \n",
      " 1   Date                    6302 non-null   object \n",
      " 2   Year                    6300 non-null   float64\n",
      " 3   Type                    6298 non-null   object \n",
      " 4   Country                 6252 non-null   object \n",
      " 5   Area                    5847 non-null   object \n",
      " 6   Location                5762 non-null   object \n",
      " 7   Activity                5758 non-null   object \n",
      " 8   Name                    6092 non-null   object \n",
      " 9   Sex                     5737 non-null   object \n",
      " 10  Age                     3471 non-null   object \n",
      " 11  Injury                  6274 non-null   object \n",
      " 12  Fatal (Y/N)             5763 non-null   object \n",
      " 13  Time                    2948 non-null   object \n",
      " 14  Species                 3464 non-null   object \n",
      " 15  Investigator or Source  6285 non-null   object \n",
      " 16  pdf                     6302 non-null   object \n",
      " 17  href formula            6301 non-null   object \n",
      " 18  href                    6302 non-null   object \n",
      " 19  Case Number.1           6302 non-null   object \n",
      " 20  Case Number.2           6302 non-null   object \n",
      " 21  original order          6309 non-null   float64\n",
      " 22  Unnamed: 22             1 non-null      object \n",
      " 23  Unnamed: 23             2 non-null      object \n",
      "dtypes: float64(2), object(22)\n",
      "memory usage: 4.7+ MB\n"
     ]
    }
   ],
   "source": [
    "df.info()"
   ]
  },
  {
   "cell_type": "code",
   "execution_count": 71,
   "id": "55ffc3b1-22c1-4999-be69-78361c1122eb",
   "metadata": {},
   "outputs": [
    {
     "data": {
      "text/html": [
       "<div>\n",
       "<style scoped>\n",
       "    .dataframe tbody tr th:only-of-type {\n",
       "        vertical-align: middle;\n",
       "    }\n",
       "\n",
       "    .dataframe tbody tr th {\n",
       "        vertical-align: top;\n",
       "    }\n",
       "\n",
       "    .dataframe thead th {\n",
       "        text-align: right;\n",
       "    }\n",
       "</style>\n",
       "<table border=\"1\" class=\"dataframe\">\n",
       "  <thead>\n",
       "    <tr style=\"text-align: right;\">\n",
       "      <th></th>\n",
       "      <th>Case Number</th>\n",
       "      <th>Date</th>\n",
       "      <th>Year</th>\n",
       "      <th>Type</th>\n",
       "      <th>Country</th>\n",
       "      <th>Area</th>\n",
       "      <th>Location</th>\n",
       "      <th>Activity</th>\n",
       "      <th>Name</th>\n",
       "      <th>Sex</th>\n",
       "      <th>...</th>\n",
       "      <th>Species</th>\n",
       "      <th>Investigator or Source</th>\n",
       "      <th>pdf</th>\n",
       "      <th>href formula</th>\n",
       "      <th>href</th>\n",
       "      <th>Case Number.1</th>\n",
       "      <th>Case Number.2</th>\n",
       "      <th>original order</th>\n",
       "      <th>Unnamed: 22</th>\n",
       "      <th>Unnamed: 23</th>\n",
       "    </tr>\n",
       "  </thead>\n",
       "  <tbody>\n",
       "    <tr>\n",
       "      <th>0</th>\n",
       "      <td>False</td>\n",
       "      <td>False</td>\n",
       "      <td>False</td>\n",
       "      <td>False</td>\n",
       "      <td>False</td>\n",
       "      <td>False</td>\n",
       "      <td>False</td>\n",
       "      <td>False</td>\n",
       "      <td>False</td>\n",
       "      <td>False</td>\n",
       "      <td>...</td>\n",
       "      <td>False</td>\n",
       "      <td>False</td>\n",
       "      <td>False</td>\n",
       "      <td>False</td>\n",
       "      <td>False</td>\n",
       "      <td>False</td>\n",
       "      <td>False</td>\n",
       "      <td>False</td>\n",
       "      <td>True</td>\n",
       "      <td>True</td>\n",
       "    </tr>\n",
       "    <tr>\n",
       "      <th>1</th>\n",
       "      <td>False</td>\n",
       "      <td>False</td>\n",
       "      <td>False</td>\n",
       "      <td>False</td>\n",
       "      <td>False</td>\n",
       "      <td>False</td>\n",
       "      <td>False</td>\n",
       "      <td>False</td>\n",
       "      <td>False</td>\n",
       "      <td>False</td>\n",
       "      <td>...</td>\n",
       "      <td>True</td>\n",
       "      <td>False</td>\n",
       "      <td>False</td>\n",
       "      <td>False</td>\n",
       "      <td>False</td>\n",
       "      <td>False</td>\n",
       "      <td>False</td>\n",
       "      <td>False</td>\n",
       "      <td>True</td>\n",
       "      <td>True</td>\n",
       "    </tr>\n",
       "    <tr>\n",
       "      <th>2</th>\n",
       "      <td>False</td>\n",
       "      <td>False</td>\n",
       "      <td>False</td>\n",
       "      <td>False</td>\n",
       "      <td>False</td>\n",
       "      <td>False</td>\n",
       "      <td>False</td>\n",
       "      <td>False</td>\n",
       "      <td>False</td>\n",
       "      <td>False</td>\n",
       "      <td>...</td>\n",
       "      <td>True</td>\n",
       "      <td>False</td>\n",
       "      <td>False</td>\n",
       "      <td>False</td>\n",
       "      <td>False</td>\n",
       "      <td>False</td>\n",
       "      <td>False</td>\n",
       "      <td>False</td>\n",
       "      <td>True</td>\n",
       "      <td>True</td>\n",
       "    </tr>\n",
       "    <tr>\n",
       "      <th>3</th>\n",
       "      <td>False</td>\n",
       "      <td>False</td>\n",
       "      <td>False</td>\n",
       "      <td>False</td>\n",
       "      <td>False</td>\n",
       "      <td>False</td>\n",
       "      <td>False</td>\n",
       "      <td>False</td>\n",
       "      <td>False</td>\n",
       "      <td>False</td>\n",
       "      <td>...</td>\n",
       "      <td>False</td>\n",
       "      <td>False</td>\n",
       "      <td>False</td>\n",
       "      <td>False</td>\n",
       "      <td>False</td>\n",
       "      <td>False</td>\n",
       "      <td>False</td>\n",
       "      <td>False</td>\n",
       "      <td>True</td>\n",
       "      <td>True</td>\n",
       "    </tr>\n",
       "    <tr>\n",
       "      <th>4</th>\n",
       "      <td>False</td>\n",
       "      <td>False</td>\n",
       "      <td>False</td>\n",
       "      <td>False</td>\n",
       "      <td>False</td>\n",
       "      <td>False</td>\n",
       "      <td>False</td>\n",
       "      <td>False</td>\n",
       "      <td>False</td>\n",
       "      <td>False</td>\n",
       "      <td>...</td>\n",
       "      <td>False</td>\n",
       "      <td>False</td>\n",
       "      <td>False</td>\n",
       "      <td>False</td>\n",
       "      <td>False</td>\n",
       "      <td>False</td>\n",
       "      <td>False</td>\n",
       "      <td>False</td>\n",
       "      <td>True</td>\n",
       "      <td>True</td>\n",
       "    </tr>\n",
       "    <tr>\n",
       "      <th>...</th>\n",
       "      <td>...</td>\n",
       "      <td>...</td>\n",
       "      <td>...</td>\n",
       "      <td>...</td>\n",
       "      <td>...</td>\n",
       "      <td>...</td>\n",
       "      <td>...</td>\n",
       "      <td>...</td>\n",
       "      <td>...</td>\n",
       "      <td>...</td>\n",
       "      <td>...</td>\n",
       "      <td>...</td>\n",
       "      <td>...</td>\n",
       "      <td>...</td>\n",
       "      <td>...</td>\n",
       "      <td>...</td>\n",
       "      <td>...</td>\n",
       "      <td>...</td>\n",
       "      <td>...</td>\n",
       "      <td>...</td>\n",
       "      <td>...</td>\n",
       "    </tr>\n",
       "    <tr>\n",
       "      <th>25718</th>\n",
       "      <td>True</td>\n",
       "      <td>True</td>\n",
       "      <td>True</td>\n",
       "      <td>True</td>\n",
       "      <td>True</td>\n",
       "      <td>True</td>\n",
       "      <td>True</td>\n",
       "      <td>True</td>\n",
       "      <td>True</td>\n",
       "      <td>True</td>\n",
       "      <td>...</td>\n",
       "      <td>True</td>\n",
       "      <td>True</td>\n",
       "      <td>True</td>\n",
       "      <td>True</td>\n",
       "      <td>True</td>\n",
       "      <td>True</td>\n",
       "      <td>True</td>\n",
       "      <td>True</td>\n",
       "      <td>True</td>\n",
       "      <td>True</td>\n",
       "    </tr>\n",
       "    <tr>\n",
       "      <th>25719</th>\n",
       "      <td>True</td>\n",
       "      <td>True</td>\n",
       "      <td>True</td>\n",
       "      <td>True</td>\n",
       "      <td>True</td>\n",
       "      <td>True</td>\n",
       "      <td>True</td>\n",
       "      <td>True</td>\n",
       "      <td>True</td>\n",
       "      <td>True</td>\n",
       "      <td>...</td>\n",
       "      <td>True</td>\n",
       "      <td>True</td>\n",
       "      <td>True</td>\n",
       "      <td>True</td>\n",
       "      <td>True</td>\n",
       "      <td>True</td>\n",
       "      <td>True</td>\n",
       "      <td>True</td>\n",
       "      <td>True</td>\n",
       "      <td>True</td>\n",
       "    </tr>\n",
       "    <tr>\n",
       "      <th>25720</th>\n",
       "      <td>True</td>\n",
       "      <td>True</td>\n",
       "      <td>True</td>\n",
       "      <td>True</td>\n",
       "      <td>True</td>\n",
       "      <td>True</td>\n",
       "      <td>True</td>\n",
       "      <td>True</td>\n",
       "      <td>True</td>\n",
       "      <td>True</td>\n",
       "      <td>...</td>\n",
       "      <td>True</td>\n",
       "      <td>True</td>\n",
       "      <td>True</td>\n",
       "      <td>True</td>\n",
       "      <td>True</td>\n",
       "      <td>True</td>\n",
       "      <td>True</td>\n",
       "      <td>True</td>\n",
       "      <td>True</td>\n",
       "      <td>True</td>\n",
       "    </tr>\n",
       "    <tr>\n",
       "      <th>25721</th>\n",
       "      <td>True</td>\n",
       "      <td>True</td>\n",
       "      <td>True</td>\n",
       "      <td>True</td>\n",
       "      <td>True</td>\n",
       "      <td>True</td>\n",
       "      <td>True</td>\n",
       "      <td>True</td>\n",
       "      <td>True</td>\n",
       "      <td>True</td>\n",
       "      <td>...</td>\n",
       "      <td>True</td>\n",
       "      <td>True</td>\n",
       "      <td>True</td>\n",
       "      <td>True</td>\n",
       "      <td>True</td>\n",
       "      <td>True</td>\n",
       "      <td>True</td>\n",
       "      <td>True</td>\n",
       "      <td>True</td>\n",
       "      <td>True</td>\n",
       "    </tr>\n",
       "    <tr>\n",
       "      <th>25722</th>\n",
       "      <td>False</td>\n",
       "      <td>True</td>\n",
       "      <td>True</td>\n",
       "      <td>True</td>\n",
       "      <td>True</td>\n",
       "      <td>True</td>\n",
       "      <td>True</td>\n",
       "      <td>True</td>\n",
       "      <td>True</td>\n",
       "      <td>True</td>\n",
       "      <td>...</td>\n",
       "      <td>True</td>\n",
       "      <td>True</td>\n",
       "      <td>True</td>\n",
       "      <td>True</td>\n",
       "      <td>True</td>\n",
       "      <td>True</td>\n",
       "      <td>True</td>\n",
       "      <td>True</td>\n",
       "      <td>True</td>\n",
       "      <td>True</td>\n",
       "    </tr>\n",
       "  </tbody>\n",
       "</table>\n",
       "<p>25723 rows × 24 columns</p>\n",
       "</div>"
      ],
      "text/plain": [
       "       Case Number   Date   Year   Type  Country   Area  Location  Activity  \\\n",
       "0            False  False  False  False    False  False     False     False   \n",
       "1            False  False  False  False    False  False     False     False   \n",
       "2            False  False  False  False    False  False     False     False   \n",
       "3            False  False  False  False    False  False     False     False   \n",
       "4            False  False  False  False    False  False     False     False   \n",
       "...            ...    ...    ...    ...      ...    ...       ...       ...   \n",
       "25718         True   True   True   True     True   True      True      True   \n",
       "25719         True   True   True   True     True   True      True      True   \n",
       "25720         True   True   True   True     True   True      True      True   \n",
       "25721         True   True   True   True     True   True      True      True   \n",
       "25722        False   True   True   True     True   True      True      True   \n",
       "\n",
       "        Name   Sex   ...  Species   Investigator or Source    pdf  \\\n",
       "0      False  False  ...     False                   False  False   \n",
       "1      False  False  ...      True                   False  False   \n",
       "2      False  False  ...      True                   False  False   \n",
       "3      False  False  ...     False                   False  False   \n",
       "4      False  False  ...     False                   False  False   \n",
       "...      ...    ...  ...       ...                     ...    ...   \n",
       "25718   True   True  ...      True                    True   True   \n",
       "25719   True   True  ...      True                    True   True   \n",
       "25720   True   True  ...      True                    True   True   \n",
       "25721   True   True  ...      True                    True   True   \n",
       "25722   True   True  ...      True                    True   True   \n",
       "\n",
       "       href formula   href  Case Number.1  Case Number.2  original order  \\\n",
       "0             False  False          False          False           False   \n",
       "1             False  False          False          False           False   \n",
       "2             False  False          False          False           False   \n",
       "3             False  False          False          False           False   \n",
       "4             False  False          False          False           False   \n",
       "...             ...    ...            ...            ...             ...   \n",
       "25718          True   True           True           True            True   \n",
       "25719          True   True           True           True            True   \n",
       "25720          True   True           True           True            True   \n",
       "25721          True   True           True           True            True   \n",
       "25722          True   True           True           True            True   \n",
       "\n",
       "       Unnamed: 22  Unnamed: 23  \n",
       "0             True         True  \n",
       "1             True         True  \n",
       "2             True         True  \n",
       "3             True         True  \n",
       "4             True         True  \n",
       "...            ...          ...  \n",
       "25718         True         True  \n",
       "25719         True         True  \n",
       "25720         True         True  \n",
       "25721         True         True  \n",
       "25722         True         True  \n",
       "\n",
       "[25723 rows x 24 columns]"
      ]
     },
     "execution_count": 71,
     "metadata": {},
     "output_type": "execute_result"
    }
   ],
   "source": [
    "df.isnull()"
   ]
  },
  {
   "cell_type": "code",
   "execution_count": 72,
   "id": "237bc2e3-e3e1-4db6-94eb-4977c09ebe8c",
   "metadata": {},
   "outputs": [
    {
     "data": {
      "text/plain": [
       "0         2\n",
       "1         3\n",
       "2         3\n",
       "3         4\n",
       "4         4\n",
       "         ..\n",
       "25718    24\n",
       "25719    24\n",
       "25720    24\n",
       "25721    24\n",
       "25722    23\n",
       "Length: 25723, dtype: int64"
      ]
     },
     "execution_count": 72,
     "metadata": {},
     "output_type": "execute_result"
    }
   ],
   "source": [
    "df.isnull().sum(axis = 1)"
   ]
  },
  {
   "cell_type": "code",
   "execution_count": 73,
   "id": "6b64fee6-969e-49aa-834c-3d6d09d8ae66",
   "metadata": {},
   "outputs": [],
   "source": [
    "nulos = df.isnull().sum()"
   ]
  },
  {
   "cell_type": "code",
   "execution_count": 74,
   "id": "49b9841c-fd4c-4c36-b8c6-f2009234a68c",
   "metadata": {},
   "outputs": [
    {
     "data": {
      "text/plain": [
       "Case Number               True\n",
       "Date                      True\n",
       "Year                      True\n",
       "Type                      True\n",
       "Country                   True\n",
       "Area                      True\n",
       "Location                  True\n",
       "Activity                  True\n",
       "Name                      True\n",
       "Sex                       True\n",
       "Age                       True\n",
       "Injury                    True\n",
       "Fatal (Y/N)               True\n",
       "Time                      True\n",
       "Species                   True\n",
       "Investigator or Source    True\n",
       "pdf                       True\n",
       "href formula              True\n",
       "href                      True\n",
       "Case Number.1             True\n",
       "Case Number.2             True\n",
       "original order            True\n",
       "Unnamed: 22               True\n",
       "Unnamed: 23               True\n",
       "dtype: bool"
      ]
     },
     "execution_count": 74,
     "metadata": {},
     "output_type": "execute_result"
    }
   ],
   "source": [
    "nulos > 0"
   ]
  },
  {
   "cell_type": "code",
   "execution_count": 75,
   "id": "6a19b8b0-8fbd-4ac9-a5d5-8dcd7cdfc298",
   "metadata": {},
   "outputs": [
    {
     "data": {
      "text/plain": [
       "Case Number               17021\n",
       "original order            19414\n",
       "Date                      19421\n",
       "Case Number.2             19421\n",
       "Case Number.1             19421\n",
       "href                      19421\n",
       "pdf                       19421\n",
       "href formula              19422\n",
       "Year                      19423\n",
       "Type                      19425\n",
       "Investigator or Source    19438\n",
       "Injury                    19449\n",
       "Country                   19471\n",
       "Name                      19631\n",
       "Area                      19876\n",
       "Fatal (Y/N)               19960\n",
       "Location                  19961\n",
       "Activity                  19965\n",
       "Sex                       19986\n",
       "Age                       22252\n",
       "Species                   22259\n",
       "Time                      22775\n",
       "Unnamed: 23               25721\n",
       "Unnamed: 22               25722\n",
       "dtype: int64"
      ]
     },
     "execution_count": 75,
     "metadata": {},
     "output_type": "execute_result"
    }
   ],
   "source": [
    "nulos[nulos > 0].sort_values()"
   ]
  },
  {
   "cell_type": "code",
   "execution_count": 76,
   "id": "fc3d328c-b320-4e14-8061-7bfc6ac6a219",
   "metadata": {},
   "outputs": [
    {
     "data": {
      "text/plain": [
       "(25723, 24)"
      ]
     },
     "execution_count": 76,
     "metadata": {},
     "output_type": "execute_result"
    }
   ],
   "source": [
    "df.shape"
   ]
  },
  {
   "cell_type": "code",
   "execution_count": 77,
   "id": "ad3984b7-9b7c-4189-a682-948307d1316a",
   "metadata": {},
   "outputs": [
    {
     "data": {
      "text/plain": [
       "25723"
      ]
     },
     "execution_count": 77,
     "metadata": {},
     "output_type": "execute_result"
    }
   ],
   "source": [
    "df.shape[0]"
   ]
  },
  {
   "cell_type": "code",
   "execution_count": 78,
   "id": "73f13620-d470-4c4f-876a-4793fa1b8a95",
   "metadata": {},
   "outputs": [
    {
     "data": {
      "text/plain": [
       "Case Number               0.661704\n",
       "original order            0.754733\n",
       "Date                      0.755005\n",
       "Case Number.2             0.755005\n",
       "Case Number.1             0.755005\n",
       "href                      0.755005\n",
       "pdf                       0.755005\n",
       "href formula              0.755044\n",
       "Year                      0.755083\n",
       "Type                      0.755161\n",
       "Investigator or Source    0.755666\n",
       "Injury                    0.756094\n",
       "Country                   0.756949\n",
       "Name                      0.763169\n",
       "Area                      0.772694\n",
       "Fatal (Y/N)               0.775959\n",
       "Location                  0.775998\n",
       "Activity                  0.776154\n",
       "Sex                       0.776970\n",
       "Age                       0.865062\n",
       "Species                   0.865335\n",
       "Time                      0.885394\n",
       "Unnamed: 23               0.999922\n",
       "Unnamed: 22               0.999961\n",
       "dtype: float64"
      ]
     },
     "execution_count": 78,
     "metadata": {},
     "output_type": "execute_result"
    }
   ],
   "source": [
    "porcentaje_nulos = nulos[nulos > 0].sort_values()/df.shape[0]\n",
    "porcentaje_nulos"
   ]
  },
  {
   "cell_type": "code",
   "execution_count": 83,
   "id": "c4aa00f3-2bdd-4af9-acd3-0737055cb708",
   "metadata": {},
   "outputs": [
    {
     "data": {
      "text/plain": [
       "Index(['Unnamed: 23', 'Unnamed: 22'], dtype='object')"
      ]
     },
     "execution_count": 83,
     "metadata": {},
     "output_type": "execute_result"
    }
   ],
   "source": [
    "columnas_desechables = porcentaje_nulos[porcentaje_nulos>0.90].index\n",
    "columnas_desechables"
   ]
  },
  {
   "cell_type": "code",
   "execution_count": 84,
   "id": "381e69c1-5b0b-497f-8101-341660d33cc1",
   "metadata": {},
   "outputs": [
    {
     "data": {
      "text/plain": [
       "(25723, 24)"
      ]
     },
     "execution_count": 84,
     "metadata": {},
     "output_type": "execute_result"
    }
   ],
   "source": [
    "df.shape"
   ]
  },
  {
   "cell_type": "code",
   "execution_count": 85,
   "id": "2aa985ba-c573-4c27-ad6d-73c7954883d7",
   "metadata": {},
   "outputs": [],
   "source": [
    "df.drop(columns = columnas_desechables, inplace = True)"
   ]
  },
  {
   "cell_type": "code",
   "execution_count": 86,
   "id": "7718381f-1e09-4032-b9d4-d44ed6ef5b13",
   "metadata": {},
   "outputs": [
    {
     "data": {
      "text/plain": [
       "(25723, 22)"
      ]
     },
     "execution_count": 86,
     "metadata": {},
     "output_type": "execute_result"
    }
   ],
   "source": [
    "df.shape"
   ]
  },
  {
   "cell_type": "code",
   "execution_count": 88,
   "id": "3fc9b3de-9376-4ac2-a3b8-fa98cae6c819",
   "metadata": {},
   "outputs": [
    {
     "data": {
      "text/plain": [
       "Case Number               17021\n",
       "original order            19414\n",
       "Case Number.1             19421\n",
       "href                      19421\n",
       "pdf                       19421\n",
       "Date                      19421\n",
       "Case Number.2             19421\n",
       "href formula              19422\n",
       "Year                      19423\n",
       "Type                      19425\n",
       "Investigator or Source    19438\n",
       "Injury                    19449\n",
       "Country                   19471\n",
       "Name                      19631\n",
       "Area                      19876\n",
       "Fatal (Y/N)               19960\n",
       "Location                  19961\n",
       "Activity                  19965\n",
       "Sex                       19986\n",
       "Age                       22252\n",
       "Species                   22259\n",
       "Time                      22775\n",
       "dtype: int64"
      ]
     },
     "execution_count": 88,
     "metadata": {},
     "output_type": "execute_result"
    }
   ],
   "source": [
    "nulos = df.isnull().sum()\n",
    "nulos[nulos > 0].sort_values()"
   ]
  },
  {
   "cell_type": "code",
   "execution_count": 89,
   "id": "832d4c12-8382-4efd-bcc4-83743ff66af0",
   "metadata": {},
   "outputs": [
    {
     "name": "stdout",
     "output_type": "stream",
     "text": [
      "<class 'pandas.core.frame.DataFrame'>\n",
      "RangeIndex: 25723 entries, 0 to 25722\n",
      "Data columns (total 22 columns):\n",
      " #   Column                  Non-Null Count  Dtype  \n",
      "---  ------                  --------------  -----  \n",
      " 0   Case Number             8702 non-null   object \n",
      " 1   Date                    6302 non-null   object \n",
      " 2   Year                    6300 non-null   float64\n",
      " 3   Type                    6298 non-null   object \n",
      " 4   Country                 6252 non-null   object \n",
      " 5   Area                    5847 non-null   object \n",
      " 6   Location                5762 non-null   object \n",
      " 7   Activity                5758 non-null   object \n",
      " 8   Name                    6092 non-null   object \n",
      " 9   Sex                     5737 non-null   object \n",
      " 10  Age                     3471 non-null   object \n",
      " 11  Injury                  6274 non-null   object \n",
      " 12  Fatal (Y/N)             5763 non-null   object \n",
      " 13  Time                    2948 non-null   object \n",
      " 14  Species                 3464 non-null   object \n",
      " 15  Investigator or Source  6285 non-null   object \n",
      " 16  pdf                     6302 non-null   object \n",
      " 17  href formula            6301 non-null   object \n",
      " 18  href                    6302 non-null   object \n",
      " 19  Case Number.1           6302 non-null   object \n",
      " 20  Case Number.2           6302 non-null   object \n",
      " 21  original order          6309 non-null   float64\n",
      "dtypes: float64(2), object(20)\n",
      "memory usage: 4.3+ MB\n"
     ]
    }
   ],
   "source": [
    "df.info()"
   ]
  },
  {
   "cell_type": "code",
   "execution_count": 108,
   "id": "45a0a73b-5763-47aa-a17b-a90a8c670d80",
   "metadata": {},
   "outputs": [
    {
     "data": {
      "text/plain": [
       "(25723, 22)"
      ]
     },
     "execution_count": 108,
     "metadata": {},
     "output_type": "execute_result"
    }
   ],
   "source": [
    "df.shape"
   ]
  },
  {
   "cell_type": "code",
   "execution_count": 93,
   "id": "decdb63f-2b2c-44f5-aaa1-52b25dc34da5",
   "metadata": {},
   "outputs": [
    {
     "data": {
      "text/plain": [
       "Case Number               17021\n",
       "original order            19414\n",
       "Case Number.1             19421\n",
       "href                      19421\n",
       "pdf                       19421\n",
       "Date                      19421\n",
       "Case Number.2             19421\n",
       "href formula              19422\n",
       "Year                      19423\n",
       "Type                      19425\n",
       "Investigator or Source    19438\n",
       "Injury                    19449\n",
       "Country                   19471\n",
       "Name                      19631\n",
       "Area                      19876\n",
       "Fatal (Y/N)               19960\n",
       "Location                  19961\n",
       "Activity                  19965\n",
       "Sex                       19986\n",
       "Age                       22252\n",
       "Species                   22259\n",
       "Time                      22775\n",
       "dtype: int64"
      ]
     },
     "execution_count": 93,
     "metadata": {},
     "output_type": "execute_result"
    }
   ],
   "source": [
    "nulos[nulos > 0].sort_values()"
   ]
  },
  {
   "cell_type": "code",
   "execution_count": 110,
   "id": "9824364a-b791-431b-9fce-7d5e248ba7d8",
   "metadata": {},
   "outputs": [
    {
     "data": {
      "text/plain": [
       "Country     19421\n",
       "Time        19424\n",
       "Area        19423\n",
       "Activity    19421\n",
       "dtype: int64"
      ]
     },
     "execution_count": 110,
     "metadata": {},
     "output_type": "execute_result"
    }
   ],
   "source": [
    "df[df.Type.isnull()][['Country', 'Time', 'Area', 'Activity']].isnull().sum()"
   ]
  },
  {
   "cell_type": "code",
   "execution_count": 111,
   "id": "32ea6e9b-b651-46b7-8aca-722ae2c73304",
   "metadata": {},
   "outputs": [],
   "source": [
    "df_nulos_type = df[df.Type.isnull()]"
   ]
  },
  {
   "cell_type": "code",
   "execution_count": 120,
   "id": "0760e3cc-e4d3-4083-aa6c-e3792ccfb5e4",
   "metadata": {},
   "outputs": [],
   "source": [
    "columnas_mantener = ['Date', 'Type', 'Investigator or Source', 'Injury', 'Country', 'Location', 'Activity', 'Year','Time']"
   ]
  },
  {
   "cell_type": "code",
   "execution_count": 121,
   "id": "a1bfc481-4d09-4709-91db-09707e5913d6",
   "metadata": {},
   "outputs": [
    {
     "data": {
      "text/html": [
       "<div>\n",
       "<style scoped>\n",
       "    .dataframe tbody tr th:only-of-type {\n",
       "        vertical-align: middle;\n",
       "    }\n",
       "\n",
       "    .dataframe tbody tr th {\n",
       "        vertical-align: top;\n",
       "    }\n",
       "\n",
       "    .dataframe thead th {\n",
       "        text-align: right;\n",
       "    }\n",
       "</style>\n",
       "<table border=\"1\" class=\"dataframe\">\n",
       "  <thead>\n",
       "    <tr style=\"text-align: right;\">\n",
       "      <th></th>\n",
       "      <th>Date</th>\n",
       "      <th>Type</th>\n",
       "      <th>Investigator or Source</th>\n",
       "      <th>Injury</th>\n",
       "      <th>Country</th>\n",
       "      <th>Location</th>\n",
       "      <th>Activity</th>\n",
       "      <th>Year</th>\n",
       "      <th>Time</th>\n",
       "    </tr>\n",
       "  </thead>\n",
       "  <tbody>\n",
       "    <tr>\n",
       "      <th>85</th>\n",
       "      <td>15-Sep-2017</td>\n",
       "      <td>NaN</td>\n",
       "      <td>Samoa Observer, 9/16/2017</td>\n",
       "      <td>Injuries to hands and legs</td>\n",
       "      <td>SAMOA</td>\n",
       "      <td>Nofoalii</td>\n",
       "      <td>Fishing</td>\n",
       "      <td>2017.0</td>\n",
       "      <td>Night</td>\n",
       "    </tr>\n",
       "    <tr>\n",
       "      <th>382</th>\n",
       "      <td>27-Jul-2015</td>\n",
       "      <td>NaN</td>\n",
       "      <td>NaN</td>\n",
       "      <td>Injury to hand</td>\n",
       "      <td>AUSTRALIA</td>\n",
       "      <td>Tyrendarra Beach</td>\n",
       "      <td>Surfing</td>\n",
       "      <td>2015.0</td>\n",
       "      <td>NaN</td>\n",
       "    </tr>\n",
       "    <tr>\n",
       "      <th>4867</th>\n",
       "      <td>Reported 11-Sep-1936</td>\n",
       "      <td>NaN</td>\n",
       "      <td>Lansing State Journal, 9/11/1936</td>\n",
       "      <td>FATAL</td>\n",
       "      <td>VIETNAM</td>\n",
       "      <td>Saigon</td>\n",
       "      <td>Wreck of a sampam</td>\n",
       "      <td>1936.0</td>\n",
       "      <td>NaN</td>\n",
       "    </tr>\n",
       "    <tr>\n",
       "      <th>5705</th>\n",
       "      <td>Reported 03-Mar-1890</td>\n",
       "      <td>NaN</td>\n",
       "      <td>The Guardian, 3/3/1890</td>\n",
       "      <td>FATAL</td>\n",
       "      <td>CEYLON</td>\n",
       "      <td>NaN</td>\n",
       "      <td>Diving</td>\n",
       "      <td>1890.0</td>\n",
       "      <td>NaN</td>\n",
       "    </tr>\n",
       "    <tr>\n",
       "      <th>6302</th>\n",
       "      <td>NaN</td>\n",
       "      <td>NaN</td>\n",
       "      <td>NaN</td>\n",
       "      <td>NaN</td>\n",
       "      <td>NaN</td>\n",
       "      <td>NaN</td>\n",
       "      <td>NaN</td>\n",
       "      <td>NaN</td>\n",
       "      <td>NaN</td>\n",
       "    </tr>\n",
       "    <tr>\n",
       "      <th>...</th>\n",
       "      <td>...</td>\n",
       "      <td>...</td>\n",
       "      <td>...</td>\n",
       "      <td>...</td>\n",
       "      <td>...</td>\n",
       "      <td>...</td>\n",
       "      <td>...</td>\n",
       "      <td>...</td>\n",
       "      <td>...</td>\n",
       "    </tr>\n",
       "    <tr>\n",
       "      <th>25718</th>\n",
       "      <td>NaN</td>\n",
       "      <td>NaN</td>\n",
       "      <td>NaN</td>\n",
       "      <td>NaN</td>\n",
       "      <td>NaN</td>\n",
       "      <td>NaN</td>\n",
       "      <td>NaN</td>\n",
       "      <td>NaN</td>\n",
       "      <td>NaN</td>\n",
       "    </tr>\n",
       "    <tr>\n",
       "      <th>25719</th>\n",
       "      <td>NaN</td>\n",
       "      <td>NaN</td>\n",
       "      <td>NaN</td>\n",
       "      <td>NaN</td>\n",
       "      <td>NaN</td>\n",
       "      <td>NaN</td>\n",
       "      <td>NaN</td>\n",
       "      <td>NaN</td>\n",
       "      <td>NaN</td>\n",
       "    </tr>\n",
       "    <tr>\n",
       "      <th>25720</th>\n",
       "      <td>NaN</td>\n",
       "      <td>NaN</td>\n",
       "      <td>NaN</td>\n",
       "      <td>NaN</td>\n",
       "      <td>NaN</td>\n",
       "      <td>NaN</td>\n",
       "      <td>NaN</td>\n",
       "      <td>NaN</td>\n",
       "      <td>NaN</td>\n",
       "    </tr>\n",
       "    <tr>\n",
       "      <th>25721</th>\n",
       "      <td>NaN</td>\n",
       "      <td>NaN</td>\n",
       "      <td>NaN</td>\n",
       "      <td>NaN</td>\n",
       "      <td>NaN</td>\n",
       "      <td>NaN</td>\n",
       "      <td>NaN</td>\n",
       "      <td>NaN</td>\n",
       "      <td>NaN</td>\n",
       "    </tr>\n",
       "    <tr>\n",
       "      <th>25722</th>\n",
       "      <td>NaN</td>\n",
       "      <td>NaN</td>\n",
       "      <td>NaN</td>\n",
       "      <td>NaN</td>\n",
       "      <td>NaN</td>\n",
       "      <td>NaN</td>\n",
       "      <td>NaN</td>\n",
       "      <td>NaN</td>\n",
       "      <td>NaN</td>\n",
       "    </tr>\n",
       "  </tbody>\n",
       "</table>\n",
       "<p>19425 rows × 9 columns</p>\n",
       "</div>"
      ],
      "text/plain": [
       "                       Date Type            Investigator or Source  \\\n",
       "85              15-Sep-2017  NaN         Samoa Observer, 9/16/2017   \n",
       "382             27-Jul-2015  NaN                               NaN   \n",
       "4867   Reported 11-Sep-1936  NaN  Lansing State Journal, 9/11/1936   \n",
       "5705   Reported 03-Mar-1890  NaN            The Guardian, 3/3/1890   \n",
       "6302                    NaN  NaN                               NaN   \n",
       "...                     ...  ...                               ...   \n",
       "25718                   NaN  NaN                               NaN   \n",
       "25719                   NaN  NaN                               NaN   \n",
       "25720                   NaN  NaN                               NaN   \n",
       "25721                   NaN  NaN                               NaN   \n",
       "25722                   NaN  NaN                               NaN   \n",
       "\n",
       "                           Injury    Country          Location  \\\n",
       "85     Injuries to hands and legs      SAMOA          Nofoalii   \n",
       "382                Injury to hand  AUSTRALIA  Tyrendarra Beach   \n",
       "4867                        FATAL    VIETNAM            Saigon   \n",
       "5705                        FATAL     CEYLON               NaN   \n",
       "6302                          NaN        NaN               NaN   \n",
       "...                           ...        ...               ...   \n",
       "25718                         NaN        NaN               NaN   \n",
       "25719                         NaN        NaN               NaN   \n",
       "25720                         NaN        NaN               NaN   \n",
       "25721                         NaN        NaN               NaN   \n",
       "25722                         NaN        NaN               NaN   \n",
       "\n",
       "                Activity    Year   Time  \n",
       "85               Fishing  2017.0  Night  \n",
       "382              Surfing  2015.0    NaN  \n",
       "4867   Wreck of a sampam  1936.0    NaN  \n",
       "5705              Diving  1890.0    NaN  \n",
       "6302                 NaN     NaN    NaN  \n",
       "...                  ...     ...    ...  \n",
       "25718                NaN     NaN    NaN  \n",
       "25719                NaN     NaN    NaN  \n",
       "25720                NaN     NaN    NaN  \n",
       "25721                NaN     NaN    NaN  \n",
       "25722                NaN     NaN    NaN  \n",
       "\n",
       "[19425 rows x 9 columns]"
      ]
     },
     "execution_count": 121,
     "metadata": {},
     "output_type": "execute_result"
    }
   ],
   "source": [
    "df_nulos_type[columnas_mantener]"
   ]
  },
  {
   "cell_type": "code",
   "execution_count": 122,
   "id": "2f9d07f3-be73-4de8-98a1-3dbdc7aaee77",
   "metadata": {},
   "outputs": [
    {
     "data": {
      "text/plain": [
       "Fishing              1\n",
       "Surfing              1\n",
       "Wreck of a sampam    1\n",
       "Diving               1\n",
       "Name: Activity, dtype: int64"
      ]
     },
     "execution_count": 122,
     "metadata": {},
     "output_type": "execute_result"
    }
   ],
   "source": [
    "df_nulos_type['Activity'].value_counts()"
   ]
  },
  {
   "cell_type": "code",
   "execution_count": 106,
   "id": "ce7a9129-e809-4673-9a24-b0e4708181fa",
   "metadata": {},
   "outputs": [
    {
     "data": {
      "text/plain": [
       "Surfing                                   971\n",
       "Swimming                                  869\n",
       "Fishing                                   431\n",
       "Spearfishing                              333\n",
       "Bathing                                   162\n",
       "                                         ... \n",
       "Playing with a frisbee in the shallows      1\n",
       "Sinking of the ferryboat Dumaguete          1\n",
       "Wreck of the Storm King                     1\n",
       "Feeding mullet to sharks                    1\n",
       "Wreck of  large double sailing canoe        1\n",
       "Name: Activity, Length: 1532, dtype: int64"
      ]
     },
     "execution_count": 106,
     "metadata": {},
     "output_type": "execute_result"
    }
   ],
   "source": [
    "df['Activity'].value_counts()"
   ]
  },
  {
   "cell_type": "code",
   "execution_count": 115,
   "id": "5ce66d3d-b583-4d0d-bd02-f5b4b5f1f6e1",
   "metadata": {},
   "outputs": [],
   "source": [
    "df['Activity'].fillna(0, inplace = True)"
   ]
  },
  {
   "cell_type": "code",
   "execution_count": 116,
   "id": "bba09034-2cbf-466b-9ec3-a855f2aae7c2",
   "metadata": {},
   "outputs": [
    {
     "data": {
      "text/plain": [
       "Case Number               17021\n",
       "original order            19414\n",
       "Case Number.1             19421\n",
       "href                      19421\n",
       "pdf                       19421\n",
       "Date                      19421\n",
       "Case Number.2             19421\n",
       "href formula              19422\n",
       "Year                      19423\n",
       "Type                      19425\n",
       "Investigator or Source    19438\n",
       "Injury                    19449\n",
       "Country                   19471\n",
       "Name                      19631\n",
       "Area                      19876\n",
       "Fatal (Y/N)               19960\n",
       "Location                  19961\n",
       "Sex                       19986\n",
       "Age                       22252\n",
       "Species                   22259\n",
       "Time                      22775\n",
       "dtype: int64"
      ]
     },
     "execution_count": 116,
     "metadata": {},
     "output_type": "execute_result"
    }
   ],
   "source": [
    "nulos = df.isnull().sum()\n",
    "nulos[nulos > 0].sort_values()"
   ]
  },
  {
   "cell_type": "code",
   "execution_count": 123,
   "id": "d971bdbf-2751-4eb0-96e4-c85c0537361a",
   "metadata": {},
   "outputs": [
    {
     "data": {
      "text/plain": [
       "Year    19421\n",
       "Time    19421\n",
       "dtype: int64"
      ]
     },
     "execution_count": 123,
     "metadata": {},
     "output_type": "execute_result"
    }
   ],
   "source": [
    "df[df.Date.isnull()][['Year','Time']].isnull().sum()"
   ]
  },
  {
   "cell_type": "code",
   "execution_count": 126,
   "id": "08d406f6-dabb-4f0f-ae45-4dda21f6626b",
   "metadata": {},
   "outputs": [],
   "source": [
    "df_nulos_date = df[df.Date.isnull()]"
   ]
  },
  {
   "cell_type": "code",
   "execution_count": 127,
   "id": "16052252-791e-47e7-87a6-59db8d9d5629",
   "metadata": {},
   "outputs": [
    {
     "data": {
      "text/html": [
       "<div>\n",
       "<style scoped>\n",
       "    .dataframe tbody tr th:only-of-type {\n",
       "        vertical-align: middle;\n",
       "    }\n",
       "\n",
       "    .dataframe tbody tr th {\n",
       "        vertical-align: top;\n",
       "    }\n",
       "\n",
       "    .dataframe thead th {\n",
       "        text-align: right;\n",
       "    }\n",
       "</style>\n",
       "<table border=\"1\" class=\"dataframe\">\n",
       "  <thead>\n",
       "    <tr style=\"text-align: right;\">\n",
       "      <th></th>\n",
       "      <th>Date</th>\n",
       "      <th>Type</th>\n",
       "      <th>Investigator or Source</th>\n",
       "      <th>Injury</th>\n",
       "      <th>Country</th>\n",
       "      <th>Location</th>\n",
       "      <th>Activity</th>\n",
       "      <th>Year</th>\n",
       "      <th>Time</th>\n",
       "    </tr>\n",
       "  </thead>\n",
       "  <tbody>\n",
       "    <tr>\n",
       "      <th>6302</th>\n",
       "      <td>NaN</td>\n",
       "      <td>NaN</td>\n",
       "      <td>NaN</td>\n",
       "      <td>NaN</td>\n",
       "      <td>NaN</td>\n",
       "      <td>NaN</td>\n",
       "      <td>0</td>\n",
       "      <td>NaN</td>\n",
       "      <td>NaN</td>\n",
       "    </tr>\n",
       "    <tr>\n",
       "      <th>6303</th>\n",
       "      <td>NaN</td>\n",
       "      <td>NaN</td>\n",
       "      <td>NaN</td>\n",
       "      <td>NaN</td>\n",
       "      <td>NaN</td>\n",
       "      <td>NaN</td>\n",
       "      <td>0</td>\n",
       "      <td>NaN</td>\n",
       "      <td>NaN</td>\n",
       "    </tr>\n",
       "    <tr>\n",
       "      <th>6304</th>\n",
       "      <td>NaN</td>\n",
       "      <td>NaN</td>\n",
       "      <td>NaN</td>\n",
       "      <td>NaN</td>\n",
       "      <td>NaN</td>\n",
       "      <td>NaN</td>\n",
       "      <td>0</td>\n",
       "      <td>NaN</td>\n",
       "      <td>NaN</td>\n",
       "    </tr>\n",
       "    <tr>\n",
       "      <th>6305</th>\n",
       "      <td>NaN</td>\n",
       "      <td>NaN</td>\n",
       "      <td>NaN</td>\n",
       "      <td>NaN</td>\n",
       "      <td>NaN</td>\n",
       "      <td>NaN</td>\n",
       "      <td>0</td>\n",
       "      <td>NaN</td>\n",
       "      <td>NaN</td>\n",
       "    </tr>\n",
       "    <tr>\n",
       "      <th>6306</th>\n",
       "      <td>NaN</td>\n",
       "      <td>NaN</td>\n",
       "      <td>NaN</td>\n",
       "      <td>NaN</td>\n",
       "      <td>NaN</td>\n",
       "      <td>NaN</td>\n",
       "      <td>0</td>\n",
       "      <td>NaN</td>\n",
       "      <td>NaN</td>\n",
       "    </tr>\n",
       "    <tr>\n",
       "      <th>...</th>\n",
       "      <td>...</td>\n",
       "      <td>...</td>\n",
       "      <td>...</td>\n",
       "      <td>...</td>\n",
       "      <td>...</td>\n",
       "      <td>...</td>\n",
       "      <td>...</td>\n",
       "      <td>...</td>\n",
       "      <td>...</td>\n",
       "    </tr>\n",
       "    <tr>\n",
       "      <th>25718</th>\n",
       "      <td>NaN</td>\n",
       "      <td>NaN</td>\n",
       "      <td>NaN</td>\n",
       "      <td>NaN</td>\n",
       "      <td>NaN</td>\n",
       "      <td>NaN</td>\n",
       "      <td>0</td>\n",
       "      <td>NaN</td>\n",
       "      <td>NaN</td>\n",
       "    </tr>\n",
       "    <tr>\n",
       "      <th>25719</th>\n",
       "      <td>NaN</td>\n",
       "      <td>NaN</td>\n",
       "      <td>NaN</td>\n",
       "      <td>NaN</td>\n",
       "      <td>NaN</td>\n",
       "      <td>NaN</td>\n",
       "      <td>0</td>\n",
       "      <td>NaN</td>\n",
       "      <td>NaN</td>\n",
       "    </tr>\n",
       "    <tr>\n",
       "      <th>25720</th>\n",
       "      <td>NaN</td>\n",
       "      <td>NaN</td>\n",
       "      <td>NaN</td>\n",
       "      <td>NaN</td>\n",
       "      <td>NaN</td>\n",
       "      <td>NaN</td>\n",
       "      <td>0</td>\n",
       "      <td>NaN</td>\n",
       "      <td>NaN</td>\n",
       "    </tr>\n",
       "    <tr>\n",
       "      <th>25721</th>\n",
       "      <td>NaN</td>\n",
       "      <td>NaN</td>\n",
       "      <td>NaN</td>\n",
       "      <td>NaN</td>\n",
       "      <td>NaN</td>\n",
       "      <td>NaN</td>\n",
       "      <td>0</td>\n",
       "      <td>NaN</td>\n",
       "      <td>NaN</td>\n",
       "    </tr>\n",
       "    <tr>\n",
       "      <th>25722</th>\n",
       "      <td>NaN</td>\n",
       "      <td>NaN</td>\n",
       "      <td>NaN</td>\n",
       "      <td>NaN</td>\n",
       "      <td>NaN</td>\n",
       "      <td>NaN</td>\n",
       "      <td>0</td>\n",
       "      <td>NaN</td>\n",
       "      <td>NaN</td>\n",
       "    </tr>\n",
       "  </tbody>\n",
       "</table>\n",
       "<p>19421 rows × 9 columns</p>\n",
       "</div>"
      ],
      "text/plain": [
       "      Date Type Investigator or Source Injury Country Location Activity  Year  \\\n",
       "6302   NaN  NaN                    NaN    NaN     NaN      NaN        0   NaN   \n",
       "6303   NaN  NaN                    NaN    NaN     NaN      NaN        0   NaN   \n",
       "6304   NaN  NaN                    NaN    NaN     NaN      NaN        0   NaN   \n",
       "6305   NaN  NaN                    NaN    NaN     NaN      NaN        0   NaN   \n",
       "6306   NaN  NaN                    NaN    NaN     NaN      NaN        0   NaN   \n",
       "...    ...  ...                    ...    ...     ...      ...      ...   ...   \n",
       "25718  NaN  NaN                    NaN    NaN     NaN      NaN        0   NaN   \n",
       "25719  NaN  NaN                    NaN    NaN     NaN      NaN        0   NaN   \n",
       "25720  NaN  NaN                    NaN    NaN     NaN      NaN        0   NaN   \n",
       "25721  NaN  NaN                    NaN    NaN     NaN      NaN        0   NaN   \n",
       "25722  NaN  NaN                    NaN    NaN     NaN      NaN        0   NaN   \n",
       "\n",
       "      Time  \n",
       "6302   NaN  \n",
       "6303   NaN  \n",
       "6304   NaN  \n",
       "6305   NaN  \n",
       "6306   NaN  \n",
       "...    ...  \n",
       "25718  NaN  \n",
       "25719  NaN  \n",
       "25720  NaN  \n",
       "25721  NaN  \n",
       "25722  NaN  \n",
       "\n",
       "[19421 rows x 9 columns]"
      ]
     },
     "execution_count": 127,
     "metadata": {},
     "output_type": "execute_result"
    }
   ],
   "source": [
    "df_nulos_date[columnas_mantener]"
   ]
  },
  {
   "cell_type": "code",
   "execution_count": 130,
   "id": "50c8fcfe-6a4c-44fc-aa30-dc1e27e003f5",
   "metadata": {},
   "outputs": [
    {
     "data": {
      "text/plain": [
       "Series([], Name: Year, dtype: int64)"
      ]
     },
     "execution_count": 130,
     "metadata": {},
     "output_type": "execute_result"
    }
   ],
   "source": [
    "df_nulos_date['Year'].value_counts()"
   ]
  },
  {
   "cell_type": "code",
   "execution_count": 129,
   "id": "afe13185-d6da-4428-b38d-13d937ccf6fe",
   "metadata": {},
   "outputs": [
    {
     "data": {
      "text/plain": [
       "2015.0    143\n",
       "2017.0    136\n",
       "2016.0    130\n",
       "2011.0    128\n",
       "2014.0    127\n",
       "         ... \n",
       "1786.0      1\n",
       "1785.0      1\n",
       "1784.0      1\n",
       "1783.0      1\n",
       "1815.0      1\n",
       "Name: Year, Length: 249, dtype: int64"
      ]
     },
     "execution_count": 129,
     "metadata": {},
     "output_type": "execute_result"
    }
   ],
   "source": [
    "df['Year'].value_counts()"
   ]
  },
  {
   "cell_type": "code",
   "execution_count": 131,
   "id": "21fdad29-7fae-440e-bea7-bdf44ffab63a",
   "metadata": {},
   "outputs": [],
   "source": [
    "df['Year'].fillna(0, inplace = True)"
   ]
  },
  {
   "cell_type": "code",
   "execution_count": 132,
   "id": "de5ada29-53df-4ecf-a793-c65499bc28bd",
   "metadata": {},
   "outputs": [
    {
     "data": {
      "text/plain": [
       "Case Number               17021\n",
       "original order            19414\n",
       "Case Number.1             19421\n",
       "href                      19421\n",
       "pdf                       19421\n",
       "Date                      19421\n",
       "Case Number.2             19421\n",
       "href formula              19422\n",
       "Type                      19425\n",
       "Investigator or Source    19438\n",
       "Injury                    19449\n",
       "Country                   19471\n",
       "Name                      19631\n",
       "Area                      19876\n",
       "Fatal (Y/N)               19960\n",
       "Location                  19961\n",
       "Sex                       19986\n",
       "Age                       22252\n",
       "Species                   22259\n",
       "Time                      22775\n",
       "dtype: int64"
      ]
     },
     "execution_count": 132,
     "metadata": {},
     "output_type": "execute_result"
    }
   ],
   "source": [
    "nulos = df.isnull().sum()\n",
    "nulos[nulos > 0].sort_values()"
   ]
  },
  {
   "cell_type": "code",
   "execution_count": 135,
   "id": "940482a7-e9d1-405d-90d7-a957a27c79f1",
   "metadata": {},
   "outputs": [
    {
     "data": {
      "text/plain": [
       "Series([], Name: Time, dtype: int64)"
      ]
     },
     "execution_count": 135,
     "metadata": {},
     "output_type": "execute_result"
    }
   ],
   "source": [
    "df_nulos_date['Time'].value_counts()"
   ]
  },
  {
   "cell_type": "code",
   "execution_count": 136,
   "id": "aa87a3b4-16a3-4a43-92fd-4793aa2ca09e",
   "metadata": {},
   "outputs": [
    {
     "data": {
      "text/plain": [
       "Afternoon      187\n",
       "11h00          128\n",
       "Morning        121\n",
       "12h00          109\n",
       "15h00          108\n",
       "              ... \n",
       "00h30            1\n",
       "14h37            1\n",
       "10h07            1\n",
       "13h53            1\n",
       "19h00-20h00      1\n",
       "Name: Time, Length: 365, dtype: int64"
      ]
     },
     "execution_count": 136,
     "metadata": {},
     "output_type": "execute_result"
    }
   ],
   "source": [
    "df['Time'].value_counts()"
   ]
  },
  {
   "cell_type": "code",
   "execution_count": 137,
   "id": "fa686037-48f2-446c-92e1-8c8c1b884a68",
   "metadata": {},
   "outputs": [],
   "source": [
    "df['Time'].fillna(0, inplace = True)"
   ]
  },
  {
   "cell_type": "code",
   "execution_count": 138,
   "id": "b116d690-edb4-477c-b963-ff06fe077c80",
   "metadata": {},
   "outputs": [
    {
     "data": {
      "text/plain": [
       "Case Number               17021\n",
       "original order            19414\n",
       "Case Number.1             19421\n",
       "href                      19421\n",
       "pdf                       19421\n",
       "Date                      19421\n",
       "Case Number.2             19421\n",
       "href formula              19422\n",
       "Type                      19425\n",
       "Investigator or Source    19438\n",
       "Injury                    19449\n",
       "Country                   19471\n",
       "Name                      19631\n",
       "Area                      19876\n",
       "Fatal (Y/N)               19960\n",
       "Location                  19961\n",
       "Sex                       19986\n",
       "Age                       22252\n",
       "Species                   22259\n",
       "dtype: int64"
      ]
     },
     "execution_count": 138,
     "metadata": {},
     "output_type": "execute_result"
    }
   ],
   "source": [
    "nulos = df.isnull().sum()\n",
    "nulos[nulos > 0].sort_values()"
   ]
  },
  {
   "cell_type": "code",
   "execution_count": 141,
   "id": "a0d865b0-6a3d-44c8-abfc-921952657bac",
   "metadata": {},
   "outputs": [],
   "source": [
    "df_nulos_order = df[df.pdf.isnull()]"
   ]
  },
  {
   "cell_type": "code",
   "execution_count": 142,
   "id": "7df42cd7-f20c-4e11-9098-2d9e52c7675f",
   "metadata": {},
   "outputs": [
    {
     "data": {
      "text/html": [
       "<div>\n",
       "<style scoped>\n",
       "    .dataframe tbody tr th:only-of-type {\n",
       "        vertical-align: middle;\n",
       "    }\n",
       "\n",
       "    .dataframe tbody tr th {\n",
       "        vertical-align: top;\n",
       "    }\n",
       "\n",
       "    .dataframe thead th {\n",
       "        text-align: right;\n",
       "    }\n",
       "</style>\n",
       "<table border=\"1\" class=\"dataframe\">\n",
       "  <thead>\n",
       "    <tr style=\"text-align: right;\">\n",
       "      <th></th>\n",
       "      <th>Date</th>\n",
       "      <th>Type</th>\n",
       "      <th>Investigator or Source</th>\n",
       "      <th>Injury</th>\n",
       "      <th>Country</th>\n",
       "      <th>Location</th>\n",
       "      <th>Activity</th>\n",
       "      <th>Year</th>\n",
       "      <th>Time</th>\n",
       "    </tr>\n",
       "  </thead>\n",
       "  <tbody>\n",
       "    <tr>\n",
       "      <th>6302</th>\n",
       "      <td>NaN</td>\n",
       "      <td>NaN</td>\n",
       "      <td>NaN</td>\n",
       "      <td>NaN</td>\n",
       "      <td>NaN</td>\n",
       "      <td>NaN</td>\n",
       "      <td>0</td>\n",
       "      <td>0.0</td>\n",
       "      <td>0</td>\n",
       "    </tr>\n",
       "    <tr>\n",
       "      <th>6303</th>\n",
       "      <td>NaN</td>\n",
       "      <td>NaN</td>\n",
       "      <td>NaN</td>\n",
       "      <td>NaN</td>\n",
       "      <td>NaN</td>\n",
       "      <td>NaN</td>\n",
       "      <td>0</td>\n",
       "      <td>0.0</td>\n",
       "      <td>0</td>\n",
       "    </tr>\n",
       "    <tr>\n",
       "      <th>6304</th>\n",
       "      <td>NaN</td>\n",
       "      <td>NaN</td>\n",
       "      <td>NaN</td>\n",
       "      <td>NaN</td>\n",
       "      <td>NaN</td>\n",
       "      <td>NaN</td>\n",
       "      <td>0</td>\n",
       "      <td>0.0</td>\n",
       "      <td>0</td>\n",
       "    </tr>\n",
       "    <tr>\n",
       "      <th>6305</th>\n",
       "      <td>NaN</td>\n",
       "      <td>NaN</td>\n",
       "      <td>NaN</td>\n",
       "      <td>NaN</td>\n",
       "      <td>NaN</td>\n",
       "      <td>NaN</td>\n",
       "      <td>0</td>\n",
       "      <td>0.0</td>\n",
       "      <td>0</td>\n",
       "    </tr>\n",
       "    <tr>\n",
       "      <th>6306</th>\n",
       "      <td>NaN</td>\n",
       "      <td>NaN</td>\n",
       "      <td>NaN</td>\n",
       "      <td>NaN</td>\n",
       "      <td>NaN</td>\n",
       "      <td>NaN</td>\n",
       "      <td>0</td>\n",
       "      <td>0.0</td>\n",
       "      <td>0</td>\n",
       "    </tr>\n",
       "    <tr>\n",
       "      <th>...</th>\n",
       "      <td>...</td>\n",
       "      <td>...</td>\n",
       "      <td>...</td>\n",
       "      <td>...</td>\n",
       "      <td>...</td>\n",
       "      <td>...</td>\n",
       "      <td>...</td>\n",
       "      <td>...</td>\n",
       "      <td>...</td>\n",
       "    </tr>\n",
       "    <tr>\n",
       "      <th>25718</th>\n",
       "      <td>NaN</td>\n",
       "      <td>NaN</td>\n",
       "      <td>NaN</td>\n",
       "      <td>NaN</td>\n",
       "      <td>NaN</td>\n",
       "      <td>NaN</td>\n",
       "      <td>0</td>\n",
       "      <td>0.0</td>\n",
       "      <td>0</td>\n",
       "    </tr>\n",
       "    <tr>\n",
       "      <th>25719</th>\n",
       "      <td>NaN</td>\n",
       "      <td>NaN</td>\n",
       "      <td>NaN</td>\n",
       "      <td>NaN</td>\n",
       "      <td>NaN</td>\n",
       "      <td>NaN</td>\n",
       "      <td>0</td>\n",
       "      <td>0.0</td>\n",
       "      <td>0</td>\n",
       "    </tr>\n",
       "    <tr>\n",
       "      <th>25720</th>\n",
       "      <td>NaN</td>\n",
       "      <td>NaN</td>\n",
       "      <td>NaN</td>\n",
       "      <td>NaN</td>\n",
       "      <td>NaN</td>\n",
       "      <td>NaN</td>\n",
       "      <td>0</td>\n",
       "      <td>0.0</td>\n",
       "      <td>0</td>\n",
       "    </tr>\n",
       "    <tr>\n",
       "      <th>25721</th>\n",
       "      <td>NaN</td>\n",
       "      <td>NaN</td>\n",
       "      <td>NaN</td>\n",
       "      <td>NaN</td>\n",
       "      <td>NaN</td>\n",
       "      <td>NaN</td>\n",
       "      <td>0</td>\n",
       "      <td>0.0</td>\n",
       "      <td>0</td>\n",
       "    </tr>\n",
       "    <tr>\n",
       "      <th>25722</th>\n",
       "      <td>NaN</td>\n",
       "      <td>NaN</td>\n",
       "      <td>NaN</td>\n",
       "      <td>NaN</td>\n",
       "      <td>NaN</td>\n",
       "      <td>NaN</td>\n",
       "      <td>0</td>\n",
       "      <td>0.0</td>\n",
       "      <td>0</td>\n",
       "    </tr>\n",
       "  </tbody>\n",
       "</table>\n",
       "<p>19421 rows × 9 columns</p>\n",
       "</div>"
      ],
      "text/plain": [
       "      Date Type Investigator or Source Injury Country Location Activity  Year  \\\n",
       "6302   NaN  NaN                    NaN    NaN     NaN      NaN        0   0.0   \n",
       "6303   NaN  NaN                    NaN    NaN     NaN      NaN        0   0.0   \n",
       "6304   NaN  NaN                    NaN    NaN     NaN      NaN        0   0.0   \n",
       "6305   NaN  NaN                    NaN    NaN     NaN      NaN        0   0.0   \n",
       "6306   NaN  NaN                    NaN    NaN     NaN      NaN        0   0.0   \n",
       "...    ...  ...                    ...    ...     ...      ...      ...   ...   \n",
       "25718  NaN  NaN                    NaN    NaN     NaN      NaN        0   0.0   \n",
       "25719  NaN  NaN                    NaN    NaN     NaN      NaN        0   0.0   \n",
       "25720  NaN  NaN                    NaN    NaN     NaN      NaN        0   0.0   \n",
       "25721  NaN  NaN                    NaN    NaN     NaN      NaN        0   0.0   \n",
       "25722  NaN  NaN                    NaN    NaN     NaN      NaN        0   0.0   \n",
       "\n",
       "      Time  \n",
       "6302     0  \n",
       "6303     0  \n",
       "6304     0  \n",
       "6305     0  \n",
       "6306     0  \n",
       "...    ...  \n",
       "25718    0  \n",
       "25719    0  \n",
       "25720    0  \n",
       "25721    0  \n",
       "25722    0  \n",
       "\n",
       "[19421 rows x 9 columns]"
      ]
     },
     "execution_count": 142,
     "metadata": {},
     "output_type": "execute_result"
    }
   ],
   "source": [
    "df_nulos_order[columnas_mantener]"
   ]
  },
  {
   "cell_type": "code",
   "execution_count": 144,
   "id": "6d35e5e6-f0a7-429b-b4cc-1b87cefc69e8",
   "metadata": {},
   "outputs": [
    {
     "data": {
      "text/plain": [
       "Series([], Name: href, dtype: int64)"
      ]
     },
     "execution_count": 144,
     "metadata": {},
     "output_type": "execute_result"
    }
   ],
   "source": [
    "df_nulos_order['href'].value_counts()"
   ]
  },
  {
   "cell_type": "code",
   "execution_count": 145,
   "id": "b79c514a-2f12-4f8a-9e70-746fa58617e5",
   "metadata": {},
   "outputs": [
    {
     "data": {
      "text/plain": [
       "http://sharkattackfile.net/spreadsheets/pdf_directory/w014.01.25-Grant.pdf                 4\n",
       "http://sharkattackfile.net/spreadsheets/pdf_directory/2014.10.02.b-Vandenberg.pdf          3\n",
       "http://sharkattackfile.net/spreadsheets/pdf_directory/1923.00.00.a-NJ fisherman.pdf        2\n",
       "http://sharkattackfile.net/spreadsheets/pdf_directory/1934.12.23.a-b-Inman.pdf             2\n",
       "http://sharkattackfile.net/spreadsheets/pdf_directory/1929.03.04.a-b.Roads-Aldridge.pdf    2\n",
       "                                                                                          ..\n",
       "http://sharkattackfile.net/spreadsheets/pdf_directory/1999.09.10-Warnock.pdf               1\n",
       "http://sharkattackfile.net/spreadsheets/pdf_directory/1999.09.16-Ferguson.pdf              1\n",
       "http://sharkattackfile.net/spreadsheets/pdf_directory/1999.09.18-Wallersheim.pdf           1\n",
       "http://sharkattackfile.net/spreadsheets/pdf_directory/1999.09.24-boat.pdf                  1\n",
       "http://sharkattackfile.net/spreadsheets/pdf_directoryND-0001-Ceylon.pdf                    1\n",
       "Name: href, Length: 6285, dtype: int64"
      ]
     },
     "execution_count": 145,
     "metadata": {},
     "output_type": "execute_result"
    }
   ],
   "source": [
    "df['href'].value_counts()"
   ]
  },
  {
   "cell_type": "code",
   "execution_count": 146,
   "id": "2d5cc956-50f3-483d-84c2-568b963bb7f1",
   "metadata": {},
   "outputs": [
    {
     "data": {
      "text/plain": [
       "http://sharkattackfile.net/spreadsheets/pdf_directory/w014.01.25-Grant.pdf                 4\n",
       "http://sharkattackfile.net/spreadsheets/pdf_directory/2014.10.02.b-Vandenberg.pdf          3\n",
       "http://sharkattackfile.net/spreadsheets/pdf_directory/1923.00.00.a-NJ fisherman.pdf        2\n",
       "http://sharkattackfile.net/spreadsheets/pdf_directory/1934.12.23.a-b-Inman.pdf             2\n",
       "http://sharkattackfile.net/spreadsheets/pdf_directory/1929.03.04.a-b.Roads-Aldridge.pdf    2\n",
       "                                                                                          ..\n",
       "http://sharkattackfile.net/spreadsheets/pdf_directory/1999.09.10-Warnock.pdf               1\n",
       "http://sharkattackfile.net/spreadsheets/pdf_directory/1999.09.16-Ferguson.pdf              1\n",
       "http://sharkattackfile.net/spreadsheets/pdf_directory/1999.09.18-Wallersheim.pdf           1\n",
       "http://sharkattackfile.net/spreadsheets/pdf_directory/1999.09.24-boat.pdf                  1\n",
       "http://sharkattackfile.net/spreadsheets/pdf_directoryND-0001-Ceylon.pdf                    1\n",
       "Name: href, Length: 6285, dtype: int64"
      ]
     },
     "execution_count": 146,
     "metadata": {},
     "output_type": "execute_result"
    }
   ],
   "source": [
    "df['href'].value_counts()"
   ]
  },
  {
   "cell_type": "code",
   "execution_count": 147,
   "id": "aa7b5b9c-8e46-4178-9fda-4b7dcbe73fa3",
   "metadata": {},
   "outputs": [],
   "source": [
    "df[['Case Number.1', 'href','Date', 'Case Number.2','href formula']] = df[['Case Number.1', 'href','Date', 'Case Number.2','href formula']].fillna(0)"
   ]
  },
  {
   "cell_type": "code",
   "execution_count": 148,
   "id": "0e7406ac-0ed8-463e-9800-68510f157abd",
   "metadata": {},
   "outputs": [
    {
     "data": {
      "text/plain": [
       "Case Number               17021\n",
       "original order            19414\n",
       "pdf                       19421\n",
       "Type                      19425\n",
       "Investigator or Source    19438\n",
       "Injury                    19449\n",
       "Country                   19471\n",
       "Name                      19631\n",
       "Area                      19876\n",
       "Fatal (Y/N)               19960\n",
       "Location                  19961\n",
       "Sex                       19986\n",
       "Age                       22252\n",
       "Species                   22259\n",
       "dtype: int64"
      ]
     },
     "execution_count": 148,
     "metadata": {},
     "output_type": "execute_result"
    }
   ],
   "source": [
    "nulos = df.isnull().sum()\n",
    "nulos[nulos > 0].sort_values()"
   ]
  },
  {
   "cell_type": "code",
   "execution_count": 149,
   "id": "ebaf6f1a-eec7-49dc-a990-71648995f175",
   "metadata": {},
   "outputs": [
    {
     "data": {
      "text/plain": [
       "Area       19661\n",
       "Country    19460\n",
       "dtype: int64"
      ]
     },
     "execution_count": 149,
     "metadata": {},
     "output_type": "execute_result"
    }
   ],
   "source": [
    "df[df.Location.isnull()][['Area','Country']].isnull().sum()"
   ]
  },
  {
   "cell_type": "code",
   "execution_count": 151,
   "id": "f896419b-42fa-45a5-9755-fd5f10658615",
   "metadata": {},
   "outputs": [],
   "source": [
    "df_nulos_location = df[df.Location.isnull()]"
   ]
  },
  {
   "cell_type": "code",
   "execution_count": 152,
   "id": "f7ae3070-a658-4d29-95a5-25a4aa26bcdc",
   "metadata": {},
   "outputs": [
    {
     "data": {
      "text/html": [
       "<div>\n",
       "<style scoped>\n",
       "    .dataframe tbody tr th:only-of-type {\n",
       "        vertical-align: middle;\n",
       "    }\n",
       "\n",
       "    .dataframe tbody tr th {\n",
       "        vertical-align: top;\n",
       "    }\n",
       "\n",
       "    .dataframe thead th {\n",
       "        text-align: right;\n",
       "    }\n",
       "</style>\n",
       "<table border=\"1\" class=\"dataframe\">\n",
       "  <thead>\n",
       "    <tr style=\"text-align: right;\">\n",
       "      <th></th>\n",
       "      <th>Date</th>\n",
       "      <th>Type</th>\n",
       "      <th>Investigator or Source</th>\n",
       "      <th>Injury</th>\n",
       "      <th>Country</th>\n",
       "      <th>Location</th>\n",
       "      <th>Activity</th>\n",
       "      <th>Year</th>\n",
       "      <th>Time</th>\n",
       "    </tr>\n",
       "  </thead>\n",
       "  <tbody>\n",
       "    <tr>\n",
       "      <th>56</th>\n",
       "      <td>09-Dec-2017</td>\n",
       "      <td>Unprovoked</td>\n",
       "      <td>Daily Star, 12/11/2017</td>\n",
       "      <td>Minor injury to arm</td>\n",
       "      <td>BAHAMAS</td>\n",
       "      <td>NaN</td>\n",
       "      <td>Snorkeling</td>\n",
       "      <td>2017.0</td>\n",
       "      <td>0</td>\n",
       "    </tr>\n",
       "    <tr>\n",
       "      <th>62</th>\n",
       "      <td>Reported 13-Nov-2017</td>\n",
       "      <td>Unprovoked</td>\n",
       "      <td>Instagram</td>\n",
       "      <td>Puncture wounds to feet</td>\n",
       "      <td>NaN</td>\n",
       "      <td>NaN</td>\n",
       "      <td>Surfing</td>\n",
       "      <td>2017.0</td>\n",
       "      <td>0</td>\n",
       "    </tr>\n",
       "    <tr>\n",
       "      <th>101</th>\n",
       "      <td>18-Aug-2017</td>\n",
       "      <td>Unprovoked</td>\n",
       "      <td>CBS12, 8/18/2017</td>\n",
       "      <td>Hand injured</td>\n",
       "      <td>BAHAMAS</td>\n",
       "      <td>NaN</td>\n",
       "      <td>Spearfishing</td>\n",
       "      <td>2017.0</td>\n",
       "      <td>15h00</td>\n",
       "    </tr>\n",
       "    <tr>\n",
       "      <th>110</th>\n",
       "      <td>Reported 26-Jul-2017</td>\n",
       "      <td>Unprovoked</td>\n",
       "      <td>RevistaJaraysedal.es, 7/26/2017</td>\n",
       "      <td>Severe lacerations to left hand</td>\n",
       "      <td>BAHAMAS</td>\n",
       "      <td>NaN</td>\n",
       "      <td>Spearfishing</td>\n",
       "      <td>2017.0</td>\n",
       "      <td>0</td>\n",
       "    </tr>\n",
       "    <tr>\n",
       "      <th>132</th>\n",
       "      <td>Reported 14-Jun-2017</td>\n",
       "      <td>Unprovoked</td>\n",
       "      <td>AOL.UK, 6/14/2017</td>\n",
       "      <td>Fingernail pulled off</td>\n",
       "      <td>BAHAMAS</td>\n",
       "      <td>NaN</td>\n",
       "      <td>Feeding sharks</td>\n",
       "      <td>2017.0</td>\n",
       "      <td>0</td>\n",
       "    </tr>\n",
       "    <tr>\n",
       "      <th>...</th>\n",
       "      <td>...</td>\n",
       "      <td>...</td>\n",
       "      <td>...</td>\n",
       "      <td>...</td>\n",
       "      <td>...</td>\n",
       "      <td>...</td>\n",
       "      <td>...</td>\n",
       "      <td>...</td>\n",
       "      <td>...</td>\n",
       "    </tr>\n",
       "    <tr>\n",
       "      <th>25718</th>\n",
       "      <td>0</td>\n",
       "      <td>NaN</td>\n",
       "      <td>NaN</td>\n",
       "      <td>NaN</td>\n",
       "      <td>NaN</td>\n",
       "      <td>NaN</td>\n",
       "      <td>0</td>\n",
       "      <td>0.0</td>\n",
       "      <td>0</td>\n",
       "    </tr>\n",
       "    <tr>\n",
       "      <th>25719</th>\n",
       "      <td>0</td>\n",
       "      <td>NaN</td>\n",
       "      <td>NaN</td>\n",
       "      <td>NaN</td>\n",
       "      <td>NaN</td>\n",
       "      <td>NaN</td>\n",
       "      <td>0</td>\n",
       "      <td>0.0</td>\n",
       "      <td>0</td>\n",
       "    </tr>\n",
       "    <tr>\n",
       "      <th>25720</th>\n",
       "      <td>0</td>\n",
       "      <td>NaN</td>\n",
       "      <td>NaN</td>\n",
       "      <td>NaN</td>\n",
       "      <td>NaN</td>\n",
       "      <td>NaN</td>\n",
       "      <td>0</td>\n",
       "      <td>0.0</td>\n",
       "      <td>0</td>\n",
       "    </tr>\n",
       "    <tr>\n",
       "      <th>25721</th>\n",
       "      <td>0</td>\n",
       "      <td>NaN</td>\n",
       "      <td>NaN</td>\n",
       "      <td>NaN</td>\n",
       "      <td>NaN</td>\n",
       "      <td>NaN</td>\n",
       "      <td>0</td>\n",
       "      <td>0.0</td>\n",
       "      <td>0</td>\n",
       "    </tr>\n",
       "    <tr>\n",
       "      <th>25722</th>\n",
       "      <td>0</td>\n",
       "      <td>NaN</td>\n",
       "      <td>NaN</td>\n",
       "      <td>NaN</td>\n",
       "      <td>NaN</td>\n",
       "      <td>NaN</td>\n",
       "      <td>0</td>\n",
       "      <td>0.0</td>\n",
       "      <td>0</td>\n",
       "    </tr>\n",
       "  </tbody>\n",
       "</table>\n",
       "<p>19961 rows × 9 columns</p>\n",
       "</div>"
      ],
      "text/plain": [
       "                       Date        Type           Investigator or Source  \\\n",
       "56              09-Dec-2017  Unprovoked           Daily Star, 12/11/2017   \n",
       "62     Reported 13-Nov-2017  Unprovoked                        Instagram   \n",
       "101             18-Aug-2017  Unprovoked                 CBS12, 8/18/2017   \n",
       "110    Reported 26-Jul-2017  Unprovoked  RevistaJaraysedal.es, 7/26/2017   \n",
       "132    Reported 14-Jun-2017  Unprovoked                AOL.UK, 6/14/2017   \n",
       "...                     ...         ...                              ...   \n",
       "25718                     0         NaN                              NaN   \n",
       "25719                     0         NaN                              NaN   \n",
       "25720                     0         NaN                              NaN   \n",
       "25721                     0         NaN                              NaN   \n",
       "25722                     0         NaN                              NaN   \n",
       "\n",
       "                                Injury  Country Location        Activity  \\\n",
       "56                 Minor injury to arm  BAHAMAS      NaN      Snorkeling   \n",
       "62             Puncture wounds to feet      NaN      NaN         Surfing   \n",
       "101                       Hand injured  BAHAMAS      NaN    Spearfishing   \n",
       "110    Severe lacerations to left hand  BAHAMAS      NaN    Spearfishing   \n",
       "132             Fingernail pulled off   BAHAMAS      NaN  Feeding sharks   \n",
       "...                                ...      ...      ...             ...   \n",
       "25718                              NaN      NaN      NaN               0   \n",
       "25719                              NaN      NaN      NaN               0   \n",
       "25720                              NaN      NaN      NaN               0   \n",
       "25721                              NaN      NaN      NaN               0   \n",
       "25722                              NaN      NaN      NaN               0   \n",
       "\n",
       "         Year   Time  \n",
       "56     2017.0      0  \n",
       "62     2017.0      0  \n",
       "101    2017.0  15h00  \n",
       "110    2017.0      0  \n",
       "132    2017.0      0  \n",
       "...       ...    ...  \n",
       "25718     0.0      0  \n",
       "25719     0.0      0  \n",
       "25720     0.0      0  \n",
       "25721     0.0      0  \n",
       "25722     0.0      0  \n",
       "\n",
       "[19961 rows x 9 columns]"
      ]
     },
     "execution_count": 152,
     "metadata": {},
     "output_type": "execute_result"
    }
   ],
   "source": [
    "df_nulos_location[columnas_mantener]"
   ]
  },
  {
   "cell_type": "code",
   "execution_count": 153,
   "id": "13597246-41eb-4da1-b827-c5e6579b87f4",
   "metadata": {},
   "outputs": [
    {
     "data": {
      "text/plain": [
       "Torres Strait               12\n",
       "Florida                     12\n",
       "Hawaii                      11\n",
       "New South Wales              7\n",
       "Mirs Bay                     7\n",
       "                            ..\n",
       "Luzon                        1\n",
       "Western Caroline Islands     1\n",
       "Antibes                      1\n",
       "Illeginni Atoll              1\n",
       "Moala Island                 1\n",
       "Name: Area, Length: 214, dtype: int64"
      ]
     },
     "execution_count": 153,
     "metadata": {},
     "output_type": "execute_result"
    }
   ],
   "source": [
    "df_nulos_location['Area'].value_counts()"
   ]
  },
  {
   "cell_type": "code",
   "execution_count": 154,
   "id": "8c2c4c31-fb35-4e2f-afa6-8783d4bab255",
   "metadata": {},
   "outputs": [
    {
     "data": {
      "text/plain": [
       "Florida                                 1037\n",
       "New South Wales                          486\n",
       "Queensland                               311\n",
       "Hawaii                                   298\n",
       "California                               290\n",
       "                                        ... \n",
       "Ysabel Island                              1\n",
       " Lau Province                              1\n",
       "South Coast, East New Britain              1\n",
       "Between Southampton & Canary Islands       1\n",
       "Moala Island                               1\n",
       "Name: Area, Length: 825, dtype: int64"
      ]
     },
     "execution_count": 154,
     "metadata": {},
     "output_type": "execute_result"
    }
   ],
   "source": [
    "df['Area'].value_counts()"
   ]
  },
  {
   "cell_type": "code",
   "execution_count": 155,
   "id": "948b4abd-8fe4-4d49-9269-95d5fe0792d9",
   "metadata": {},
   "outputs": [],
   "source": [
    "df[['Area', 'Country']] = df[['Area','Country']].fillna(0)\n"
   ]
  },
  {
   "cell_type": "code",
   "execution_count": 156,
   "id": "8ca972c5-2b1f-4b66-8c7c-c3178418c648",
   "metadata": {},
   "outputs": [
    {
     "data": {
      "text/plain": [
       "Case Number               17021\n",
       "original order            19414\n",
       "pdf                       19421\n",
       "Type                      19425\n",
       "Investigator or Source    19438\n",
       "Injury                    19449\n",
       "Name                      19631\n",
       "Fatal (Y/N)               19960\n",
       "Location                  19961\n",
       "Sex                       19986\n",
       "Age                       22252\n",
       "Species                   22259\n",
       "dtype: int64"
      ]
     },
     "execution_count": 156,
     "metadata": {},
     "output_type": "execute_result"
    }
   ],
   "source": [
    "nulos = df.isnull().sum()\n",
    "nulos[nulos > 0].sort_values()"
   ]
  },
  {
   "cell_type": "code",
   "execution_count": 157,
   "id": "b82feaf3-12ca-4afa-a416-554930e7c0a0",
   "metadata": {},
   "outputs": [],
   "source": [
    "df[['Type', 'pdf', 'Location']] = df[['Type', 'pdf', 'Location']].fillna(0)"
   ]
  },
  {
   "cell_type": "code",
   "execution_count": 158,
   "id": "851501f9-1a8b-43f4-9c22-e244d50e6526",
   "metadata": {},
   "outputs": [
    {
     "data": {
      "text/plain": [
       "Case Number               17021\n",
       "original order            19414\n",
       "Investigator or Source    19438\n",
       "Injury                    19449\n",
       "Name                      19631\n",
       "Fatal (Y/N)               19960\n",
       "Sex                       19986\n",
       "Age                       22252\n",
       "Species                   22259\n",
       "dtype: int64"
      ]
     },
     "execution_count": 158,
     "metadata": {},
     "output_type": "execute_result"
    }
   ],
   "source": [
    "nulos = df.isnull().sum()\n",
    "nulos[nulos > 0].sort_values()"
   ]
  },
  {
   "cell_type": "code",
   "execution_count": 164,
   "id": "ca943fca-5a08-4a68-875d-db2cb47faa83",
   "metadata": {},
   "outputs": [
    {
     "data": {
      "text/plain": [
       "Age    19620\n",
       "dtype: int64"
      ]
     },
     "execution_count": 164,
     "metadata": {},
     "output_type": "execute_result"
    }
   ],
   "source": [
    "df[df.Name.isnull()][['Age']].isnull().sum()"
   ]
  },
  {
   "cell_type": "code",
   "execution_count": 165,
   "id": "42eec0bb-da49-4953-812e-fec33aab2e82",
   "metadata": {},
   "outputs": [],
   "source": [
    "df_nulos_name = df[df.Name.isnull()]"
   ]
  },
  {
   "cell_type": "code",
   "execution_count": 166,
   "id": "f0977f73-58e6-4e6e-b1d8-31f2c840ab2c",
   "metadata": {},
   "outputs": [
    {
     "data": {
      "text/html": [
       "<div>\n",
       "<style scoped>\n",
       "    .dataframe tbody tr th:only-of-type {\n",
       "        vertical-align: middle;\n",
       "    }\n",
       "\n",
       "    .dataframe tbody tr th {\n",
       "        vertical-align: top;\n",
       "    }\n",
       "\n",
       "    .dataframe thead th {\n",
       "        text-align: right;\n",
       "    }\n",
       "</style>\n",
       "<table border=\"1\" class=\"dataframe\">\n",
       "  <thead>\n",
       "    <tr style=\"text-align: right;\">\n",
       "      <th></th>\n",
       "      <th>Date</th>\n",
       "      <th>Type</th>\n",
       "      <th>Investigator or Source</th>\n",
       "      <th>Injury</th>\n",
       "      <th>Country</th>\n",
       "      <th>Location</th>\n",
       "      <th>Activity</th>\n",
       "      <th>Year</th>\n",
       "      <th>Time</th>\n",
       "    </tr>\n",
       "  </thead>\n",
       "  <tbody>\n",
       "    <tr>\n",
       "      <th>32</th>\n",
       "      <td>09-Apr-2018</td>\n",
       "      <td>Unprovoked</td>\n",
       "      <td>Les Nouvelles Caledoniennes, 4/10/2018</td>\n",
       "      <td>No injury, shark bit board</td>\n",
       "      <td>NEW CALEDONIA</td>\n",
       "      <td>Magenta Beach, Noumea</td>\n",
       "      <td>Windsurfing</td>\n",
       "      <td>2018.0</td>\n",
       "      <td>17h00</td>\n",
       "    </tr>\n",
       "    <tr>\n",
       "      <th>86</th>\n",
       "      <td>Sep-2017</td>\n",
       "      <td>Boating</td>\n",
       "      <td>B. Myatt, GSAF</td>\n",
       "      <td>sharks rammed boats, no injury to occupants</td>\n",
       "      <td>AUSTRALIA</td>\n",
       "      <td>Esperance</td>\n",
       "      <td>Fishing</td>\n",
       "      <td>2017.0</td>\n",
       "      <td>0</td>\n",
       "    </tr>\n",
       "    <tr>\n",
       "      <th>124</th>\n",
       "      <td>02-Jul-2017</td>\n",
       "      <td>Invalid</td>\n",
       "      <td>Linfo, 7/3/2017</td>\n",
       "      <td>Skull found in shark, a probable drowning &amp; sc...</td>\n",
       "      <td>COMOROS</td>\n",
       "      <td>Moya</td>\n",
       "      <td>Fishing</td>\n",
       "      <td>2017.0</td>\n",
       "      <td>0</td>\n",
       "    </tr>\n",
       "    <tr>\n",
       "      <th>154</th>\n",
       "      <td>17-Apr-2017</td>\n",
       "      <td>Unprovoked</td>\n",
       "      <td>Daytona Beach News-Journal, 4/17/2017</td>\n",
       "      <td>Minor bite to the foot</td>\n",
       "      <td>USA</td>\n",
       "      <td>Daytona Beach, Volusia County</td>\n",
       "      <td>0</td>\n",
       "      <td>2017.0</td>\n",
       "      <td>Afternoon</td>\n",
       "    </tr>\n",
       "    <tr>\n",
       "      <th>184</th>\n",
       "      <td>13-Jan-2017</td>\n",
       "      <td>Unprovoked</td>\n",
       "      <td>Brisbane Times,1/13/2017</td>\n",
       "      <td>Injury to hand</td>\n",
       "      <td>AUSTRALIA</td>\n",
       "      <td>Clairview</td>\n",
       "      <td>Swimming</td>\n",
       "      <td>2017.0</td>\n",
       "      <td>13h30</td>\n",
       "    </tr>\n",
       "    <tr>\n",
       "      <th>...</th>\n",
       "      <td>...</td>\n",
       "      <td>...</td>\n",
       "      <td>...</td>\n",
       "      <td>...</td>\n",
       "      <td>...</td>\n",
       "      <td>...</td>\n",
       "      <td>...</td>\n",
       "      <td>...</td>\n",
       "      <td>...</td>\n",
       "    </tr>\n",
       "    <tr>\n",
       "      <th>25718</th>\n",
       "      <td>0</td>\n",
       "      <td>0</td>\n",
       "      <td>NaN</td>\n",
       "      <td>NaN</td>\n",
       "      <td>0</td>\n",
       "      <td>0</td>\n",
       "      <td>0</td>\n",
       "      <td>0.0</td>\n",
       "      <td>0</td>\n",
       "    </tr>\n",
       "    <tr>\n",
       "      <th>25719</th>\n",
       "      <td>0</td>\n",
       "      <td>0</td>\n",
       "      <td>NaN</td>\n",
       "      <td>NaN</td>\n",
       "      <td>0</td>\n",
       "      <td>0</td>\n",
       "      <td>0</td>\n",
       "      <td>0.0</td>\n",
       "      <td>0</td>\n",
       "    </tr>\n",
       "    <tr>\n",
       "      <th>25720</th>\n",
       "      <td>0</td>\n",
       "      <td>0</td>\n",
       "      <td>NaN</td>\n",
       "      <td>NaN</td>\n",
       "      <td>0</td>\n",
       "      <td>0</td>\n",
       "      <td>0</td>\n",
       "      <td>0.0</td>\n",
       "      <td>0</td>\n",
       "    </tr>\n",
       "    <tr>\n",
       "      <th>25721</th>\n",
       "      <td>0</td>\n",
       "      <td>0</td>\n",
       "      <td>NaN</td>\n",
       "      <td>NaN</td>\n",
       "      <td>0</td>\n",
       "      <td>0</td>\n",
       "      <td>0</td>\n",
       "      <td>0.0</td>\n",
       "      <td>0</td>\n",
       "    </tr>\n",
       "    <tr>\n",
       "      <th>25722</th>\n",
       "      <td>0</td>\n",
       "      <td>0</td>\n",
       "      <td>NaN</td>\n",
       "      <td>NaN</td>\n",
       "      <td>0</td>\n",
       "      <td>0</td>\n",
       "      <td>0</td>\n",
       "      <td>0.0</td>\n",
       "      <td>0</td>\n",
       "    </tr>\n",
       "  </tbody>\n",
       "</table>\n",
       "<p>19631 rows × 9 columns</p>\n",
       "</div>"
      ],
      "text/plain": [
       "              Date        Type                  Investigator or Source  \\\n",
       "32     09-Apr-2018  Unprovoked  Les Nouvelles Caledoniennes, 4/10/2018   \n",
       "86        Sep-2017     Boating                          B. Myatt, GSAF   \n",
       "124    02-Jul-2017     Invalid                         Linfo, 7/3/2017   \n",
       "154    17-Apr-2017  Unprovoked   Daytona Beach News-Journal, 4/17/2017   \n",
       "184    13-Jan-2017  Unprovoked                Brisbane Times,1/13/2017   \n",
       "...            ...         ...                                     ...   \n",
       "25718            0           0                                     NaN   \n",
       "25719            0           0                                     NaN   \n",
       "25720            0           0                                     NaN   \n",
       "25721            0           0                                     NaN   \n",
       "25722            0           0                                     NaN   \n",
       "\n",
       "                                                  Injury        Country  \\\n",
       "32                            No injury, shark bit board  NEW CALEDONIA   \n",
       "86           sharks rammed boats, no injury to occupants      AUSTRALIA   \n",
       "124    Skull found in shark, a probable drowning & sc...        COMOROS   \n",
       "154                               Minor bite to the foot            USA   \n",
       "184                                       Injury to hand      AUSTRALIA   \n",
       "...                                                  ...            ...   \n",
       "25718                                                NaN              0   \n",
       "25719                                                NaN              0   \n",
       "25720                                                NaN              0   \n",
       "25721                                                NaN              0   \n",
       "25722                                                NaN              0   \n",
       "\n",
       "                            Location     Activity    Year       Time  \n",
       "32             Magenta Beach, Noumea  Windsurfing  2018.0      17h00  \n",
       "86                         Esperance      Fishing  2017.0          0  \n",
       "124                             Moya      Fishing  2017.0          0  \n",
       "154    Daytona Beach, Volusia County            0  2017.0  Afternoon  \n",
       "184                        Clairview     Swimming  2017.0      13h30  \n",
       "...                              ...          ...     ...        ...  \n",
       "25718                              0            0     0.0          0  \n",
       "25719                              0            0     0.0          0  \n",
       "25720                              0            0     0.0          0  \n",
       "25721                              0            0     0.0          0  \n",
       "25722                              0            0     0.0          0  \n",
       "\n",
       "[19631 rows x 9 columns]"
      ]
     },
     "execution_count": 166,
     "metadata": {},
     "output_type": "execute_result"
    }
   ],
   "source": [
    "df_nulos_name[columnas_mantener]"
   ]
  },
  {
   "cell_type": "code",
   "execution_count": 169,
   "id": "4b86c193-0294-4830-94e8-9013aabbefab",
   "metadata": {},
   "outputs": [
    {
     "data": {
      "text/plain": [
       "57    1\n",
       "20    1\n",
       "60    1\n",
       "17    1\n",
       "12    1\n",
       "11    1\n",
       "32    1\n",
       "21    1\n",
       "26    1\n",
       "19    1\n",
       "7     1\n",
       "Name: Age, dtype: int64"
      ]
     },
     "execution_count": 169,
     "metadata": {},
     "output_type": "execute_result"
    }
   ],
   "source": [
    "df_nulos_name['Age'].value_counts()"
   ]
  },
  {
   "cell_type": "code",
   "execution_count": 168,
   "id": "22b5a69e-25f6-4b03-9813-395a545da2ed",
   "metadata": {},
   "outputs": [
    {
     "data": {
      "text/plain": [
       "17          154\n",
       "18          150\n",
       "19          142\n",
       "20          141\n",
       "15          139\n",
       "           ... \n",
       "32 & 30       1\n",
       "60's          1\n",
       "20?           1\n",
       " 28           1\n",
       "13 or 14      1\n",
       "Name: Age, Length: 155, dtype: int64"
      ]
     },
     "execution_count": 168,
     "metadata": {},
     "output_type": "execute_result"
    }
   ],
   "source": [
    "df['Age'].value_counts()"
   ]
  },
  {
   "cell_type": "code",
   "execution_count": 171,
   "id": "bcd561a7-af8b-445a-afd3-07e1f3e2108f",
   "metadata": {},
   "outputs": [],
   "source": [
    "df[['Age', 'Name']] = df[['Age','Name']].fillna(0)"
   ]
  },
  {
   "cell_type": "code",
   "execution_count": 172,
   "id": "1a4f5bce-8554-4da5-9db5-b5d6a8f24ea6",
   "metadata": {},
   "outputs": [
    {
     "data": {
      "text/plain": [
       "Case Number               17021\n",
       "original order            19414\n",
       "Investigator or Source    19438\n",
       "Injury                    19449\n",
       "Fatal (Y/N)               19960\n",
       "Sex                       19986\n",
       "Species                   22259\n",
       "dtype: int64"
      ]
     },
     "execution_count": 172,
     "metadata": {},
     "output_type": "execute_result"
    }
   ],
   "source": [
    "nulos = df.isnull().sum()\n",
    "nulos[nulos > 0].sort_values()"
   ]
  },
  {
   "cell_type": "code",
   "execution_count": 173,
   "id": "a5b177ad-0e3c-435d-ae99-4cde22260bb6",
   "metadata": {},
   "outputs": [
    {
     "data": {
      "text/plain": [
       "(25723, 22)"
      ]
     },
     "execution_count": 173,
     "metadata": {},
     "output_type": "execute_result"
    }
   ],
   "source": [
    "df.shape"
   ]
  },
  {
   "cell_type": "code",
   "execution_count": 177,
   "id": "1ceb53e9-1858-4b57-b56f-3eab2648cdfd",
   "metadata": {},
   "outputs": [
    {
     "data": {
      "text/html": [
       "<div>\n",
       "<style scoped>\n",
       "    .dataframe tbody tr th:only-of-type {\n",
       "        vertical-align: middle;\n",
       "    }\n",
       "\n",
       "    .dataframe tbody tr th {\n",
       "        vertical-align: top;\n",
       "    }\n",
       "\n",
       "    .dataframe thead th {\n",
       "        text-align: right;\n",
       "    }\n",
       "</style>\n",
       "<table border=\"1\" class=\"dataframe\">\n",
       "  <thead>\n",
       "    <tr style=\"text-align: right;\">\n",
       "      <th></th>\n",
       "      <th>Case Number</th>\n",
       "      <th>Date</th>\n",
       "      <th>Year</th>\n",
       "      <th>Type</th>\n",
       "      <th>Country</th>\n",
       "      <th>Area</th>\n",
       "      <th>Location</th>\n",
       "      <th>Activity</th>\n",
       "      <th>Name</th>\n",
       "      <th>Sex</th>\n",
       "      <th>...</th>\n",
       "      <th>Fatal (Y/N)</th>\n",
       "      <th>Time</th>\n",
       "      <th>Species</th>\n",
       "      <th>Investigator or Source</th>\n",
       "      <th>pdf</th>\n",
       "      <th>href formula</th>\n",
       "      <th>href</th>\n",
       "      <th>Case Number.1</th>\n",
       "      <th>Case Number.2</th>\n",
       "      <th>original order</th>\n",
       "    </tr>\n",
       "  </thead>\n",
       "  <tbody>\n",
       "    <tr>\n",
       "      <th>0</th>\n",
       "      <td>2018.06.25</td>\n",
       "      <td>25-Jun-2018</td>\n",
       "      <td>2018.0</td>\n",
       "      <td>Boating</td>\n",
       "      <td>USA</td>\n",
       "      <td>California</td>\n",
       "      <td>Oceanside, San Diego County</td>\n",
       "      <td>Paddling</td>\n",
       "      <td>Julie Wolfe</td>\n",
       "      <td>F</td>\n",
       "      <td>...</td>\n",
       "      <td>N</td>\n",
       "      <td>18h00</td>\n",
       "      <td>White shark</td>\n",
       "      <td>R. Collier, GSAF</td>\n",
       "      <td>2018.06.25-Wolfe.pdf</td>\n",
       "      <td>http://sharkattackfile.net/spreadsheets/pdf_di...</td>\n",
       "      <td>http://sharkattackfile.net/spreadsheets/pdf_di...</td>\n",
       "      <td>2018.06.25</td>\n",
       "      <td>2018.06.25</td>\n",
       "      <td>6303.0</td>\n",
       "    </tr>\n",
       "    <tr>\n",
       "      <th>1</th>\n",
       "      <td>2018.06.18</td>\n",
       "      <td>18-Jun-2018</td>\n",
       "      <td>2018.0</td>\n",
       "      <td>Unprovoked</td>\n",
       "      <td>USA</td>\n",
       "      <td>Georgia</td>\n",
       "      <td>St. Simon Island, Glynn County</td>\n",
       "      <td>Standing</td>\n",
       "      <td>AdysonMcNeely</td>\n",
       "      <td>F</td>\n",
       "      <td>...</td>\n",
       "      <td>N</td>\n",
       "      <td>14h00  -15h00</td>\n",
       "      <td>NaN</td>\n",
       "      <td>K.McMurray, TrackingSharks.com</td>\n",
       "      <td>2018.06.18-McNeely.pdf</td>\n",
       "      <td>http://sharkattackfile.net/spreadsheets/pdf_di...</td>\n",
       "      <td>http://sharkattackfile.net/spreadsheets/pdf_di...</td>\n",
       "      <td>2018.06.18</td>\n",
       "      <td>2018.06.18</td>\n",
       "      <td>6302.0</td>\n",
       "    </tr>\n",
       "    <tr>\n",
       "      <th>2</th>\n",
       "      <td>2018.06.09</td>\n",
       "      <td>09-Jun-2018</td>\n",
       "      <td>2018.0</td>\n",
       "      <td>Invalid</td>\n",
       "      <td>USA</td>\n",
       "      <td>Hawaii</td>\n",
       "      <td>Habush, Oahu</td>\n",
       "      <td>Surfing</td>\n",
       "      <td>John Denges</td>\n",
       "      <td>M</td>\n",
       "      <td>...</td>\n",
       "      <td>N</td>\n",
       "      <td>07h45</td>\n",
       "      <td>NaN</td>\n",
       "      <td>K.McMurray, TrackingSharks.com</td>\n",
       "      <td>2018.06.09-Denges.pdf</td>\n",
       "      <td>http://sharkattackfile.net/spreadsheets/pdf_di...</td>\n",
       "      <td>http://sharkattackfile.net/spreadsheets/pdf_di...</td>\n",
       "      <td>2018.06.09</td>\n",
       "      <td>2018.06.09</td>\n",
       "      <td>6301.0</td>\n",
       "    </tr>\n",
       "    <tr>\n",
       "      <th>3</th>\n",
       "      <td>2018.06.08</td>\n",
       "      <td>08-Jun-2018</td>\n",
       "      <td>2018.0</td>\n",
       "      <td>Unprovoked</td>\n",
       "      <td>AUSTRALIA</td>\n",
       "      <td>New South Wales</td>\n",
       "      <td>Arrawarra Headland</td>\n",
       "      <td>Surfing</td>\n",
       "      <td>male</td>\n",
       "      <td>M</td>\n",
       "      <td>...</td>\n",
       "      <td>N</td>\n",
       "      <td>0</td>\n",
       "      <td>2 m shark</td>\n",
       "      <td>B. Myatt, GSAF</td>\n",
       "      <td>2018.06.08-Arrawarra.pdf</td>\n",
       "      <td>http://sharkattackfile.net/spreadsheets/pdf_di...</td>\n",
       "      <td>http://sharkattackfile.net/spreadsheets/pdf_di...</td>\n",
       "      <td>2018.06.08</td>\n",
       "      <td>2018.06.08</td>\n",
       "      <td>6300.0</td>\n",
       "    </tr>\n",
       "    <tr>\n",
       "      <th>4</th>\n",
       "      <td>2018.06.04</td>\n",
       "      <td>04-Jun-2018</td>\n",
       "      <td>2018.0</td>\n",
       "      <td>Provoked</td>\n",
       "      <td>MEXICO</td>\n",
       "      <td>Colima</td>\n",
       "      <td>La Ticla</td>\n",
       "      <td>Free diving</td>\n",
       "      <td>Gustavo Ramos</td>\n",
       "      <td>M</td>\n",
       "      <td>...</td>\n",
       "      <td>N</td>\n",
       "      <td>0</td>\n",
       "      <td>Tiger shark, 3m</td>\n",
       "      <td>A .Kipper</td>\n",
       "      <td>2018.06.04-Ramos.pdf</td>\n",
       "      <td>http://sharkattackfile.net/spreadsheets/pdf_di...</td>\n",
       "      <td>http://sharkattackfile.net/spreadsheets/pdf_di...</td>\n",
       "      <td>2018.06.04</td>\n",
       "      <td>2018.06.04</td>\n",
       "      <td>6299.0</td>\n",
       "    </tr>\n",
       "  </tbody>\n",
       "</table>\n",
       "<p>5 rows × 22 columns</p>\n",
       "</div>"
      ],
      "text/plain": [
       "  Case Number         Date    Year        Type    Country             Area  \\\n",
       "0  2018.06.25  25-Jun-2018  2018.0     Boating        USA       California   \n",
       "1  2018.06.18  18-Jun-2018  2018.0  Unprovoked        USA          Georgia   \n",
       "2  2018.06.09  09-Jun-2018  2018.0     Invalid        USA           Hawaii   \n",
       "3  2018.06.08  08-Jun-2018  2018.0  Unprovoked  AUSTRALIA  New South Wales   \n",
       "4  2018.06.04  04-Jun-2018  2018.0    Provoked     MEXICO           Colima   \n",
       "\n",
       "                         Location     Activity            Name Sex   ...  \\\n",
       "0     Oceanside, San Diego County     Paddling     Julie Wolfe    F  ...   \n",
       "1  St. Simon Island, Glynn County     Standing  AdysonMcNeely     F  ...   \n",
       "2                    Habush, Oahu      Surfing     John Denges    M  ...   \n",
       "3              Arrawarra Headland      Surfing            male    M  ...   \n",
       "4                        La Ticla  Free diving  Gustavo Ramos     M  ...   \n",
       "\n",
       "  Fatal (Y/N)           Time         Species           Investigator or Source  \\\n",
       "0           N          18h00      White shark                R. Collier, GSAF   \n",
       "1           N  14h00  -15h00              NaN  K.McMurray, TrackingSharks.com   \n",
       "2           N          07h45              NaN  K.McMurray, TrackingSharks.com   \n",
       "3           N              0        2 m shark                  B. Myatt, GSAF   \n",
       "4           N              0  Tiger shark, 3m                       A .Kipper   \n",
       "\n",
       "                        pdf  \\\n",
       "0      2018.06.25-Wolfe.pdf   \n",
       "1    2018.06.18-McNeely.pdf   \n",
       "2     2018.06.09-Denges.pdf   \n",
       "3  2018.06.08-Arrawarra.pdf   \n",
       "4      2018.06.04-Ramos.pdf   \n",
       "\n",
       "                                        href formula  \\\n",
       "0  http://sharkattackfile.net/spreadsheets/pdf_di...   \n",
       "1  http://sharkattackfile.net/spreadsheets/pdf_di...   \n",
       "2  http://sharkattackfile.net/spreadsheets/pdf_di...   \n",
       "3  http://sharkattackfile.net/spreadsheets/pdf_di...   \n",
       "4  http://sharkattackfile.net/spreadsheets/pdf_di...   \n",
       "\n",
       "                                                href Case Number.1  \\\n",
       "0  http://sharkattackfile.net/spreadsheets/pdf_di...    2018.06.25   \n",
       "1  http://sharkattackfile.net/spreadsheets/pdf_di...    2018.06.18   \n",
       "2  http://sharkattackfile.net/spreadsheets/pdf_di...    2018.06.09   \n",
       "3  http://sharkattackfile.net/spreadsheets/pdf_di...    2018.06.08   \n",
       "4  http://sharkattackfile.net/spreadsheets/pdf_di...    2018.06.04   \n",
       "\n",
       "  Case Number.2 original order  \n",
       "0    2018.06.25         6303.0  \n",
       "1    2018.06.18         6302.0  \n",
       "2    2018.06.09         6301.0  \n",
       "3    2018.06.08         6300.0  \n",
       "4    2018.06.04         6299.0  \n",
       "\n",
       "[5 rows x 22 columns]"
      ]
     },
     "execution_count": 177,
     "metadata": {},
     "output_type": "execute_result"
    }
   ],
   "source": [
    "df.head()"
   ]
  },
  {
   "cell_type": "code",
   "execution_count": 182,
   "id": "cc580c71-09ef-4b16-ba39-47ef58657b2d",
   "metadata": {},
   "outputs": [
    {
     "data": {
      "text/plain": [
       "Case Number                object\n",
       "Date                       object\n",
       "Year                      float64\n",
       "Type                       object\n",
       "Country                    object\n",
       "Area                       object\n",
       "Location                   object\n",
       "Activity                   object\n",
       "Name                       object\n",
       "Sex                        object\n",
       "Age                        object\n",
       "Injury                     object\n",
       "Fatal (Y/N)                object\n",
       "Time                       object\n",
       "Species                    object\n",
       "Investigator or Source     object\n",
       "pdf                        object\n",
       "href formula               object\n",
       "href                       object\n",
       "Case Number.1              object\n",
       "Case Number.2              object\n",
       "original order            float64\n",
       "dtype: object"
      ]
     },
     "execution_count": 182,
     "metadata": {},
     "output_type": "execute_result"
    }
   ],
   "source": [
    "df.dtypes"
   ]
  },
  {
   "cell_type": "code",
   "execution_count": null,
   "id": "4595b0fa-bb14-4723-895f-8582c9624544",
   "metadata": {},
   "outputs": [
    {
     "data": {
      "text/plain": [
       "0                        19471\n",
       "USA                       2229\n",
       "AUSTRALIA                 1338\n",
       "SOUTH AFRICA               579\n",
       "PAPUA NEW GUINEA           134\n",
       "                         ...  \n",
       "THE BALKANS                  1\n",
       "NORTH ATLANTIC OCEAN         1\n",
       "MAYOTTE                      1\n",
       "GABON                        1\n",
       "CEYLON (SRI LANKA)           1\n",
       "Name: Country, Length: 213, dtype: int64"
      ]
     },
     "execution_count": 185,
     "metadata": {},
     "output_type": "execute_result"
    }
   ],
   "source": [
    "df.Country.astype(str).value_counts()"
   ]
  },
  {
   "cell_type": "code",
   "execution_count": 186,
   "id": "d0af2b8f-92d3-444c-aef1-be3badad988a",
   "metadata": {},
   "outputs": [
    {
     "data": {
      "text/plain": [
       "0                                         19965\n",
       "Surfing                                     971\n",
       "Swimming                                    869\n",
       "Fishing                                     431\n",
       "Spearfishing                                333\n",
       "                                          ...  \n",
       "Playing with a frisbee in the shallows        1\n",
       "Sinking of the ferryboat Dumaguete            1\n",
       "Wreck of the Storm King                       1\n",
       "Feeding mullet to sharks                      1\n",
       "Wreck of  large double sailing canoe          1\n",
       "Name: Activity, Length: 1533, dtype: int64"
      ]
     },
     "execution_count": 186,
     "metadata": {},
     "output_type": "execute_result"
    }
   ],
   "source": [
    "df.Activity.astype(str).value_counts()"
   ]
  },
  {
   "cell_type": "code",
   "execution_count": 196,
   "id": "8986de88-ef19-46ea-98e4-0a6f68945565",
   "metadata": {},
   "outputs": [],
   "source": [
    "df.to_csv('Shark_clean_output.csv', index = False)"
   ]
  },
  {
   "cell_type": "code",
   "execution_count": null,
   "id": "fe2b04ac-3f15-4646-a20a-d0b8f197bb85",
   "metadata": {},
   "outputs": [],
   "source": []
  }
 ],
 "metadata": {
  "kernelspec": {
   "display_name": "Python 3 (ipykernel)",
   "language": "python",
   "name": "python3"
  },
  "language_info": {
   "codemirror_mode": {
    "name": "ipython",
    "version": 3
   },
   "file_extension": ".py",
   "mimetype": "text/x-python",
   "name": "python",
   "nbconvert_exporter": "python",
   "pygments_lexer": "ipython3",
   "version": "3.9.12"
  }
 },
 "nbformat": 4,
 "nbformat_minor": 5
}
