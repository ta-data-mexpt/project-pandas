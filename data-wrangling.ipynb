{
 "cells": [
  {
   "cell_type": "code",
   "execution_count": 25,
   "metadata": {},
   "outputs": [
    {
     "output_type": "execute_result",
     "data": {
      "text/plain": "    Case Number       Date  Year        Type    Country      Area  \\\n0  2016.09.18.c  18-Sep-16  2016  Unprovoked        USA   Florida   \n1  2016.09.18.b  18-Sep-16  2016  Unprovoked        USA   Florida   \n2  2016.09.18.a  18-Sep-16  2016  Unprovoked        USA   Florida   \n3    2016.09.17  17-Sep-16  2016  Unprovoked  AUSTRALIA  Victoria   \n4    2016.09.15  16-Sep-16  2016  Unprovoked  AUSTRALIA  Victoria   \n\n                           Location Activity             Name Sex   ...  \\\n0  New Smyrna Beach, Volusia County  Surfing             male    M  ...   \n1  New Smyrna Beach, Volusia County  Surfing   Chucky Luciano    M  ...   \n2  New Smyrna Beach, Volusia County  Surfing             male    M  ...   \n3                  Thirteenth Beach  Surfing  Rory Angiolella    M  ...   \n4                       Bells Beach  Surfing             male    M  ...   \n\n    Species        Investigator or Source                        pdf  \\\n0        NaN  Orlando Sentinel, 9/19/2016       2016.09.18.c-NSB.pdf   \n1        NaN  Orlando Sentinel, 9/19/2016   2016.09.18.b-Luciano.pdf   \n2        NaN  Orlando Sentinel, 9/19/2016       2016.09.18.a-NSB.pdf   \n3        NaN           The Age, 9/18/2016  2016.09.17-Angiolella.pdf   \n4  2 m shark           The Age, 9/16/2016  2016.09.16-BellsBeach.pdf   \n\n                                        href formula  \\\n0  http://sharkattackfile.net/spreadsheets/pdf_di...   \n1  http://sharkattackfile.net/spreadsheets/pdf_di...   \n2  http://sharkattackfile.net/spreadsheets/pdf_di...   \n3  http://sharkattackfile.net/spreadsheets/pdf_di...   \n4  http://sharkattackfile.net/spreadsheets/pdf_di...   \n\n                                                href Case Number.1  \\\n0  http://sharkattackfile.net/spreadsheets/pdf_di...  2016.09.18.c   \n1  http://sharkattackfile.net/spreadsheets/pdf_di...  2016.09.18.b   \n2  http://sharkattackfile.net/spreadsheets/pdf_di...  2016.09.18.a   \n3  http://sharkattackfile.net/spreadsheets/pdf_di...    2016.09.17   \n4  http://sharkattackfile.net/spreadsheets/pdf_di...    2016.09.16   \n\n  Case Number.2 original order Unnamed: 22 Unnamed: 23  \n0  2016.09.18.c           5993         NaN         NaN  \n1  2016.09.18.b           5992         NaN         NaN  \n2  2016.09.18.a           5991         NaN         NaN  \n3    2016.09.17           5990         NaN         NaN  \n4    2016.09.15           5989         NaN         NaN  \n\n[5 rows x 24 columns]",
      "text/html": "<div>\n<style scoped>\n    .dataframe tbody tr th:only-of-type {\n        vertical-align: middle;\n    }\n\n    .dataframe tbody tr th {\n        vertical-align: top;\n    }\n\n    .dataframe thead th {\n        text-align: right;\n    }\n</style>\n<table border=\"1\" class=\"dataframe\">\n  <thead>\n    <tr style=\"text-align: right;\">\n      <th></th>\n      <th>Case Number</th>\n      <th>Date</th>\n      <th>Year</th>\n      <th>Type</th>\n      <th>Country</th>\n      <th>Area</th>\n      <th>Location</th>\n      <th>Activity</th>\n      <th>Name</th>\n      <th>Sex</th>\n      <th>...</th>\n      <th>Species</th>\n      <th>Investigator or Source</th>\n      <th>pdf</th>\n      <th>href formula</th>\n      <th>href</th>\n      <th>Case Number.1</th>\n      <th>Case Number.2</th>\n      <th>original order</th>\n      <th>Unnamed: 22</th>\n      <th>Unnamed: 23</th>\n    </tr>\n  </thead>\n  <tbody>\n    <tr>\n      <th>0</th>\n      <td>2016.09.18.c</td>\n      <td>18-Sep-16</td>\n      <td>2016</td>\n      <td>Unprovoked</td>\n      <td>USA</td>\n      <td>Florida</td>\n      <td>New Smyrna Beach, Volusia County</td>\n      <td>Surfing</td>\n      <td>male</td>\n      <td>M</td>\n      <td>...</td>\n      <td>NaN</td>\n      <td>Orlando Sentinel, 9/19/2016</td>\n      <td>2016.09.18.c-NSB.pdf</td>\n      <td>http://sharkattackfile.net/spreadsheets/pdf_di...</td>\n      <td>http://sharkattackfile.net/spreadsheets/pdf_di...</td>\n      <td>2016.09.18.c</td>\n      <td>2016.09.18.c</td>\n      <td>5993</td>\n      <td>NaN</td>\n      <td>NaN</td>\n    </tr>\n    <tr>\n      <th>1</th>\n      <td>2016.09.18.b</td>\n      <td>18-Sep-16</td>\n      <td>2016</td>\n      <td>Unprovoked</td>\n      <td>USA</td>\n      <td>Florida</td>\n      <td>New Smyrna Beach, Volusia County</td>\n      <td>Surfing</td>\n      <td>Chucky Luciano</td>\n      <td>M</td>\n      <td>...</td>\n      <td>NaN</td>\n      <td>Orlando Sentinel, 9/19/2016</td>\n      <td>2016.09.18.b-Luciano.pdf</td>\n      <td>http://sharkattackfile.net/spreadsheets/pdf_di...</td>\n      <td>http://sharkattackfile.net/spreadsheets/pdf_di...</td>\n      <td>2016.09.18.b</td>\n      <td>2016.09.18.b</td>\n      <td>5992</td>\n      <td>NaN</td>\n      <td>NaN</td>\n    </tr>\n    <tr>\n      <th>2</th>\n      <td>2016.09.18.a</td>\n      <td>18-Sep-16</td>\n      <td>2016</td>\n      <td>Unprovoked</td>\n      <td>USA</td>\n      <td>Florida</td>\n      <td>New Smyrna Beach, Volusia County</td>\n      <td>Surfing</td>\n      <td>male</td>\n      <td>M</td>\n      <td>...</td>\n      <td>NaN</td>\n      <td>Orlando Sentinel, 9/19/2016</td>\n      <td>2016.09.18.a-NSB.pdf</td>\n      <td>http://sharkattackfile.net/spreadsheets/pdf_di...</td>\n      <td>http://sharkattackfile.net/spreadsheets/pdf_di...</td>\n      <td>2016.09.18.a</td>\n      <td>2016.09.18.a</td>\n      <td>5991</td>\n      <td>NaN</td>\n      <td>NaN</td>\n    </tr>\n    <tr>\n      <th>3</th>\n      <td>2016.09.17</td>\n      <td>17-Sep-16</td>\n      <td>2016</td>\n      <td>Unprovoked</td>\n      <td>AUSTRALIA</td>\n      <td>Victoria</td>\n      <td>Thirteenth Beach</td>\n      <td>Surfing</td>\n      <td>Rory Angiolella</td>\n      <td>M</td>\n      <td>...</td>\n      <td>NaN</td>\n      <td>The Age, 9/18/2016</td>\n      <td>2016.09.17-Angiolella.pdf</td>\n      <td>http://sharkattackfile.net/spreadsheets/pdf_di...</td>\n      <td>http://sharkattackfile.net/spreadsheets/pdf_di...</td>\n      <td>2016.09.17</td>\n      <td>2016.09.17</td>\n      <td>5990</td>\n      <td>NaN</td>\n      <td>NaN</td>\n    </tr>\n    <tr>\n      <th>4</th>\n      <td>2016.09.15</td>\n      <td>16-Sep-16</td>\n      <td>2016</td>\n      <td>Unprovoked</td>\n      <td>AUSTRALIA</td>\n      <td>Victoria</td>\n      <td>Bells Beach</td>\n      <td>Surfing</td>\n      <td>male</td>\n      <td>M</td>\n      <td>...</td>\n      <td>2 m shark</td>\n      <td>The Age, 9/16/2016</td>\n      <td>2016.09.16-BellsBeach.pdf</td>\n      <td>http://sharkattackfile.net/spreadsheets/pdf_di...</td>\n      <td>http://sharkattackfile.net/spreadsheets/pdf_di...</td>\n      <td>2016.09.16</td>\n      <td>2016.09.15</td>\n      <td>5989</td>\n      <td>NaN</td>\n      <td>NaN</td>\n    </tr>\n  </tbody>\n</table>\n<p>5 rows × 24 columns</p>\n</div>"
     },
     "metadata": {},
     "execution_count": 25
    }
   ],
   "source": [
    "#Alright alright alright, let's begin this data cleaning by importing the correct modules and the data itself. \n",
    "\n",
    "import pandas as pd\n",
    "import re\n",
    "import random\n",
    "\n",
    "data = pd.read_csv('/Users/alejandropalacios/Desktop/Ironhack/Data Analytics Bootcamp/Data Transformation/Projects/project-pandas/GSAF5.csv', encoding = \"latin-1\")\n",
    "\n",
    "#Let's also have a quick look at it. \n",
    "data.head()"
   ]
  },
  {
   "cell_type": "code",
   "execution_count": 26,
   "metadata": {},
   "outputs": [
    {
     "output_type": "stream",
     "name": "stdout",
     "text": "(5992, 24)\n\n\nIndex(['Case Number', 'Date', 'Year', 'Type', 'Country', 'Area', 'Location',\n       'Activity', 'Name', 'Sex ', 'Age', 'Injury', 'Fatal (Y/N)', 'Time',\n       'Species ', 'Investigator or Source', 'pdf', 'href formula', 'href',\n       'Case Number.1', 'Case Number.2', 'original order', 'Unnamed: 22',\n       'Unnamed: 23'],\n      dtype='object')\n\n\nCase Number               object\nDate                      object\nYear                       int64\nType                      object\nCountry                   object\nArea                      object\nLocation                  object\nActivity                  object\nName                      object\nSex                       object\nAge                       object\nInjury                    object\nFatal (Y/N)               object\nTime                      object\nSpecies                   object\nInvestigator or Source    object\npdf                       object\nhref formula              object\nhref                      object\nCase Number.1             object\nCase Number.2             object\noriginal order             int64\nUnnamed: 22               object\nUnnamed: 23               object\ndtype: object\n"
    }
   ],
   "source": [
    "#As a next step, let's check exaclty what will we be handling from this point on. \n",
    "\n",
    "#Dataset is 5,992 rows by 24 columns. \n",
    "print(data.shape)\n",
    "print('\\n')\n",
    "\n",
    "#There are some weird columns which have no aparent meaning for the Shark topic of the day. \n",
    "print(data.columns)\n",
    "print('\\n')\n",
    "\n",
    "#Finally, most of the columns contain text, Jesus Christ...\n",
    "print(data.dtypes)"
   ]
  },
  {
   "cell_type": "code",
   "execution_count": 27,
   "metadata": {},
   "outputs": [
    {
     "output_type": "stream",
     "name": "stdout",
     "text": "Country                     43\nArea                       402\nLocation                   496\nActivity                   527\nName                       200\nSex                        567\nAge                       2681\nInjury                      27\nFatal (Y/N)                 19\nTime                      3213\nSpecies                   2934\nInvestigator or Source      15\nhref formula                 1\nhref                         3\nUnnamed: 22               5991\nUnnamed: 23               5990\ndtype: int64\n"
    }
   ],
   "source": [
    "#1. Column Cleaning. \n",
    "\n",
    "#First of all, let's check how many empty cells there are in every column. \n",
    "null_columns = data.isnull().sum()\n",
    "print(null_columns[null_columns > 0])"
   ]
  },
  {
   "cell_type": "code",
   "execution_count": 28,
   "metadata": {},
   "outputs": [
    {
     "output_type": "stream",
     "name": "stdout",
     "text": "['stopped here']\n['Teramo', 'change filename']\n"
    }
   ],
   "source": [
    "#lol, columns Unnamed: 22 and Unnamed: 23 are quite the slackers regarding information storage it seems. Let's check them out in detail and replace NA values with 0s until something pops up. \n",
    "data['Unnamed: 22'].fillna(0, inplace = True)\n",
    "print([x for x in data['Unnamed: 22'] if x != 0])\n",
    "\n",
    "data['Unnamed: 23'].fillna(0, inplace = True)\n",
    "print([y for y in data['Unnamed: 23'] if y != 0]) "
   ]
  },
  {
   "cell_type": "code",
   "execution_count": 29,
   "metadata": {},
   "outputs": [],
   "source": [
    "#These two columns have the above 3 items, so let's just delete them both.\n",
    "data = data.drop('Unnamed: 22', 1)\n",
    "data = data.drop('Unnamed: 23', 1)"
   ]
  },
  {
   "cell_type": "code",
   "execution_count": 30,
   "metadata": {},
   "outputs": [
    {
     "output_type": "stream",
     "name": "stdout",
     "text": "False\n\n\nTrue     5982\nFalse      10\nName: Case Number.1, dtype: int64\n\n\nTrue     5979\nFalse      13\nName: Case Number, dtype: int64\n"
    }
   ],
   "source": [
    "#So, onto the next 3 suspicious columns: Case Number.2, Case Number, and Case Number .1.\n",
    "\n",
    "#Let's check if these are duplicates of some sort.\n",
    "print(data['Case Number.1'].equals(data['Case Number.2'].equals(data['Case Number'])))\n",
    "print('\\n')\n",
    "\n",
    "#Nope, those are not exact duplicates apparently, now let's see if data from one column can fe found in the other two. \n",
    "print(data['Case Number.1'].isin(data['Case Number.2']).value_counts())\n",
    "print('\\n')\n",
    "\n",
    "#Interesting, only 10 values are different from one column to the other one. Let's do a final check with the last column as well. \n",
    "print(data['Case Number'].isin(data['Case Number.1']).value_counts())"
   ]
  },
  {
   "cell_type": "code",
   "execution_count": 31,
   "metadata": {},
   "outputs": [],
   "source": [
    "#Same story here, only 13 different values, let's then delete Case Number.1 and Case Number.2\n",
    "data = data.drop('Case Number.1', 1)\n",
    "data = data.drop('Case Number.2', 1)"
   ]
  },
  {
   "cell_type": "code",
   "execution_count": 32,
   "metadata": {},
   "outputs": [
    {
     "output_type": "execute_result",
     "data": {
      "text/plain": "True     5939\nFalse      53\nName: href formula, dtype: int64"
     },
     "metadata": {},
     "execution_count": 32
    }
   ],
   "source": [
    "#Finally let's check the Href Formula and Href Columns. \n",
    "data['href formula'].isin(data['href']).value_counts()"
   ]
  },
  {
   "cell_type": "code",
   "execution_count": 33,
   "metadata": {},
   "outputs": [
    {
     "output_type": "execute_result",
     "data": {
      "text/plain": "    Case Number       Date  Year        Type    Country      Area  \\\n0  2016.09.18.c  18-Sep-16  2016  Unprovoked        USA   Florida   \n1  2016.09.18.b  18-Sep-16  2016  Unprovoked        USA   Florida   \n2  2016.09.18.a  18-Sep-16  2016  Unprovoked        USA   Florida   \n3    2016.09.17  17-Sep-16  2016  Unprovoked  AUSTRALIA  Victoria   \n4    2016.09.15  16-Sep-16  2016  Unprovoked  AUSTRALIA  Victoria   \n\n                           Location Activity             Name Sex   Age  \\\n0  New Smyrna Beach, Volusia County  Surfing             male    M   16   \n1  New Smyrna Beach, Volusia County  Surfing   Chucky Luciano    M   36   \n2  New Smyrna Beach, Volusia County  Surfing             male    M   43   \n3                  Thirteenth Beach  Surfing  Rory Angiolella    M  NaN   \n4                       Bells Beach  Surfing             male    M  NaN   \n\n                                  Injury Fatal (Y/N)   Time   Species   \\\n0                  Minor injury to thigh           N  13h00        NaN   \n1                   Lacerations to hands           N  11h00        NaN   \n2               Lacerations to lower leg           N  10h43        NaN   \n3           Struck by fin on chest & leg           N    NaN        NaN   \n4  No injury: Knocked off board by shark           N    NaN  2 m shark   \n\n        Investigator or Source                        pdf  \\\n0  Orlando Sentinel, 9/19/2016       2016.09.18.c-NSB.pdf   \n1  Orlando Sentinel, 9/19/2016   2016.09.18.b-Luciano.pdf   \n2  Orlando Sentinel, 9/19/2016       2016.09.18.a-NSB.pdf   \n3           The Age, 9/18/2016  2016.09.17-Angiolella.pdf   \n4           The Age, 9/16/2016  2016.09.16-BellsBeach.pdf   \n\n                                                href  original order  \n0  http://sharkattackfile.net/spreadsheets/pdf_di...            5993  \n1  http://sharkattackfile.net/spreadsheets/pdf_di...            5992  \n2  http://sharkattackfile.net/spreadsheets/pdf_di...            5991  \n3  http://sharkattackfile.net/spreadsheets/pdf_di...            5990  \n4  http://sharkattackfile.net/spreadsheets/pdf_di...            5989  ",
      "text/html": "<div>\n<style scoped>\n    .dataframe tbody tr th:only-of-type {\n        vertical-align: middle;\n    }\n\n    .dataframe tbody tr th {\n        vertical-align: top;\n    }\n\n    .dataframe thead th {\n        text-align: right;\n    }\n</style>\n<table border=\"1\" class=\"dataframe\">\n  <thead>\n    <tr style=\"text-align: right;\">\n      <th></th>\n      <th>Case Number</th>\n      <th>Date</th>\n      <th>Year</th>\n      <th>Type</th>\n      <th>Country</th>\n      <th>Area</th>\n      <th>Location</th>\n      <th>Activity</th>\n      <th>Name</th>\n      <th>Sex</th>\n      <th>Age</th>\n      <th>Injury</th>\n      <th>Fatal (Y/N)</th>\n      <th>Time</th>\n      <th>Species</th>\n      <th>Investigator or Source</th>\n      <th>pdf</th>\n      <th>href</th>\n      <th>original order</th>\n    </tr>\n  </thead>\n  <tbody>\n    <tr>\n      <th>0</th>\n      <td>2016.09.18.c</td>\n      <td>18-Sep-16</td>\n      <td>2016</td>\n      <td>Unprovoked</td>\n      <td>USA</td>\n      <td>Florida</td>\n      <td>New Smyrna Beach, Volusia County</td>\n      <td>Surfing</td>\n      <td>male</td>\n      <td>M</td>\n      <td>16</td>\n      <td>Minor injury to thigh</td>\n      <td>N</td>\n      <td>13h00</td>\n      <td>NaN</td>\n      <td>Orlando Sentinel, 9/19/2016</td>\n      <td>2016.09.18.c-NSB.pdf</td>\n      <td>http://sharkattackfile.net/spreadsheets/pdf_di...</td>\n      <td>5993</td>\n    </tr>\n    <tr>\n      <th>1</th>\n      <td>2016.09.18.b</td>\n      <td>18-Sep-16</td>\n      <td>2016</td>\n      <td>Unprovoked</td>\n      <td>USA</td>\n      <td>Florida</td>\n      <td>New Smyrna Beach, Volusia County</td>\n      <td>Surfing</td>\n      <td>Chucky Luciano</td>\n      <td>M</td>\n      <td>36</td>\n      <td>Lacerations to hands</td>\n      <td>N</td>\n      <td>11h00</td>\n      <td>NaN</td>\n      <td>Orlando Sentinel, 9/19/2016</td>\n      <td>2016.09.18.b-Luciano.pdf</td>\n      <td>http://sharkattackfile.net/spreadsheets/pdf_di...</td>\n      <td>5992</td>\n    </tr>\n    <tr>\n      <th>2</th>\n      <td>2016.09.18.a</td>\n      <td>18-Sep-16</td>\n      <td>2016</td>\n      <td>Unprovoked</td>\n      <td>USA</td>\n      <td>Florida</td>\n      <td>New Smyrna Beach, Volusia County</td>\n      <td>Surfing</td>\n      <td>male</td>\n      <td>M</td>\n      <td>43</td>\n      <td>Lacerations to lower leg</td>\n      <td>N</td>\n      <td>10h43</td>\n      <td>NaN</td>\n      <td>Orlando Sentinel, 9/19/2016</td>\n      <td>2016.09.18.a-NSB.pdf</td>\n      <td>http://sharkattackfile.net/spreadsheets/pdf_di...</td>\n      <td>5991</td>\n    </tr>\n    <tr>\n      <th>3</th>\n      <td>2016.09.17</td>\n      <td>17-Sep-16</td>\n      <td>2016</td>\n      <td>Unprovoked</td>\n      <td>AUSTRALIA</td>\n      <td>Victoria</td>\n      <td>Thirteenth Beach</td>\n      <td>Surfing</td>\n      <td>Rory Angiolella</td>\n      <td>M</td>\n      <td>NaN</td>\n      <td>Struck by fin on chest &amp; leg</td>\n      <td>N</td>\n      <td>NaN</td>\n      <td>NaN</td>\n      <td>The Age, 9/18/2016</td>\n      <td>2016.09.17-Angiolella.pdf</td>\n      <td>http://sharkattackfile.net/spreadsheets/pdf_di...</td>\n      <td>5990</td>\n    </tr>\n    <tr>\n      <th>4</th>\n      <td>2016.09.15</td>\n      <td>16-Sep-16</td>\n      <td>2016</td>\n      <td>Unprovoked</td>\n      <td>AUSTRALIA</td>\n      <td>Victoria</td>\n      <td>Bells Beach</td>\n      <td>Surfing</td>\n      <td>male</td>\n      <td>M</td>\n      <td>NaN</td>\n      <td>No injury: Knocked off board by shark</td>\n      <td>N</td>\n      <td>NaN</td>\n      <td>2 m shark</td>\n      <td>The Age, 9/16/2016</td>\n      <td>2016.09.16-BellsBeach.pdf</td>\n      <td>http://sharkattackfile.net/spreadsheets/pdf_di...</td>\n      <td>5989</td>\n    </tr>\n  </tbody>\n</table>\n</div>"
     },
     "metadata": {},
     "execution_count": 33
    }
   ],
   "source": [
    "#Well, values from href formula Column that are in href Column are quite more than in our past findings, however these are still not more than 10% of the whole thing, so I'll delete Href Formula Column. Moreover, Href Column looks slimmer and more presentable by itself. \n",
    "data = data.drop('href formula', 1)\n",
    "\n",
    "#Now we have an aparently nice table of stuff, let's check it out. \n",
    "data.head()"
   ]
  },
  {
   "cell_type": "code",
   "execution_count": 34,
   "metadata": {},
   "outputs": [
    {
     "output_type": "execute_result",
     "data": {
      "text/plain": "{' 14-Aug-2013',\n '02-Aug-97',\n '03-Mar-1875',\n '05-Mar-96',\n '06-Jan-15',\n '06-May-90',\n '07-Jan-62',\n '07-Mar-07',\n '07-Mar-61',\n '10-Feb-16',\n '12-Nov-05',\n '13-Jan-74',\n '13-May-11',\n '16-Nov-59',\n '1748',\n '1949',\n '20-Aug-06',\n '20-May-01',\n '24-May-14',\n '25-Dec-12',\n '26-Mar-44',\n '27-May-13',\n '28-Dec-97',\n '28-Mar-64',\n '28-Sep-85',\n '30-Nov-86',\n 'Apr-13',\n 'Before 1871',\n 'Ca. 1960',\n 'Circa 1855'}"
     },
     "metadata": {},
     "execution_count": 34
    }
   ],
   "source": [
    "#2. Data Cleaning\n",
    "\n",
    "#From this point on, let's actually clean the data inside each of the columns we left, starting from the Data Column, which is always pivotal in an anaysis. \n",
    "set(data['Date'].sample(n=30))"
   ]
  },
  {
   "cell_type": "code",
   "execution_count": 38,
   "metadata": {},
   "outputs": [
    {
     "output_type": "execute_result",
     "data": {
      "text/plain": "    Case Number Day Month  Year_Check  Year       Date        Type    Country  \\\n0  2016.09.18.c  18    09        2016  2016  18-Sep-16  Unprovoked        USA   \n1  2016.09.18.b  18    09        2016  2016  18-Sep-16  Unprovoked        USA   \n2  2016.09.18.a  18    09        2016  2016  18-Sep-16  Unprovoked        USA   \n3    2016.09.17  17    09        2016  2016  17-Sep-16  Unprovoked  AUSTRALIA   \n4    2016.09.15  15    09        2016  2016  16-Sep-16  Unprovoked  AUSTRALIA   \n\n       Area                          Location Activity             Name Sex   \\\n0   Florida  New Smyrna Beach, Volusia County  Surfing             male    M   \n1   Florida  New Smyrna Beach, Volusia County  Surfing   Chucky Luciano    M   \n2   Florida  New Smyrna Beach, Volusia County  Surfing             male    M   \n3  Victoria                  Thirteenth Beach  Surfing  Rory Angiolella    M   \n4  Victoria                       Bells Beach  Surfing             male    M   \n\n   Age                                 Injury Fatal (Y/N)   Species   \\\n0   16                  Minor injury to thigh           N        NaN   \n1   36                   Lacerations to hands           N        NaN   \n2   43               Lacerations to lower leg           N        NaN   \n3  NaN           Struck by fin on chest & leg           N        NaN   \n4  NaN  No injury: Knocked off board by shark           N  2 m shark   \n\n        Investigator or Source  \\\n0  Orlando Sentinel, 9/19/2016   \n1  Orlando Sentinel, 9/19/2016   \n2  Orlando Sentinel, 9/19/2016   \n3           The Age, 9/18/2016   \n4           The Age, 9/16/2016   \n\n                                                href  \n0  http://sharkattackfile.net/spreadsheets/pdf_di...  \n1  http://sharkattackfile.net/spreadsheets/pdf_di...  \n2  http://sharkattackfile.net/spreadsheets/pdf_di...  \n3  http://sharkattackfile.net/spreadsheets/pdf_di...  \n4  http://sharkattackfile.net/spreadsheets/pdf_di...  ",
      "text/html": "<div>\n<style scoped>\n    .dataframe tbody tr th:only-of-type {\n        vertical-align: middle;\n    }\n\n    .dataframe tbody tr th {\n        vertical-align: top;\n    }\n\n    .dataframe thead th {\n        text-align: right;\n    }\n</style>\n<table border=\"1\" class=\"dataframe\">\n  <thead>\n    <tr style=\"text-align: right;\">\n      <th></th>\n      <th>Case Number</th>\n      <th>Day</th>\n      <th>Month</th>\n      <th>Year_Check</th>\n      <th>Year</th>\n      <th>Date</th>\n      <th>Type</th>\n      <th>Country</th>\n      <th>Area</th>\n      <th>Location</th>\n      <th>Activity</th>\n      <th>Name</th>\n      <th>Sex</th>\n      <th>Age</th>\n      <th>Injury</th>\n      <th>Fatal (Y/N)</th>\n      <th>Species</th>\n      <th>Investigator or Source</th>\n      <th>href</th>\n    </tr>\n  </thead>\n  <tbody>\n    <tr>\n      <th>0</th>\n      <td>2016.09.18.c</td>\n      <td>18</td>\n      <td>09</td>\n      <td>2016</td>\n      <td>2016</td>\n      <td>18-Sep-16</td>\n      <td>Unprovoked</td>\n      <td>USA</td>\n      <td>Florida</td>\n      <td>New Smyrna Beach, Volusia County</td>\n      <td>Surfing</td>\n      <td>male</td>\n      <td>M</td>\n      <td>16</td>\n      <td>Minor injury to thigh</td>\n      <td>N</td>\n      <td>NaN</td>\n      <td>Orlando Sentinel, 9/19/2016</td>\n      <td>http://sharkattackfile.net/spreadsheets/pdf_di...</td>\n    </tr>\n    <tr>\n      <th>1</th>\n      <td>2016.09.18.b</td>\n      <td>18</td>\n      <td>09</td>\n      <td>2016</td>\n      <td>2016</td>\n      <td>18-Sep-16</td>\n      <td>Unprovoked</td>\n      <td>USA</td>\n      <td>Florida</td>\n      <td>New Smyrna Beach, Volusia County</td>\n      <td>Surfing</td>\n      <td>Chucky Luciano</td>\n      <td>M</td>\n      <td>36</td>\n      <td>Lacerations to hands</td>\n      <td>N</td>\n      <td>NaN</td>\n      <td>Orlando Sentinel, 9/19/2016</td>\n      <td>http://sharkattackfile.net/spreadsheets/pdf_di...</td>\n    </tr>\n    <tr>\n      <th>2</th>\n      <td>2016.09.18.a</td>\n      <td>18</td>\n      <td>09</td>\n      <td>2016</td>\n      <td>2016</td>\n      <td>18-Sep-16</td>\n      <td>Unprovoked</td>\n      <td>USA</td>\n      <td>Florida</td>\n      <td>New Smyrna Beach, Volusia County</td>\n      <td>Surfing</td>\n      <td>male</td>\n      <td>M</td>\n      <td>43</td>\n      <td>Lacerations to lower leg</td>\n      <td>N</td>\n      <td>NaN</td>\n      <td>Orlando Sentinel, 9/19/2016</td>\n      <td>http://sharkattackfile.net/spreadsheets/pdf_di...</td>\n    </tr>\n    <tr>\n      <th>3</th>\n      <td>2016.09.17</td>\n      <td>17</td>\n      <td>09</td>\n      <td>2016</td>\n      <td>2016</td>\n      <td>17-Sep-16</td>\n      <td>Unprovoked</td>\n      <td>AUSTRALIA</td>\n      <td>Victoria</td>\n      <td>Thirteenth Beach</td>\n      <td>Surfing</td>\n      <td>Rory Angiolella</td>\n      <td>M</td>\n      <td>NaN</td>\n      <td>Struck by fin on chest &amp; leg</td>\n      <td>N</td>\n      <td>NaN</td>\n      <td>The Age, 9/18/2016</td>\n      <td>http://sharkattackfile.net/spreadsheets/pdf_di...</td>\n    </tr>\n    <tr>\n      <th>4</th>\n      <td>2016.09.15</td>\n      <td>15</td>\n      <td>09</td>\n      <td>2016</td>\n      <td>2016</td>\n      <td>16-Sep-16</td>\n      <td>Unprovoked</td>\n      <td>AUSTRALIA</td>\n      <td>Victoria</td>\n      <td>Bells Beach</td>\n      <td>Surfing</td>\n      <td>male</td>\n      <td>M</td>\n      <td>NaN</td>\n      <td>No injury: Knocked off board by shark</td>\n      <td>N</td>\n      <td>2 m shark</td>\n      <td>The Age, 9/16/2016</td>\n      <td>http://sharkattackfile.net/spreadsheets/pdf_di...</td>\n    </tr>\n  </tbody>\n</table>\n</div>"
     },
     "metadata": {},
     "execution_count": 38
    }
   ],
   "source": [
    "#So yeah, as we can see, format is everywhere from single year values, to literally strings of text saying when did the incident \"maybe\" happened. \n",
    "\n",
    "#To solve this, let's break the problem into quick wins. First let's use the column Case Number to check against the Year Column to check if everything corresponds to at least the correct year. \n",
    "\n",
    "#The following code will create 3 Columns to separate the date of an incident, based on the Case Number Column, and check against Date and Year Columns if something is off. \n",
    "try:\n",
    "    data['Year_Check']=[d[0:4] for d in data['Case Number']]\n",
    "except:\n",
    "    data['Year_Check']='00'\n",
    "try:\n",
    "    data['Month']=[d[5:7] for d in data['Case Number']]\n",
    "except:\n",
    "    data['Month']='00'\n",
    "try:\n",
    "    data['Day']=[d[8:10] for d in data['Case Number']]\n",
    "except:\n",
    "    data['Day']='00'\n",
    "data.loc[data['Year_Check'].str.contains('(?i)ND'),'Year_Check']='00'\n",
    "data.loc[data['Year_Check'].str.contains('ND'),'Day']='00'\n",
    "data.loc[data['Year_Check'].str.contains('ND'),'Month']='00'\n",
    "data['Year_Check'] = data['Year_Check'].replace(['0.02','0.03','0.04','0.07'],0)\n",
    "data['Year_Check'] = data['Year_Check'].astype(int)\n",
    "\n",
    "#Now let's order the dataframe by useful comparing Columns. \n",
    "data = data[['Case Number','Day','Month','Year_Check','Year','Date','Type','Country','Area','Location','Activity','Name',\n",
    "           'Sex ','Age','Injury','Fatal (Y/N)','Species ','Investigator or Source','href']]\n",
    "\n",
    "data.head()"
   ]
  },
  {
   "cell_type": "code",
   "execution_count": 39,
   "metadata": {},
   "outputs": [
    {
     "output_type": "execute_result",
     "data": {
      "text/plain": "       Case Number Day Month  Year_Check  Year  \\\n2449    1989.07.27  27    07        1989  1969   \n3662    1961.07.16  16    07        1961  1971   \n4312  1948.09.17.R  17    09        1948  1848   \n4983  1923.00.00.a  00    00        1923  1922   \n5043  1900.00.00.R  00    00        1900  1919   \n\n                                      Date        Type  Country  \\\n2449                             27-Jul-89     Invalid  BERMUDA   \n3662                             16-Jul-61  Unprovoked   TURKEY   \n4312                  Reported 17-Sep-1848  Unprovoked   TURKEY   \n4983                                  1923    Provoked      USA   \n5043  Reported to have taken place in 1919     Boating    ITALY   \n\n                Area                 Location  \\\n2449             NaN                      NaN   \n3662        Anatolia  ?nciralti Beach, ?zmir    \n4312  Adana Province               Yumurtalik   \n4983      New Jersey    Ocean City (offshore)   \n5043             NaN                   Savona   \n\n                                Activity             Name Sex   Age  \\\n2449                        Scuba diving     Russian male    M   35   \n3662                            Swimming  ?brahim Karagöz    M   16   \n4312                            Swimming       Ali Kaymaz    M  NaN   \n4983  Hoisting shark aboard fishing boat             male    M  NaN   \n5043                             Fishing              NaN    M  NaN   \n\n                                             Injury Fatal (Y/N)  \\\n2449                                          FATAL         NaN   \n3662                               Left leg injured           N   \n4312                                          FATAL           Y   \n4983  Shark's tail broke his leg. PROVOKED INCIDENT           N   \n5043                                      No injury           N   \n\n                                           Species   \\\n2449  Shark involvement suspected but not confirmed   \n3662                                            NaN   \n4312                                            NaN   \n4983                                            NaN   \n5043                                      13' shark   \n\n                                 Investigator or Source  \\\n2449                                LA Times, 7/28/1989   \n3662                                     C. Moore, GSAF   \n4312                                     C. Moore, GSAF   \n4983  Ref in New York Herald Tribune, 8/23/1960; V.M...   \n5043                                     C. Moore, GSAF   \n\n                                                   href  \n2449  http://sharkattackfile.net/spreadsheets/pdf_di...  \n3662  http://sharkattackfile.net/spreadsheets/pdf_di...  \n4312  http://sharkattackfile.net/spreadsheets/pdf_di...  \n4983  http://sharkattackfile.net/spreadsheets/pdf_di...  \n5043  http://sharkattackfile.net/spreadsheets/pdf_di...  ",
      "text/html": "<div>\n<style scoped>\n    .dataframe tbody tr th:only-of-type {\n        vertical-align: middle;\n    }\n\n    .dataframe tbody tr th {\n        vertical-align: top;\n    }\n\n    .dataframe thead th {\n        text-align: right;\n    }\n</style>\n<table border=\"1\" class=\"dataframe\">\n  <thead>\n    <tr style=\"text-align: right;\">\n      <th></th>\n      <th>Case Number</th>\n      <th>Day</th>\n      <th>Month</th>\n      <th>Year_Check</th>\n      <th>Year</th>\n      <th>Date</th>\n      <th>Type</th>\n      <th>Country</th>\n      <th>Area</th>\n      <th>Location</th>\n      <th>Activity</th>\n      <th>Name</th>\n      <th>Sex</th>\n      <th>Age</th>\n      <th>Injury</th>\n      <th>Fatal (Y/N)</th>\n      <th>Species</th>\n      <th>Investigator or Source</th>\n      <th>href</th>\n    </tr>\n  </thead>\n  <tbody>\n    <tr>\n      <th>2449</th>\n      <td>1989.07.27</td>\n      <td>27</td>\n      <td>07</td>\n      <td>1989</td>\n      <td>1969</td>\n      <td>27-Jul-89</td>\n      <td>Invalid</td>\n      <td>BERMUDA</td>\n      <td>NaN</td>\n      <td>NaN</td>\n      <td>Scuba diving</td>\n      <td>Russian male</td>\n      <td>M</td>\n      <td>35</td>\n      <td>FATAL</td>\n      <td>NaN</td>\n      <td>Shark involvement suspected but not confirmed</td>\n      <td>LA Times, 7/28/1989</td>\n      <td>http://sharkattackfile.net/spreadsheets/pdf_di...</td>\n    </tr>\n    <tr>\n      <th>3662</th>\n      <td>1961.07.16</td>\n      <td>16</td>\n      <td>07</td>\n      <td>1961</td>\n      <td>1971</td>\n      <td>16-Jul-61</td>\n      <td>Unprovoked</td>\n      <td>TURKEY</td>\n      <td>Anatolia</td>\n      <td>?nciralti Beach, ?zmir</td>\n      <td>Swimming</td>\n      <td>?brahim Karagöz</td>\n      <td>M</td>\n      <td>16</td>\n      <td>Left leg injured</td>\n      <td>N</td>\n      <td>NaN</td>\n      <td>C. Moore, GSAF</td>\n      <td>http://sharkattackfile.net/spreadsheets/pdf_di...</td>\n    </tr>\n    <tr>\n      <th>4312</th>\n      <td>1948.09.17.R</td>\n      <td>17</td>\n      <td>09</td>\n      <td>1948</td>\n      <td>1848</td>\n      <td>Reported 17-Sep-1848</td>\n      <td>Unprovoked</td>\n      <td>TURKEY</td>\n      <td>Adana Province</td>\n      <td>Yumurtalik</td>\n      <td>Swimming</td>\n      <td>Ali Kaymaz</td>\n      <td>M</td>\n      <td>NaN</td>\n      <td>FATAL</td>\n      <td>Y</td>\n      <td>NaN</td>\n      <td>C. Moore, GSAF</td>\n      <td>http://sharkattackfile.net/spreadsheets/pdf_di...</td>\n    </tr>\n    <tr>\n      <th>4983</th>\n      <td>1923.00.00.a</td>\n      <td>00</td>\n      <td>00</td>\n      <td>1923</td>\n      <td>1922</td>\n      <td>1923</td>\n      <td>Provoked</td>\n      <td>USA</td>\n      <td>New Jersey</td>\n      <td>Ocean City (offshore)</td>\n      <td>Hoisting shark aboard fishing boat</td>\n      <td>male</td>\n      <td>M</td>\n      <td>NaN</td>\n      <td>Shark's tail broke his leg. PROVOKED INCIDENT</td>\n      <td>N</td>\n      <td>NaN</td>\n      <td>Ref in New York Herald Tribune, 8/23/1960; V.M...</td>\n      <td>http://sharkattackfile.net/spreadsheets/pdf_di...</td>\n    </tr>\n    <tr>\n      <th>5043</th>\n      <td>1900.00.00.R</td>\n      <td>00</td>\n      <td>00</td>\n      <td>1900</td>\n      <td>1919</td>\n      <td>Reported to have taken place in 1919</td>\n      <td>Boating</td>\n      <td>ITALY</td>\n      <td>NaN</td>\n      <td>Savona</td>\n      <td>Fishing</td>\n      <td>NaN</td>\n      <td>M</td>\n      <td>NaN</td>\n      <td>No injury</td>\n      <td>N</td>\n      <td>13' shark</td>\n      <td>C. Moore, GSAF</td>\n      <td>http://sharkattackfile.net/spreadsheets/pdf_di...</td>\n    </tr>\n  </tbody>\n</table>\n</div>"
     },
     "metadata": {},
     "execution_count": 39
    }
   ],
   "source": [
    "#Ok let's check if every year from our Check Column coincides with every year from our Year Column.\n",
    "data.loc[data['Year_Check'] != (data['Year'])]"
   ]
  },
  {
   "cell_type": "code",
   "execution_count": 40,
   "metadata": {},
   "outputs": [],
   "source": [
    "#Voila! 5 rows do not completely coincide, moreover, the Date Column will help us decide wich year is the correct one. Let's change that right now. \n",
    "data.loc[4983,'Year'] = 1923\n",
    "data.loc[3662,'Year'] = 1961\n",
    "data.loc[2449,'Year'] = 1989 \n",
    "\n",
    "#Also this would be a good time to rename the Date Column to a more understandable Date and Commentary Column. \n",
    "data.rename(columns={'Date': 'Date and Commentary'}, inplace = True)"
   ]
  },
  {
   "cell_type": "code",
   "execution_count": 41,
   "metadata": {},
   "outputs": [
    {
     "output_type": "execute_result",
     "data": {
      "text/plain": "{' N', '#VALUE!', 'F', 'N', 'N ', 'UNKNOWN', 'Y', 'n', nan}"
     },
     "metadata": {},
     "execution_count": 41
    }
   ],
   "source": [
    "#Now let's check the Fatal Column and see if it has only Y or N values. \n",
    "set(data['Fatal (Y/N)'])"
   ]
  },
  {
   "cell_type": "code",
   "execution_count": 42,
   "metadata": {},
   "outputs": [
    {
     "output_type": "stream",
     "name": "stdout",
     "text": "{'N', 'Y', 'U'}\n"
    }
   ],
   "source": [
    "#Naturally, it is a mess as well, so let's change all those values to binary responses. \n",
    "data['Fatal (Y/N)'] = data['Fatal (Y/N)'].str.strip()\n",
    "data['Fatal (Y/N)'] = data['Fatal (Y/N)'].fillna('U')\n",
    "data['Fatal (Y/N)'] = data['Fatal (Y/N)'].str.replace('n', 'N')\n",
    "data['Fatal (Y/N)'] = data['Fatal (Y/N)'].str.replace('#VALUE!', 'U')\n",
    "data['Fatal (Y/N)'] = data['Fatal (Y/N)'].str.replace('F', 'Y')\n",
    "data['Fatal (Y/N)'] = data['Fatal (Y/N)'].str.replace('UNKNOWN', 'U')\n",
    "\n",
    "#I will also rename the Column to Fatal Y/N/U, based on the fact that Unknown is also a valid response I think. \n",
    "data.rename(columns = {'Fatal (Y/N)': 'Fatal (Y/N/U)'}, inplace = True)\n",
    "print(set(data['Fatal (Y/N/U)']))"
   ]
  },
  {
   "cell_type": "code",
   "execution_count": null,
   "metadata": {},
   "outputs": [],
   "source": []
  }
 ],
 "metadata": {
  "language_info": {
   "codemirror_mode": {
    "name": "ipython",
    "version": 3
   },
   "file_extension": ".py",
   "mimetype": "text/x-python",
   "name": "python",
   "nbconvert_exporter": "python",
   "pygments_lexer": "ipython3",
   "version": "3.7.6-final"
  },
  "orig_nbformat": 2,
  "kernelspec": {
   "name": "python37664bitanaconda3virtualenv0697af1ee67a458e9253591065064715",
   "display_name": "Python 3.7.6 64-bit ('anaconda3': virtualenv)"
  }
 },
 "nbformat": 4,
 "nbformat_minor": 2
}