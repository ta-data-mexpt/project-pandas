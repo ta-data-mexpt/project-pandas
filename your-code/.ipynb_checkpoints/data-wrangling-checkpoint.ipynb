{
 "cells": [
  {
   "cell_type": "code",
   "execution_count": 1,
   "id": "9ecc5d60-5ee9-4544-bc11-ee595b0b144d",
   "metadata": {},
   "outputs": [],
   "source": [
    "import numpy as pd\n",
    "import pandas as pd\n",
    "import re\n"
   ]
  },
  {
   "cell_type": "code",
   "execution_count": 2,
   "id": "12d8eb1d-fdda-4273-9776-11ae8a55d61c",
   "metadata": {
    "tags": []
   },
   "outputs": [],
   "source": [
    "df=pd.read_csv('/Users/USUARIO/IronhackSept22-ReneNavarro/module1/project-pandas/your-code/GSAF5.csv', encoding = \"latin-1\")"
   ]
  },
  {
   "cell_type": "markdown",
   "id": "5183b0d9-b528-4adb-bfdc-84222d1e408b",
   "metadata": {},
   "source": [
    "#### DF Information"
   ]
  },
  {
   "cell_type": "code",
   "execution_count": 3,
   "id": "5f7f6841-9d60-4c64-ae37-32738078a969",
   "metadata": {
    "tags": []
   },
   "outputs": [
    {
     "data": {
      "text/html": [
       "<div>\n",
       "<style scoped>\n",
       "    .dataframe tbody tr th:only-of-type {\n",
       "        vertical-align: middle;\n",
       "    }\n",
       "\n",
       "    .dataframe tbody tr th {\n",
       "        vertical-align: top;\n",
       "    }\n",
       "\n",
       "    .dataframe thead th {\n",
       "        text-align: right;\n",
       "    }\n",
       "</style>\n",
       "<table border=\"1\" class=\"dataframe\">\n",
       "  <thead>\n",
       "    <tr style=\"text-align: right;\">\n",
       "      <th></th>\n",
       "      <th>Case Number</th>\n",
       "      <th>Date</th>\n",
       "      <th>Year</th>\n",
       "      <th>Type</th>\n",
       "      <th>Country</th>\n",
       "      <th>Area</th>\n",
       "      <th>Location</th>\n",
       "      <th>Activity</th>\n",
       "      <th>Name</th>\n",
       "      <th>Sex</th>\n",
       "      <th>...</th>\n",
       "      <th>Species</th>\n",
       "      <th>Investigator or Source</th>\n",
       "      <th>pdf</th>\n",
       "      <th>href formula</th>\n",
       "      <th>href</th>\n",
       "      <th>Case Number.1</th>\n",
       "      <th>Case Number.2</th>\n",
       "      <th>original order</th>\n",
       "      <th>Unnamed: 22</th>\n",
       "      <th>Unnamed: 23</th>\n",
       "    </tr>\n",
       "  </thead>\n",
       "  <tbody>\n",
       "    <tr>\n",
       "      <th>0</th>\n",
       "      <td>2016.09.18.c</td>\n",
       "      <td>18-Sep-16</td>\n",
       "      <td>2016</td>\n",
       "      <td>Unprovoked</td>\n",
       "      <td>USA</td>\n",
       "      <td>Florida</td>\n",
       "      <td>New Smyrna Beach, Volusia County</td>\n",
       "      <td>Surfing</td>\n",
       "      <td>male</td>\n",
       "      <td>M</td>\n",
       "      <td>...</td>\n",
       "      <td>NaN</td>\n",
       "      <td>Orlando Sentinel, 9/19/2016</td>\n",
       "      <td>2016.09.18.c-NSB.pdf</td>\n",
       "      <td>http://sharkattackfile.net/spreadsheets/pdf_di...</td>\n",
       "      <td>http://sharkattackfile.net/spreadsheets/pdf_di...</td>\n",
       "      <td>2016.09.18.c</td>\n",
       "      <td>2016.09.18.c</td>\n",
       "      <td>5993</td>\n",
       "      <td>NaN</td>\n",
       "      <td>NaN</td>\n",
       "    </tr>\n",
       "    <tr>\n",
       "      <th>1</th>\n",
       "      <td>2016.09.18.b</td>\n",
       "      <td>18-Sep-16</td>\n",
       "      <td>2016</td>\n",
       "      <td>Unprovoked</td>\n",
       "      <td>USA</td>\n",
       "      <td>Florida</td>\n",
       "      <td>New Smyrna Beach, Volusia County</td>\n",
       "      <td>Surfing</td>\n",
       "      <td>Chucky Luciano</td>\n",
       "      <td>M</td>\n",
       "      <td>...</td>\n",
       "      <td>NaN</td>\n",
       "      <td>Orlando Sentinel, 9/19/2016</td>\n",
       "      <td>2016.09.18.b-Luciano.pdf</td>\n",
       "      <td>http://sharkattackfile.net/spreadsheets/pdf_di...</td>\n",
       "      <td>http://sharkattackfile.net/spreadsheets/pdf_di...</td>\n",
       "      <td>2016.09.18.b</td>\n",
       "      <td>2016.09.18.b</td>\n",
       "      <td>5992</td>\n",
       "      <td>NaN</td>\n",
       "      <td>NaN</td>\n",
       "    </tr>\n",
       "    <tr>\n",
       "      <th>2</th>\n",
       "      <td>2016.09.18.a</td>\n",
       "      <td>18-Sep-16</td>\n",
       "      <td>2016</td>\n",
       "      <td>Unprovoked</td>\n",
       "      <td>USA</td>\n",
       "      <td>Florida</td>\n",
       "      <td>New Smyrna Beach, Volusia County</td>\n",
       "      <td>Surfing</td>\n",
       "      <td>male</td>\n",
       "      <td>M</td>\n",
       "      <td>...</td>\n",
       "      <td>NaN</td>\n",
       "      <td>Orlando Sentinel, 9/19/2016</td>\n",
       "      <td>2016.09.18.a-NSB.pdf</td>\n",
       "      <td>http://sharkattackfile.net/spreadsheets/pdf_di...</td>\n",
       "      <td>http://sharkattackfile.net/spreadsheets/pdf_di...</td>\n",
       "      <td>2016.09.18.a</td>\n",
       "      <td>2016.09.18.a</td>\n",
       "      <td>5991</td>\n",
       "      <td>NaN</td>\n",
       "      <td>NaN</td>\n",
       "    </tr>\n",
       "    <tr>\n",
       "      <th>3</th>\n",
       "      <td>2016.09.17</td>\n",
       "      <td>17-Sep-16</td>\n",
       "      <td>2016</td>\n",
       "      <td>Unprovoked</td>\n",
       "      <td>AUSTRALIA</td>\n",
       "      <td>Victoria</td>\n",
       "      <td>Thirteenth Beach</td>\n",
       "      <td>Surfing</td>\n",
       "      <td>Rory Angiolella</td>\n",
       "      <td>M</td>\n",
       "      <td>...</td>\n",
       "      <td>NaN</td>\n",
       "      <td>The Age, 9/18/2016</td>\n",
       "      <td>2016.09.17-Angiolella.pdf</td>\n",
       "      <td>http://sharkattackfile.net/spreadsheets/pdf_di...</td>\n",
       "      <td>http://sharkattackfile.net/spreadsheets/pdf_di...</td>\n",
       "      <td>2016.09.17</td>\n",
       "      <td>2016.09.17</td>\n",
       "      <td>5990</td>\n",
       "      <td>NaN</td>\n",
       "      <td>NaN</td>\n",
       "    </tr>\n",
       "    <tr>\n",
       "      <th>4</th>\n",
       "      <td>2016.09.15</td>\n",
       "      <td>16-Sep-16</td>\n",
       "      <td>2016</td>\n",
       "      <td>Unprovoked</td>\n",
       "      <td>AUSTRALIA</td>\n",
       "      <td>Victoria</td>\n",
       "      <td>Bells Beach</td>\n",
       "      <td>Surfing</td>\n",
       "      <td>male</td>\n",
       "      <td>M</td>\n",
       "      <td>...</td>\n",
       "      <td>2 m shark</td>\n",
       "      <td>The Age, 9/16/2016</td>\n",
       "      <td>2016.09.16-BellsBeach.pdf</td>\n",
       "      <td>http://sharkattackfile.net/spreadsheets/pdf_di...</td>\n",
       "      <td>http://sharkattackfile.net/spreadsheets/pdf_di...</td>\n",
       "      <td>2016.09.16</td>\n",
       "      <td>2016.09.15</td>\n",
       "      <td>5989</td>\n",
       "      <td>NaN</td>\n",
       "      <td>NaN</td>\n",
       "    </tr>\n",
       "  </tbody>\n",
       "</table>\n",
       "<p>5 rows × 24 columns</p>\n",
       "</div>"
      ],
      "text/plain": [
       "    Case Number       Date  Year        Type    Country      Area  \\\n",
       "0  2016.09.18.c  18-Sep-16  2016  Unprovoked        USA   Florida   \n",
       "1  2016.09.18.b  18-Sep-16  2016  Unprovoked        USA   Florida   \n",
       "2  2016.09.18.a  18-Sep-16  2016  Unprovoked        USA   Florida   \n",
       "3    2016.09.17  17-Sep-16  2016  Unprovoked  AUSTRALIA  Victoria   \n",
       "4    2016.09.15  16-Sep-16  2016  Unprovoked  AUSTRALIA  Victoria   \n",
       "\n",
       "                           Location Activity             Name Sex   ...  \\\n",
       "0  New Smyrna Beach, Volusia County  Surfing             male    M  ...   \n",
       "1  New Smyrna Beach, Volusia County  Surfing   Chucky Luciano    M  ...   \n",
       "2  New Smyrna Beach, Volusia County  Surfing             male    M  ...   \n",
       "3                  Thirteenth Beach  Surfing  Rory Angiolella    M  ...   \n",
       "4                       Bells Beach  Surfing             male    M  ...   \n",
       "\n",
       "    Species        Investigator or Source                        pdf  \\\n",
       "0        NaN  Orlando Sentinel, 9/19/2016       2016.09.18.c-NSB.pdf   \n",
       "1        NaN  Orlando Sentinel, 9/19/2016   2016.09.18.b-Luciano.pdf   \n",
       "2        NaN  Orlando Sentinel, 9/19/2016       2016.09.18.a-NSB.pdf   \n",
       "3        NaN           The Age, 9/18/2016  2016.09.17-Angiolella.pdf   \n",
       "4  2 m shark           The Age, 9/16/2016  2016.09.16-BellsBeach.pdf   \n",
       "\n",
       "                                        href formula  \\\n",
       "0  http://sharkattackfile.net/spreadsheets/pdf_di...   \n",
       "1  http://sharkattackfile.net/spreadsheets/pdf_di...   \n",
       "2  http://sharkattackfile.net/spreadsheets/pdf_di...   \n",
       "3  http://sharkattackfile.net/spreadsheets/pdf_di...   \n",
       "4  http://sharkattackfile.net/spreadsheets/pdf_di...   \n",
       "\n",
       "                                                href Case Number.1  \\\n",
       "0  http://sharkattackfile.net/spreadsheets/pdf_di...  2016.09.18.c   \n",
       "1  http://sharkattackfile.net/spreadsheets/pdf_di...  2016.09.18.b   \n",
       "2  http://sharkattackfile.net/spreadsheets/pdf_di...  2016.09.18.a   \n",
       "3  http://sharkattackfile.net/spreadsheets/pdf_di...    2016.09.17   \n",
       "4  http://sharkattackfile.net/spreadsheets/pdf_di...    2016.09.16   \n",
       "\n",
       "  Case Number.2 original order Unnamed: 22 Unnamed: 23  \n",
       "0  2016.09.18.c           5993         NaN         NaN  \n",
       "1  2016.09.18.b           5992         NaN         NaN  \n",
       "2  2016.09.18.a           5991         NaN         NaN  \n",
       "3    2016.09.17           5990         NaN         NaN  \n",
       "4    2016.09.15           5989         NaN         NaN  \n",
       "\n",
       "[5 rows x 24 columns]"
      ]
     },
     "execution_count": 3,
     "metadata": {},
     "output_type": "execute_result"
    }
   ],
   "source": [
    "df.head()"
   ]
  },
  {
   "cell_type": "code",
   "execution_count": 4,
   "id": "41f6d562-a0ef-4f06-86d2-5c6e7e64f7a7",
   "metadata": {
    "tags": []
   },
   "outputs": [
    {
     "name": "stdout",
     "output_type": "stream",
     "text": [
      "<class 'pandas.core.frame.DataFrame'>\n",
      "RangeIndex: 5992 entries, 0 to 5991\n",
      "Data columns (total 24 columns):\n",
      " #   Column                  Non-Null Count  Dtype \n",
      "---  ------                  --------------  ----- \n",
      " 0   Case Number             5992 non-null   object\n",
      " 1   Date                    5992 non-null   object\n",
      " 2   Year                    5992 non-null   int64 \n",
      " 3   Type                    5992 non-null   object\n",
      " 4   Country                 5949 non-null   object\n",
      " 5   Area                    5590 non-null   object\n",
      " 6   Location                5496 non-null   object\n",
      " 7   Activity                5465 non-null   object\n",
      " 8   Name                    5792 non-null   object\n",
      " 9   Sex                     5425 non-null   object\n",
      " 10  Age                     3311 non-null   object\n",
      " 11  Injury                  5965 non-null   object\n",
      " 12  Fatal (Y/N)             5973 non-null   object\n",
      " 13  Time                    2779 non-null   object\n",
      " 14  Species                 3058 non-null   object\n",
      " 15  Investigator or Source  5977 non-null   object\n",
      " 16  pdf                     5992 non-null   object\n",
      " 17  href formula            5991 non-null   object\n",
      " 18  href                    5989 non-null   object\n",
      " 19  Case Number.1           5992 non-null   object\n",
      " 20  Case Number.2           5992 non-null   object\n",
      " 21  original order          5992 non-null   int64 \n",
      " 22  Unnamed: 22             1 non-null      object\n",
      " 23  Unnamed: 23             2 non-null      object\n",
      "dtypes: int64(2), object(22)\n",
      "memory usage: 1.1+ MB\n"
     ]
    }
   ],
   "source": [
    "df.info()"
   ]
  },
  {
   "cell_type": "code",
   "execution_count": 5,
   "id": "14cb5f41-99bf-45e1-a703-e2171144cd84",
   "metadata": {},
   "outputs": [
    {
     "data": {
      "text/plain": [
       "(5992, 24)"
      ]
     },
     "execution_count": 5,
     "metadata": {},
     "output_type": "execute_result"
    }
   ],
   "source": [
    "df.shape"
   ]
  },
  {
   "cell_type": "code",
   "execution_count": 6,
   "id": "7db9dc49-dafc-4740-ad84-995c8616b875",
   "metadata": {},
   "outputs": [
    {
     "data": {
      "text/plain": [
       "Index(['Case Number', 'Date', 'Year', 'Type', 'Country', 'Area', 'Location',\n",
       "       'Activity', 'Name', 'Sex ', 'Age', 'Injury', 'Fatal (Y/N)', 'Time',\n",
       "       'Species ', 'Investigator or Source', 'pdf', 'href formula', 'href',\n",
       "       'Case Number.1', 'Case Number.2', 'original order', 'Unnamed: 22',\n",
       "       'Unnamed: 23'],\n",
       "      dtype='object')"
      ]
     },
     "execution_count": 6,
     "metadata": {},
     "output_type": "execute_result"
    }
   ],
   "source": [
    "df.columns"
   ]
  },
  {
   "cell_type": "code",
   "execution_count": 7,
   "id": "4ad03aaf-8a72-4c3c-ac74-f310d114bb55",
   "metadata": {
    "tags": []
   },
   "outputs": [
    {
     "name": "stdout",
     "output_type": "stream",
     "text": [
      "Country                     43\n",
      "Area                       402\n",
      "Location                   496\n",
      "Activity                   527\n",
      "Name                       200\n",
      "Sex                        567\n",
      "Age                       2681\n",
      "Injury                      27\n",
      "Fatal (Y/N)                 19\n",
      "Time                      3213\n",
      "Species                   2934\n",
      "Investigator or Source      15\n",
      "href formula                 1\n",
      "href                         3\n",
      "Unnamed: 22               5991\n",
      "Unnamed: 23               5990\n",
      "dtype: int64\n"
     ]
    }
   ],
   "source": [
    "empty_columns = df.isnull().sum()\n",
    "print(empty_columns[empty_columns > 0])"
   ]
  },
  {
   "cell_type": "markdown",
   "id": "1bed3759-d006-4399-9382-daed92399179",
   "metadata": {},
   "source": [
    "#### DF Cleaning"
   ]
  },
  {
   "cell_type": "code",
   "execution_count": 8,
   "id": "a781ef34-990c-487e-b4fb-4976e414ddcd",
   "metadata": {},
   "outputs": [],
   "source": [
    "#Columns  Unnamed: 22  & Unnamed: 23 have no important information, so I decide to eliminate them\n",
    "#df = df.drop('Unnamed: 22', 1)\n",
    "#df = df.drop('Unnamed: 23', 1)\n",
    "#another way of coding , as seen in Zahid's lecture\n",
    "df.drop(['Unnamed: 22','Unnamed: 23'], axis=1, inplace=True)"
   ]
  },
  {
   "cell_type": "code",
   "execution_count": 9,
   "id": "97d31612-30e5-42df-9630-8a5d3153a921",
   "metadata": {
    "tags": []
   },
   "outputs": [
    {
     "data": {
      "text/plain": [
       "(5992, 22)"
      ]
     },
     "execution_count": 9,
     "metadata": {},
     "output_type": "execute_result"
    }
   ],
   "source": [
    "df.shape"
   ]
  },
  {
   "cell_type": "code",
   "execution_count": 10,
   "id": "3988aa6a-5261-4b98-8558-553f4e60060f",
   "metadata": {},
   "outputs": [
    {
     "name": "stdout",
     "output_type": "stream",
     "text": [
      "True     5979\n",
      "False      13\n",
      "dtype: int64\n",
      "\n",
      "\n",
      "True     5990\n",
      "False       2\n",
      "dtype: int64\n",
      "\n",
      "\n",
      "True     5981\n",
      "False      11\n",
      "dtype: int64\n"
     ]
    }
   ],
   "source": [
    "# I think Case Number.1 and Case Number.2 columns have the same information as the Case Number column. They can be eliminated\n",
    "print((df['Case Number'] == df['Case Number.1']).value_counts())\n",
    "print('\\n')\n",
    "print((df['Case Number'] == df['Case Number.2']).value_counts())\n",
    "print('\\n')\n",
    "print((df['Case Number.1'] == df['Case Number.2']).value_counts())"
   ]
  },
  {
   "cell_type": "code",
   "execution_count": 11,
   "id": "cc7474fb-2af4-4f24-a486-8ed637fba552",
   "metadata": {},
   "outputs": [],
   "source": [
    "#df = df.drop('Case Number.1', 1)\n",
    "#df = df.drop('Case Number.2', 1)\n",
    "#another way of coding , as seen in Zahid's lecture\n",
    "df.drop(columns=['Case Number.1','Case Number.2'], axis=1, inplace=True)"
   ]
  },
  {
   "cell_type": "code",
   "execution_count": 12,
   "id": "c21c3666-e78e-4afe-9be9-01a4cea88d0c",
   "metadata": {},
   "outputs": [
    {
     "data": {
      "text/plain": [
       "(5992, 20)"
      ]
     },
     "execution_count": 12,
     "metadata": {},
     "output_type": "execute_result"
    }
   ],
   "source": [
    "df.shape"
   ]
  },
  {
   "cell_type": "code",
   "execution_count": 13,
   "id": "ec7289b0-e65c-4f9a-8850-3f199d2721e6",
   "metadata": {},
   "outputs": [
    {
     "name": "stdout",
     "output_type": "stream",
     "text": [
      "True     5938\n",
      "False      54\n",
      "dtype: int64\n",
      "\n",
      "\n"
     ]
    }
   ],
   "source": [
    "# I think href formula can be eliminated\n",
    "print((df['href formula'] == df['href']).value_counts())\n",
    "print('\\n')"
   ]
  },
  {
   "cell_type": "code",
   "execution_count": 14,
   "id": "a9a96746-4c89-4109-8e31-a1203479d73f",
   "metadata": {},
   "outputs": [],
   "source": [
    "df.drop(columns=['href formula',], axis=1, inplace=True)"
   ]
  },
  {
   "cell_type": "code",
   "execution_count": 15,
   "id": "4a39668e-e853-4d11-8654-b8204bc7526f",
   "metadata": {},
   "outputs": [
    {
     "data": {
      "text/plain": [
       "(5992, 19)"
      ]
     },
     "execution_count": 15,
     "metadata": {},
     "output_type": "execute_result"
    }
   ],
   "source": [
    "df.shape"
   ]
  },
  {
   "cell_type": "markdown",
   "id": "f05b6390-66b5-487c-a130-76d92ca27f5c",
   "metadata": {},
   "source": [
    "#### DF Cleaning per Column"
   ]
  },
  {
   "cell_type": "markdown",
   "id": "f7e9b52e-11a5-47aa-9fcb-cfe2f3a6b343",
   "metadata": {},
   "source": [
    "###### Column Fatal (Y/N) "
   ]
  },
  {
   "cell_type": "code",
   "execution_count": 16,
   "id": "f5917418-f5eb-40b8-975b-11899a25500a",
   "metadata": {},
   "outputs": [
    {
     "data": {
      "text/plain": [
       "{' N', '#VALUE!', 'F', 'N', 'N ', 'UNKNOWN', 'Y', 'n', nan}"
      ]
     },
     "execution_count": 16,
     "metadata": {},
     "output_type": "execute_result"
    }
   ],
   "source": [
    "set(df['Fatal (Y/N)'])"
   ]
  },
  {
   "cell_type": "code",
   "execution_count": 17,
   "id": "a4227704-c200-4a35-8066-bcaa4b291354",
   "metadata": {
    "tags": []
   },
   "outputs": [],
   "source": [
    "df.rename(columns={'Fatal (Y/N)':'Fatalitie'}, inplace=True)"
   ]
  },
  {
   "cell_type": "code",
   "execution_count": 18,
   "id": "e02b793f-041d-469c-a60e-7422f066579a",
   "metadata": {},
   "outputs": [],
   "source": [
    "df.Fatalitie = df.Fatalitie.replace(' N', 'No').replace('#VALUE!', 'No data').replace('F','Yes').replace('N','No').replace('N ','No').replace('UNKNOWN','No data').replace('Y','Yes').replace('n','No').replace('nan','No data')"
   ]
  },
  {
   "cell_type": "code",
   "execution_count": 21,
   "id": "807e8367-9542-49cf-9147-c57f42e3e4cc",
   "metadata": {},
   "outputs": [],
   "source": [
    "df['Fatalitie'] = df['Fatalitie'].fillna('No data')"
   ]
  },
  {
   "cell_type": "code",
   "execution_count": 22,
   "id": "432dc2ed-bf4b-4df4-81f9-a5b2790271b0",
   "metadata": {},
   "outputs": [
    {
     "data": {
      "text/plain": [
       "{'No', 'No data', 'Yes'}"
      ]
     },
     "execution_count": 22,
     "metadata": {},
     "output_type": "execute_result"
    }
   ],
   "source": [
    "set(df['Fatalitie'])"
   ]
  },
  {
   "cell_type": "markdown",
   "id": "36725604-0f29-497d-a2d8-523ed9f72abf",
   "metadata": {},
   "source": [
    "###### Column Sex"
   ]
  },
  {
   "cell_type": "code",
   "execution_count": 25,
   "id": "db72f5e4-3fab-4738-bd63-356041782c7a",
   "metadata": {},
   "outputs": [],
   "source": [
    "df.rename(columns={'Sex ': 'Sex'}, inplace=True)"
   ]
  },
  {
   "cell_type": "code",
   "execution_count": 27,
   "id": "c51a5017-78d2-41b5-8f5f-d6850bb428b1",
   "metadata": {},
   "outputs": [
    {
     "data": {
      "text/plain": [
       "{'.', 'F', 'M', 'M ', 'N', 'lli', nan}"
      ]
     },
     "execution_count": 27,
     "metadata": {},
     "output_type": "execute_result"
    }
   ],
   "source": [
    "set(df['Sex'])"
   ]
  },
  {
   "cell_type": "code",
   "execution_count": 28,
   "id": "c1ce45ee-e7e3-488c-8960-404aae914bae",
   "metadata": {},
   "outputs": [],
   "source": [
    "df['Sex'] = df['Sex'].fillna('No data')"
   ]
  },
  {
   "cell_type": "code",
   "execution_count": 29,
   "id": "3174a4d1-10bf-4293-a1bd-cb0dd7f71aa5",
   "metadata": {},
   "outputs": [],
   "source": [
    "df.Sex = df.Sex.replace('.', 'No data').replace('F', 'Female').replace('M','Male').replace('M ','Male').replace('N','No data').replace('lli','No data')"
   ]
  },
  {
   "cell_type": "code",
   "execution_count": 30,
   "id": "1745de0d-d01e-4601-91ad-12c4ccbf3e7e",
   "metadata": {},
   "outputs": [
    {
     "data": {
      "text/plain": [
       "{'Female', 'Male', 'No data'}"
      ]
     },
     "execution_count": 30,
     "metadata": {},
     "output_type": "execute_result"
    }
   ],
   "source": [
    "set(df['Sex'])"
   ]
  },
  {
   "cell_type": "markdown",
   "id": "8937ea7f-0d61-4998-aaf2-90a38811c092",
   "metadata": {},
   "source": [
    "###### Country"
   ]
  },
  {
   "cell_type": "code",
   "execution_count": 34,
   "id": "12a58b30-45d1-49db-905d-b5bdfca24cf7",
   "metadata": {
    "tags": []
   },
   "outputs": [
    {
     "name": "stdout",
     "output_type": "stream",
     "text": [
      "{nan, 'MAYOTTE', 'TURKEY', 'ASIA?', 'NEW CALEDONIA', 'UNITED ARAB EMIRATES', 'PACIFIC OCEAN', 'ARUBA', 'YEMEN', 'JAPAN', 'CRETE', 'RUSSIA', 'SUDAN', 'NEVIS', 'BARBADOS', 'MAURITIUS', 'Seychelles', 'TANZANIA', 'TURKS & CAICOS', 'NORTH SEA', 'NAMIBIA', 'VENEZUELA', 'NEW GUINEA', 'GABON', 'MEDITERRANEAN SEA?', 'PALAU', 'CAPE VERDE', 'SOUTH PACIFIC OCEAN', 'ADMIRALTY ISLANDS', 'TRINIDAD & TOBAGO', 'NORTH ATLANTIC OCEAN ', 'ATLANTIC OCEAN', 'PERSIAN GULF', 'ENGLAND', 'RED SEA', 'URUGUAY', 'MALTA', 'INDIAN OCEAN', 'LIBYA', 'CENTRAL PACIFIC', 'EGYPT ', 'THE BALKANS', 'SWEDEN', 'GREENLAND', 'CAYMAN ISLANDS', 'AUSTRALIA', 'BAY OF BENGAL', 'PORTUGAL', 'NICARAGUA', 'PACIFIC OCEAN ', 'PHILIPPINES', 'CARIBBEAN SEA', 'PUERTO RICO', 'GEORGIA', 'SIERRA LEONE', 'MARSHALL ISLANDS', 'BELIZE', 'GRENADA', 'PANAMA', 'CANADA', 'ISRAEL', 'USA', 'MOZAMBIQUE', 'EGYPT', 'MALAYSIA', 'COSTA RICA', 'SEYCHELLES', 'SOUTH CHINA SEA', 'VIETNAM', 'TAIWAN', 'CYPRUS', 'NETHERLANDS ANTILLES', 'ITALY / CROATIA', 'EL SALVADOR', 'IRELAND', 'MID-PACIFC OCEAN', 'AMERICAN SAMOA', 'Between PORTUGAL & INDIA', 'BRITISH WEST INDIES', 'PARAGUAY', 'THAILAND', 'NEW ZEALAND', 'FRANCE', 'KENYA', 'NICARAGUA ', 'GUAM', 'SOLOMON ISLANDS', 'BRITISH ISLES', 'AZORES', 'MADAGASCAR', 'CHINA', 'SENEGAL', 'CHILE', 'UNITED KINGDOM', 'REUNION', 'SAN DOMINGO', 'IRAQ', 'JOHNSTON ISLAND', 'KOREA', 'BRITISH VIRGIN ISLANDS', 'OKINAWA', 'SAMOA', 'PAPUA NEW GUINEA', 'ANDAMAN / NICOBAR ISLANDAS', 'LIBERIA', 'SOUTH AFRICA', 'DJIBOUTI', 'BRAZIL', 'INDONESIA', 'RED SEA / INDIAN OCEAN', 'WESTERN SAMOA', 'SAUDI ARABIA', 'KIRIBATI', 'INDIA', 'HONDURAS', 'TASMAN SEA', 'NORWAY', 'RED SEA?', 'Fiji', 'ANTIGUA', 'CUBA', 'BAHREIN', 'CROATIA', 'DIEGO GARCIA', 'HONG KONG', 'GUYANA', 'SPAIN', 'SINGAPORE', 'SUDAN?', 'IRAN / IRAQ', 'St Helena', 'MONTENEGRO', 'MICRONESIA', 'EQUATORIAL GUINEA / CAMEROON', 'GREECE', 'MONACO', 'ALGERIA', 'INDIAN OCEAN?', 'EGYPT / ISRAEL', 'TUNISIA', 'BRITISH NEW GUINEA', 'COOK ISLANDS', 'Coast of AFRICA', 'ECUADOR', 'ST. MAARTIN', 'VANUATU', 'ANGOLA', 'YEMEN ', 'BANGLADESH', ' PHILIPPINES', 'NORTHERN ARABIAN SEA', 'MARTINIQUE', 'TONGA', 'JAMAICA', 'BAHAMAS', 'FRENCH POLYNESIA', 'IRAN', 'COLUMBIA', 'SLOVENIA', 'GRAND CAYMAN', 'SOLOMON ISLANDS / VANUATU', 'GULF OF ADEN', 'ARGENTINA', 'MALDIVE ISLANDS', 'ST. MARTIN', 'ICELAND', 'SOMALIA', 'SOUTH ATLANTIC OCEAN', 'TUVALU', 'NORTHERN MARIANA ISLANDS', 'CURACAO', 'SCOTLAND', 'FIJI', 'OCEAN', 'MEXICO ', 'HAITI', 'LEBANON', 'NIGERIA', 'DOMINICAN REPUBLIC', 'SOUTHWEST PACIFIC OCEAN', 'MEXICO', 'NORTH ATLANTIC OCEAN', 'NEW BRITAIN', 'FEDERATED STATES OF MICRONESIA', 'FALKLAND ISLANDS', 'UNITED ARAB EMIRATES (UAE)', 'KUWAIT', 'SYRIA', 'PALESTINIAN TERRITORIES', 'ITALY', 'MID ATLANTIC OCEAN', 'BURMA', 'GUINEA', 'SRI LANKA', 'NORTH PACIFIC OCEAN', ' TONGA', 'BERMUDA', 'GUATEMALA', 'GHANA', 'SOUTH KOREA', 'CEYLON (SRI LANKA)', 'Sierra Leone', 'JAVA', 'MEDITERRANEAN SEA'}\n"
     ]
    }
   ],
   "source": [
    "print(set(df['Country']))"
   ]
  },
  {
   "cell_type": "code",
   "execution_count": 35,
   "id": "5a67e83d-bde2-4b53-b52d-534736cfd941",
   "metadata": {},
   "outputs": [],
   "source": [
    "df['Country'].fillna('Unknown', inplace = True)"
   ]
  },
  {
   "cell_type": "code",
   "execution_count": 38,
   "id": "56fcd0d2-d791-4c7c-b357-bb431b629206",
   "metadata": {
    "tags": []
   },
   "outputs": [],
   "source": [
    "df['Country'] = df['Country'].str.strip().str.upper()"
   ]
  },
  {
   "cell_type": "code",
   "execution_count": 39,
   "id": "74c7932a-19e1-4f40-89ae-b4e4fba85bb3",
   "metadata": {},
   "outputs": [
    {
     "name": "stdout",
     "output_type": "stream",
     "text": [
      "{'MAYOTTE', 'UNKNOWN', 'TURKEY', 'NEW CALEDONIA', 'ASIA?', 'UNITED ARAB EMIRATES', 'PACIFIC OCEAN', 'ARUBA', 'YEMEN', 'JAPAN', 'CRETE', 'RUSSIA', 'SUDAN', 'NEVIS', 'BARBADOS', 'MAURITIUS', 'TANZANIA', 'TURKS & CAICOS', 'NORTH SEA', 'NAMIBIA', 'VENEZUELA', 'NEW GUINEA', 'GABON', 'MEDITERRANEAN SEA?', 'PALAU', 'CAPE VERDE', 'SOUTH PACIFIC OCEAN', 'ADMIRALTY ISLANDS', 'TRINIDAD & TOBAGO', 'ATLANTIC OCEAN', 'PERSIAN GULF', 'ENGLAND', 'RED SEA', 'URUGUAY', 'MALTA', 'INDIAN OCEAN', 'LIBYA', 'CENTRAL PACIFIC', 'THE BALKANS', 'SWEDEN', 'GREENLAND', 'CAYMAN ISLANDS', 'AUSTRALIA', 'BAY OF BENGAL', 'PORTUGAL', 'NICARAGUA', 'PHILIPPINES', 'CARIBBEAN SEA', 'PUERTO RICO', 'GEORGIA', 'SIERRA LEONE', 'MARSHALL ISLANDS', 'BELIZE', 'GRENADA', 'BETWEEN PORTUGAL & INDIA', 'PANAMA', 'CANADA', 'ISRAEL', 'USA', 'MOZAMBIQUE', 'EGYPT', 'MALAYSIA', 'COSTA RICA', 'SEYCHELLES', 'SOUTH CHINA SEA', 'VIETNAM', 'TAIWAN', 'CYPRUS', 'NETHERLANDS ANTILLES', 'ITALY / CROATIA', 'EL SALVADOR', 'IRELAND', 'MID-PACIFC OCEAN', 'AMERICAN SAMOA', 'BRITISH WEST INDIES', 'PARAGUAY', 'THAILAND', 'NEW ZEALAND', 'FRANCE', 'KENYA', 'GUAM', 'SOLOMON ISLANDS', 'BRITISH ISLES', 'AZORES', 'MADAGASCAR', 'CHINA', 'SENEGAL', 'CHILE', 'UNITED KINGDOM', 'REUNION', 'SAN DOMINGO', 'IRAQ', 'JOHNSTON ISLAND', 'KOREA', 'BRITISH VIRGIN ISLANDS', 'OKINAWA', 'SAMOA', 'PAPUA NEW GUINEA', 'ANDAMAN / NICOBAR ISLANDAS', 'LIBERIA', 'SOUTH AFRICA', 'DJIBOUTI', 'BRAZIL', 'INDONESIA', 'RED SEA / INDIAN OCEAN', 'WESTERN SAMOA', 'SAUDI ARABIA', 'KIRIBATI', 'INDIA', 'HONDURAS', 'TASMAN SEA', 'NORWAY', 'RED SEA?', 'ANTIGUA', 'CUBA', 'BAHREIN', 'CROATIA', 'DIEGO GARCIA', 'HONG KONG', 'GUYANA', 'SPAIN', 'SINGAPORE', 'SUDAN?', 'IRAN / IRAQ', 'MONTENEGRO', 'MICRONESIA', 'EQUATORIAL GUINEA / CAMEROON', 'GREECE', 'MONACO', 'ALGERIA', 'INDIAN OCEAN?', 'EGYPT / ISRAEL', 'TUNISIA', 'BRITISH NEW GUINEA', 'COOK ISLANDS', 'ECUADOR', 'ST. MAARTIN', 'VANUATU', 'ANGOLA', 'BANGLADESH', 'NORTHERN ARABIAN SEA', 'MARTINIQUE', 'TONGA', 'JAMAICA', 'BAHAMAS', 'FRENCH POLYNESIA', 'IRAN', 'COLUMBIA', 'SLOVENIA', 'GRAND CAYMAN', 'SOLOMON ISLANDS / VANUATU', 'GULF OF ADEN', 'ARGENTINA', 'MALDIVE ISLANDS', 'ST. MARTIN', 'ICELAND', 'SOMALIA', 'SOUTH ATLANTIC OCEAN', 'TUVALU', 'NORTHERN MARIANA ISLANDS', 'CURACAO', 'SCOTLAND', 'FIJI', 'OCEAN', 'HAITI', 'LEBANON', 'NIGERIA', 'ST HELENA', 'DOMINICAN REPUBLIC', 'SOUTHWEST PACIFIC OCEAN', 'MEXICO', 'NORTH ATLANTIC OCEAN', 'NEW BRITAIN', 'FEDERATED STATES OF MICRONESIA', 'FALKLAND ISLANDS', 'UNITED ARAB EMIRATES (UAE)', 'KUWAIT', 'SYRIA', 'PALESTINIAN TERRITORIES', 'ITALY', 'MID ATLANTIC OCEAN', 'COAST OF AFRICA', 'BURMA', 'GUINEA', 'SRI LANKA', 'NORTH PACIFIC OCEAN', 'BERMUDA', 'GUATEMALA', 'GHANA', 'SOUTH KOREA', 'CEYLON (SRI LANKA)', 'JAVA', 'MEDITERRANEAN SEA'}\n"
     ]
    }
   ],
   "source": [
    "print(set(df['Country']))"
   ]
  },
  {
   "cell_type": "markdown",
   "id": "476ceb3f-f10c-4495-b3c3-0340ad69d329",
   "metadata": {},
   "source": [
    "###### Converting DF to CSV (Exporting)"
   ]
  },
  {
   "cell_type": "code",
   "execution_count": 40,
   "id": "91f88b3b-4a9c-411a-a933-bf3ccdb7f869",
   "metadata": {},
   "outputs": [],
   "source": [
    "df.to_csv('GSAF5_cleaned.csv')"
   ]
  }
 ],
 "metadata": {
  "kernelspec": {
   "display_name": "Python 3 (ipykernel)",
   "language": "python",
   "name": "python3"
  },
  "language_info": {
   "codemirror_mode": {
    "name": "ipython",
    "version": 3
   },
   "file_extension": ".py",
   "mimetype": "text/x-python",
   "name": "python",
   "nbconvert_exporter": "python",
   "pygments_lexer": "ipython3",
   "version": "3.9.12"
  }
 },
 "nbformat": 4,
 "nbformat_minor": 5
}
