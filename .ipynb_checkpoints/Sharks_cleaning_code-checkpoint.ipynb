{
 "cells": [
  {
   "cell_type": "code",
   "execution_count": 1,
   "id": "5282081b-c257-42cf-9c1f-27b421ee94f8",
   "metadata": {},
   "outputs": [],
   "source": [
    "import pandas as pd"
   ]
  },
  {
   "cell_type": "code",
   "execution_count": 8,
   "id": "df84541a-6934-4271-8824-82749c59a91d",
   "metadata": {},
   "outputs": [],
   "source": [
    "df = pd.read_csv('GSAF5.csv', encoding = 'ISO-8859-1')"
   ]
  },
  {
   "cell_type": "code",
   "execution_count": 10,
   "id": "a67e4ddc-0596-40f2-ac2f-807f643675f6",
   "metadata": {},
   "outputs": [
    {
     "name": "stdout",
     "output_type": "stream",
     "text": [
      "<class 'pandas.core.frame.DataFrame'>\n",
      "RangeIndex: 5992 entries, 0 to 5991\n",
      "Data columns (total 24 columns):\n",
      " #   Column                  Non-Null Count  Dtype \n",
      "---  ------                  --------------  ----- \n",
      " 0   Case Number             5992 non-null   object\n",
      " 1   Date                    5992 non-null   object\n",
      " 2   Year                    5992 non-null   int64 \n",
      " 3   Type                    5992 non-null   object\n",
      " 4   Country                 5949 non-null   object\n",
      " 5   Area                    5590 non-null   object\n",
      " 6   Location                5496 non-null   object\n",
      " 7   Activity                5465 non-null   object\n",
      " 8   Name                    5792 non-null   object\n",
      " 9   Sex                     5425 non-null   object\n",
      " 10  Age                     3311 non-null   object\n",
      " 11  Injury                  5965 non-null   object\n",
      " 12  Fatal (Y/N)             5973 non-null   object\n",
      " 13  Time                    2779 non-null   object\n",
      " 14  Species                 3058 non-null   object\n",
      " 15  Investigator or Source  5977 non-null   object\n",
      " 16  pdf                     5992 non-null   object\n",
      " 17  href formula            5991 non-null   object\n",
      " 18  href                    5989 non-null   object\n",
      " 19  Case Number.1           5992 non-null   object\n",
      " 20  Case Number.2           5992 non-null   object\n",
      " 21  original order          5992 non-null   int64 \n",
      " 22  Unnamed: 22             1 non-null      object\n",
      " 23  Unnamed: 23             2 non-null      object\n",
      "dtypes: int64(2), object(22)\n",
      "memory usage: 1.1+ MB\n"
     ]
    }
   ],
   "source": [
    "df.info()"
   ]
  },
  {
   "cell_type": "markdown",
   "id": "b7b990f2-272e-4eba-aba5-88bec104f3cc",
   "metadata": {},
   "source": [
    "We can see that our DF has two null collumns  (Unnamed 22 and 23) we proceed to eliminate them"
   ]
  },
  {
   "cell_type": "code",
   "execution_count": null,
   "id": "c2c1a61f-6d3e-4fd7-8ef6-58f54d6ce895",
   "metadata": {},
   "outputs": [],
   "source": [
    "#df.drop('Unnamed: 23', inplace=True, axis=1)\n",
    "df.drop('Unnamed: 22', inplace=True, axis=1)"
   ]
  },
  {
   "cell_type": "markdown",
   "id": "22801a45-eb2b-4feb-bebf-ce4d52c4976f",
   "metadata": {},
   "source": [
    "We can See that our Dataframe has values that aparently doesnt make sense in the column Sex, we proceed to eliminate these values"
   ]
  },
  {
   "cell_type": "code",
   "execution_count": 36,
   "id": "e90ebc3a-313c-478d-a9ca-bd32f41bc5b4",
   "metadata": {},
   "outputs": [
    {
     "data": {
      "text/html": [
       "<div>\n",
       "<style scoped>\n",
       "    .dataframe tbody tr th:only-of-type {\n",
       "        vertical-align: middle;\n",
       "    }\n",
       "\n",
       "    .dataframe tbody tr th {\n",
       "        vertical-align: top;\n",
       "    }\n",
       "\n",
       "    .dataframe thead th {\n",
       "        text-align: right;\n",
       "    }\n",
       "</style>\n",
       "<table border=\"1\" class=\"dataframe\">\n",
       "  <thead>\n",
       "    <tr style=\"text-align: right;\">\n",
       "      <th></th>\n",
       "      <th>Case Number</th>\n",
       "      <th>Date</th>\n",
       "      <th>Year</th>\n",
       "      <th>Type</th>\n",
       "      <th>Country</th>\n",
       "      <th>Area</th>\n",
       "      <th>Location</th>\n",
       "      <th>Activity</th>\n",
       "      <th>Name</th>\n",
       "      <th>Sex</th>\n",
       "      <th>...</th>\n",
       "      <th>Fatal (Y/N)</th>\n",
       "      <th>Time</th>\n",
       "      <th>Species</th>\n",
       "      <th>Investigator or Source</th>\n",
       "      <th>pdf</th>\n",
       "      <th>href formula</th>\n",
       "      <th>href</th>\n",
       "      <th>Case Number.1</th>\n",
       "      <th>Case Number.2</th>\n",
       "      <th>original order</th>\n",
       "    </tr>\n",
       "  </thead>\n",
       "  <tbody>\n",
       "    <tr>\n",
       "      <th>5201</th>\n",
       "      <td>1908.06.02.R</td>\n",
       "      <td>Reported 02-Jun-1908</td>\n",
       "      <td>1908</td>\n",
       "      <td>Sea Disaster</td>\n",
       "      <td>PAPUA NEW GUINEA</td>\n",
       "      <td>New Britain</td>\n",
       "      <td>Matupi</td>\n",
       "      <td>.</td>\n",
       "      <td>NaN</td>\n",
       "      <td>.</td>\n",
       "      <td>...</td>\n",
       "      <td>Y</td>\n",
       "      <td>NaN</td>\n",
       "      <td>Allegedly a 33-foot shark</td>\n",
       "      <td>Taranaki Herald, 6/2/1908</td>\n",
       "      <td>1908.06.02.R-Matupi.pdf</td>\n",
       "      <td>http://sharkattackfile.net/spreadsheets/pdf_di...</td>\n",
       "      <td>http://sharkattackfile.net/spreadsheets/pdf_di...</td>\n",
       "      <td>1908.06.02.R</td>\n",
       "      <td>1908.06.02.R</td>\n",
       "      <td>792</td>\n",
       "    </tr>\n",
       "  </tbody>\n",
       "</table>\n",
       "<p>1 rows × 22 columns</p>\n",
       "</div>"
      ],
      "text/plain": [
       "       Case Number                  Date  Year          Type  \\\n",
       "5201  1908.06.02.R  Reported 02-Jun-1908  1908  Sea Disaster   \n",
       "\n",
       "               Country         Area Location Activity Name Sex   ...  \\\n",
       "5201  PAPUA NEW GUINEA  New Britain   Matupi        .  NaN    .  ...   \n",
       "\n",
       "     Fatal (Y/N) Time                   Species      Investigator or Source  \\\n",
       "5201           Y  NaN  Allegedly a 33-foot shark  Taranaki Herald, 6/2/1908   \n",
       "\n",
       "                          pdf  \\\n",
       "5201  1908.06.02.R-Matupi.pdf   \n",
       "\n",
       "                                           href formula  \\\n",
       "5201  http://sharkattackfile.net/spreadsheets/pdf_di...   \n",
       "\n",
       "                                                   href Case Number.1  \\\n",
       "5201  http://sharkattackfile.net/spreadsheets/pdf_di...  1908.06.02.R   \n",
       "\n",
       "     Case Number.2 original order  \n",
       "5201  1908.06.02.R            792  \n",
       "\n",
       "[1 rows x 22 columns]"
      ]
     },
     "execution_count": 36,
     "metadata": {},
     "output_type": "execute_result"
    }
   ],
   "source": [
    "df.loc[df['Sex '] == '.']"
   ]
  },
  {
   "cell_type": "code",
   "execution_count": 37,
   "id": "e00abe3e-3522-4409-83a8-031805aa5a0c",
   "metadata": {},
   "outputs": [],
   "source": [
    "df.drop(df[(df['Sex '] == 'lli') ].index, inplace=True)"
   ]
  },
  {
   "cell_type": "code",
   "execution_count": 39,
   "id": "125cdcd3-2a9d-4c4a-9a1d-3f96d09311c1",
   "metadata": {},
   "outputs": [],
   "source": [
    "df.drop(df[(df['Sex '] == 'N') ].index, inplace=True)\n",
    "df.drop(df[(df['Sex '] == '.') ].index, inplace=True)"
   ]
  },
  {
   "cell_type": "markdown",
   "id": "d6d60683-a0d3-42e6-aa59-947539404dc7",
   "metadata": {},
   "source": [
    "We also saw a M value as 'M ', this typo categorizes the variable as a new type, but its cleat that 'M' is the same as 'M ', so we make them a single one. Also, we replace the nulls with the string 'No Info'"
   ]
  },
  {
   "cell_type": "code",
   "execution_count": 46,
   "id": "b87df3a5-7f41-42a2-be52-fe6ee82a1340",
   "metadata": {},
   "outputs": [],
   "source": [
    "def cambiar_gen(gen):\n",
    "\n",
    "    if gen == 'M ': \n",
    "        return 'M'\n",
    "    if gen == 'M':\n",
    "        return gen\n",
    "    if gen == 'F':\n",
    "        return gen\n",
    "\n",
    "    return \n",
    "df['Sex '] = df['Sex '].apply(cambiar_gen)\n"
   ]
  },
  {
   "cell_type": "code",
   "execution_count": 51,
   "id": "70a91c11-ea8a-420a-98a3-857da5ed4736",
   "metadata": {},
   "outputs": [],
   "source": [
    "df[\"Sex \"].fillna(\"No info\", inplace = True)"
   ]
  },
  {
   "cell_type": "code",
   "execution_count": 52,
   "id": "79629914-8ab7-4e81-8f56-7cfbca9944cb",
   "metadata": {},
   "outputs": [
    {
     "data": {
      "text/plain": [
       "M          4837\n",
       "F           585\n",
       "No info     567\n",
       "Name: Sex , dtype: int64"
      ]
     },
     "execution_count": 52,
     "metadata": {},
     "output_type": "execute_result"
    }
   ],
   "source": [
    "df['Sex '].value_counts()"
   ]
  },
  {
   "cell_type": "markdown",
   "id": "81dec240-bb87-426c-8914-5940c472ce02",
   "metadata": {},
   "source": [
    "Here we have a likely situation where we can eliminate and categorize diferent rows as its general Data category, for example, we can assume that the null values and Unknown are the same "
   ]
  },
  {
   "cell_type": "code",
   "execution_count": 60,
   "id": "640d6bf9-6e0b-4e2a-85eb-209632b8c2d2",
   "metadata": {},
   "outputs": [],
   "source": [
    "df[\"Fatal (Y/N)\"].fillna(\"UNKNOWN\", inplace = True)"
   ]
  },
  {
   "cell_type": "code",
   "execution_count": 57,
   "id": "6a10d888-94de-4042-9089-1219e32e2b52",
   "metadata": {},
   "outputs": [],
   "source": [
    "def fatal(gen):\n",
    "\n",
    "    if gen == 'N ': \n",
    "        return 'N'\n",
    "    if gen == ' N': \n",
    "        return 'N'\n",
    "    if gen == 'n': \n",
    "        return 'N'\n",
    "    if gen == '#VALUE!': \n",
    "        return 'UNKNOWN'\n",
    "    if gen == 'N':\n",
    "        return gen\n",
    "    if gen == 'Y':\n",
    "        return gen\n",
    "    if gen == 'UNKNOWN':\n",
    "        return gen\n",
    "\n",
    "    return \n",
    "df['Fatal (Y/N)'] = df['Fatal (Y/N)'].apply(fatal)"
   ]
  },
  {
   "cell_type": "code",
   "execution_count": 58,
   "id": "a774a049-3389-428a-9f8b-39c11cc87ef1",
   "metadata": {},
   "outputs": [
    {
     "data": {
      "text/plain": [
       "N          4323\n",
       "Y          1551\n",
       "UNKNOWN     114\n",
       "Name: Fatal (Y/N), dtype: int64"
      ]
     },
     "execution_count": 58,
     "metadata": {},
     "output_type": "execute_result"
    }
   ],
   "source": [
    "df['Fatal (Y/N)'].value_counts()"
   ]
  },
  {
   "cell_type": "markdown",
   "id": "0c247f18-d7cd-4b6d-ba33-840da36911b5",
   "metadata": {},
   "source": [
    "As we analyze our Dataframe, we can see that Species, Time and Age have more than "
   ]
  },
  {
   "cell_type": "code",
   "execution_count": 63,
   "id": "7e0d99d6-7186-43c3-871d-c2f61a7c5609",
   "metadata": {},
   "outputs": [],
   "source": [
    "total_nulos = df.isnull().sum()"
   ]
  },
  {
   "cell_type": "code",
   "execution_count": 64,
   "id": "4889839b-9148-4e94-b8ae-5c60c7113308",
   "metadata": {},
   "outputs": [
    {
     "data": {
      "text/plain": [
       "href formula                 1\n",
       "href                         3\n",
       "Investigator or Source      15\n",
       "Injury                      27\n",
       "Country                     43\n",
       "Name                       199\n",
       "Area                       402\n",
       "Location                   496\n",
       "Activity                   527\n",
       "Age                       2679\n",
       "Species                   2934\n",
       "Time                      3211\n",
       "dtype: int64"
      ]
     },
     "execution_count": 64,
     "metadata": {},
     "output_type": "execute_result"
    }
   ],
   "source": [
    "total_nulos[total_nulos > 0].sort_values()"
   ]
  },
  {
   "cell_type": "code",
   "execution_count": 65,
   "id": "363725df-3a1c-4019-89fc-34ac18bc587e",
   "metadata": {},
   "outputs": [
    {
     "data": {
      "text/plain": [
       "href formula              0.000167\n",
       "href                      0.000501\n",
       "Investigator or Source    0.002505\n",
       "Injury                    0.004508\n",
       "Country                   0.007180\n",
       "Name                      0.033228\n",
       "Area                      0.067123\n",
       "Location                  0.082819\n",
       "Activity                  0.087995\n",
       "Age                       0.447320\n",
       "Species                   0.489898\n",
       "Time                      0.536150\n",
       "dtype: float64"
      ]
     },
     "execution_count": 65,
     "metadata": {},
     "output_type": "execute_result"
    }
   ],
   "source": [
    "porcentaje_nulos = total_nulos[total_nulos > 0].sort_values()/df.shape[0]\n",
    "porcentaje_nulos"
   ]
  },
  {
   "cell_type": "markdown",
   "id": "0cdd6580-79d2-48ae-bae3-2b828a9fe112",
   "metadata": {},
   "source": [
    "As we analyze our Dataframe, we can see that Species, Time and Age have more than 40% of its values as Nulls, and there is no evidence that this values can be replaced with an already existent variable (such as we did in the Fatal category) so we proceed to eliminate them"
   ]
  },
  {
   "cell_type": "code",
   "execution_count": 69,
   "id": "8d998349-23c6-475b-9b41-fd96e3d5147f",
   "metadata": {},
   "outputs": [],
   "source": [
    "#df.drop('Time', inplace=True, axis=1)\n",
    "#df.drop('Age', inplace=True, axis=1)\n",
    "df.drop('Species ', inplace=True, axis=1)"
   ]
  },
  {
   "cell_type": "markdown",
   "id": "63697622-e669-4ede-bb67-643d9be9e99e",
   "metadata": {},
   "source": [
    "We can also see that the columns 'href formula' and 'href' are duplicates, so we drop one of them, the Case number,Case number  1 and 2 ar also duplicates."
   ]
  },
  {
   "cell_type": "code",
   "execution_count": 91,
   "id": "08e03751-bb57-4a3d-be21-4b4cbc305101",
   "metadata": {},
   "outputs": [],
   "source": [
    "df.drop('Case Number.1', inplace=True, axis=1)"
   ]
  },
  {
   "cell_type": "code",
   "execution_count": 71,
   "id": "60d3752f-34cb-41d4-986b-09c5c5f56ae1",
   "metadata": {},
   "outputs": [],
   "source": [
    "df.drop('href', inplace=True, axis=1)"
   ]
  },
  {
   "cell_type": "code",
   "execution_count": 77,
   "id": "e03a4a40-9758-49c3-a278-055d48d6e389",
   "metadata": {},
   "outputs": [],
   "source": [
    "df.drop('Case Number.2', inplace=True, axis=1)"
   ]
  },
  {
   "cell_type": "markdown",
   "id": "7f818429-095f-4e46-84f3-f15d98ef2209",
   "metadata": {},
   "source": [
    "We can also read that the name of the person who was attacked is mixed with its gender and ocupation, so we drop it"
   ]
  },
  {
   "cell_type": "code",
   "execution_count": 74,
   "id": "2cfd7405-d3e9-4483-8384-7c2618ce4f2c",
   "metadata": {},
   "outputs": [],
   "source": [
    "df.drop('Name', inplace=True, axis=1)"
   ]
  },
  {
   "cell_type": "markdown",
   "id": "b3d7e2e9-ba15-47b2-a7ab-f6ae46ec34a6",
   "metadata": {},
   "source": [
    "We can apreciate that our country info is full of special characters, so we made a general list of some of them and removed them. We also applied this to the Location and Area Column"
   ]
  },
  {
   "cell_type": "code",
   "execution_count": 84,
   "id": "50c7c374-a09b-4b0a-b411-232bfbd65fc5",
   "metadata": {},
   "outputs": [
    {
     "name": "stderr",
     "output_type": "stream",
     "text": [
      "C:\\Users\\humbe\\AppData\\Local\\Temp\\ipykernel_47788\\2234807686.py:6: FutureWarning: The default value of regex will change from True to False in a future version. In addition, single character regular expressions will *not* be treated as literal strings when regex=True.\n",
      "  df['Country'] = df['Country'].str.replace(char, ' ')\n"
     ]
    }
   ],
   "source": [
    "spec_chars = [\"!\",'\"',\"#\",\"%\",\"&\",\"'\",\"(\",\")\",\n",
    "              \"*\",\"+\",\",\",\"-\",\".\",\"/\",\":\",\";\",\"<\",\n",
    "              \"=\",\">\",\"?\",\"@\",\"[\",\"\\\\\",\"]\",\"^\",\"_\",\n",
    "              \"`\",\"{\",\"|\",\"}\",\"~\",\"–\"]\n",
    "for char in spec_chars:\n",
    "    df['Country'] = df['Country'].str.replace(char, ' ')"
   ]
  },
  {
   "cell_type": "code",
   "execution_count": 85,
   "id": "7d00f8ec-fd31-47b1-aa2b-b592679c1074",
   "metadata": {},
   "outputs": [
    {
     "name": "stderr",
     "output_type": "stream",
     "text": [
      "C:\\Users\\humbe\\AppData\\Local\\Temp\\ipykernel_47788\\1993035701.py:2: FutureWarning: The default value of regex will change from True to False in a future version. In addition, single character regular expressions will *not* be treated as literal strings when regex=True.\n",
      "  df['Location'] = df['Location'].str.replace(char, ' ')\n",
      "C:\\Users\\humbe\\AppData\\Local\\Temp\\ipykernel_47788\\1993035701.py:4: FutureWarning: The default value of regex will change from True to False in a future version. In addition, single character regular expressions will *not* be treated as literal strings when regex=True.\n",
      "  df['Area'] = df['Area'].str.replace(char, ' ')\n"
     ]
    }
   ],
   "source": [
    "for char in spec_chars:\n",
    "    df['Location'] = df['Location'].str.replace(char, ' ')\n",
    "for char in spec_chars:\n",
    "    df['Area'] = df['Area'].str.replace(char, ' ')"
   ]
  },
  {
   "cell_type": "code",
   "execution_count": 88,
   "id": "b9369e98-bd61-4dc9-b9c5-d079940baba3",
   "metadata": {},
   "outputs": [
    {
     "data": {
      "text/plain": [
       "Unprovoked      4385\n",
       "Provoked         557\n",
       "Invalid          519\n",
       "Sea Disaster     219\n",
       "Boat             200\n",
       "Boating          109\n",
       "Name: Type, dtype: int64"
      ]
     },
     "execution_count": 88,
     "metadata": {},
     "output_type": "execute_result"
    }
   ],
   "source": [
    "df['Type'].value_counts()"
   ]
  },
  {
   "cell_type": "markdown",
   "id": "5c375eb4-507d-47ea-8f5c-28b0ed50a560",
   "metadata": {},
   "source": [
    "We can also substitute the values in the Type column with the already existing value of Invalid in our DF"
   ]
  },
  {
   "cell_type": "code",
   "execution_count": 89,
   "id": "a5a4530f-6d13-4ed3-9230-fe2b5c28af50",
   "metadata": {},
   "outputs": [],
   "source": [
    "df[\"Type\"].fillna(\"Invalid\", inplace = True)"
   ]
  },
  {
   "cell_type": "markdown",
   "id": "5c57dd52-b2e9-44d2-84a5-36166558d2b4",
   "metadata": {},
   "source": [
    "In the column Activity we can also group individual elements by its value_counts, the ones that happen rarely can be grouped in the Other category, this arangment can be very general, as the major part of values get grouped in the Other category, a CSV can be seen of the original Value_count"
   ]
  },
  {
   "cell_type": "code",
   "execution_count": 97,
   "id": "1fae03a6-bb04-4133-88b7-4745c5498a82",
   "metadata": {},
   "outputs": [],
   "source": [
    "df['Activity'].value_counts()\n",
    "counts = df['Activity'].value_counts()\n",
    "counts.to_csv('Activity.csv')"
   ]
  },
  {
   "cell_type": "code",
   "execution_count": null,
   "id": "5134d063-ffb1-4798-ba74-81f034cd3a3f",
   "metadata": {},
   "outputs": [],
   "source": []
  },
  {
   "cell_type": "code",
   "execution_count": 101,
   "id": "1f167d56-d7ef-419b-a4ff-21a954b56fdc",
   "metadata": {},
   "outputs": [],
   "source": [
    "df[\"Activity\"].fillna(\"No Info\", inplace = True)"
   ]
  },
  {
   "cell_type": "code",
   "execution_count": 99,
   "id": "84dc9e4b-dde2-4c14-8a88-0953db1349c2",
   "metadata": {},
   "outputs": [],
   "source": [
    "def act(gen):\n",
    "\n",
    "    if gen == 'Surfing': \n",
    "        return gen\n",
    "    if gen == 'Swimming': \n",
    "        return gen\n",
    "    if gen == 'Fishing': \n",
    "        return gen\n",
    "    if gen == 'Spearfishing': \n",
    "        return gen\n",
    "    if gen == 'Bathing': \n",
    "        return gen\n",
    "    if gen == 'Wading': \n",
    "        return 'Bathing'\n",
    "    if gen == 'Standing': \n",
    "        return 'Bathing'\n",
    "    if gen == 'Diving': \n",
    "        return gen\n",
    "    if gen == 'Snorkeling' or gen == 'Scuba diving' : \n",
    "        return 'Snorkeling'\n",
    "    if gen == 'Body boarding' or gen == 'Body surfing' : \n",
    "        return 'Body surfing'\n",
    "    else : \n",
    "        return 'Other'\n",
    "    return\n",
    "\n",
    "df['Activity'] = df['Activity'].apply(act)\n",
    "\n",
    "\n"
   ]
  },
  {
   "cell_type": "code",
   "execution_count": 102,
   "id": "fc7e5fb1-f9d9-4ee0-a067-91504fc287cd",
   "metadata": {},
   "outputs": [
    {
     "data": {
      "text/plain": [
       "Other           2763\n",
       "Surfing          903\n",
       "Swimming         819\n",
       "Fishing          413\n",
       "Bathing          394\n",
       "Spearfishing     321\n",
       "Snorkeling       151\n",
       "Diving           123\n",
       "Body surfing     102\n",
       "Name: Activity, dtype: int64"
      ]
     },
     "execution_count": 102,
     "metadata": {},
     "output_type": "execute_result"
    }
   ],
   "source": [
    "df['Activity'].value_counts()"
   ]
  },
  {
   "cell_type": "markdown",
   "id": "d35c41d8-4056-425c-8b29-b7752130fce0",
   "metadata": {},
   "source": [
    "Finally, we drop the 'original order' column, as it only provide us a countdown of our Values "
   ]
  },
  {
   "cell_type": "code",
   "execution_count": 104,
   "id": "3ba83984-2d7d-40e9-a62c-1bffde8929b0",
   "metadata": {},
   "outputs": [],
   "source": [
    "df[\"Country\"].fillna(\"No Info\", inplace = True)\n",
    "df[\"Date\"].fillna(\"No Info\", inplace = True)\n",
    "df[\"Year\"].fillna(\"0\", inplace = True)\n",
    "df[\"Area\"].fillna(\"No Info\", inplace = True)\n",
    "df[\"Location\"].fillna(\"No Info\", inplace = True)\n",
    "df[\"Injury\"].fillna(\"No Info\", inplace = True)"
   ]
  },
  {
   "cell_type": "code",
   "execution_count": 106,
   "id": "abefe03d-3e85-4f24-bbb7-f493da02888b",
   "metadata": {},
   "outputs": [],
   "source": [
    "df.to_csv('Sharks_clean')"
   ]
  },
  {
   "cell_type": "code",
   "execution_count": null,
   "id": "9228b1af-4508-4a02-8d2a-325600cf1bd4",
   "metadata": {},
   "outputs": [],
   "source": []
  }
 ],
 "metadata": {
  "kernelspec": {
   "display_name": "Python 3 (ipykernel)",
   "language": "python",
   "name": "python3"
  },
  "language_info": {
   "codemirror_mode": {
    "name": "ipython",
    "version": 3
   },
   "file_extension": ".py",
   "mimetype": "text/x-python",
   "name": "python",
   "nbconvert_exporter": "python",
   "pygments_lexer": "ipython3",
   "version": "3.9.12"
  }
 },
 "nbformat": 4,
 "nbformat_minor": 5
}
