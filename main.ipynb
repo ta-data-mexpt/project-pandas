{
 "cells": [
  {
   "cell_type": "code",
   "execution_count": 58,
   "metadata": {},
   "outputs": [],
   "source": [
    "import pandas as pd\n",
    "import numpy as np"
   ]
  },
  {
   "cell_type": "code",
   "execution_count": 59,
   "metadata": {},
   "outputs": [
    {
     "data": {
      "text/plain": [
       "(5992, 24)"
      ]
     },
     "execution_count": 59,
     "metadata": {},
     "output_type": "execute_result"
    }
   ],
   "source": [
    "sharks = pd.read_csv('C:/Users/gdlcm/OneDrive/Ironhack_DAPT-0722/Python_Projects/IRONHACK Lab Parsing API/project-pandas/sharkoriginal.csv', encoding='latin-1')\n",
    "sharks.shape"
   ]
  },
  {
   "cell_type": "code",
   "execution_count": 60,
   "metadata": {},
   "outputs": [
    {
     "data": {
      "text/html": [
       "<div>\n",
       "<style scoped>\n",
       "    .dataframe tbody tr th:only-of-type {\n",
       "        vertical-align: middle;\n",
       "    }\n",
       "\n",
       "    .dataframe tbody tr th {\n",
       "        vertical-align: top;\n",
       "    }\n",
       "\n",
       "    .dataframe thead th {\n",
       "        text-align: right;\n",
       "    }\n",
       "</style>\n",
       "<table border=\"1\" class=\"dataframe\">\n",
       "  <thead>\n",
       "    <tr style=\"text-align: right;\">\n",
       "      <th></th>\n",
       "      <th>Case Number</th>\n",
       "      <th>Date</th>\n",
       "      <th>Year</th>\n",
       "      <th>Type</th>\n",
       "      <th>Country</th>\n",
       "      <th>Area</th>\n",
       "      <th>Location</th>\n",
       "      <th>Activity</th>\n",
       "      <th>Name</th>\n",
       "      <th>Sex</th>\n",
       "      <th>...</th>\n",
       "      <th>Species</th>\n",
       "      <th>Investigator or Source</th>\n",
       "      <th>pdf</th>\n",
       "      <th>href formula</th>\n",
       "      <th>href</th>\n",
       "      <th>Case Number.1</th>\n",
       "      <th>Case Number.2</th>\n",
       "      <th>original order</th>\n",
       "      <th>Unnamed: 22</th>\n",
       "      <th>Unnamed: 23</th>\n",
       "    </tr>\n",
       "  </thead>\n",
       "  <tbody>\n",
       "    <tr>\n",
       "      <th>0</th>\n",
       "      <td>2016.09.18.c</td>\n",
       "      <td>18-Sep-16</td>\n",
       "      <td>2016</td>\n",
       "      <td>Unprovoked</td>\n",
       "      <td>USA</td>\n",
       "      <td>Florida</td>\n",
       "      <td>New Smyrna Beach, Volusia County</td>\n",
       "      <td>Surfing</td>\n",
       "      <td>male</td>\n",
       "      <td>M</td>\n",
       "      <td>...</td>\n",
       "      <td>NaN</td>\n",
       "      <td>Orlando Sentinel, 9/19/2016</td>\n",
       "      <td>2016.09.18.c-NSB.pdf</td>\n",
       "      <td>http://sharkattackfile.net/spreadsheets/pdf_di...</td>\n",
       "      <td>http://sharkattackfile.net/spreadsheets/pdf_di...</td>\n",
       "      <td>2016.09.18.c</td>\n",
       "      <td>2016.09.18.c</td>\n",
       "      <td>5993</td>\n",
       "      <td>NaN</td>\n",
       "      <td>NaN</td>\n",
       "    </tr>\n",
       "    <tr>\n",
       "      <th>1</th>\n",
       "      <td>2016.09.18.b</td>\n",
       "      <td>18-Sep-16</td>\n",
       "      <td>2016</td>\n",
       "      <td>Unprovoked</td>\n",
       "      <td>USA</td>\n",
       "      <td>Florida</td>\n",
       "      <td>New Smyrna Beach, Volusia County</td>\n",
       "      <td>Surfing</td>\n",
       "      <td>Chucky Luciano</td>\n",
       "      <td>M</td>\n",
       "      <td>...</td>\n",
       "      <td>NaN</td>\n",
       "      <td>Orlando Sentinel, 9/19/2016</td>\n",
       "      <td>2016.09.18.b-Luciano.pdf</td>\n",
       "      <td>http://sharkattackfile.net/spreadsheets/pdf_di...</td>\n",
       "      <td>http://sharkattackfile.net/spreadsheets/pdf_di...</td>\n",
       "      <td>2016.09.18.b</td>\n",
       "      <td>2016.09.18.b</td>\n",
       "      <td>5992</td>\n",
       "      <td>NaN</td>\n",
       "      <td>NaN</td>\n",
       "    </tr>\n",
       "    <tr>\n",
       "      <th>2</th>\n",
       "      <td>2016.09.18.a</td>\n",
       "      <td>18-Sep-16</td>\n",
       "      <td>2016</td>\n",
       "      <td>Unprovoked</td>\n",
       "      <td>USA</td>\n",
       "      <td>Florida</td>\n",
       "      <td>New Smyrna Beach, Volusia County</td>\n",
       "      <td>Surfing</td>\n",
       "      <td>male</td>\n",
       "      <td>M</td>\n",
       "      <td>...</td>\n",
       "      <td>NaN</td>\n",
       "      <td>Orlando Sentinel, 9/19/2016</td>\n",
       "      <td>2016.09.18.a-NSB.pdf</td>\n",
       "      <td>http://sharkattackfile.net/spreadsheets/pdf_di...</td>\n",
       "      <td>http://sharkattackfile.net/spreadsheets/pdf_di...</td>\n",
       "      <td>2016.09.18.a</td>\n",
       "      <td>2016.09.18.a</td>\n",
       "      <td>5991</td>\n",
       "      <td>NaN</td>\n",
       "      <td>NaN</td>\n",
       "    </tr>\n",
       "    <tr>\n",
       "      <th>3</th>\n",
       "      <td>2016.09.17</td>\n",
       "      <td>17-Sep-16</td>\n",
       "      <td>2016</td>\n",
       "      <td>Unprovoked</td>\n",
       "      <td>AUSTRALIA</td>\n",
       "      <td>Victoria</td>\n",
       "      <td>Thirteenth Beach</td>\n",
       "      <td>Surfing</td>\n",
       "      <td>Rory Angiolella</td>\n",
       "      <td>M</td>\n",
       "      <td>...</td>\n",
       "      <td>NaN</td>\n",
       "      <td>The Age, 9/18/2016</td>\n",
       "      <td>2016.09.17-Angiolella.pdf</td>\n",
       "      <td>http://sharkattackfile.net/spreadsheets/pdf_di...</td>\n",
       "      <td>http://sharkattackfile.net/spreadsheets/pdf_di...</td>\n",
       "      <td>2016.09.17</td>\n",
       "      <td>2016.09.17</td>\n",
       "      <td>5990</td>\n",
       "      <td>NaN</td>\n",
       "      <td>NaN</td>\n",
       "    </tr>\n",
       "    <tr>\n",
       "      <th>4</th>\n",
       "      <td>2016.09.15</td>\n",
       "      <td>16-Sep-16</td>\n",
       "      <td>2016</td>\n",
       "      <td>Unprovoked</td>\n",
       "      <td>AUSTRALIA</td>\n",
       "      <td>Victoria</td>\n",
       "      <td>Bells Beach</td>\n",
       "      <td>Surfing</td>\n",
       "      <td>male</td>\n",
       "      <td>M</td>\n",
       "      <td>...</td>\n",
       "      <td>2 m shark</td>\n",
       "      <td>The Age, 9/16/2016</td>\n",
       "      <td>2016.09.16-BellsBeach.pdf</td>\n",
       "      <td>http://sharkattackfile.net/spreadsheets/pdf_di...</td>\n",
       "      <td>http://sharkattackfile.net/spreadsheets/pdf_di...</td>\n",
       "      <td>2016.09.16</td>\n",
       "      <td>2016.09.15</td>\n",
       "      <td>5989</td>\n",
       "      <td>NaN</td>\n",
       "      <td>NaN</td>\n",
       "    </tr>\n",
       "  </tbody>\n",
       "</table>\n",
       "<p>5 rows × 24 columns</p>\n",
       "</div>"
      ],
      "text/plain": [
       "    Case Number       Date  Year        Type    Country      Area  \\\n",
       "0  2016.09.18.c  18-Sep-16  2016  Unprovoked        USA   Florida   \n",
       "1  2016.09.18.b  18-Sep-16  2016  Unprovoked        USA   Florida   \n",
       "2  2016.09.18.a  18-Sep-16  2016  Unprovoked        USA   Florida   \n",
       "3    2016.09.17  17-Sep-16  2016  Unprovoked  AUSTRALIA  Victoria   \n",
       "4    2016.09.15  16-Sep-16  2016  Unprovoked  AUSTRALIA  Victoria   \n",
       "\n",
       "                           Location Activity             Name Sex   ...  \\\n",
       "0  New Smyrna Beach, Volusia County  Surfing             male    M  ...   \n",
       "1  New Smyrna Beach, Volusia County  Surfing   Chucky Luciano    M  ...   \n",
       "2  New Smyrna Beach, Volusia County  Surfing             male    M  ...   \n",
       "3                  Thirteenth Beach  Surfing  Rory Angiolella    M  ...   \n",
       "4                       Bells Beach  Surfing             male    M  ...   \n",
       "\n",
       "    Species        Investigator or Source                        pdf  \\\n",
       "0        NaN  Orlando Sentinel, 9/19/2016       2016.09.18.c-NSB.pdf   \n",
       "1        NaN  Orlando Sentinel, 9/19/2016   2016.09.18.b-Luciano.pdf   \n",
       "2        NaN  Orlando Sentinel, 9/19/2016       2016.09.18.a-NSB.pdf   \n",
       "3        NaN           The Age, 9/18/2016  2016.09.17-Angiolella.pdf   \n",
       "4  2 m shark           The Age, 9/16/2016  2016.09.16-BellsBeach.pdf   \n",
       "\n",
       "                                        href formula  \\\n",
       "0  http://sharkattackfile.net/spreadsheets/pdf_di...   \n",
       "1  http://sharkattackfile.net/spreadsheets/pdf_di...   \n",
       "2  http://sharkattackfile.net/spreadsheets/pdf_di...   \n",
       "3  http://sharkattackfile.net/spreadsheets/pdf_di...   \n",
       "4  http://sharkattackfile.net/spreadsheets/pdf_di...   \n",
       "\n",
       "                                                href Case Number.1  \\\n",
       "0  http://sharkattackfile.net/spreadsheets/pdf_di...  2016.09.18.c   \n",
       "1  http://sharkattackfile.net/spreadsheets/pdf_di...  2016.09.18.b   \n",
       "2  http://sharkattackfile.net/spreadsheets/pdf_di...  2016.09.18.a   \n",
       "3  http://sharkattackfile.net/spreadsheets/pdf_di...    2016.09.17   \n",
       "4  http://sharkattackfile.net/spreadsheets/pdf_di...    2016.09.16   \n",
       "\n",
       "  Case Number.2 original order Unnamed: 22 Unnamed: 23  \n",
       "0  2016.09.18.c           5993         NaN         NaN  \n",
       "1  2016.09.18.b           5992         NaN         NaN  \n",
       "2  2016.09.18.a           5991         NaN         NaN  \n",
       "3    2016.09.17           5990         NaN         NaN  \n",
       "4    2016.09.15           5989         NaN         NaN  \n",
       "\n",
       "[5 rows x 24 columns]"
      ]
     },
     "execution_count": 60,
     "metadata": {},
     "output_type": "execute_result"
    }
   ],
   "source": [
    "sharks.head()"
   ]
  },
  {
   "cell_type": "code",
   "execution_count": 61,
   "metadata": {},
   "outputs": [
    {
     "data": {
      "text/plain": [
       "RangeIndex(start=0, stop=5992, step=1)"
      ]
     },
     "execution_count": 61,
     "metadata": {},
     "output_type": "execute_result"
    }
   ],
   "source": [
    "sharks.index"
   ]
  },
  {
   "cell_type": "code",
   "execution_count": 62,
   "metadata": {},
   "outputs": [
    {
     "data": {
      "text/plain": [
       "143808"
      ]
     },
     "execution_count": 62,
     "metadata": {},
     "output_type": "execute_result"
    }
   ],
   "source": [
    "sharks.size"
   ]
  },
  {
   "cell_type": "code",
   "execution_count": 63,
   "metadata": {},
   "outputs": [
    {
     "data": {
      "text/plain": [
       "5992"
      ]
     },
     "execution_count": 63,
     "metadata": {},
     "output_type": "execute_result"
    }
   ],
   "source": [
    "len(sharks)"
   ]
  },
  {
   "cell_type": "code",
   "execution_count": 64,
   "metadata": {},
   "outputs": [
    {
     "data": {
      "text/plain": [
       "Index(['Case Number', 'Date', 'Year', 'Type', 'Country', 'Area', 'Location',\n",
       "       'Activity', 'Name', 'Sex ', 'Age', 'Injury', 'Fatal (Y/N)', 'Time',\n",
       "       'Species ', 'Investigator or Source', 'pdf', 'href formula', 'href',\n",
       "       'Case Number.1', 'Case Number.2', 'original order', 'Unnamed: 22',\n",
       "       'Unnamed: 23'],\n",
       "      dtype='object')"
      ]
     },
     "execution_count": 64,
     "metadata": {},
     "output_type": "execute_result"
    }
   ],
   "source": [
    "new_sharks=sharks.copy()\n",
    "new_sharks.columns"
   ]
  },
  {
   "cell_type": "code",
   "execution_count": 65,
   "metadata": {},
   "outputs": [
    {
     "data": {
      "text/plain": [
       "Country                     43\n",
       "Area                       402\n",
       "Location                   496\n",
       "Activity                   527\n",
       "Name                       200\n",
       "Sex                        567\n",
       "Age                       2681\n",
       "Injury                      27\n",
       "Fatal (Y/N)                 19\n",
       "Time                      3213\n",
       "Species                   2934\n",
       "Investigator or Source      15\n",
       "href formula                 1\n",
       "href                         3\n",
       "Unnamed: 22               5991\n",
       "Unnamed: 23               5990\n",
       "dtype: int64"
      ]
     },
     "execution_count": 65,
     "metadata": {},
     "output_type": "execute_result"
    }
   ],
   "source": [
    "null_columns=new_sharks.isnull().sum()\n",
    "null_columns[null_columns > 0]"
   ]
  },
  {
   "cell_type": "code",
   "execution_count": 66,
   "metadata": {},
   "outputs": [],
   "source": [
    "drop_cols = list(null_columns[null_columns > 5392].index)\n",
    "new_sharks = new_sharks.drop(drop_cols, axis=1)"
   ]
  },
  {
   "cell_type": "code",
   "execution_count": 67,
   "metadata": {},
   "outputs": [
    {
     "name": "stdout",
     "output_type": "stream",
     "text": [
      "0        True\n",
      "1        True\n",
      "2        True\n",
      "3        True\n",
      "4       False\n",
      "        ...  \n",
      "5987     True\n",
      "5988     True\n",
      "5989     True\n",
      "5990     True\n",
      "5991     True\n",
      "Length: 5992, dtype: bool\n",
      "5992\n"
     ]
    }
   ],
   "source": [
    "print(new_sharks['Case Number.1']==new_sharks['Case Number.2'])\n",
    "print(sharks.shape[0])\n",
    "new_sharks.drop(['Case Number.2'], axis=1, inplace=True)"
   ]
  },
  {
   "cell_type": "code",
   "execution_count": 68,
   "metadata": {},
   "outputs": [],
   "source": [
    "new_sharks.columns = new_sharks.columns.str.replace(' ', '')"
   ]
  },
  {
   "cell_type": "code",
   "execution_count": 69,
   "metadata": {},
   "outputs": [],
   "source": [
    "new_sharks[['Country', 'Area', 'Location','Activity','Name','Sex','Age','Injury','Time','Species','href']] = new_sharks[['Country', 'Area', 'Location','Activity','Name','Sex','Age','Injury','Time','Species','href']].fillna(\"NA\")"
   ]
  },
  {
   "cell_type": "code",
   "execution_count": 70,
   "metadata": {},
   "outputs": [
    {
     "name": "stdout",
     "output_type": "stream",
     "text": [
      "5988\n",
      "5976\n",
      "False\n",
      "False\n"
     ]
    }
   ],
   "source": [
    "print(new_sharks['originalorder'].nunique())\n",
    "print(new_sharks['CaseNumber'].nunique())\n",
    "print(new_sharks['originalorder'].is_unique)\n",
    "print(new_sharks['CaseNumber'].is_unique)"
   ]
  },
  {
   "cell_type": "code",
   "execution_count": 71,
   "metadata": {},
   "outputs": [],
   "source": [
    "new_sharks.set_index(['originalorder'], inplace=True)"
   ]
  },
  {
   "cell_type": "code",
   "execution_count": 72,
   "metadata": {},
   "outputs": [],
   "source": [
    "new_sharks=new_sharks.sort_values(by='originalorder')"
   ]
  },
  {
   "cell_type": "code",
   "execution_count": 73,
   "metadata": {},
   "outputs": [],
   "source": [
    "irrelevant_columns=['Name','pdf','hrefformula', 'href', 'CaseNumber.1','Location']\n",
    "new_sharks=new_sharks.drop(irrelevant_columns, axis=1)"
   ]
  },
  {
   "cell_type": "code",
   "execution_count": 74,
   "metadata": {},
   "outputs": [
    {
     "name": "stdout",
     "output_type": "stream",
     "text": [
      "Number of duplicate records dropped:  0\n"
     ]
    }
   ],
   "source": [
    "before=len(new_sharks)\n",
    "new_sharks.drop_duplicates(inplace=True)\n",
    "after = len(new_sharks)\n",
    "print('Number of duplicate records dropped: ', str(before - after))"
   ]
  },
  {
   "cell_type": "code",
   "execution_count": 75,
   "metadata": {},
   "outputs": [
    {
     "data": {
      "text/html": [
       "<div>\n",
       "<style scoped>\n",
       "    .dataframe tbody tr th:only-of-type {\n",
       "        vertical-align: middle;\n",
       "    }\n",
       "\n",
       "    .dataframe tbody tr th {\n",
       "        vertical-align: top;\n",
       "    }\n",
       "\n",
       "    .dataframe thead th {\n",
       "        text-align: right;\n",
       "    }\n",
       "</style>\n",
       "<table border=\"1\" class=\"dataframe\">\n",
       "  <thead>\n",
       "    <tr style=\"text-align: right;\">\n",
       "      <th></th>\n",
       "      <th>count</th>\n",
       "      <th>mean</th>\n",
       "      <th>std</th>\n",
       "      <th>min</th>\n",
       "      <th>25%</th>\n",
       "      <th>50%</th>\n",
       "      <th>75%</th>\n",
       "      <th>max</th>\n",
       "    </tr>\n",
       "  </thead>\n",
       "  <tbody>\n",
       "    <tr>\n",
       "      <th>Year</th>\n",
       "      <td>5992.0</td>\n",
       "      <td>1925.204606</td>\n",
       "      <td>286.473712</td>\n",
       "      <td>0.0</td>\n",
       "      <td>1942.0</td>\n",
       "      <td>1975.0</td>\n",
       "      <td>2003.0</td>\n",
       "      <td>2016.0</td>\n",
       "    </tr>\n",
       "  </tbody>\n",
       "</table>\n",
       "</div>"
      ],
      "text/plain": [
       "       count         mean         std  min     25%     50%     75%     max\n",
       "Year  5992.0  1925.204606  286.473712  0.0  1942.0  1975.0  2003.0  2016.0"
      ]
     },
     "execution_count": 75,
     "metadata": {},
     "output_type": "execute_result"
    }
   ],
   "source": [
    "descriptivenew_sharks = new_sharks.describe().transpose()\n",
    "descriptivenew_sharks"
   ]
  },
  {
   "cell_type": "code",
   "execution_count": 76,
   "metadata": {},
   "outputs": [
    {
     "name": "stdout",
     "output_type": "stream",
     "text": [
      "Year    61.0\n",
      "Name: IQR, dtype: float64\n",
      "Year    1850.5\n",
      "dtype: float64\n",
      "Year    2094.5\n",
      "dtype: float64\n"
     ]
    }
   ],
   "source": [
    "descriptivenew_sharks['IQR'] = descriptivenew_sharks['75%'] - descriptivenew_sharks['25%']\n",
    "print(descriptivenew_sharks['IQR'])\n",
    "outlier25=descriptivenew_sharks['25%']-(1.5*descriptivenew_sharks['IQR'])\n",
    "outlier75=descriptivenew_sharks['75%']+(1.5*descriptivenew_sharks['IQR'])\n",
    "print(outlier25)\n",
    "print(outlier75)"
   ]
  },
  {
   "cell_type": "code",
   "execution_count": 77,
   "metadata": {},
   "outputs": [],
   "source": [
    "new_sharks['Year'] = np.where(new_sharks.Year > 1850, new_sharks.Year, \"Not relevant\")"
   ]
  },
  {
   "cell_type": "code",
   "execution_count": 78,
   "metadata": {},
   "outputs": [
    {
     "data": {
      "text/plain": [
       "2015    139\n",
       "2011    128\n",
       "2014    125\n",
       "2013    122\n",
       "2008    121\n",
       "       ... \n",
       "1851      3\n",
       "1869      2\n",
       "1866      1\n",
       "1859      1\n",
       "1854      1\n",
       "Name: Year, Length: 165, dtype: int64"
      ]
     },
     "execution_count": 78,
     "metadata": {},
     "output_type": "execute_result"
    }
   ],
   "source": [
    "new_sharks.drop(new_sharks[new_sharks['Year'] == 'Not relevant'].index, inplace=True)\n",
    "new_sharks.Year.value_counts()"
   ]
  },
  {
   "cell_type": "code",
   "execution_count": 79,
   "metadata": {},
   "outputs": [
    {
     "data": {
      "text/plain": [
       "CaseNumber              object\n",
       "Date                    object\n",
       "Year                     int32\n",
       "Type                    object\n",
       "Country                 object\n",
       "Area                    object\n",
       "Activity                object\n",
       "Sex                     object\n",
       "Age                     object\n",
       "Injury                  object\n",
       "Fatal(Y/N)              object\n",
       "Time                    object\n",
       "Species                 object\n",
       "InvestigatororSource    object\n",
       "dtype: object"
      ]
     },
     "execution_count": 79,
     "metadata": {},
     "output_type": "execute_result"
    }
   ],
   "source": [
    "new_sharks['Year']=pd.to_numeric(new_sharks['Year']).astype(int)\n",
    "new_sharks.dtypes"
   ]
  },
  {
   "cell_type": "code",
   "execution_count": 80,
   "metadata": {},
   "outputs": [
    {
     "data": {
      "text/plain": [
       "2015    139\n",
       "2011    128\n",
       "2014    125\n",
       "2013    122\n",
       "2008    121\n",
       "2009    120\n",
       "2012    117\n",
       "2007    112\n",
       "2016    103\n",
       "2006    103\n",
       "2005    103\n",
       "2010    101\n",
       "2000     97\n",
       "2001     92\n",
       "2004     92\n",
       "2003     92\n",
       "2002     88\n",
       "Name: Year, dtype: int64"
      ]
     },
     "execution_count": 80,
     "metadata": {},
     "output_type": "execute_result"
    }
   ],
   "source": [
    "new_sharks=new_sharks.loc[new_sharks['Year']>=2000]\n",
    "new_sharks['Year'].value_counts()"
   ]
  },
  {
   "cell_type": "code",
   "execution_count": 81,
   "metadata": {},
   "outputs": [
    {
     "name": "stderr",
     "output_type": "stream",
     "text": [
      "C:\\Users\\gdlcm\\AppData\\Local\\Temp\\ipykernel_88244\\372839723.py:1: SettingWithCopyWarning: \n",
      "A value is trying to be set on a copy of a slice from a DataFrame\n",
      "\n",
      "See the caveats in the documentation: https://pandas.pydata.org/pandas-docs/stable/user_guide/indexing.html#returning-a-view-versus-a-copy\n",
      "  new_sharks.drop(new_sharks[new_sharks['Type'] == 'Invalid'].index, inplace=True)\n",
      "C:\\Users\\gdlcm\\AppData\\Local\\Temp\\ipykernel_88244\\372839723.py:2: SettingWithCopyWarning: \n",
      "A value is trying to be set on a copy of a slice from a DataFrame.\n",
      "Try using .loc[row_indexer,col_indexer] = value instead\n",
      "\n",
      "See the caveats in the documentation: https://pandas.pydata.org/pandas-docs/stable/user_guide/indexing.html#returning-a-view-versus-a-copy\n",
      "  new_sharks.Type = (new_sharks.Type.str.replace('Boating', 'Boat'))\n",
      "C:\\Users\\gdlcm\\AppData\\Local\\Temp\\ipykernel_88244\\372839723.py:3: SettingWithCopyWarning: \n",
      "A value is trying to be set on a copy of a slice from a DataFrame.\n",
      "Try using .loc[row_indexer,col_indexer] = value instead\n",
      "\n",
      "See the caveats in the documentation: https://pandas.pydata.org/pandas-docs/stable/user_guide/indexing.html#returning-a-view-versus-a-copy\n",
      "  new_sharks['shark fault?']=np.where(new_sharks['Type']=='Provoked','N','Y')\n"
     ]
    }
   ],
   "source": [
    "new_sharks.drop(new_sharks[new_sharks['Type'] == 'Invalid'].index, inplace=True)\n",
    "new_sharks.Type = (new_sharks.Type.str.replace('Boating', 'Boat'))\n",
    "new_sharks['shark fault?']=np.where(new_sharks['Type']=='Provoked','N','Y')"
   ]
  },
  {
   "cell_type": "code",
   "execution_count": 82,
   "metadata": {},
   "outputs": [
    {
     "name": "stderr",
     "output_type": "stream",
     "text": [
      "C:\\Users\\gdlcm\\AppData\\Local\\Temp\\ipykernel_88244\\2404208509.py:2: FutureWarning: The default value of regex will change from True to False in a future version. In addition, single character regular expressions will *not* be treated as literal strings when regex=True.\n",
      "  .str.replace('?', '')\n",
      "C:\\Users\\gdlcm\\AppData\\Local\\Temp\\ipykernel_88244\\2404208509.py:1: SettingWithCopyWarning: \n",
      "A value is trying to be set on a copy of a slice from a DataFrame.\n",
      "Try using .loc[row_indexer,col_indexer] = value instead\n",
      "\n",
      "See the caveats in the documentation: https://pandas.pydata.org/pandas-docs/stable/user_guide/indexing.html#returning-a-view-versus-a-copy\n",
      "  new_sharks.Country = (new_sharks.Country\n"
     ]
    },
    {
     "data": {
      "text/plain": [
       "USA                     0.507620\n",
       "Australia               0.180539\n",
       "South Africa            0.066237\n",
       "Brazil                  0.024619\n",
       "Bahamas                 0.024033\n",
       "                          ...   \n",
       "Yemen                   0.000586\n",
       "Norway                  0.000586\n",
       "Croatia                 0.000586\n",
       "Somalia                 0.000586\n",
       "United Arab Emirates    0.000586\n",
       "Name: Country, Length: 82, dtype: float64"
      ]
     },
     "execution_count": 82,
     "metadata": {},
     "output_type": "execute_result"
    }
   ],
   "source": [
    "new_sharks.Country = (new_sharks.Country\n",
    "                            .str.replace('?', '')\n",
    "                            .str.replace('&', 'and')\n",
    "                            .str.lower()\n",
    "                            .str.title()\n",
    "                            .str.replace('Usa','USA'))\n",
    "country=new_sharks.Country.value_counts(normalize=True)\n",
    "country"
   ]
  },
  {
   "cell_type": "code",
   "execution_count": 83,
   "metadata": {},
   "outputs": [
    {
     "data": {
      "text/plain": [
       "False    1598\n",
       "True      108\n",
       "Name: Area, dtype: int64"
      ]
     },
     "execution_count": 83,
     "metadata": {},
     "output_type": "execute_result"
    }
   ],
   "source": [
    "new_sharks['Area'].str.contains(r'Hawaii').value_counts()"
   ]
  },
  {
   "cell_type": "code",
   "execution_count": 84,
   "metadata": {},
   "outputs": [
    {
     "name": "stderr",
     "output_type": "stream",
     "text": [
      "C:\\Users\\gdlcm\\AppData\\Local\\Temp\\ipykernel_88244\\2038244478.py:1: SettingWithCopyWarning: \n",
      "A value is trying to be set on a copy of a slice from a DataFrame\n",
      "\n",
      "See the caveats in the documentation: https://pandas.pydata.org/pandas-docs/stable/user_guide/indexing.html#returning-a-view-versus-a-copy\n",
      "  new_sharks['Area'][new_sharks.Area.str.contains(r'Hawaii')] = 'Hawaii'\n",
      "C:\\Users\\gdlcm\\AppData\\Local\\Temp\\ipykernel_88244\\2038244478.py:1: SettingWithCopyWarning: \n",
      "A value is trying to be set on a copy of a slice from a DataFrame\n",
      "\n",
      "See the caveats in the documentation: https://pandas.pydata.org/pandas-docs/stable/user_guide/indexing.html#returning-a-view-versus-a-copy\n",
      "  new_sharks['Area'][new_sharks.Area.str.contains(r'Hawaii')] = 'Hawaii'\n"
     ]
    },
    {
     "data": {
      "text/plain": [
       "Florida               473\n",
       "New South Wales       130\n",
       "Hawaii                108\n",
       "California             90\n",
       "Western Australia      68\n",
       "                     ... \n",
       "Marovo Lagoon           1\n",
       "Northern Bahamas        1\n",
       "Yasawa Islands          1\n",
       "Phang nga Province      1\n",
       "Alicante Province       1\n",
       "Name: Area, Length: 226, dtype: int64"
      ]
     },
     "execution_count": 84,
     "metadata": {},
     "output_type": "execute_result"
    }
   ],
   "source": [
    "new_sharks['Area'][new_sharks.Area.str.contains(r'Hawaii')] = 'Hawaii'\n",
    "new_sharks.Area.value_counts()"
   ]
  },
  {
   "cell_type": "code",
   "execution_count": 85,
   "metadata": {},
   "outputs": [
    {
     "name": "stderr",
     "output_type": "stream",
     "text": [
      "C:\\Users\\gdlcm\\AppData\\Local\\Temp\\ipykernel_88244\\3452788557.py:1: SettingWithCopyWarning: \n",
      "A value is trying to be set on a copy of a slice from a DataFrame\n",
      "\n",
      "See the caveats in the documentation: https://pandas.pydata.org/pandas-docs/stable/user_guide/indexing.html#returning-a-view-versus-a-copy\n",
      "  new_sharks['Area'][new_sharks.Area.str.contains(r'[0-9]')] = 'Not relevant'\n",
      "C:\\Users\\gdlcm\\AppData\\Local\\Temp\\ipykernel_88244\\3452788557.py:1: SettingWithCopyWarning: \n",
      "A value is trying to be set on a copy of a slice from a DataFrame\n",
      "\n",
      "See the caveats in the documentation: https://pandas.pydata.org/pandas-docs/stable/user_guide/indexing.html#returning-a-view-versus-a-copy\n",
      "  new_sharks['Area'][new_sharks.Area.str.contains(r'[0-9]')] = 'Not relevant'\n",
      "C:\\Users\\gdlcm\\AppData\\Local\\Temp\\ipykernel_88244\\3452788557.py:2: SettingWithCopyWarning: \n",
      "A value is trying to be set on a copy of a slice from a DataFrame\n",
      "\n",
      "See the caveats in the documentation: https://pandas.pydata.org/pandas-docs/stable/user_guide/indexing.html#returning-a-view-versus-a-copy\n",
      "  new_sharks.drop(new_sharks[new_sharks['Area'] == 'Not relevant'].index, inplace=True)\n",
      "C:\\Users\\gdlcm\\AppData\\Local\\Temp\\ipykernel_88244\\3452788557.py:3: SettingWithCopyWarning: \n",
      "A value is trying to be set on a copy of a slice from a DataFrame\n",
      "\n",
      "See the caveats in the documentation: https://pandas.pydata.org/pandas-docs/stable/user_guide/indexing.html#returning-a-view-versus-a-copy\n",
      "  new_sharks['Area'][new_sharks.Area.str.contains(r'Between')] = 'Not precised'\n",
      "C:\\Users\\gdlcm\\AppData\\Local\\Temp\\ipykernel_88244\\3452788557.py:3: SettingWithCopyWarning: \n",
      "A value is trying to be set on a copy of a slice from a DataFrame\n",
      "\n",
      "See the caveats in the documentation: https://pandas.pydata.org/pandas-docs/stable/user_guide/indexing.html#returning-a-view-versus-a-copy\n",
      "  new_sharks['Area'][new_sharks.Area.str.contains(r'Between')] = 'Not precised'\n",
      "C:\\Users\\gdlcm\\AppData\\Local\\Temp\\ipykernel_88244\\3452788557.py:4: SettingWithCopyWarning: \n",
      "A value is trying to be set on a copy of a slice from a DataFrame\n",
      "\n",
      "See the caveats in the documentation: https://pandas.pydata.org/pandas-docs/stable/user_guide/indexing.html#returning-a-view-versus-a-copy\n",
      "  new_sharks.drop(new_sharks[new_sharks['Area'] == 'Not precised'].index, inplace=True)\n"
     ]
    }
   ],
   "source": [
    "new_sharks['Area'][new_sharks.Area.str.contains(r'[0-9]')] = 'Not relevant'\n",
    "new_sharks.drop(new_sharks[new_sharks['Area'] == 'Not relevant'].index, inplace=True)\n",
    "new_sharks['Area'][new_sharks.Area.str.contains(r'Between')] = 'Not precised'\n",
    "new_sharks.drop(new_sharks[new_sharks['Area'] == 'Not precised'].index, inplace=True)"
   ]
  },
  {
   "cell_type": "code",
   "execution_count": 86,
   "metadata": {},
   "outputs": [
    {
     "name": "stderr",
     "output_type": "stream",
     "text": [
      "C:\\Users\\gdlcm\\AppData\\Local\\Temp\\ipykernel_88244\\2795627654.py:2: FutureWarning: The default value of regex will change from True to False in a future version. In addition, single character regular expressions will *not* be treated as literal strings when regex=True.\n",
      "  .str.replace('?', '')\n",
      "C:\\Users\\gdlcm\\AppData\\Local\\Temp\\ipykernel_88244\\2795627654.py:1: SettingWithCopyWarning: \n",
      "A value is trying to be set on a copy of a slice from a DataFrame.\n",
      "Try using .loc[row_indexer,col_indexer] = value instead\n",
      "\n",
      "See the caveats in the documentation: https://pandas.pydata.org/pandas-docs/stable/user_guide/indexing.html#returning-a-view-versus-a-copy\n",
      "  new_sharks.Area = (new_sharks.Area\n"
     ]
    }
   ],
   "source": [
    "new_sharks.Area = (new_sharks.Area\n",
    "                            .str.replace('?', '')\n",
    "                            .str.replace('&', 'and')\n",
    "                            .str.lower()\n",
    "                            .str.title())"
   ]
  },
  {
   "cell_type": "code",
   "execution_count": 87,
   "metadata": {},
   "outputs": [
    {
     "name": "stderr",
     "output_type": "stream",
     "text": [
      "C:\\Users\\gdlcm\\AppData\\Local\\Temp\\ipykernel_88244\\2960193699.py:2: FutureWarning: The default value of regex will change from True to False in a future version. In addition, single character regular expressions will *not* be treated as literal strings when regex=True.\n",
      "  .str.replace('?', '')\n",
      "C:\\Users\\gdlcm\\AppData\\Local\\Temp\\ipykernel_88244\\2960193699.py:1: SettingWithCopyWarning: \n",
      "A value is trying to be set on a copy of a slice from a DataFrame.\n",
      "Try using .loc[row_indexer,col_indexer] = value instead\n",
      "\n",
      "See the caveats in the documentation: https://pandas.pydata.org/pandas-docs/stable/user_guide/indexing.html#returning-a-view-versus-a-copy\n",
      "  new_sharks.Activity = (new_sharks.Activity\n"
     ]
    }
   ],
   "source": [
    "new_sharks.Activity = (new_sharks.Activity\n",
    "                            .str.replace('?', '')\n",
    "                            .str.replace('&', 'and')\n",
    "                            .str.lower()\n",
    "                            .str.title())"
   ]
  },
  {
   "cell_type": "code",
   "execution_count": 88,
   "metadata": {},
   "outputs": [
    {
     "name": "stderr",
     "output_type": "stream",
     "text": [
      "C:\\Users\\gdlcm\\AppData\\Local\\Temp\\ipykernel_88244\\2606331926.py:1: SettingWithCopyWarning: \n",
      "A value is trying to be set on a copy of a slice from a DataFrame\n",
      "\n",
      "See the caveats in the documentation: https://pandas.pydata.org/pandas-docs/stable/user_guide/indexing.html#returning-a-view-versus-a-copy\n",
      "  new_sharks['Sex'][new_sharks.Sex.str.startswith('F')]='Female'\n",
      "C:\\Users\\gdlcm\\AppData\\Local\\Temp\\ipykernel_88244\\2606331926.py:1: SettingWithCopyWarning: \n",
      "A value is trying to be set on a copy of a slice from a DataFrame\n",
      "\n",
      "See the caveats in the documentation: https://pandas.pydata.org/pandas-docs/stable/user_guide/indexing.html#returning-a-view-versus-a-copy\n",
      "  new_sharks['Sex'][new_sharks.Sex.str.startswith('F')]='Female'\n",
      "C:\\Users\\gdlcm\\AppData\\Local\\Temp\\ipykernel_88244\\2606331926.py:2: SettingWithCopyWarning: \n",
      "A value is trying to be set on a copy of a slice from a DataFrame\n",
      "\n",
      "See the caveats in the documentation: https://pandas.pydata.org/pandas-docs/stable/user_guide/indexing.html#returning-a-view-versus-a-copy\n",
      "  new_sharks['Sex'][new_sharks.Sex.str.startswith('M')]='Male'\n",
      "C:\\Users\\gdlcm\\AppData\\Local\\Temp\\ipykernel_88244\\2606331926.py:2: SettingWithCopyWarning: \n",
      "A value is trying to be set on a copy of a slice from a DataFrame\n",
      "\n",
      "See the caveats in the documentation: https://pandas.pydata.org/pandas-docs/stable/user_guide/indexing.html#returning-a-view-versus-a-copy\n",
      "  new_sharks['Sex'][new_sharks.Sex.str.startswith('M')]='Male'\n",
      "C:\\Users\\gdlcm\\AppData\\Local\\Temp\\ipykernel_88244\\2606331926.py:3: SettingWithCopyWarning: \n",
      "A value is trying to be set on a copy of a slice from a DataFrame\n",
      "\n",
      "See the caveats in the documentation: https://pandas.pydata.org/pandas-docs/stable/user_guide/indexing.html#returning-a-view-versus-a-copy\n",
      "  new_sharks['Sex'][(new_sharks['Sex']=='N') |\n",
      "C:\\Users\\gdlcm\\AppData\\Local\\Temp\\ipykernel_88244\\2606331926.py:3: SettingWithCopyWarning: \n",
      "A value is trying to be set on a copy of a slice from a DataFrame\n",
      "\n",
      "See the caveats in the documentation: https://pandas.pydata.org/pandas-docs/stable/user_guide/indexing.html#returning-a-view-versus-a-copy\n",
      "  new_sharks['Sex'][(new_sharks['Sex']=='N') |\n"
     ]
    },
    {
     "data": {
      "text/plain": [
       "Male      1354\n",
       "Female     265\n",
       "NA          82\n",
       "Name: Sex, dtype: int64"
      ]
     },
     "execution_count": 88,
     "metadata": {},
     "output_type": "execute_result"
    }
   ],
   "source": [
    "new_sharks['Sex'][new_sharks.Sex.str.startswith('F')]='Female'\n",
    "new_sharks['Sex'][new_sharks.Sex.str.startswith('M')]='Male'\n",
    "new_sharks['Sex'][(new_sharks['Sex']=='N') |\n",
    "               (new_sharks['Sex']=='lli') |\n",
    "              (new_sharks['Sex']== '.')]='NA'\n",
    "new_sharks.Sex.value_counts()"
   ]
  },
  {
   "cell_type": "code",
   "execution_count": 89,
   "metadata": {},
   "outputs": [
    {
     "data": {
      "text/plain": [
       "True     1263\n",
       "False     438\n",
       "Name: Age, dtype: int64"
      ]
     },
     "execution_count": 89,
     "metadata": {},
     "output_type": "execute_result"
    }
   ],
   "source": [
    "number=new_sharks['Age'].str.isnumeric()\n",
    "number.value_counts()"
   ]
  },
  {
   "cell_type": "code",
   "execution_count": 90,
   "metadata": {},
   "outputs": [
    {
     "name": "stderr",
     "output_type": "stream",
     "text": [
      "C:\\Users\\gdlcm\\AppData\\Local\\Temp\\ipykernel_88244\\997482924.py:1: SettingWithCopyWarning: \n",
      "A value is trying to be set on a copy of a slice from a DataFrame\n",
      "\n",
      "See the caveats in the documentation: https://pandas.pydata.org/pandas-docs/stable/user_guide/indexing.html#returning-a-view-versus-a-copy\n",
      "  new_sharks['Age'][new_sharks.Age.str.contains(r'[A-Za-z]')] = 'NA'\n",
      "C:\\Users\\gdlcm\\AppData\\Local\\Temp\\ipykernel_88244\\997482924.py:1: SettingWithCopyWarning: \n",
      "A value is trying to be set on a copy of a slice from a DataFrame\n",
      "\n",
      "See the caveats in the documentation: https://pandas.pydata.org/pandas-docs/stable/user_guide/indexing.html#returning-a-view-versus-a-copy\n",
      "  new_sharks['Age'][new_sharks.Age.str.contains(r'[A-Za-z]')] = 'NA'\n",
      "C:\\Users\\gdlcm\\AppData\\Local\\Temp\\ipykernel_88244\\997482924.py:2: SettingWithCopyWarning: \n",
      "A value is trying to be set on a copy of a slice from a DataFrame\n",
      "\n",
      "See the caveats in the documentation: https://pandas.pydata.org/pandas-docs/stable/user_guide/indexing.html#returning-a-view-versus-a-copy\n",
      "  new_sharks['Age'][new_sharks.Age.str.contains(r'\\&')] = 'More than one person'\n",
      "C:\\Users\\gdlcm\\AppData\\Local\\Temp\\ipykernel_88244\\997482924.py:2: SettingWithCopyWarning: \n",
      "A value is trying to be set on a copy of a slice from a DataFrame\n",
      "\n",
      "See the caveats in the documentation: https://pandas.pydata.org/pandas-docs/stable/user_guide/indexing.html#returning-a-view-versus-a-copy\n",
      "  new_sharks['Age'][new_sharks.Age.str.contains(r'\\&')] = 'More than one person'\n",
      "C:\\Users\\gdlcm\\AppData\\Local\\Temp\\ipykernel_88244\\997482924.py:3: SettingWithCopyWarning: \n",
      "A value is trying to be set on a copy of a slice from a DataFrame\n",
      "\n",
      "See the caveats in the documentation: https://pandas.pydata.org/pandas-docs/stable/user_guide/indexing.html#returning-a-view-versus-a-copy\n",
      "  new_sharks['Age'][new_sharks.Age.str.contains(r'\\!?/,')] = 'NA'\n",
      "C:\\Users\\gdlcm\\AppData\\Local\\Temp\\ipykernel_88244\\997482924.py:3: SettingWithCopyWarning: \n",
      "A value is trying to be set on a copy of a slice from a DataFrame\n",
      "\n",
      "See the caveats in the documentation: https://pandas.pydata.org/pandas-docs/stable/user_guide/indexing.html#returning-a-view-versus-a-copy\n",
      "  new_sharks['Age'][new_sharks.Age.str.contains(r'\\!?/,')] = 'NA'\n"
     ]
    },
    {
     "data": {
      "text/plain": [
       "NA    433\n",
       "15     51\n",
       "20     47\n",
       "16     44\n",
       "19     42\n",
       "     ... \n",
       "84      1\n",
       "        1\n",
       "        1\n",
       "73      1\n",
       "72      1\n",
       "Name: Age, Length: 78, dtype: int64"
      ]
     },
     "execution_count": 90,
     "metadata": {},
     "output_type": "execute_result"
    }
   ],
   "source": [
    "new_sharks['Age'][new_sharks.Age.str.contains(r'[A-Za-z]')] = 'NA'\n",
    "new_sharks['Age'][new_sharks.Age.str.contains(r'\\&')] = 'More than one person'\n",
    "new_sharks['Age'][new_sharks.Age.str.contains(r'\\!?/,')] = 'NA'\n",
    "new_sharks.Age.value_counts()"
   ]
  },
  {
   "cell_type": "code",
   "execution_count": 91,
   "metadata": {},
   "outputs": [
    {
     "name": "stderr",
     "output_type": "stream",
     "text": [
      "C:\\Users\\gdlcm\\AppData\\Local\\Temp\\ipykernel_88244\\2765744744.py:2: FutureWarning: The default value of regex will change from True to False in a future version. In addition, single character regular expressions will *not* be treated as literal strings when regex=True.\n",
      "  .str.replace('?', '')\n",
      "C:\\Users\\gdlcm\\AppData\\Local\\Temp\\ipykernel_88244\\2765744744.py:1: SettingWithCopyWarning: \n",
      "A value is trying to be set on a copy of a slice from a DataFrame.\n",
      "Try using .loc[row_indexer,col_indexer] = value instead\n",
      "\n",
      "See the caveats in the documentation: https://pandas.pydata.org/pandas-docs/stable/user_guide/indexing.html#returning-a-view-versus-a-copy\n",
      "  new_sharks.Injury = (new_sharks.Injury\n"
     ]
    }
   ],
   "source": [
    "new_sharks.Injury = (new_sharks.Injury\n",
    "                            .str.replace('?', '')\n",
    "                            .str.replace('&', 'and')\n",
    "                            .str.lower())"
   ]
  },
  {
   "cell_type": "code",
   "execution_count": 92,
   "metadata": {},
   "outputs": [
    {
     "name": "stderr",
     "output_type": "stream",
     "text": [
      "C:\\Users\\gdlcm\\AppData\\Local\\Temp\\ipykernel_88244\\3940340339.py:1: SettingWithCopyWarning: \n",
      "A value is trying to be set on a copy of a slice from a DataFrame.\n",
      "Try using .loc[row_indexer,col_indexer] = value instead\n",
      "\n",
      "See the caveats in the documentation: https://pandas.pydata.org/pandas-docs/stable/user_guide/indexing.html#returning-a-view-versus-a-copy\n",
      "  new_sharks.Species=new_sharks.Species.str.lower()\n",
      "C:\\Users\\gdlcm\\AppData\\Local\\Temp\\ipykernel_88244\\3940340339.py:2: SettingWithCopyWarning: \n",
      "A value is trying to be set on a copy of a slice from a DataFrame\n",
      "\n",
      "See the caveats in the documentation: https://pandas.pydata.org/pandas-docs/stable/user_guide/indexing.html#returning-a-view-versus-a-copy\n",
      "  new_sharks['Species'][new_sharks.Species.str.contains(r'zambesi')] = 'Zambesi Shark'\n",
      "C:\\Users\\gdlcm\\AppData\\Local\\Temp\\ipykernel_88244\\3940340339.py:2: SettingWithCopyWarning: \n",
      "A value is trying to be set on a copy of a slice from a DataFrame\n",
      "\n",
      "See the caveats in the documentation: https://pandas.pydata.org/pandas-docs/stable/user_guide/indexing.html#returning-a-view-versus-a-copy\n",
      "  new_sharks['Species'][new_sharks.Species.str.contains(r'zambesi')] = 'Zambesi Shark'\n",
      "C:\\Users\\gdlcm\\AppData\\Local\\Temp\\ipykernel_88244\\3940340339.py:3: SettingWithCopyWarning: \n",
      "A value is trying to be set on a copy of a slice from a DataFrame\n",
      "\n",
      "See the caveats in the documentation: https://pandas.pydata.org/pandas-docs/stable/user_guide/indexing.html#returning-a-view-versus-a-copy\n",
      "  new_sharks['Species'][new_sharks.Species.str.contains(r'white')] = 'White Shark'\n",
      "C:\\Users\\gdlcm\\AppData\\Local\\Temp\\ipykernel_88244\\3940340339.py:3: SettingWithCopyWarning: \n",
      "A value is trying to be set on a copy of a slice from a DataFrame\n",
      "\n",
      "See the caveats in the documentation: https://pandas.pydata.org/pandas-docs/stable/user_guide/indexing.html#returning-a-view-versus-a-copy\n",
      "  new_sharks['Species'][new_sharks.Species.str.contains(r'white')] = 'White Shark'\n",
      "C:\\Users\\gdlcm\\AppData\\Local\\Temp\\ipykernel_88244\\3940340339.py:4: SettingWithCopyWarning: \n",
      "A value is trying to be set on a copy of a slice from a DataFrame\n",
      "\n",
      "See the caveats in the documentation: https://pandas.pydata.org/pandas-docs/stable/user_guide/indexing.html#returning-a-view-versus-a-copy\n",
      "  new_sharks['Species'][new_sharks.Species.str.contains(r'tiger')] = 'Tiger Shark'\n",
      "C:\\Users\\gdlcm\\AppData\\Local\\Temp\\ipykernel_88244\\3940340339.py:4: SettingWithCopyWarning: \n",
      "A value is trying to be set on a copy of a slice from a DataFrame\n",
      "\n",
      "See the caveats in the documentation: https://pandas.pydata.org/pandas-docs/stable/user_guide/indexing.html#returning-a-view-versus-a-copy\n",
      "  new_sharks['Species'][new_sharks.Species.str.contains(r'tiger')] = 'Tiger Shark'\n",
      "C:\\Users\\gdlcm\\AppData\\Local\\Temp\\ipykernel_88244\\3940340339.py:5: SettingWithCopyWarning: \n",
      "A value is trying to be set on a copy of a slice from a DataFrame\n",
      "\n",
      "See the caveats in the documentation: https://pandas.pydata.org/pandas-docs/stable/user_guide/indexing.html#returning-a-view-versus-a-copy\n",
      "  new_sharks['Species'][new_sharks.Species.str.contains(r'blacktip')] = 'Blacktip Shark'\n",
      "C:\\Users\\gdlcm\\AppData\\Local\\Temp\\ipykernel_88244\\3940340339.py:5: SettingWithCopyWarning: \n",
      "A value is trying to be set on a copy of a slice from a DataFrame\n",
      "\n",
      "See the caveats in the documentation: https://pandas.pydata.org/pandas-docs/stable/user_guide/indexing.html#returning-a-view-versus-a-copy\n",
      "  new_sharks['Species'][new_sharks.Species.str.contains(r'blacktip')] = 'Blacktip Shark'\n",
      "C:\\Users\\gdlcm\\AppData\\Local\\Temp\\ipykernel_88244\\3940340339.py:6: SettingWithCopyWarning: \n",
      "A value is trying to be set on a copy of a slice from a DataFrame\n",
      "\n",
      "See the caveats in the documentation: https://pandas.pydata.org/pandas-docs/stable/user_guide/indexing.html#returning-a-view-versus-a-copy\n",
      "  new_sharks['Species'][new_sharks.Species.str.contains(r'blue')] = 'Blue Shark'\n",
      "C:\\Users\\gdlcm\\AppData\\Local\\Temp\\ipykernel_88244\\3940340339.py:6: SettingWithCopyWarning: \n",
      "A value is trying to be set on a copy of a slice from a DataFrame\n",
      "\n",
      "See the caveats in the documentation: https://pandas.pydata.org/pandas-docs/stable/user_guide/indexing.html#returning-a-view-versus-a-copy\n",
      "  new_sharks['Species'][new_sharks.Species.str.contains(r'blue')] = 'Blue Shark'\n",
      "C:\\Users\\gdlcm\\AppData\\Local\\Temp\\ipykernel_88244\\3940340339.py:7: SettingWithCopyWarning: \n",
      "A value is trying to be set on a copy of a slice from a DataFrame\n",
      "\n",
      "See the caveats in the documentation: https://pandas.pydata.org/pandas-docs/stable/user_guide/indexing.html#returning-a-view-versus-a-copy\n",
      "  new_sharks['Species'][new_sharks.Species.str.contains(r'bronze')] = 'Bronze Whaler Shark'\n",
      "C:\\Users\\gdlcm\\AppData\\Local\\Temp\\ipykernel_88244\\3940340339.py:7: SettingWithCopyWarning: \n",
      "A value is trying to be set on a copy of a slice from a DataFrame\n",
      "\n",
      "See the caveats in the documentation: https://pandas.pydata.org/pandas-docs/stable/user_guide/indexing.html#returning-a-view-versus-a-copy\n",
      "  new_sharks['Species'][new_sharks.Species.str.contains(r'bronze')] = 'Bronze Whaler Shark'\n",
      "C:\\Users\\gdlcm\\AppData\\Local\\Temp\\ipykernel_88244\\3940340339.py:8: SettingWithCopyWarning: \n",
      "A value is trying to be set on a copy of a slice from a DataFrame\n",
      "\n",
      "See the caveats in the documentation: https://pandas.pydata.org/pandas-docs/stable/user_guide/indexing.html#returning-a-view-versus-a-copy\n",
      "  new_sharks['Species'][new_sharks.Species.str.contains(r'raggedtooth')] = 'Raggedtooth Shark'\n",
      "C:\\Users\\gdlcm\\AppData\\Local\\Temp\\ipykernel_88244\\3940340339.py:8: SettingWithCopyWarning: \n",
      "A value is trying to be set on a copy of a slice from a DataFrame\n",
      "\n",
      "See the caveats in the documentation: https://pandas.pydata.org/pandas-docs/stable/user_guide/indexing.html#returning-a-view-versus-a-copy\n",
      "  new_sharks['Species'][new_sharks.Species.str.contains(r'raggedtooth')] = 'Raggedtooth Shark'\n",
      "C:\\Users\\gdlcm\\AppData\\Local\\Temp\\ipykernel_88244\\3940340339.py:9: SettingWithCopyWarning: \n",
      "A value is trying to be set on a copy of a slice from a DataFrame\n",
      "\n",
      "See the caveats in the documentation: https://pandas.pydata.org/pandas-docs/stable/user_guide/indexing.html#returning-a-view-versus-a-copy\n",
      "  new_sharks['Species'][new_sharks.Species.str.contains(r'nurse')] = 'Nurse Shark'\n",
      "C:\\Users\\gdlcm\\AppData\\Local\\Temp\\ipykernel_88244\\3940340339.py:9: SettingWithCopyWarning: \n",
      "A value is trying to be set on a copy of a slice from a DataFrame\n",
      "\n",
      "See the caveats in the documentation: https://pandas.pydata.org/pandas-docs/stable/user_guide/indexing.html#returning-a-view-versus-a-copy\n",
      "  new_sharks['Species'][new_sharks.Species.str.contains(r'nurse')] = 'Nurse Shark'\n",
      "C:\\Users\\gdlcm\\AppData\\Local\\Temp\\ipykernel_88244\\3940340339.py:10: SettingWithCopyWarning: \n",
      "A value is trying to be set on a copy of a slice from a DataFrame\n",
      "\n",
      "See the caveats in the documentation: https://pandas.pydata.org/pandas-docs/stable/user_guide/indexing.html#returning-a-view-versus-a-copy\n",
      "  new_sharks['Species'][new_sharks.Species.str.contains(r'bull')] = 'Bull Shark'\n",
      "C:\\Users\\gdlcm\\AppData\\Local\\Temp\\ipykernel_88244\\3940340339.py:10: SettingWithCopyWarning: \n",
      "A value is trying to be set on a copy of a slice from a DataFrame\n",
      "\n",
      "See the caveats in the documentation: https://pandas.pydata.org/pandas-docs/stable/user_guide/indexing.html#returning-a-view-versus-a-copy\n",
      "  new_sharks['Species'][new_sharks.Species.str.contains(r'bull')] = 'Bull Shark'\n",
      "C:\\Users\\gdlcm\\AppData\\Local\\Temp\\ipykernel_88244\\3940340339.py:11: SettingWithCopyWarning: \n",
      "A value is trying to be set on a copy of a slice from a DataFrame\n",
      "\n",
      "See the caveats in the documentation: https://pandas.pydata.org/pandas-docs/stable/user_guide/indexing.html#returning-a-view-versus-a-copy\n",
      "  new_sharks['Species'][new_sharks.Species.str.contains(r'caribbean')] = 'Caribbean Reef Shark'\n",
      "C:\\Users\\gdlcm\\AppData\\Local\\Temp\\ipykernel_88244\\3940340339.py:11: SettingWithCopyWarning: \n",
      "A value is trying to be set on a copy of a slice from a DataFrame\n",
      "\n",
      "See the caveats in the documentation: https://pandas.pydata.org/pandas-docs/stable/user_guide/indexing.html#returning-a-view-versus-a-copy\n",
      "  new_sharks['Species'][new_sharks.Species.str.contains(r'caribbean')] = 'Caribbean Reef Shark'\n",
      "C:\\Users\\gdlcm\\AppData\\Local\\Temp\\ipykernel_88244\\3940340339.py:12: SettingWithCopyWarning: \n",
      "A value is trying to be set on a copy of a slice from a DataFrame\n",
      "\n",
      "See the caveats in the documentation: https://pandas.pydata.org/pandas-docs/stable/user_guide/indexing.html#returning-a-view-versus-a-copy\n",
      "  new_sharks['Species'][new_sharks.Species.str.contains(r'make')] = 'Mako Shark'\n",
      "C:\\Users\\gdlcm\\AppData\\Local\\Temp\\ipykernel_88244\\3940340339.py:12: SettingWithCopyWarning: \n",
      "A value is trying to be set on a copy of a slice from a DataFrame\n",
      "\n",
      "See the caveats in the documentation: https://pandas.pydata.org/pandas-docs/stable/user_guide/indexing.html#returning-a-view-versus-a-copy\n",
      "  new_sharks['Species'][new_sharks.Species.str.contains(r'make')] = 'Mako Shark'\n",
      "C:\\Users\\gdlcm\\AppData\\Local\\Temp\\ipykernel_88244\\3940340339.py:13: SettingWithCopyWarning: \n",
      "A value is trying to be set on a copy of a slice from a DataFrame\n",
      "\n",
      "See the caveats in the documentation: https://pandas.pydata.org/pandas-docs/stable/user_guide/indexing.html#returning-a-view-versus-a-copy\n",
      "  new_sharks['Species'][new_sharks.Species.str.contains(r'grey')] = 'Grey Shark'\n",
      "C:\\Users\\gdlcm\\AppData\\Local\\Temp\\ipykernel_88244\\3940340339.py:13: SettingWithCopyWarning: \n",
      "A value is trying to be set on a copy of a slice from a DataFrame\n",
      "\n",
      "See the caveats in the documentation: https://pandas.pydata.org/pandas-docs/stable/user_guide/indexing.html#returning-a-view-versus-a-copy\n",
      "  new_sharks['Species'][new_sharks.Species.str.contains(r'grey')] = 'Grey Shark'\n",
      "C:\\Users\\gdlcm\\AppData\\Local\\Temp\\ipykernel_88244\\3940340339.py:14: SettingWithCopyWarning: \n",
      "A value is trying to be set on a copy of a slice from a DataFrame\n",
      "\n",
      "See the caveats in the documentation: https://pandas.pydata.org/pandas-docs/stable/user_guide/indexing.html#returning-a-view-versus-a-copy\n",
      "  new_sharks['Species'][new_sharks.Species.str.contains(r'hammerhead')] = 'Hammerhead Shark'\n",
      "C:\\Users\\gdlcm\\AppData\\Local\\Temp\\ipykernel_88244\\3940340339.py:14: SettingWithCopyWarning: \n",
      "A value is trying to be set on a copy of a slice from a DataFrame\n",
      "\n",
      "See the caveats in the documentation: https://pandas.pydata.org/pandas-docs/stable/user_guide/indexing.html#returning-a-view-versus-a-copy\n",
      "  new_sharks['Species'][new_sharks.Species.str.contains(r'hammerhead')] = 'Hammerhead Shark'\n",
      "C:\\Users\\gdlcm\\AppData\\Local\\Temp\\ipykernel_88244\\3940340339.py:15: SettingWithCopyWarning: \n",
      "A value is trying to be set on a copy of a slice from a DataFrame\n",
      "\n",
      "See the caveats in the documentation: https://pandas.pydata.org/pandas-docs/stable/user_guide/indexing.html#returning-a-view-versus-a-copy\n",
      "  new_sharks['Species'][new_sharks.Species.str.contains(r'leopard')] = 'Leopard Shark'\n",
      "C:\\Users\\gdlcm\\AppData\\Local\\Temp\\ipykernel_88244\\3940340339.py:15: SettingWithCopyWarning: \n",
      "A value is trying to be set on a copy of a slice from a DataFrame\n",
      "\n",
      "See the caveats in the documentation: https://pandas.pydata.org/pandas-docs/stable/user_guide/indexing.html#returning-a-view-versus-a-copy\n",
      "  new_sharks['Species'][new_sharks.Species.str.contains(r'leopard')] = 'Leopard Shark'\n",
      "C:\\Users\\gdlcm\\AppData\\Local\\Temp\\ipykernel_88244\\3940340339.py:16: SettingWithCopyWarning: \n",
      "A value is trying to be set on a copy of a slice from a DataFrame\n",
      "\n",
      "See the caveats in the documentation: https://pandas.pydata.org/pandas-docs/stable/user_guide/indexing.html#returning-a-view-versus-a-copy\n",
      "  new_sharks['Species'][new_sharks.Species.str.contains(r'lemon')] = 'Lemon Shark'\n",
      "C:\\Users\\gdlcm\\AppData\\Local\\Temp\\ipykernel_88244\\3940340339.py:16: SettingWithCopyWarning: \n",
      "A value is trying to be set on a copy of a slice from a DataFrame\n",
      "\n",
      "See the caveats in the documentation: https://pandas.pydata.org/pandas-docs/stable/user_guide/indexing.html#returning-a-view-versus-a-copy\n",
      "  new_sharks['Species'][new_sharks.Species.str.contains(r'lemon')] = 'Lemon Shark'\n"
     ]
    },
    {
     "data": {
      "text/plain": [
       "White Shark             221\n",
       "Tiger Shark             112\n",
       "Bull Shark              110\n",
       "Blacktip Shark           62\n",
       "Bronze Whaler Shark      34\n",
       "Nurse Shark              28\n",
       "Raggedtooth Shark        16\n",
       "Lemon Shark              14\n",
       "Hammerhead Shark         10\n",
       "Zambesi Shark            10\n",
       "Blue Shark               10\n",
       "Grey Shark                9\n",
       "Caribbean Reef Shark      9\n",
       "Name: Species, dtype: int64"
      ]
     },
     "execution_count": 92,
     "metadata": {},
     "output_type": "execute_result"
    }
   ],
   "source": [
    "new_sharks.Species=new_sharks.Species.str.lower()\n",
    "new_sharks['Species'][new_sharks.Species.str.contains(r'zambesi')] = 'Zambesi Shark'\n",
    "new_sharks['Species'][new_sharks.Species.str.contains(r'white')] = 'White Shark'\n",
    "new_sharks['Species'][new_sharks.Species.str.contains(r'tiger')] = 'Tiger Shark'\n",
    "new_sharks['Species'][new_sharks.Species.str.contains(r'blacktip')] = 'Blacktip Shark'\n",
    "new_sharks['Species'][new_sharks.Species.str.contains(r'blue')] = 'Blue Shark'\n",
    "new_sharks['Species'][new_sharks.Species.str.contains(r'bronze')] = 'Bronze Whaler Shark'\n",
    "new_sharks['Species'][new_sharks.Species.str.contains(r'raggedtooth')] = 'Raggedtooth Shark'\n",
    "new_sharks['Species'][new_sharks.Species.str.contains(r'nurse')] = 'Nurse Shark'\n",
    "new_sharks['Species'][new_sharks.Species.str.contains(r'bull')] = 'Bull Shark'\n",
    "new_sharks['Species'][new_sharks.Species.str.contains(r'caribbean')] = 'Caribbean Reef Shark'\n",
    "new_sharks['Species'][new_sharks.Species.str.contains(r'make')] = 'Mako Shark'\n",
    "new_sharks['Species'][new_sharks.Species.str.contains(r'grey')] = 'Grey Shark'\n",
    "new_sharks['Species'][new_sharks.Species.str.contains(r'hammerhead')] = 'Hammerhead Shark'\n",
    "new_sharks['Species'][new_sharks.Species.str.contains(r'leopard')] = 'Leopard Shark'\n",
    "new_sharks['Species'][new_sharks.Species.str.contains(r'lemon')] = 'Lemon Shark'\n",
    "new_sharks=new_sharks.loc[(new_sharks['Species'] == 'Zambesi Shark') |\n",
    "                     (new_sharks['Species'] == 'White Shark') |\n",
    "                    (new_sharks['Species'] == 'Tiger Shark') |\n",
    "                     (new_sharks['Species'] == 'Blacktip Shark') |\n",
    "                    (new_sharks['Species'] == 'Blue Shark') |\n",
    "                     (new_sharks['Species'] == 'Bronze Whaler Shark') |\n",
    "                    (new_sharks['Species'] == 'Raggedtooth Shark') |\n",
    "                     (new_sharks['Species'] == 'Nurse Shark') |\n",
    "                    (new_sharks['Species'] == 'Bull Shark') |\n",
    "                     (new_sharks['Species'] == 'Caribbean Reef Shark') |\n",
    "                   (new_sharks['Species'] == 'Mako Shark') |\n",
    "                     (new_sharks['Species'] == 'Grey Shark') |\n",
    "                   (new_sharks['Species'] == 'Hammerhead Shark') |\n",
    "                     (new_sharks['Species'] == 'Leopard Shark') |\n",
    "                    (new_sharks['Species'] == 'Lemon Shark')]\n",
    "new_sharks.Species.value_counts()"
   ]
  },
  {
   "cell_type": "code",
   "execution_count": 93,
   "metadata": {},
   "outputs": [
    {
     "data": {
      "text/html": [
       "<div>\n",
       "<style scoped>\n",
       "    .dataframe tbody tr th:only-of-type {\n",
       "        vertical-align: middle;\n",
       "    }\n",
       "\n",
       "    .dataframe tbody tr th {\n",
       "        vertical-align: top;\n",
       "    }\n",
       "\n",
       "    .dataframe thead th {\n",
       "        text-align: right;\n",
       "    }\n",
       "</style>\n",
       "<table border=\"1\" class=\"dataframe\">\n",
       "  <thead>\n",
       "    <tr style=\"text-align: right;\">\n",
       "      <th></th>\n",
       "      <th>Area</th>\n",
       "      <th>Sex</th>\n",
       "      <th>Age</th>\n",
       "      <th>Fatal(Y/N)</th>\n",
       "      <th>variable</th>\n",
       "      <th>value</th>\n",
       "    </tr>\n",
       "  </thead>\n",
       "  <tbody>\n",
       "    <tr>\n",
       "      <th>0</th>\n",
       "      <td>Florida</td>\n",
       "      <td>Male</td>\n",
       "      <td>NA</td>\n",
       "      <td>N</td>\n",
       "      <td>Injury</td>\n",
       "      <td>no injury to occupant; shark bit propeller</td>\n",
       "    </tr>\n",
       "    <tr>\n",
       "      <th>1</th>\n",
       "      <td>Worcestershire</td>\n",
       "      <td>Male</td>\n",
       "      <td>NA</td>\n",
       "      <td>N</td>\n",
       "      <td>Injury</td>\n",
       "      <td>fingers bitten provoked incident</td>\n",
       "    </tr>\n",
       "    <tr>\n",
       "      <th>2</th>\n",
       "      <td>Western Cape Province</td>\n",
       "      <td>Male</td>\n",
       "      <td>NA</td>\n",
       "      <td>N</td>\n",
       "      <td>Injury</td>\n",
       "      <td>foot bitten</td>\n",
       "    </tr>\n",
       "    <tr>\n",
       "      <th>3</th>\n",
       "      <td>New South Wales</td>\n",
       "      <td>Male</td>\n",
       "      <td>NA</td>\n",
       "      <td>N</td>\n",
       "      <td>Injury</td>\n",
       "      <td>no injury</td>\n",
       "    </tr>\n",
       "    <tr>\n",
       "      <th>4</th>\n",
       "      <td>North Province</td>\n",
       "      <td>Male</td>\n",
       "      <td>35</td>\n",
       "      <td>Y</td>\n",
       "      <td>Injury</td>\n",
       "      <td>fatal</td>\n",
       "    </tr>\n",
       "    <tr>\n",
       "      <th>...</th>\n",
       "      <td>...</td>\n",
       "      <td>...</td>\n",
       "      <td>...</td>\n",
       "      <td>...</td>\n",
       "      <td>...</td>\n",
       "      <td>...</td>\n",
       "    </tr>\n",
       "    <tr>\n",
       "      <th>640</th>\n",
       "      <td>Hawaii</td>\n",
       "      <td>Male</td>\n",
       "      <td>21</td>\n",
       "      <td>N</td>\n",
       "      <td>Injury</td>\n",
       "      <td>no inury, shark and board collided</td>\n",
       "    </tr>\n",
       "    <tr>\n",
       "      <th>641</th>\n",
       "      <td>Na</td>\n",
       "      <td>Male</td>\n",
       "      <td>20</td>\n",
       "      <td>N</td>\n",
       "      <td>Injury</td>\n",
       "      <td>right arm severed, ankle severely bitten</td>\n",
       "    </tr>\n",
       "    <tr>\n",
       "      <th>642</th>\n",
       "      <td>Florida</td>\n",
       "      <td>Male</td>\n",
       "      <td>25</td>\n",
       "      <td>N</td>\n",
       "      <td>Injury</td>\n",
       "      <td>lacerations to right foot</td>\n",
       "    </tr>\n",
       "    <tr>\n",
       "      <th>643</th>\n",
       "      <td>California</td>\n",
       "      <td>Male</td>\n",
       "      <td>22</td>\n",
       "      <td>N</td>\n",
       "      <td>Injury</td>\n",
       "      <td>two toes broken and lacerated</td>\n",
       "    </tr>\n",
       "    <tr>\n",
       "      <th>644</th>\n",
       "      <td>Hawaii</td>\n",
       "      <td>Female</td>\n",
       "      <td>51</td>\n",
       "      <td>N</td>\n",
       "      <td>Injury</td>\n",
       "      <td>severe lacerations to shoulder and forearm</td>\n",
       "    </tr>\n",
       "  </tbody>\n",
       "</table>\n",
       "<p>645 rows × 6 columns</p>\n",
       "</div>"
      ],
      "text/plain": [
       "                      Area     Sex Age Fatal(Y/N) variable  \\\n",
       "0                  Florida    Male  NA          N   Injury   \n",
       "1           Worcestershire    Male  NA          N   Injury   \n",
       "2    Western Cape Province    Male  NA          N   Injury   \n",
       "3          New South Wales    Male  NA          N   Injury   \n",
       "4           North Province    Male  35          Y   Injury   \n",
       "..                     ...     ...  ..        ...      ...   \n",
       "640                 Hawaii    Male  21          N   Injury   \n",
       "641                     Na    Male  20          N   Injury   \n",
       "642                Florida    Male  25          N   Injury   \n",
       "643             California    Male  22          N   Injury   \n",
       "644                 Hawaii  Female  51          N   Injury   \n",
       "\n",
       "                                          value  \n",
       "0    no injury to occupant; shark bit propeller  \n",
       "1              fingers bitten provoked incident  \n",
       "2                                   foot bitten  \n",
       "3                                     no injury  \n",
       "4                                         fatal  \n",
       "..                                          ...  \n",
       "640          no inury, shark and board collided  \n",
       "641   right arm severed, ankle severely bitten   \n",
       "642                   lacerations to right foot  \n",
       "643               two toes broken and lacerated  \n",
       "644  severe lacerations to shoulder and forearm  \n",
       "\n",
       "[645 rows x 6 columns]"
      ]
     },
     "execution_count": 93,
     "metadata": {},
     "output_type": "execute_result"
    }
   ],
   "source": [
    "melted = pd.melt(new_sharks, id_vars=['Area','Sex','Age','Fatal(Y/N)'], \n",
    "                 value_vars=['Injury'])\n",
    "melted"
   ]
  },
  {
   "cell_type": "code",
   "execution_count": 94,
   "metadata": {},
   "outputs": [],
   "source": [
    "order_list=['CaseNumber','Species','Injury', 'Fatal(Y/N)','shark fault?','Sex', 'Age','Activity','Country', 'Area', 'Year','Date','Time','Type','InvestigatororSource']\n",
    "new_sharks=new_sharks[order_list]"
   ]
  },
  {
   "cell_type": "code",
   "execution_count": 95,
   "metadata": {},
   "outputs": [],
   "source": [
    "new_sharks=new_sharks.rename(columns={'CaseNumber':'Case Number','Injury':'Type of Injury','Fatal(Y/N)':'Fatal:Yes or No','InvestigatororSource':'Investigation','shark fault?':'Unprovoked attack'})"
   ]
  },
  {
   "cell_type": "code",
   "execution_count": 96,
   "metadata": {
    "scrolled": true
   },
   "outputs": [
    {
     "data": {
      "text/html": [
       "<div>\n",
       "<style scoped>\n",
       "    .dataframe tbody tr th:only-of-type {\n",
       "        vertical-align: middle;\n",
       "    }\n",
       "\n",
       "    .dataframe tbody tr th {\n",
       "        vertical-align: top;\n",
       "    }\n",
       "\n",
       "    .dataframe thead th {\n",
       "        text-align: right;\n",
       "    }\n",
       "</style>\n",
       "<table border=\"1\" class=\"dataframe\">\n",
       "  <thead>\n",
       "    <tr style=\"text-align: right;\">\n",
       "      <th></th>\n",
       "      <th>Case Number</th>\n",
       "      <th>Species</th>\n",
       "      <th>Type of Injury</th>\n",
       "      <th>Fatal:Yes or No</th>\n",
       "      <th>Unprovoked attack</th>\n",
       "      <th>Sex</th>\n",
       "      <th>Age</th>\n",
       "      <th>Activity</th>\n",
       "      <th>Country</th>\n",
       "      <th>Area</th>\n",
       "      <th>Year</th>\n",
       "      <th>Date</th>\n",
       "      <th>Time</th>\n",
       "      <th>Type</th>\n",
       "      <th>Investigation</th>\n",
       "    </tr>\n",
       "  </thead>\n",
       "  <tbody>\n",
       "    <tr>\n",
       "      <th>0</th>\n",
       "      <td>2000.00.00</td>\n",
       "      <td>Hammerhead Shark</td>\n",
       "      <td>no injury to occupant; shark bit propeller</td>\n",
       "      <td>N</td>\n",
       "      <td>Y</td>\n",
       "      <td>Male</td>\n",
       "      <td>NA</td>\n",
       "      <td>Fishing For Tarpon</td>\n",
       "      <td>USA</td>\n",
       "      <td>Florida</td>\n",
       "      <td>2000</td>\n",
       "      <td>2000</td>\n",
       "      <td>NA</td>\n",
       "      <td>Boat</td>\n",
       "      <td>B. Stout, News-Press, 7/2/2005</td>\n",
       "    </tr>\n",
       "    <tr>\n",
       "      <th>1</th>\n",
       "      <td>2000.02.14</td>\n",
       "      <td>Blacktip Shark</td>\n",
       "      <td>fingers bitten provoked incident</td>\n",
       "      <td>N</td>\n",
       "      <td>N</td>\n",
       "      <td>Male</td>\n",
       "      <td>NA</td>\n",
       "      <td>Feeding Prawns To Captive Sharks</td>\n",
       "      <td>England</td>\n",
       "      <td>Worcestershire</td>\n",
       "      <td>2000</td>\n",
       "      <td>14-Feb-00</td>\n",
       "      <td>NA</td>\n",
       "      <td>Provoked</td>\n",
       "      <td>The Sun (London), 2/17/2000</td>\n",
       "    </tr>\n",
       "    <tr>\n",
       "      <th>2</th>\n",
       "      <td>2000.02.19</td>\n",
       "      <td>White Shark</td>\n",
       "      <td>foot bitten</td>\n",
       "      <td>N</td>\n",
       "      <td>Y</td>\n",
       "      <td>Male</td>\n",
       "      <td>NA</td>\n",
       "      <td>Body Surfing</td>\n",
       "      <td>South Africa</td>\n",
       "      <td>Western Cape Province</td>\n",
       "      <td>2000</td>\n",
       "      <td>19-Feb-00</td>\n",
       "      <td>14h00</td>\n",
       "      <td>Unprovoked</td>\n",
       "      <td>C. Creswell, GSAF</td>\n",
       "    </tr>\n",
       "    <tr>\n",
       "      <th>3</th>\n",
       "      <td>2000.03.14</td>\n",
       "      <td>Tiger Shark</td>\n",
       "      <td>no injury</td>\n",
       "      <td>N</td>\n",
       "      <td>Y</td>\n",
       "      <td>Male</td>\n",
       "      <td>NA</td>\n",
       "      <td>Surfing</td>\n",
       "      <td>Australia</td>\n",
       "      <td>New South Wales</td>\n",
       "      <td>2000</td>\n",
       "      <td>14-Mar-00</td>\n",
       "      <td>19h30</td>\n",
       "      <td>Unprovoked</td>\n",
       "      <td>Sydney Morning Herald, 3/16/2000</td>\n",
       "    </tr>\n",
       "    <tr>\n",
       "      <th>4</th>\n",
       "      <td>2000.03.15</td>\n",
       "      <td>Tiger Shark</td>\n",
       "      <td>fatal</td>\n",
       "      <td>Y</td>\n",
       "      <td>Y</td>\n",
       "      <td>Male</td>\n",
       "      <td>35</td>\n",
       "      <td>Spearfishing</td>\n",
       "      <td>New Caledonia</td>\n",
       "      <td>North Province</td>\n",
       "      <td>2000</td>\n",
       "      <td>15-Mar-00</td>\n",
       "      <td>Morning</td>\n",
       "      <td>Unprovoked</td>\n",
       "      <td>Les Nouvelles Caledoniennes, 3/16/2000</td>\n",
       "    </tr>\n",
       "    <tr>\n",
       "      <th>...</th>\n",
       "      <td>...</td>\n",
       "      <td>...</td>\n",
       "      <td>...</td>\n",
       "      <td>...</td>\n",
       "      <td>...</td>\n",
       "      <td>...</td>\n",
       "      <td>...</td>\n",
       "      <td>...</td>\n",
       "      <td>...</td>\n",
       "      <td>...</td>\n",
       "      <td>...</td>\n",
       "      <td>...</td>\n",
       "      <td>...</td>\n",
       "      <td>...</td>\n",
       "      <td>...</td>\n",
       "    </tr>\n",
       "    <tr>\n",
       "      <th>640</th>\n",
       "      <td>2016.08.06</td>\n",
       "      <td>Tiger Shark</td>\n",
       "      <td>no inury, shark and board collided</td>\n",
       "      <td>N</td>\n",
       "      <td>Y</td>\n",
       "      <td>Male</td>\n",
       "      <td>21</td>\n",
       "      <td>Sup Foil Boarding</td>\n",
       "      <td>USA</td>\n",
       "      <td>Hawaii</td>\n",
       "      <td>2016</td>\n",
       "      <td>06-Aug-16</td>\n",
       "      <td>NA</td>\n",
       "      <td>Unprovoked</td>\n",
       "      <td>SUP, 8/9/2015</td>\n",
       "    </tr>\n",
       "    <tr>\n",
       "      <th>641</th>\n",
       "      <td>2016.08.27</td>\n",
       "      <td>Bull Shark</td>\n",
       "      <td>right arm severed, ankle severely bitten</td>\n",
       "      <td>N</td>\n",
       "      <td>Y</td>\n",
       "      <td>Male</td>\n",
       "      <td>20</td>\n",
       "      <td>Surfing</td>\n",
       "      <td>Reunion</td>\n",
       "      <td>Na</td>\n",
       "      <td>2016</td>\n",
       "      <td>27-Aug-16</td>\n",
       "      <td>17h00</td>\n",
       "      <td>Unprovoked</td>\n",
       "      <td>LaDepeche, 8/29/2016</td>\n",
       "    </tr>\n",
       "    <tr>\n",
       "      <th>642</th>\n",
       "      <td>2016.08.29.b</td>\n",
       "      <td>Bull Shark</td>\n",
       "      <td>lacerations to right foot</td>\n",
       "      <td>N</td>\n",
       "      <td>Y</td>\n",
       "      <td>Male</td>\n",
       "      <td>25</td>\n",
       "      <td>Surfing</td>\n",
       "      <td>USA</td>\n",
       "      <td>Florida</td>\n",
       "      <td>2016</td>\n",
       "      <td>29-Aug-16</td>\n",
       "      <td>15h00</td>\n",
       "      <td>Unprovoked</td>\n",
       "      <td>News Channel 8, 8/30/16</td>\n",
       "    </tr>\n",
       "    <tr>\n",
       "      <th>643</th>\n",
       "      <td>2016.09.01</td>\n",
       "      <td>White Shark</td>\n",
       "      <td>two toes broken and lacerated</td>\n",
       "      <td>N</td>\n",
       "      <td>Y</td>\n",
       "      <td>Male</td>\n",
       "      <td>22</td>\n",
       "      <td>Spearfishing</td>\n",
       "      <td>USA</td>\n",
       "      <td>California</td>\n",
       "      <td>2016</td>\n",
       "      <td>01-Sep-16</td>\n",
       "      <td>NA</td>\n",
       "      <td>Unprovoked</td>\n",
       "      <td>R. Collier, GSAF</td>\n",
       "    </tr>\n",
       "    <tr>\n",
       "      <th>644</th>\n",
       "      <td>2016.09.07</td>\n",
       "      <td>Tiger Shark</td>\n",
       "      <td>severe lacerations to shoulder and forearm</td>\n",
       "      <td>N</td>\n",
       "      <td>Y</td>\n",
       "      <td>Female</td>\n",
       "      <td>51</td>\n",
       "      <td>Swimming</td>\n",
       "      <td>USA</td>\n",
       "      <td>Hawaii</td>\n",
       "      <td>2016</td>\n",
       "      <td>07-Sep-16</td>\n",
       "      <td>14h30</td>\n",
       "      <td>Unprovoked</td>\n",
       "      <td>Hawaii News Now, 9/7/2016</td>\n",
       "    </tr>\n",
       "  </tbody>\n",
       "</table>\n",
       "<p>645 rows × 15 columns</p>\n",
       "</div>"
      ],
      "text/plain": [
       "      Case Number           Species  \\\n",
       "0      2000.00.00  Hammerhead Shark   \n",
       "1      2000.02.14    Blacktip Shark   \n",
       "2      2000.02.19       White Shark   \n",
       "3      2000.03.14       Tiger Shark   \n",
       "4      2000.03.15       Tiger Shark   \n",
       "..            ...               ...   \n",
       "640    2016.08.06       Tiger Shark   \n",
       "641    2016.08.27        Bull Shark   \n",
       "642  2016.08.29.b        Bull Shark   \n",
       "643    2016.09.01       White Shark   \n",
       "644    2016.09.07       Tiger Shark   \n",
       "\n",
       "                                 Type of Injury Fatal:Yes or No  \\\n",
       "0    no injury to occupant; shark bit propeller               N   \n",
       "1              fingers bitten provoked incident               N   \n",
       "2                                   foot bitten               N   \n",
       "3                                     no injury               N   \n",
       "4                                         fatal               Y   \n",
       "..                                          ...             ...   \n",
       "640          no inury, shark and board collided               N   \n",
       "641   right arm severed, ankle severely bitten                N   \n",
       "642                   lacerations to right foot               N   \n",
       "643               two toes broken and lacerated               N   \n",
       "644  severe lacerations to shoulder and forearm               N   \n",
       "\n",
       "    Unprovoked attack     Sex Age                          Activity  \\\n",
       "0                   Y    Male  NA                Fishing For Tarpon   \n",
       "1                   N    Male  NA  Feeding Prawns To Captive Sharks   \n",
       "2                   Y    Male  NA                      Body Surfing   \n",
       "3                   Y    Male  NA                           Surfing   \n",
       "4                   Y    Male  35                      Spearfishing   \n",
       "..                ...     ...  ..                               ...   \n",
       "640                 Y    Male  21                 Sup Foil Boarding   \n",
       "641                 Y    Male  20                           Surfing   \n",
       "642                 Y    Male  25                           Surfing   \n",
       "643                 Y    Male  22                      Spearfishing   \n",
       "644                 Y  Female  51                          Swimming   \n",
       "\n",
       "           Country                   Area  Year       Date     Time  \\\n",
       "0              USA                Florida  2000       2000       NA   \n",
       "1          England         Worcestershire  2000  14-Feb-00       NA   \n",
       "2     South Africa  Western Cape Province  2000  19-Feb-00    14h00   \n",
       "3        Australia        New South Wales  2000  14-Mar-00    19h30   \n",
       "4    New Caledonia         North Province  2000  15-Mar-00  Morning   \n",
       "..             ...                    ...   ...        ...      ...   \n",
       "640            USA                 Hawaii  2016  06-Aug-16       NA   \n",
       "641        Reunion                     Na  2016  27-Aug-16    17h00   \n",
       "642            USA                Florida  2016  29-Aug-16    15h00   \n",
       "643            USA             California  2016  01-Sep-16       NA   \n",
       "644            USA                 Hawaii  2016  07-Sep-16    14h30   \n",
       "\n",
       "           Type                           Investigation  \n",
       "0          Boat          B. Stout, News-Press, 7/2/2005  \n",
       "1      Provoked             The Sun (London), 2/17/2000  \n",
       "2    Unprovoked                       C. Creswell, GSAF  \n",
       "3    Unprovoked       Sydney Morning Herald, 3/16/2000   \n",
       "4    Unprovoked  Les Nouvelles Caledoniennes, 3/16/2000  \n",
       "..          ...                                     ...  \n",
       "640  Unprovoked                           SUP, 8/9/2015  \n",
       "641  Unprovoked                    LaDepeche, 8/29/2016  \n",
       "642  Unprovoked                 News Channel 8, 8/30/16  \n",
       "643  Unprovoked                        R. Collier, GSAF  \n",
       "644  Unprovoked               Hawaii News Now, 9/7/2016  \n",
       "\n",
       "[645 rows x 15 columns]"
      ]
     },
     "execution_count": 96,
     "metadata": {},
     "output_type": "execute_result"
    }
   ],
   "source": [
    "new_sharks.reset_index(drop=True, inplace=True)\n",
    "new_sharks"
   ]
  },
  {
   "cell_type": "code",
   "execution_count": 97,
   "metadata": {},
   "outputs": [],
   "source": [
    "new_sharks = new_sharks.to_csv('new_sharks.csv', index=False)"
   ]
  }
 ],
 "metadata": {
  "kernelspec": {
   "display_name": "Python 3",
   "language": "python",
   "name": "python3"
  },
  "language_info": {
   "codemirror_mode": {
    "name": "ipython",
    "version": 3
   },
   "file_extension": ".py",
   "mimetype": "text/x-python",
   "name": "python",
   "nbconvert_exporter": "python",
   "pygments_lexer": "ipython3",
   "version": "3.10.7"
  },
  "vscode": {
   "interpreter": {
    "hash": "173ae74ecd759d33659dc89cc0ace91dba90ddaa088b7a848a7f37d845ddcc5d"
   }
  }
 },
 "nbformat": 4,
 "nbformat_minor": 4
}
